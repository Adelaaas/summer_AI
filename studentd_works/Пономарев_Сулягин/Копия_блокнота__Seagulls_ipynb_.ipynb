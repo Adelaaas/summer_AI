{
  "nbformat": 4,
  "nbformat_minor": 0,
  "metadata": {
    "colab": {
      "provenance": [],
      "gpuType": "T4",
      "toc_visible": true
    },
    "kernelspec": {
      "name": "python3",
      "display_name": "Python 3"
    },
    "language_info": {
      "name": "python"
    },
    "accelerator": "GPU"
  },
  "cells": [
    {
      "cell_type": "code",
      "execution_count": null,
      "metadata": {
        "id": "hPQxP3o3uX3M"
      },
      "outputs": [],
      "source": [
        "import os\n",
        "import random\n",
        "import shutil\n",
        "\n",
        "from multiprocessing.dummy import Pool\n",
        "\n",
        "import numpy as np\n",
        "import pandas as pd\n",
        "import matplotlib.pyplot as plt\n",
        "\n",
        "from PIL import Image\n",
        "\n",
        "from sklearn.model_selection import train_test_split\n",
        "import joblib\n",
        "\n",
        "from skimage.morphology import binary_opening, disk, label\n",
        "\n",
        "import torch\n",
        "import torch.nn as nn\n",
        "import torch.nn.functional as F\n",
        "\n",
        "from torch.autograd import Variable\n",
        "from torch.utils.data import DataLoader, Dataset\n",
        "\n",
        "import torchvision.transforms as transforms"
      ]
    },
    {
      "cell_type": "code",
      "source": [
        "!pip install opendatasets --quiet\n",
        "!pip install ultralytics"
      ],
      "metadata": {
        "id": "gZvGUEwSuZO2",
        "colab": {
          "base_uri": "https://localhost:8080/"
        },
        "outputId": "a8a0ebb3-0fad-432f-fc4d-fee9c779749e"
      },
      "execution_count": null,
      "outputs": [
        {
          "output_type": "stream",
          "name": "stdout",
          "text": [
            "Collecting ultralytics\n",
            "  Downloading ultralytics-8.3.152-py3-none-any.whl.metadata (37 kB)\n",
            "Requirement already satisfied: numpy>=1.23.0 in /usr/local/lib/python3.11/dist-packages (from ultralytics) (2.0.2)\n",
            "Requirement already satisfied: matplotlib>=3.3.0 in /usr/local/lib/python3.11/dist-packages (from ultralytics) (3.10.0)\n",
            "Requirement already satisfied: opencv-python>=4.6.0 in /usr/local/lib/python3.11/dist-packages (from ultralytics) (4.11.0.86)\n",
            "Requirement already satisfied: pillow>=7.1.2 in /usr/local/lib/python3.11/dist-packages (from ultralytics) (11.2.1)\n",
            "Requirement already satisfied: pyyaml>=5.3.1 in /usr/local/lib/python3.11/dist-packages (from ultralytics) (6.0.2)\n",
            "Requirement already satisfied: requests>=2.23.0 in /usr/local/lib/python3.11/dist-packages (from ultralytics) (2.32.3)\n",
            "Requirement already satisfied: scipy>=1.4.1 in /usr/local/lib/python3.11/dist-packages (from ultralytics) (1.15.3)\n",
            "Requirement already satisfied: torch>=1.8.0 in /usr/local/lib/python3.11/dist-packages (from ultralytics) (2.6.0+cu124)\n",
            "Requirement already satisfied: torchvision>=0.9.0 in /usr/local/lib/python3.11/dist-packages (from ultralytics) (0.21.0+cu124)\n",
            "Requirement already satisfied: tqdm>=4.64.0 in /usr/local/lib/python3.11/dist-packages (from ultralytics) (4.67.1)\n",
            "Requirement already satisfied: psutil in /usr/local/lib/python3.11/dist-packages (from ultralytics) (5.9.5)\n",
            "Requirement already satisfied: py-cpuinfo in /usr/local/lib/python3.11/dist-packages (from ultralytics) (9.0.0)\n",
            "Requirement already satisfied: pandas>=1.1.4 in /usr/local/lib/python3.11/dist-packages (from ultralytics) (2.2.2)\n",
            "Collecting ultralytics-thop>=2.0.0 (from ultralytics)\n",
            "  Downloading ultralytics_thop-2.0.14-py3-none-any.whl.metadata (9.4 kB)\n",
            "Requirement already satisfied: contourpy>=1.0.1 in /usr/local/lib/python3.11/dist-packages (from matplotlib>=3.3.0->ultralytics) (1.3.2)\n",
            "Requirement already satisfied: cycler>=0.10 in /usr/local/lib/python3.11/dist-packages (from matplotlib>=3.3.0->ultralytics) (0.12.1)\n",
            "Requirement already satisfied: fonttools>=4.22.0 in /usr/local/lib/python3.11/dist-packages (from matplotlib>=3.3.0->ultralytics) (4.58.1)\n",
            "Requirement already satisfied: kiwisolver>=1.3.1 in /usr/local/lib/python3.11/dist-packages (from matplotlib>=3.3.0->ultralytics) (1.4.8)\n",
            "Requirement already satisfied: packaging>=20.0 in /usr/local/lib/python3.11/dist-packages (from matplotlib>=3.3.0->ultralytics) (24.2)\n",
            "Requirement already satisfied: pyparsing>=2.3.1 in /usr/local/lib/python3.11/dist-packages (from matplotlib>=3.3.0->ultralytics) (3.2.3)\n",
            "Requirement already satisfied: python-dateutil>=2.7 in /usr/local/lib/python3.11/dist-packages (from matplotlib>=3.3.0->ultralytics) (2.9.0.post0)\n",
            "Requirement already satisfied: pytz>=2020.1 in /usr/local/lib/python3.11/dist-packages (from pandas>=1.1.4->ultralytics) (2025.2)\n",
            "Requirement already satisfied: tzdata>=2022.7 in /usr/local/lib/python3.11/dist-packages (from pandas>=1.1.4->ultralytics) (2025.2)\n",
            "Requirement already satisfied: charset-normalizer<4,>=2 in /usr/local/lib/python3.11/dist-packages (from requests>=2.23.0->ultralytics) (3.4.2)\n",
            "Requirement already satisfied: idna<4,>=2.5 in /usr/local/lib/python3.11/dist-packages (from requests>=2.23.0->ultralytics) (3.10)\n",
            "Requirement already satisfied: urllib3<3,>=1.21.1 in /usr/local/lib/python3.11/dist-packages (from requests>=2.23.0->ultralytics) (2.4.0)\n",
            "Requirement already satisfied: certifi>=2017.4.17 in /usr/local/lib/python3.11/dist-packages (from requests>=2.23.0->ultralytics) (2025.4.26)\n",
            "Requirement already satisfied: filelock in /usr/local/lib/python3.11/dist-packages (from torch>=1.8.0->ultralytics) (3.18.0)\n",
            "Requirement already satisfied: typing-extensions>=4.10.0 in /usr/local/lib/python3.11/dist-packages (from torch>=1.8.0->ultralytics) (4.14.0)\n",
            "Requirement already satisfied: networkx in /usr/local/lib/python3.11/dist-packages (from torch>=1.8.0->ultralytics) (3.5)\n",
            "Requirement already satisfied: jinja2 in /usr/local/lib/python3.11/dist-packages (from torch>=1.8.0->ultralytics) (3.1.6)\n",
            "Requirement already satisfied: fsspec in /usr/local/lib/python3.11/dist-packages (from torch>=1.8.0->ultralytics) (2025.3.2)\n",
            "Collecting nvidia-cuda-nvrtc-cu12==12.4.127 (from torch>=1.8.0->ultralytics)\n",
            "  Downloading nvidia_cuda_nvrtc_cu12-12.4.127-py3-none-manylinux2014_x86_64.whl.metadata (1.5 kB)\n",
            "Collecting nvidia-cuda-runtime-cu12==12.4.127 (from torch>=1.8.0->ultralytics)\n",
            "  Downloading nvidia_cuda_runtime_cu12-12.4.127-py3-none-manylinux2014_x86_64.whl.metadata (1.5 kB)\n",
            "Collecting nvidia-cuda-cupti-cu12==12.4.127 (from torch>=1.8.0->ultralytics)\n",
            "  Downloading nvidia_cuda_cupti_cu12-12.4.127-py3-none-manylinux2014_x86_64.whl.metadata (1.6 kB)\n",
            "Collecting nvidia-cudnn-cu12==9.1.0.70 (from torch>=1.8.0->ultralytics)\n",
            "  Downloading nvidia_cudnn_cu12-9.1.0.70-py3-none-manylinux2014_x86_64.whl.metadata (1.6 kB)\n",
            "Collecting nvidia-cublas-cu12==12.4.5.8 (from torch>=1.8.0->ultralytics)\n",
            "  Downloading nvidia_cublas_cu12-12.4.5.8-py3-none-manylinux2014_x86_64.whl.metadata (1.5 kB)\n",
            "Collecting nvidia-cufft-cu12==11.2.1.3 (from torch>=1.8.0->ultralytics)\n",
            "  Downloading nvidia_cufft_cu12-11.2.1.3-py3-none-manylinux2014_x86_64.whl.metadata (1.5 kB)\n",
            "Collecting nvidia-curand-cu12==10.3.5.147 (from torch>=1.8.0->ultralytics)\n",
            "  Downloading nvidia_curand_cu12-10.3.5.147-py3-none-manylinux2014_x86_64.whl.metadata (1.5 kB)\n",
            "Collecting nvidia-cusolver-cu12==11.6.1.9 (from torch>=1.8.0->ultralytics)\n",
            "  Downloading nvidia_cusolver_cu12-11.6.1.9-py3-none-manylinux2014_x86_64.whl.metadata (1.6 kB)\n",
            "Collecting nvidia-cusparse-cu12==12.3.1.170 (from torch>=1.8.0->ultralytics)\n",
            "  Downloading nvidia_cusparse_cu12-12.3.1.170-py3-none-manylinux2014_x86_64.whl.metadata (1.6 kB)\n",
            "Requirement already satisfied: nvidia-cusparselt-cu12==0.6.2 in /usr/local/lib/python3.11/dist-packages (from torch>=1.8.0->ultralytics) (0.6.2)\n",
            "Requirement already satisfied: nvidia-nccl-cu12==2.21.5 in /usr/local/lib/python3.11/dist-packages (from torch>=1.8.0->ultralytics) (2.21.5)\n",
            "Requirement already satisfied: nvidia-nvtx-cu12==12.4.127 in /usr/local/lib/python3.11/dist-packages (from torch>=1.8.0->ultralytics) (12.4.127)\n",
            "Collecting nvidia-nvjitlink-cu12==12.4.127 (from torch>=1.8.0->ultralytics)\n",
            "  Downloading nvidia_nvjitlink_cu12-12.4.127-py3-none-manylinux2014_x86_64.whl.metadata (1.5 kB)\n",
            "Requirement already satisfied: triton==3.2.0 in /usr/local/lib/python3.11/dist-packages (from torch>=1.8.0->ultralytics) (3.2.0)\n",
            "Requirement already satisfied: sympy==1.13.1 in /usr/local/lib/python3.11/dist-packages (from torch>=1.8.0->ultralytics) (1.13.1)\n",
            "Requirement already satisfied: mpmath<1.4,>=1.1.0 in /usr/local/lib/python3.11/dist-packages (from sympy==1.13.1->torch>=1.8.0->ultralytics) (1.3.0)\n",
            "Requirement already satisfied: six>=1.5 in /usr/local/lib/python3.11/dist-packages (from python-dateutil>=2.7->matplotlib>=3.3.0->ultralytics) (1.17.0)\n",
            "Requirement already satisfied: MarkupSafe>=2.0 in /usr/local/lib/python3.11/dist-packages (from jinja2->torch>=1.8.0->ultralytics) (3.0.2)\n",
            "Downloading ultralytics-8.3.152-py3-none-any.whl (1.0 MB)\n",
            "\u001b[2K   \u001b[90m━━━━━━━━━━━━━━━━━━━━━━━━━━━━━━━━━━━━━━━━\u001b[0m \u001b[32m1.0/1.0 MB\u001b[0m \u001b[31m42.5 MB/s\u001b[0m eta \u001b[36m0:00:00\u001b[0m\n",
            "\u001b[?25hDownloading nvidia_cublas_cu12-12.4.5.8-py3-none-manylinux2014_x86_64.whl (363.4 MB)\n",
            "\u001b[2K   \u001b[90m━━━━━━━━━━━━━━━━━━━━━━━━━━━━━━━━━━━━━━━━\u001b[0m \u001b[32m363.4/363.4 MB\u001b[0m \u001b[31m3.0 MB/s\u001b[0m eta \u001b[36m0:00:00\u001b[0m\n",
            "\u001b[?25hDownloading nvidia_cuda_cupti_cu12-12.4.127-py3-none-manylinux2014_x86_64.whl (13.8 MB)\n",
            "\u001b[2K   \u001b[90m━━━━━━━━━━━━━━━━━━━━━━━━━━━━━━━━━━━━━━━━\u001b[0m \u001b[32m13.8/13.8 MB\u001b[0m \u001b[31m109.6 MB/s\u001b[0m eta \u001b[36m0:00:00\u001b[0m\n",
            "\u001b[?25hDownloading nvidia_cuda_nvrtc_cu12-12.4.127-py3-none-manylinux2014_x86_64.whl (24.6 MB)\n",
            "\u001b[2K   \u001b[90m━━━━━━━━━━━━━━━━━━━━━━━━━━━━━━━━━━━━━━━━\u001b[0m \u001b[32m24.6/24.6 MB\u001b[0m \u001b[31m90.7 MB/s\u001b[0m eta \u001b[36m0:00:00\u001b[0m\n",
            "\u001b[?25hDownloading nvidia_cuda_runtime_cu12-12.4.127-py3-none-manylinux2014_x86_64.whl (883 kB)\n",
            "\u001b[2K   \u001b[90m━━━━━━━━━━━━━━━━━━━━━━━━━━━━━━━━━━━━━━━━\u001b[0m \u001b[32m883.7/883.7 kB\u001b[0m \u001b[31m49.3 MB/s\u001b[0m eta \u001b[36m0:00:00\u001b[0m\n",
            "\u001b[?25hDownloading nvidia_cudnn_cu12-9.1.0.70-py3-none-manylinux2014_x86_64.whl (664.8 MB)\n",
            "\u001b[2K   \u001b[90m━━━━━━━━━━━━━━━━━━━━━━━━━━━━━━━━━━━━━━━━\u001b[0m \u001b[32m664.8/664.8 MB\u001b[0m \u001b[31m2.0 MB/s\u001b[0m eta \u001b[36m0:00:00\u001b[0m\n",
            "\u001b[?25hDownloading nvidia_cufft_cu12-11.2.1.3-py3-none-manylinux2014_x86_64.whl (211.5 MB)\n",
            "\u001b[2K   \u001b[90m━━━━━━━━━━━━━━━━━━━━━━━━━━━━━━━━━━━━━━━━\u001b[0m \u001b[32m211.5/211.5 MB\u001b[0m \u001b[31m5.6 MB/s\u001b[0m eta \u001b[36m0:00:00\u001b[0m\n",
            "\u001b[?25hDownloading nvidia_curand_cu12-10.3.5.147-py3-none-manylinux2014_x86_64.whl (56.3 MB)\n",
            "\u001b[2K   \u001b[90m━━━━━━━━━━━━━━━━━━━━━━━━━━━━━━━━━━━━━━━━\u001b[0m \u001b[32m56.3/56.3 MB\u001b[0m \u001b[31m13.0 MB/s\u001b[0m eta \u001b[36m0:00:00\u001b[0m\n",
            "\u001b[?25hDownloading nvidia_cusolver_cu12-11.6.1.9-py3-none-manylinux2014_x86_64.whl (127.9 MB)\n",
            "\u001b[2K   \u001b[90m━━━━━━━━━━━━━━━━━━━━━━━━━━━━━━━━━━━━━━━━\u001b[0m \u001b[32m127.9/127.9 MB\u001b[0m \u001b[31m10.0 MB/s\u001b[0m eta \u001b[36m0:00:00\u001b[0m\n",
            "\u001b[?25hDownloading nvidia_cusparse_cu12-12.3.1.170-py3-none-manylinux2014_x86_64.whl (207.5 MB)\n",
            "\u001b[2K   \u001b[90m━━━━━━━━━━━━━━━━━━━━━━━━━━━━━━━━━━━━━━━━\u001b[0m \u001b[32m207.5/207.5 MB\u001b[0m \u001b[31m6.0 MB/s\u001b[0m eta \u001b[36m0:00:00\u001b[0m\n",
            "\u001b[?25hDownloading nvidia_nvjitlink_cu12-12.4.127-py3-none-manylinux2014_x86_64.whl (21.1 MB)\n",
            "\u001b[2K   \u001b[90m━━━━━━━━━━━━━━━━━━━━━━━━━━━━━━━━━━━━━━━━\u001b[0m \u001b[32m21.1/21.1 MB\u001b[0m \u001b[31m91.2 MB/s\u001b[0m eta \u001b[36m0:00:00\u001b[0m\n",
            "\u001b[?25hDownloading ultralytics_thop-2.0.14-py3-none-any.whl (26 kB)\n",
            "Installing collected packages: nvidia-nvjitlink-cu12, nvidia-curand-cu12, nvidia-cufft-cu12, nvidia-cuda-runtime-cu12, nvidia-cuda-nvrtc-cu12, nvidia-cuda-cupti-cu12, nvidia-cublas-cu12, nvidia-cusparse-cu12, nvidia-cudnn-cu12, nvidia-cusolver-cu12, ultralytics-thop, ultralytics\n",
            "  Attempting uninstall: nvidia-nvjitlink-cu12\n",
            "    Found existing installation: nvidia-nvjitlink-cu12 12.5.82\n",
            "    Uninstalling nvidia-nvjitlink-cu12-12.5.82:\n",
            "      Successfully uninstalled nvidia-nvjitlink-cu12-12.5.82\n",
            "  Attempting uninstall: nvidia-curand-cu12\n",
            "    Found existing installation: nvidia-curand-cu12 10.3.6.82\n",
            "    Uninstalling nvidia-curand-cu12-10.3.6.82:\n",
            "      Successfully uninstalled nvidia-curand-cu12-10.3.6.82\n",
            "  Attempting uninstall: nvidia-cufft-cu12\n",
            "    Found existing installation: nvidia-cufft-cu12 11.2.3.61\n",
            "    Uninstalling nvidia-cufft-cu12-11.2.3.61:\n",
            "      Successfully uninstalled nvidia-cufft-cu12-11.2.3.61\n",
            "  Attempting uninstall: nvidia-cuda-runtime-cu12\n",
            "    Found existing installation: nvidia-cuda-runtime-cu12 12.5.82\n",
            "    Uninstalling nvidia-cuda-runtime-cu12-12.5.82:\n",
            "      Successfully uninstalled nvidia-cuda-runtime-cu12-12.5.82\n",
            "  Attempting uninstall: nvidia-cuda-nvrtc-cu12\n",
            "    Found existing installation: nvidia-cuda-nvrtc-cu12 12.5.82\n",
            "    Uninstalling nvidia-cuda-nvrtc-cu12-12.5.82:\n",
            "      Successfully uninstalled nvidia-cuda-nvrtc-cu12-12.5.82\n",
            "  Attempting uninstall: nvidia-cuda-cupti-cu12\n",
            "    Found existing installation: nvidia-cuda-cupti-cu12 12.5.82\n",
            "    Uninstalling nvidia-cuda-cupti-cu12-12.5.82:\n",
            "      Successfully uninstalled nvidia-cuda-cupti-cu12-12.5.82\n",
            "  Attempting uninstall: nvidia-cublas-cu12\n",
            "    Found existing installation: nvidia-cublas-cu12 12.5.3.2\n",
            "    Uninstalling nvidia-cublas-cu12-12.5.3.2:\n",
            "      Successfully uninstalled nvidia-cublas-cu12-12.5.3.2\n",
            "  Attempting uninstall: nvidia-cusparse-cu12\n",
            "    Found existing installation: nvidia-cusparse-cu12 12.5.1.3\n",
            "    Uninstalling nvidia-cusparse-cu12-12.5.1.3:\n",
            "      Successfully uninstalled nvidia-cusparse-cu12-12.5.1.3\n",
            "  Attempting uninstall: nvidia-cudnn-cu12\n",
            "    Found existing installation: nvidia-cudnn-cu12 9.3.0.75\n",
            "    Uninstalling nvidia-cudnn-cu12-9.3.0.75:\n",
            "      Successfully uninstalled nvidia-cudnn-cu12-9.3.0.75\n",
            "  Attempting uninstall: nvidia-cusolver-cu12\n",
            "    Found existing installation: nvidia-cusolver-cu12 11.6.3.83\n",
            "    Uninstalling nvidia-cusolver-cu12-11.6.3.83:\n",
            "      Successfully uninstalled nvidia-cusolver-cu12-11.6.3.83\n",
            "Successfully installed nvidia-cublas-cu12-12.4.5.8 nvidia-cuda-cupti-cu12-12.4.127 nvidia-cuda-nvrtc-cu12-12.4.127 nvidia-cuda-runtime-cu12-12.4.127 nvidia-cudnn-cu12-9.1.0.70 nvidia-cufft-cu12-11.2.1.3 nvidia-curand-cu12-10.3.5.147 nvidia-cusolver-cu12-11.6.1.9 nvidia-cusparse-cu12-12.3.1.170 nvidia-nvjitlink-cu12-12.4.127 ultralytics-8.3.152 ultralytics-thop-2.0.14\n"
          ]
        }
      ]
    },
    {
      "cell_type": "code",
      "source": [
        "import opendatasets as od\n",
        "import pandas as pd\n",
        "\n",
        "od.download(\"https://www.kaggle.com/competitions/where-are-the-seagulls/\")"
      ],
      "metadata": {
        "colab": {
          "base_uri": "https://localhost:8080/"
        },
        "id": "Vl2lUZ8YueF-",
        "outputId": "352b40e3-4523-4a0a-d997-af31b2d8a98d"
      },
      "execution_count": null,
      "outputs": [
        {
          "output_type": "stream",
          "name": "stdout",
          "text": [
            "Please provide your Kaggle credentials to download this dataset. Learn more: http://bit.ly/kaggle-creds\n",
            "Your Kaggle username: rponomarev\n",
            "Your Kaggle Key: ··········\n",
            "Downloading where-are-the-seagulls.zip to ./where-are-the-seagulls\n"
          ]
        },
        {
          "output_type": "stream",
          "name": "stderr",
          "text": [
            "100%|██████████| 36.7M/36.7M [00:00<00:00, 1.09GB/s]"
          ]
        },
        {
          "output_type": "stream",
          "name": "stdout",
          "text": [
            "\n",
            "Extracting archive ./where-are-the-seagulls/where-are-the-seagulls.zip to ./where-are-the-seagulls\n"
          ]
        },
        {
          "output_type": "stream",
          "name": "stderr",
          "text": [
            "\n"
          ]
        }
      ]
    },
    {
      "cell_type": "code",
      "source": [
        "from ultralytics import YOLO\n",
        "import cv2\n",
        "import numpy as np\n",
        "import os\n",
        "\n",
        "model_my = YOLO('yolo11n.pt')\n",
        "# result = model([\"/content/where-are-the-seagulls/data/test/images/20200929_161236_01_JPG.rf.6e9bbc6fa8cc4ad9ad4d94b348e693bb.jpg\"])\n",
        "res = model_my.train(data='youla_config.yaml',epochs=100,imgsz=720)"
      ],
      "metadata": {
        "id": "47UBvvRL_F6L",
        "colab": {
          "base_uri": "https://localhost:8080/"
        },
        "outputId": "db30a8e1-3a0f-4815-8442-423fdb216be7"
      },
      "execution_count": null,
      "outputs": [
        {
          "output_type": "stream",
          "name": "stdout",
          "text": [
            "New https://pypi.org/project/ultralytics/8.3.153 available 😃 Update with 'pip install -U ultralytics'\n",
            "Ultralytics 8.3.152 🚀 Python-3.11.13 torch-2.6.0+cu124 CUDA:0 (Tesla T4, 15095MiB)\n",
            "\u001b[34m\u001b[1mengine/trainer: \u001b[0magnostic_nms=False, amp=True, augment=False, auto_augment=randaugment, batch=16, bgr=0.0, box=7.5, cache=False, cfg=None, classes=None, close_mosaic=10, cls=0.5, conf=None, copy_paste=0.0, copy_paste_mode=flip, cos_lr=False, cutmix=0.0, data=youla_config.yaml, degrees=0.0, deterministic=True, device=None, dfl=1.5, dnn=False, dropout=0.0, dynamic=False, embed=None, epochs=100, erasing=0.4, exist_ok=False, fliplr=0.5, flipud=0.0, format=torchscript, fraction=1.0, freeze=None, half=False, hsv_h=0.015, hsv_s=0.7, hsv_v=0.4, imgsz=720, int8=False, iou=0.7, keras=False, kobj=1.0, line_width=None, lr0=0.01, lrf=0.01, mask_ratio=4, max_det=300, mixup=0.0, mode=train, model=yolo11n.pt, momentum=0.937, mosaic=1.0, multi_scale=False, name=train8, nbs=64, nms=False, opset=None, optimize=False, optimizer=auto, overlap_mask=True, patience=100, perspective=0.0, plots=True, pose=12.0, pretrained=True, profile=False, project=None, rect=False, resume=False, retina_masks=False, save=True, save_conf=False, save_crop=False, save_dir=runs/detect/train8, save_frames=False, save_json=False, save_period=-1, save_txt=False, scale=0.5, seed=0, shear=0.0, show=False, show_boxes=True, show_conf=True, show_labels=True, simplify=True, single_cls=False, source=None, split=val, stream_buffer=False, task=detect, time=None, tracker=botsort.yaml, translate=0.1, val=True, verbose=True, vid_stride=1, visualize=False, warmup_bias_lr=0.1, warmup_epochs=3.0, warmup_momentum=0.8, weight_decay=0.0005, workers=8, workspace=None\n",
            "Overriding model.yaml nc=80 with nc=1\n",
            "\n",
            "                   from  n    params  module                                       arguments                     \n",
            "  0                  -1  1       464  ultralytics.nn.modules.conv.Conv             [3, 16, 3, 2]                 \n",
            "  1                  -1  1      4672  ultralytics.nn.modules.conv.Conv             [16, 32, 3, 2]                \n",
            "  2                  -1  1      6640  ultralytics.nn.modules.block.C3k2            [32, 64, 1, False, 0.25]      \n",
            "  3                  -1  1     36992  ultralytics.nn.modules.conv.Conv             [64, 64, 3, 2]                \n",
            "  4                  -1  1     26080  ultralytics.nn.modules.block.C3k2            [64, 128, 1, False, 0.25]     \n",
            "  5                  -1  1    147712  ultralytics.nn.modules.conv.Conv             [128, 128, 3, 2]              \n",
            "  6                  -1  1     87040  ultralytics.nn.modules.block.C3k2            [128, 128, 1, True]           \n",
            "  7                  -1  1    295424  ultralytics.nn.modules.conv.Conv             [128, 256, 3, 2]              \n",
            "  8                  -1  1    346112  ultralytics.nn.modules.block.C3k2            [256, 256, 1, True]           \n",
            "  9                  -1  1    164608  ultralytics.nn.modules.block.SPPF            [256, 256, 5]                 \n",
            " 10                  -1  1    249728  ultralytics.nn.modules.block.C2PSA           [256, 256, 1]                 \n",
            " 11                  -1  1         0  torch.nn.modules.upsampling.Upsample         [None, 2, 'nearest']          \n",
            " 12             [-1, 6]  1         0  ultralytics.nn.modules.conv.Concat           [1]                           \n",
            " 13                  -1  1    111296  ultralytics.nn.modules.block.C3k2            [384, 128, 1, False]          \n",
            " 14                  -1  1         0  torch.nn.modules.upsampling.Upsample         [None, 2, 'nearest']          \n",
            " 15             [-1, 4]  1         0  ultralytics.nn.modules.conv.Concat           [1]                           \n",
            " 16                  -1  1     32096  ultralytics.nn.modules.block.C3k2            [256, 64, 1, False]           \n",
            " 17                  -1  1     36992  ultralytics.nn.modules.conv.Conv             [64, 64, 3, 2]                \n",
            " 18            [-1, 13]  1         0  ultralytics.nn.modules.conv.Concat           [1]                           \n",
            " 19                  -1  1     86720  ultralytics.nn.modules.block.C3k2            [192, 128, 1, False]          \n",
            " 20                  -1  1    147712  ultralytics.nn.modules.conv.Conv             [128, 128, 3, 2]              \n",
            " 21            [-1, 10]  1         0  ultralytics.nn.modules.conv.Concat           [1]                           \n",
            " 22                  -1  1    378880  ultralytics.nn.modules.block.C3k2            [384, 256, 1, True]           \n",
            " 23        [16, 19, 22]  1    430867  ultralytics.nn.modules.head.Detect           [1, [64, 128, 256]]           \n",
            "YOLO11n summary: 181 layers, 2,590,035 parameters, 2,590,019 gradients, 6.4 GFLOPs\n",
            "\n",
            "Transferred 448/499 items from pretrained weights\n",
            "Freezing layer 'model.23.dfl.conv.weight'\n",
            "\u001b[34m\u001b[1mAMP: \u001b[0mrunning Automatic Mixed Precision (AMP) checks...\n",
            "\u001b[34m\u001b[1mAMP: \u001b[0mchecks passed ✅\n",
            "WARNING ⚠️ imgsz=[720] must be multiple of max stride 32, updating to [736]\n",
            "\u001b[34m\u001b[1mtrain: \u001b[0mFast image access ✅ (ping: 0.0±0.0 ms, read: 1550.2±630.2 MB/s, size: 55.1 KB)\n"
          ]
        },
        {
          "output_type": "stream",
          "name": "stderr",
          "text": [
            "\u001b[34m\u001b[1mtrain: \u001b[0mScanning /content/where-are-the-seagulls/data/train/labels.cache... 500 images, 32 backgrounds, 0 corrupt: 100%|██████████| 500/500 [00:00<?, ?it/s]"
          ]
        },
        {
          "output_type": "stream",
          "name": "stdout",
          "text": [
            "\u001b[34m\u001b[1mtrain: \u001b[0m/content/where-are-the-seagulls/data/train/images/20200816_180222_01_JPG.rf.5f3bc87ff01f17b2a00c3ecf18d14ac5.jpg: 2 duplicate labels removed\n",
            "\u001b[34m\u001b[1mtrain: \u001b[0m/content/where-are-the-seagulls/data/train/images/20200819_182328_01_JPG.rf.cca24be539aa73a24a2bf112ab67fe68.jpg: 3 duplicate labels removed\n",
            "\u001b[34m\u001b[1mtrain: \u001b[0m/content/where-are-the-seagulls/data/train/images/20200910_185837_01_JPG.rf.cdf85cd8e98797d94fb93d972d58fc5f.jpg: 1 duplicate labels removed\n",
            "\u001b[34m\u001b[1mtrain: \u001b[0m/content/where-are-the-seagulls/data/train/images/20200913_121758_01_JPG.rf.126b4bd798cd834f2c08f1c85a6fee70.jpg: 1 duplicate labels removed\n",
            "\u001b[34m\u001b[1mtrain: \u001b[0m/content/where-are-the-seagulls/data/train/images/20200913_171925_01_JPG.rf.de1d151832416a3f2df30dcdbf84bf8a.jpg: 3 duplicate labels removed\n",
            "\u001b[34m\u001b[1mtrain: \u001b[0m/content/where-are-the-seagulls/data/train/images/20200924_183741_01_JPG.rf.cbc768e717616cc48643dba4f3a76bbd.jpg: 3 duplicate labels removed\n",
            "\u001b[34m\u001b[1malbumentations: \u001b[0mBlur(p=0.01, blur_limit=(3, 7)), MedianBlur(p=0.01, blur_limit=(3, 7)), ToGray(p=0.01, method='weighted_average', num_output_channels=3), CLAHE(p=0.01, clip_limit=(1.0, 4.0), tile_grid_size=(8, 8))\n"
          ]
        },
        {
          "output_type": "stream",
          "name": "stderr",
          "text": [
            "\n"
          ]
        },
        {
          "output_type": "stream",
          "name": "stdout",
          "text": [
            "\u001b[34m\u001b[1mval: \u001b[0mFast image access ✅ (ping: 0.0±0.0 ms, read: 384.8±360.0 MB/s, size: 85.4 KB)\n"
          ]
        },
        {
          "output_type": "stream",
          "name": "stderr",
          "text": [
            "\u001b[34m\u001b[1mval: \u001b[0mScanning /content/where-are-the-seagulls/data/train/labels.cache... 500 images, 32 backgrounds, 0 corrupt: 100%|██████████| 500/500 [00:00<?, ?it/s]"
          ]
        },
        {
          "output_type": "stream",
          "name": "stdout",
          "text": [
            "\u001b[34m\u001b[1mtrain: \u001b[0m/content/where-are-the-seagulls/data/train/images/20200816_180222_01_JPG.rf.5f3bc87ff01f17b2a00c3ecf18d14ac5.jpg: 2 duplicate labels removed\n",
            "\u001b[34m\u001b[1mtrain: \u001b[0m/content/where-are-the-seagulls/data/train/images/20200819_182328_01_JPG.rf.cca24be539aa73a24a2bf112ab67fe68.jpg: 3 duplicate labels removed\n",
            "\u001b[34m\u001b[1mtrain: \u001b[0m/content/where-are-the-seagulls/data/train/images/20200910_185837_01_JPG.rf.cdf85cd8e98797d94fb93d972d58fc5f.jpg: 1 duplicate labels removed\n",
            "\u001b[34m\u001b[1mtrain: \u001b[0m/content/where-are-the-seagulls/data/train/images/20200913_121758_01_JPG.rf.126b4bd798cd834f2c08f1c85a6fee70.jpg: 1 duplicate labels removed\n",
            "\u001b[34m\u001b[1mtrain: \u001b[0m/content/where-are-the-seagulls/data/train/images/20200913_171925_01_JPG.rf.de1d151832416a3f2df30dcdbf84bf8a.jpg: 3 duplicate labels removed\n",
            "\u001b[34m\u001b[1mtrain: \u001b[0m/content/where-are-the-seagulls/data/train/images/20200924_183741_01_JPG.rf.cbc768e717616cc48643dba4f3a76bbd.jpg: 3 duplicate labels removed\n"
          ]
        },
        {
          "output_type": "stream",
          "name": "stderr",
          "text": [
            "\n"
          ]
        },
        {
          "output_type": "stream",
          "name": "stdout",
          "text": [
            "Plotting labels to runs/detect/train8/labels.jpg... \n",
            "\u001b[34m\u001b[1moptimizer:\u001b[0m 'optimizer=auto' found, ignoring 'lr0=0.01' and 'momentum=0.937' and determining best 'optimizer', 'lr0' and 'momentum' automatically... \n",
            "\u001b[34m\u001b[1moptimizer:\u001b[0m AdamW(lr=0.002, momentum=0.9) with parameter groups 81 weight(decay=0.0), 88 weight(decay=0.0005), 87 bias(decay=0.0)\n",
            "Image sizes 736 train, 736 val\n",
            "Using 2 dataloader workers\n",
            "Logging results to \u001b[1mruns/detect/train8\u001b[0m\n",
            "Starting training for 100 epochs...\n",
            "\n",
            "      Epoch    GPU_mem   box_loss   cls_loss   dfl_loss  Instances       Size\n"
          ]
        },
        {
          "output_type": "stream",
          "name": "stderr",
          "text": [
            "      1/100      3.32G      2.319      2.587      1.169         71        736: 100%|██████████| 32/32 [00:13<00:00,  2.39it/s]\n",
            "                 Class     Images  Instances      Box(P          R      mAP50  mAP50-95): 100%|██████████| 16/16 [00:06<00:00,  2.46it/s]\n"
          ]
        },
        {
          "output_type": "stream",
          "name": "stdout",
          "text": [
            "                   all        500       5373     0.0124      0.347     0.0171    0.00714\n",
            "\n",
            "      Epoch    GPU_mem   box_loss   cls_loss   dfl_loss  Instances       Size\n"
          ]
        },
        {
          "output_type": "stream",
          "name": "stderr",
          "text": [
            "      2/100      3.56G      2.146      1.631      1.156         33        736: 100%|██████████| 32/32 [00:11<00:00,  2.81it/s]\n",
            "                 Class     Images  Instances      Box(P          R      mAP50  mAP50-95): 100%|██████████| 16/16 [00:07<00:00,  2.25it/s]"
          ]
        },
        {
          "output_type": "stream",
          "name": "stdout",
          "text": [
            "                   all        500       5373     0.0138      0.384       0.25     0.0816\n"
          ]
        },
        {
          "output_type": "stream",
          "name": "stderr",
          "text": [
            "\n"
          ]
        },
        {
          "output_type": "stream",
          "name": "stdout",
          "text": [
            "\n",
            "      Epoch    GPU_mem   box_loss   cls_loss   dfl_loss  Instances       Size\n"
          ]
        },
        {
          "output_type": "stream",
          "name": "stderr",
          "text": [
            "      3/100      3.56G      2.084      1.501      1.144         69        736: 100%|██████████| 32/32 [00:12<00:00,  2.60it/s]\n",
            "                 Class     Images  Instances      Box(P          R      mAP50  mAP50-95): 100%|██████████| 16/16 [00:06<00:00,  2.32it/s]"
          ]
        },
        {
          "output_type": "stream",
          "name": "stdout",
          "text": [
            "                   all        500       5373      0.632      0.507      0.542      0.179\n"
          ]
        },
        {
          "output_type": "stream",
          "name": "stderr",
          "text": [
            "\n"
          ]
        },
        {
          "output_type": "stream",
          "name": "stdout",
          "text": [
            "\n",
            "      Epoch    GPU_mem   box_loss   cls_loss   dfl_loss  Instances       Size\n"
          ]
        },
        {
          "output_type": "stream",
          "name": "stderr",
          "text": [
            "      4/100      3.56G      2.081      1.414       1.12         55        736: 100%|██████████| 32/32 [00:12<00:00,  2.47it/s]\n",
            "                 Class     Images  Instances      Box(P          R      mAP50  mAP50-95): 100%|██████████| 16/16 [00:06<00:00,  2.57it/s]"
          ]
        },
        {
          "output_type": "stream",
          "name": "stdout",
          "text": [
            "                   all        500       5373      0.666       0.61       0.64      0.251\n"
          ]
        },
        {
          "output_type": "stream",
          "name": "stderr",
          "text": [
            "\n"
          ]
        },
        {
          "output_type": "stream",
          "name": "stdout",
          "text": [
            "\n",
            "      Epoch    GPU_mem   box_loss   cls_loss   dfl_loss  Instances       Size\n"
          ]
        },
        {
          "output_type": "stream",
          "name": "stderr",
          "text": [
            "      5/100      3.56G      2.056      1.349      1.133         63        736: 100%|██████████| 32/32 [00:12<00:00,  2.60it/s]\n",
            "                 Class     Images  Instances      Box(P          R      mAP50  mAP50-95): 100%|██████████| 16/16 [00:06<00:00,  2.32it/s]"
          ]
        },
        {
          "output_type": "stream",
          "name": "stdout",
          "text": [
            "                   all        500       5373       0.75      0.703      0.754      0.315\n"
          ]
        },
        {
          "output_type": "stream",
          "name": "stderr",
          "text": [
            "\n"
          ]
        },
        {
          "output_type": "stream",
          "name": "stdout",
          "text": [
            "\n",
            "      Epoch    GPU_mem   box_loss   cls_loss   dfl_loss  Instances       Size\n"
          ]
        },
        {
          "output_type": "stream",
          "name": "stderr",
          "text": [
            "      6/100      3.56G      2.005      1.273      1.102         81        736: 100%|██████████| 32/32 [00:12<00:00,  2.61it/s]\n",
            "                 Class     Images  Instances      Box(P          R      mAP50  mAP50-95): 100%|██████████| 16/16 [00:05<00:00,  2.78it/s]"
          ]
        },
        {
          "output_type": "stream",
          "name": "stdout",
          "text": [
            "                   all        500       5373      0.783      0.734      0.793      0.346\n"
          ]
        },
        {
          "output_type": "stream",
          "name": "stderr",
          "text": [
            "\n"
          ]
        },
        {
          "output_type": "stream",
          "name": "stdout",
          "text": [
            "\n",
            "      Epoch    GPU_mem   box_loss   cls_loss   dfl_loss  Instances       Size\n"
          ]
        },
        {
          "output_type": "stream",
          "name": "stderr",
          "text": [
            "      7/100      3.56G      1.988      1.239      1.114         81        736: 100%|██████████| 32/32 [00:12<00:00,  2.50it/s]\n",
            "                 Class     Images  Instances      Box(P          R      mAP50  mAP50-95): 100%|██████████| 16/16 [00:06<00:00,  2.35it/s]"
          ]
        },
        {
          "output_type": "stream",
          "name": "stdout",
          "text": [
            "                   all        500       5373      0.767      0.698      0.767      0.332\n"
          ]
        },
        {
          "output_type": "stream",
          "name": "stderr",
          "text": [
            "\n"
          ]
        },
        {
          "output_type": "stream",
          "name": "stdout",
          "text": [
            "\n",
            "      Epoch    GPU_mem   box_loss   cls_loss   dfl_loss  Instances       Size\n"
          ]
        },
        {
          "output_type": "stream",
          "name": "stderr",
          "text": [
            "      8/100      3.56G      1.975      1.245       1.12         79        736: 100%|██████████| 32/32 [00:12<00:00,  2.64it/s]\n",
            "                 Class     Images  Instances      Box(P          R      mAP50  mAP50-95): 100%|██████████| 16/16 [00:06<00:00,  2.32it/s]"
          ]
        },
        {
          "output_type": "stream",
          "name": "stdout",
          "text": [
            "                   all        500       5373      0.769       0.72      0.787      0.335\n"
          ]
        },
        {
          "output_type": "stream",
          "name": "stderr",
          "text": [
            "\n"
          ]
        },
        {
          "output_type": "stream",
          "name": "stdout",
          "text": [
            "\n",
            "      Epoch    GPU_mem   box_loss   cls_loss   dfl_loss  Instances       Size\n"
          ]
        },
        {
          "output_type": "stream",
          "name": "stderr",
          "text": [
            "      9/100      3.56G      1.963      1.196       1.11         47        736: 100%|██████████| 32/32 [00:12<00:00,  2.60it/s]\n",
            "                 Class     Images  Instances      Box(P          R      mAP50  mAP50-95): 100%|██████████| 16/16 [00:06<00:00,  2.34it/s]"
          ]
        },
        {
          "output_type": "stream",
          "name": "stdout",
          "text": [
            "                   all        500       5373      0.776      0.705      0.765      0.328\n"
          ]
        },
        {
          "output_type": "stream",
          "name": "stderr",
          "text": [
            "\n"
          ]
        },
        {
          "output_type": "stream",
          "name": "stdout",
          "text": [
            "\n",
            "      Epoch    GPU_mem   box_loss   cls_loss   dfl_loss  Instances       Size\n"
          ]
        },
        {
          "output_type": "stream",
          "name": "stderr",
          "text": [
            "     10/100      3.56G      1.977      1.207       1.11         37        736: 100%|██████████| 32/32 [00:12<00:00,  2.53it/s]\n",
            "                 Class     Images  Instances      Box(P          R      mAP50  mAP50-95): 100%|██████████| 16/16 [00:05<00:00,  2.82it/s]\n"
          ]
        },
        {
          "output_type": "stream",
          "name": "stdout",
          "text": [
            "                   all        500       5373      0.784      0.694      0.777      0.344\n",
            "\n",
            "      Epoch    GPU_mem   box_loss   cls_loss   dfl_loss  Instances       Size\n"
          ]
        },
        {
          "output_type": "stream",
          "name": "stderr",
          "text": [
            "     11/100      3.57G       1.95       1.18      1.103        111        736: 100%|██████████| 32/32 [00:12<00:00,  2.65it/s]\n",
            "                 Class     Images  Instances      Box(P          R      mAP50  mAP50-95): 100%|██████████| 16/16 [00:06<00:00,  2.36it/s]"
          ]
        },
        {
          "output_type": "stream",
          "name": "stdout",
          "text": [
            "                   all        500       5373      0.818      0.729       0.81      0.366\n"
          ]
        },
        {
          "output_type": "stream",
          "name": "stderr",
          "text": [
            "\n"
          ]
        },
        {
          "output_type": "stream",
          "name": "stdout",
          "text": [
            "\n",
            "      Epoch    GPU_mem   box_loss   cls_loss   dfl_loss  Instances       Size\n"
          ]
        },
        {
          "output_type": "stream",
          "name": "stderr",
          "text": [
            "     12/100      3.57G      1.956      1.156      1.102         71        736: 100%|██████████| 32/32 [00:13<00:00,  2.44it/s]\n",
            "                 Class     Images  Instances      Box(P          R      mAP50  mAP50-95): 100%|██████████| 16/16 [00:05<00:00,  2.93it/s]"
          ]
        },
        {
          "output_type": "stream",
          "name": "stdout",
          "text": [
            "                   all        500       5373      0.809      0.717      0.807      0.339\n"
          ]
        },
        {
          "output_type": "stream",
          "name": "stderr",
          "text": [
            "\n"
          ]
        },
        {
          "output_type": "stream",
          "name": "stdout",
          "text": [
            "\n",
            "      Epoch    GPU_mem   box_loss   cls_loss   dfl_loss  Instances       Size\n"
          ]
        },
        {
          "output_type": "stream",
          "name": "stderr",
          "text": [
            "     13/100      3.58G      1.962      1.134      1.092         97        736: 100%|██████████| 32/32 [00:12<00:00,  2.56it/s]\n",
            "                 Class     Images  Instances      Box(P          R      mAP50  mAP50-95): 100%|██████████| 16/16 [00:06<00:00,  2.45it/s]"
          ]
        },
        {
          "output_type": "stream",
          "name": "stdout",
          "text": [
            "                   all        500       5373       0.81      0.732       0.82      0.378\n"
          ]
        },
        {
          "output_type": "stream",
          "name": "stderr",
          "text": [
            "\n"
          ]
        },
        {
          "output_type": "stream",
          "name": "stdout",
          "text": [
            "\n",
            "      Epoch    GPU_mem   box_loss   cls_loss   dfl_loss  Instances       Size\n"
          ]
        },
        {
          "output_type": "stream",
          "name": "stderr",
          "text": [
            "     14/100       3.6G      1.911      1.094      1.075         72        736: 100%|██████████| 32/32 [00:13<00:00,  2.41it/s]\n",
            "                 Class     Images  Instances      Box(P          R      mAP50  mAP50-95): 100%|██████████| 16/16 [00:05<00:00,  2.81it/s]"
          ]
        },
        {
          "output_type": "stream",
          "name": "stdout",
          "text": [
            "                   all        500       5373      0.823       0.76      0.842      0.387\n"
          ]
        },
        {
          "output_type": "stream",
          "name": "stderr",
          "text": [
            "\n"
          ]
        },
        {
          "output_type": "stream",
          "name": "stdout",
          "text": [
            "\n",
            "      Epoch    GPU_mem   box_loss   cls_loss   dfl_loss  Instances       Size\n"
          ]
        },
        {
          "output_type": "stream",
          "name": "stderr",
          "text": [
            "     15/100       3.6G      1.932        1.1      1.092         49        736: 100%|██████████| 32/32 [00:12<00:00,  2.62it/s]\n",
            "                 Class     Images  Instances      Box(P          R      mAP50  mAP50-95): 100%|██████████| 16/16 [00:07<00:00,  2.28it/s]"
          ]
        },
        {
          "output_type": "stream",
          "name": "stdout",
          "text": [
            "                   all        500       5373      0.807      0.768      0.823      0.368\n"
          ]
        },
        {
          "output_type": "stream",
          "name": "stderr",
          "text": [
            "\n"
          ]
        },
        {
          "output_type": "stream",
          "name": "stdout",
          "text": [
            "\n",
            "      Epoch    GPU_mem   box_loss   cls_loss   dfl_loss  Instances       Size\n"
          ]
        },
        {
          "output_type": "stream",
          "name": "stderr",
          "text": [
            "     16/100       3.6G      1.908      1.099      1.091         51        736: 100%|██████████| 32/32 [00:12<00:00,  2.65it/s]\n",
            "                 Class     Images  Instances      Box(P          R      mAP50  mAP50-95): 100%|██████████| 16/16 [00:05<00:00,  2.87it/s]\n"
          ]
        },
        {
          "output_type": "stream",
          "name": "stdout",
          "text": [
            "                   all        500       5373        0.8      0.747      0.817      0.371\n",
            "\n",
            "      Epoch    GPU_mem   box_loss   cls_loss   dfl_loss  Instances       Size\n"
          ]
        },
        {
          "output_type": "stream",
          "name": "stderr",
          "text": [
            "     17/100       3.6G      1.924      1.092      1.084         48        736: 100%|██████████| 32/32 [00:12<00:00,  2.62it/s]\n",
            "                 Class     Images  Instances      Box(P          R      mAP50  mAP50-95): 100%|██████████| 16/16 [00:07<00:00,  2.17it/s]"
          ]
        },
        {
          "output_type": "stream",
          "name": "stdout",
          "text": [
            "                   all        500       5373      0.824      0.745       0.83       0.38\n"
          ]
        },
        {
          "output_type": "stream",
          "name": "stderr",
          "text": [
            "\n"
          ]
        },
        {
          "output_type": "stream",
          "name": "stdout",
          "text": [
            "\n",
            "      Epoch    GPU_mem   box_loss   cls_loss   dfl_loss  Instances       Size\n"
          ]
        },
        {
          "output_type": "stream",
          "name": "stderr",
          "text": [
            "     18/100       3.6G      1.896      1.073      1.081         42        736: 100%|██████████| 32/32 [00:12<00:00,  2.66it/s]\n",
            "                 Class     Images  Instances      Box(P          R      mAP50  mAP50-95): 100%|██████████| 16/16 [00:05<00:00,  2.83it/s]\n"
          ]
        },
        {
          "output_type": "stream",
          "name": "stdout",
          "text": [
            "                   all        500       5373       0.83       0.74       0.83      0.369\n",
            "\n",
            "      Epoch    GPU_mem   box_loss   cls_loss   dfl_loss  Instances       Size\n"
          ]
        },
        {
          "output_type": "stream",
          "name": "stderr",
          "text": [
            "     19/100       3.6G      1.894      1.044      1.094         43        736: 100%|██████████| 32/32 [00:12<00:00,  2.53it/s]\n",
            "                 Class     Images  Instances      Box(P          R      mAP50  mAP50-95): 100%|██████████| 16/16 [00:06<00:00,  2.48it/s]"
          ]
        },
        {
          "output_type": "stream",
          "name": "stdout",
          "text": [
            "                   all        500       5373      0.817      0.748      0.832      0.379\n"
          ]
        },
        {
          "output_type": "stream",
          "name": "stderr",
          "text": [
            "\n"
          ]
        },
        {
          "output_type": "stream",
          "name": "stdout",
          "text": [
            "\n",
            "      Epoch    GPU_mem   box_loss   cls_loss   dfl_loss  Instances       Size\n"
          ]
        },
        {
          "output_type": "stream",
          "name": "stderr",
          "text": [
            "     20/100       3.6G      1.898      1.046      1.083         74        736: 100%|██████████| 32/32 [00:11<00:00,  2.67it/s]\n",
            "                 Class     Images  Instances      Box(P          R      mAP50  mAP50-95): 100%|██████████| 16/16 [00:05<00:00,  2.68it/s]\n"
          ]
        },
        {
          "output_type": "stream",
          "name": "stdout",
          "text": [
            "                   all        500       5373      0.833      0.747      0.827      0.378\n",
            "\n",
            "      Epoch    GPU_mem   box_loss   cls_loss   dfl_loss  Instances       Size\n"
          ]
        },
        {
          "output_type": "stream",
          "name": "stderr",
          "text": [
            "     21/100       3.6G      1.948       1.08      1.109         60        736: 100%|██████████| 32/32 [00:13<00:00,  2.45it/s]\n",
            "                 Class     Images  Instances      Box(P          R      mAP50  mAP50-95): 100%|██████████| 16/16 [00:06<00:00,  2.53it/s]"
          ]
        },
        {
          "output_type": "stream",
          "name": "stdout",
          "text": [
            "                   all        500       5373      0.838      0.762      0.842      0.389\n"
          ]
        },
        {
          "output_type": "stream",
          "name": "stderr",
          "text": [
            "\n"
          ]
        },
        {
          "output_type": "stream",
          "name": "stdout",
          "text": [
            "\n",
            "      Epoch    GPU_mem   box_loss   cls_loss   dfl_loss  Instances       Size\n"
          ]
        },
        {
          "output_type": "stream",
          "name": "stderr",
          "text": [
            "     22/100       3.6G      1.878      1.049      1.071         49        736: 100%|██████████| 32/32 [00:12<00:00,  2.64it/s]\n",
            "                 Class     Images  Instances      Box(P          R      mAP50  mAP50-95): 100%|██████████| 16/16 [00:06<00:00,  2.55it/s]"
          ]
        },
        {
          "output_type": "stream",
          "name": "stdout",
          "text": [
            "                   all        500       5373      0.841      0.775      0.852      0.385\n"
          ]
        },
        {
          "output_type": "stream",
          "name": "stderr",
          "text": [
            "\n"
          ]
        },
        {
          "output_type": "stream",
          "name": "stdout",
          "text": [
            "\n",
            "      Epoch    GPU_mem   box_loss   cls_loss   dfl_loss  Instances       Size\n"
          ]
        },
        {
          "output_type": "stream",
          "name": "stderr",
          "text": [
            "     23/100       3.6G      1.904      1.022      1.074         44        736: 100%|██████████| 32/32 [00:12<00:00,  2.56it/s]\n",
            "                 Class     Images  Instances      Box(P          R      mAP50  mAP50-95): 100%|██████████| 16/16 [00:06<00:00,  2.50it/s]"
          ]
        },
        {
          "output_type": "stream",
          "name": "stdout",
          "text": [
            "                   all        500       5373      0.841      0.783      0.857      0.407\n"
          ]
        },
        {
          "output_type": "stream",
          "name": "stderr",
          "text": [
            "\n"
          ]
        },
        {
          "output_type": "stream",
          "name": "stdout",
          "text": [
            "\n",
            "      Epoch    GPU_mem   box_loss   cls_loss   dfl_loss  Instances       Size\n"
          ]
        },
        {
          "output_type": "stream",
          "name": "stderr",
          "text": [
            "     24/100       3.6G      1.846     0.9983      1.065         58        736: 100%|██████████| 32/32 [00:11<00:00,  2.68it/s]\n",
            "                 Class     Images  Instances      Box(P          R      mAP50  mAP50-95): 100%|██████████| 16/16 [00:06<00:00,  2.53it/s]\n"
          ]
        },
        {
          "output_type": "stream",
          "name": "stdout",
          "text": [
            "                   all        500       5373      0.827      0.781      0.852        0.4\n",
            "\n",
            "      Epoch    GPU_mem   box_loss   cls_loss   dfl_loss  Instances       Size\n"
          ]
        },
        {
          "output_type": "stream",
          "name": "stderr",
          "text": [
            "     25/100       3.6G       1.86     0.9904      1.073         71        736: 100%|██████████| 32/32 [00:12<00:00,  2.59it/s]\n",
            "                 Class     Images  Instances      Box(P          R      mAP50  mAP50-95): 100%|██████████| 16/16 [00:05<00:00,  2.81it/s]"
          ]
        },
        {
          "output_type": "stream",
          "name": "stdout",
          "text": [
            "                   all        500       5373      0.826      0.758      0.844       0.39\n"
          ]
        },
        {
          "output_type": "stream",
          "name": "stderr",
          "text": [
            "\n"
          ]
        },
        {
          "output_type": "stream",
          "name": "stdout",
          "text": [
            "\n",
            "      Epoch    GPU_mem   box_loss   cls_loss   dfl_loss  Instances       Size\n"
          ]
        },
        {
          "output_type": "stream",
          "name": "stderr",
          "text": [
            "     26/100       3.6G      1.872      1.011       1.06         29        736: 100%|██████████| 32/32 [00:12<00:00,  2.67it/s]\n",
            "                 Class     Images  Instances      Box(P          R      mAP50  mAP50-95): 100%|██████████| 16/16 [00:06<00:00,  2.46it/s]"
          ]
        },
        {
          "output_type": "stream",
          "name": "stdout",
          "text": [
            "                   all        500       5373       0.86      0.783      0.864      0.419\n"
          ]
        },
        {
          "output_type": "stream",
          "name": "stderr",
          "text": [
            "\n"
          ]
        },
        {
          "output_type": "stream",
          "name": "stdout",
          "text": [
            "\n",
            "      Epoch    GPU_mem   box_loss   cls_loss   dfl_loss  Instances       Size\n"
          ]
        },
        {
          "output_type": "stream",
          "name": "stderr",
          "text": [
            "     27/100       3.6G      1.844     0.9978      1.068        125        736: 100%|██████████| 32/32 [00:12<00:00,  2.58it/s]\n",
            "                 Class     Images  Instances      Box(P          R      mAP50  mAP50-95): 100%|██████████| 16/16 [00:05<00:00,  3.01it/s]"
          ]
        },
        {
          "output_type": "stream",
          "name": "stdout",
          "text": [
            "                   all        500       5373       0.85      0.774      0.862       0.41\n"
          ]
        },
        {
          "output_type": "stream",
          "name": "stderr",
          "text": [
            "\n"
          ]
        },
        {
          "output_type": "stream",
          "name": "stdout",
          "text": [
            "\n",
            "      Epoch    GPU_mem   box_loss   cls_loss   dfl_loss  Instances       Size\n"
          ]
        },
        {
          "output_type": "stream",
          "name": "stderr",
          "text": [
            "     28/100       3.6G      1.845     0.9965      1.069         50        736: 100%|██████████| 32/32 [00:11<00:00,  2.67it/s]\n",
            "                 Class     Images  Instances      Box(P          R      mAP50  mAP50-95): 100%|██████████| 16/16 [00:06<00:00,  2.46it/s]"
          ]
        },
        {
          "output_type": "stream",
          "name": "stdout",
          "text": [
            "                   all        500       5373      0.865      0.784      0.869       0.42\n"
          ]
        },
        {
          "output_type": "stream",
          "name": "stderr",
          "text": [
            "\n"
          ]
        },
        {
          "output_type": "stream",
          "name": "stdout",
          "text": [
            "\n",
            "      Epoch    GPU_mem   box_loss   cls_loss   dfl_loss  Instances       Size\n"
          ]
        },
        {
          "output_type": "stream",
          "name": "stderr",
          "text": [
            "     29/100       3.6G      1.838      0.981       1.07         34        736: 100%|██████████| 32/32 [00:12<00:00,  2.59it/s]\n",
            "                 Class     Images  Instances      Box(P          R      mAP50  mAP50-95): 100%|██████████| 16/16 [00:05<00:00,  2.80it/s]"
          ]
        },
        {
          "output_type": "stream",
          "name": "stdout",
          "text": [
            "                   all        500       5373      0.833      0.751      0.843      0.388\n"
          ]
        },
        {
          "output_type": "stream",
          "name": "stderr",
          "text": [
            "\n"
          ]
        },
        {
          "output_type": "stream",
          "name": "stdout",
          "text": [
            "\n",
            "      Epoch    GPU_mem   box_loss   cls_loss   dfl_loss  Instances       Size\n"
          ]
        },
        {
          "output_type": "stream",
          "name": "stderr",
          "text": [
            "     30/100       3.6G      1.861     0.9926       1.07         61        736: 100%|██████████| 32/32 [00:12<00:00,  2.63it/s]\n",
            "                 Class     Images  Instances      Box(P          R      mAP50  mAP50-95): 100%|██████████| 16/16 [00:06<00:00,  2.38it/s]"
          ]
        },
        {
          "output_type": "stream",
          "name": "stdout",
          "text": [
            "                   all        500       5373      0.851      0.783      0.863      0.425\n"
          ]
        },
        {
          "output_type": "stream",
          "name": "stderr",
          "text": [
            "\n"
          ]
        },
        {
          "output_type": "stream",
          "name": "stdout",
          "text": [
            "\n",
            "      Epoch    GPU_mem   box_loss   cls_loss   dfl_loss  Instances       Size\n"
          ]
        },
        {
          "output_type": "stream",
          "name": "stderr",
          "text": [
            "     31/100       3.6G      1.821     0.9664      1.051         44        736: 100%|██████████| 32/32 [00:12<00:00,  2.55it/s]\n",
            "                 Class     Images  Instances      Box(P          R      mAP50  mAP50-95): 100%|██████████| 16/16 [00:05<00:00,  2.90it/s]"
          ]
        },
        {
          "output_type": "stream",
          "name": "stdout",
          "text": [
            "                   all        500       5373      0.833      0.795      0.865      0.401\n"
          ]
        },
        {
          "output_type": "stream",
          "name": "stderr",
          "text": [
            "\n"
          ]
        },
        {
          "output_type": "stream",
          "name": "stdout",
          "text": [
            "\n",
            "      Epoch    GPU_mem   box_loss   cls_loss   dfl_loss  Instances       Size\n"
          ]
        },
        {
          "output_type": "stream",
          "name": "stderr",
          "text": [
            "     32/100       3.6G      1.837     0.9967       1.06         31        736: 100%|██████████| 32/32 [00:12<00:00,  2.58it/s]\n",
            "                 Class     Images  Instances      Box(P          R      mAP50  mAP50-95): 100%|██████████| 16/16 [00:06<00:00,  2.45it/s]\n"
          ]
        },
        {
          "output_type": "stream",
          "name": "stdout",
          "text": [
            "                   all        500       5373      0.853      0.768      0.847      0.396\n",
            "\n",
            "      Epoch    GPU_mem   box_loss   cls_loss   dfl_loss  Instances       Size\n"
          ]
        },
        {
          "output_type": "stream",
          "name": "stderr",
          "text": [
            "     33/100       3.6G      1.878     0.9876      1.074         53        736: 100%|██████████| 32/32 [00:12<00:00,  2.48it/s]\n",
            "                 Class     Images  Instances      Box(P          R      mAP50  mAP50-95): 100%|██████████| 16/16 [00:05<00:00,  2.96it/s]\n"
          ]
        },
        {
          "output_type": "stream",
          "name": "stdout",
          "text": [
            "                   all        500       5373       0.87      0.794      0.876      0.426\n",
            "\n",
            "      Epoch    GPU_mem   box_loss   cls_loss   dfl_loss  Instances       Size\n"
          ]
        },
        {
          "output_type": "stream",
          "name": "stderr",
          "text": [
            "     34/100       3.6G      1.816     0.9615      1.062         79        736: 100%|██████████| 32/32 [00:11<00:00,  2.67it/s]\n",
            "                 Class     Images  Instances      Box(P          R      mAP50  mAP50-95): 100%|██████████| 16/16 [00:06<00:00,  2.40it/s]"
          ]
        },
        {
          "output_type": "stream",
          "name": "stdout",
          "text": [
            "                   all        500       5373       0.87       0.81      0.885      0.434\n"
          ]
        },
        {
          "output_type": "stream",
          "name": "stderr",
          "text": [
            "\n"
          ]
        },
        {
          "output_type": "stream",
          "name": "stdout",
          "text": [
            "\n",
            "      Epoch    GPU_mem   box_loss   cls_loss   dfl_loss  Instances       Size\n"
          ]
        },
        {
          "output_type": "stream",
          "name": "stderr",
          "text": [
            "     35/100       3.6G      1.809      0.956      1.052         76        736: 100%|██████████| 32/32 [00:11<00:00,  2.72it/s]\n",
            "                 Class     Images  Instances      Box(P          R      mAP50  mAP50-95): 100%|██████████| 16/16 [00:05<00:00,  2.71it/s]"
          ]
        },
        {
          "output_type": "stream",
          "name": "stdout",
          "text": [
            "                   all        500       5373      0.849      0.809      0.883      0.425\n"
          ]
        },
        {
          "output_type": "stream",
          "name": "stderr",
          "text": [
            "\n"
          ]
        },
        {
          "output_type": "stream",
          "name": "stdout",
          "text": [
            "\n",
            "      Epoch    GPU_mem   box_loss   cls_loss   dfl_loss  Instances       Size\n"
          ]
        },
        {
          "output_type": "stream",
          "name": "stderr",
          "text": [
            "     36/100       3.6G      1.789      0.932       1.05         81        736: 100%|██████████| 32/32 [00:12<00:00,  2.51it/s]\n",
            "                 Class     Images  Instances      Box(P          R      mAP50  mAP50-95): 100%|██████████| 16/16 [00:06<00:00,  2.66it/s]"
          ]
        },
        {
          "output_type": "stream",
          "name": "stdout",
          "text": [
            "                   all        500       5373       0.87      0.801      0.882      0.434\n"
          ]
        },
        {
          "output_type": "stream",
          "name": "stderr",
          "text": [
            "\n"
          ]
        },
        {
          "output_type": "stream",
          "name": "stdout",
          "text": [
            "\n",
            "      Epoch    GPU_mem   box_loss   cls_loss   dfl_loss  Instances       Size\n"
          ]
        },
        {
          "output_type": "stream",
          "name": "stderr",
          "text": [
            "     37/100       3.6G      1.816     0.9633      1.046         65        736: 100%|██████████| 32/32 [00:11<00:00,  2.73it/s]\n",
            "                 Class     Images  Instances      Box(P          R      mAP50  mAP50-95): 100%|██████████| 16/16 [00:06<00:00,  2.66it/s]"
          ]
        },
        {
          "output_type": "stream",
          "name": "stdout",
          "text": [
            "                   all        500       5373      0.855      0.795       0.88      0.423\n"
          ]
        },
        {
          "output_type": "stream",
          "name": "stderr",
          "text": [
            "\n"
          ]
        },
        {
          "output_type": "stream",
          "name": "stdout",
          "text": [
            "\n",
            "      Epoch    GPU_mem   box_loss   cls_loss   dfl_loss  Instances       Size\n"
          ]
        },
        {
          "output_type": "stream",
          "name": "stderr",
          "text": [
            "     38/100       3.6G      1.798     0.9394       1.04         59        736: 100%|██████████| 32/32 [00:12<00:00,  2.52it/s]\n",
            "                 Class     Images  Instances      Box(P          R      mAP50  mAP50-95): 100%|██████████| 16/16 [00:05<00:00,  2.93it/s]"
          ]
        },
        {
          "output_type": "stream",
          "name": "stdout",
          "text": [
            "                   all        500       5373      0.868      0.824      0.893       0.44\n"
          ]
        },
        {
          "output_type": "stream",
          "name": "stderr",
          "text": [
            "\n"
          ]
        },
        {
          "output_type": "stream",
          "name": "stdout",
          "text": [
            "\n",
            "      Epoch    GPU_mem   box_loss   cls_loss   dfl_loss  Instances       Size\n"
          ]
        },
        {
          "output_type": "stream",
          "name": "stderr",
          "text": [
            "     39/100       3.6G      1.812     0.9292      1.058         50        736: 100%|██████████| 32/32 [00:12<00:00,  2.64it/s]\n",
            "                 Class     Images  Instances      Box(P          R      mAP50  mAP50-95): 100%|██████████| 16/16 [00:06<00:00,  2.30it/s]"
          ]
        },
        {
          "output_type": "stream",
          "name": "stdout",
          "text": [
            "                   all        500       5373      0.853      0.806      0.882      0.428\n"
          ]
        },
        {
          "output_type": "stream",
          "name": "stderr",
          "text": [
            "\n"
          ]
        },
        {
          "output_type": "stream",
          "name": "stdout",
          "text": [
            "\n",
            "      Epoch    GPU_mem   box_loss   cls_loss   dfl_loss  Instances       Size\n"
          ]
        },
        {
          "output_type": "stream",
          "name": "stderr",
          "text": [
            "     40/100       3.6G      1.838     0.9704      1.067         40        736: 100%|██████████| 32/32 [00:12<00:00,  2.50it/s]\n",
            "                 Class     Images  Instances      Box(P          R      mAP50  mAP50-95): 100%|██████████| 16/16 [00:05<00:00,  2.94it/s]"
          ]
        },
        {
          "output_type": "stream",
          "name": "stdout",
          "text": [
            "                   all        500       5373      0.862      0.814      0.888      0.431\n"
          ]
        },
        {
          "output_type": "stream",
          "name": "stderr",
          "text": [
            "\n"
          ]
        },
        {
          "output_type": "stream",
          "name": "stdout",
          "text": [
            "\n",
            "      Epoch    GPU_mem   box_loss   cls_loss   dfl_loss  Instances       Size\n"
          ]
        },
        {
          "output_type": "stream",
          "name": "stderr",
          "text": [
            "     41/100       3.6G      1.799     0.9572      1.043         44        736: 100%|██████████| 32/32 [00:12<00:00,  2.63it/s]\n",
            "                 Class     Images  Instances      Box(P          R      mAP50  mAP50-95): 100%|██████████| 16/16 [00:06<00:00,  2.30it/s]\n"
          ]
        },
        {
          "output_type": "stream",
          "name": "stdout",
          "text": [
            "                   all        500       5373      0.869       0.81      0.891      0.438\n",
            "\n",
            "      Epoch    GPU_mem   box_loss   cls_loss   dfl_loss  Instances       Size\n"
          ]
        },
        {
          "output_type": "stream",
          "name": "stderr",
          "text": [
            "     42/100       3.6G      1.799     0.9425      1.049         34        736: 100%|██████████| 32/32 [00:12<00:00,  2.53it/s]\n",
            "                 Class     Images  Instances      Box(P          R      mAP50  mAP50-95): 100%|██████████| 16/16 [00:05<00:00,  2.91it/s]"
          ]
        },
        {
          "output_type": "stream",
          "name": "stdout",
          "text": [
            "                   all        500       5373      0.855      0.822      0.892      0.429\n"
          ]
        },
        {
          "output_type": "stream",
          "name": "stderr",
          "text": [
            "\n"
          ]
        },
        {
          "output_type": "stream",
          "name": "stdout",
          "text": [
            "\n",
            "      Epoch    GPU_mem   box_loss   cls_loss   dfl_loss  Instances       Size\n"
          ]
        },
        {
          "output_type": "stream",
          "name": "stderr",
          "text": [
            "     43/100       3.6G      1.799      0.939      1.038         85        736: 100%|██████████| 32/32 [00:12<00:00,  2.51it/s]\n",
            "                 Class     Images  Instances      Box(P          R      mAP50  mAP50-95): 100%|██████████| 16/16 [00:06<00:00,  2.44it/s]"
          ]
        },
        {
          "output_type": "stream",
          "name": "stdout",
          "text": [
            "                   all        500       5373      0.873      0.817      0.887      0.437\n"
          ]
        },
        {
          "output_type": "stream",
          "name": "stderr",
          "text": [
            "\n"
          ]
        },
        {
          "output_type": "stream",
          "name": "stdout",
          "text": [
            "\n",
            "      Epoch    GPU_mem   box_loss   cls_loss   dfl_loss  Instances       Size\n"
          ]
        },
        {
          "output_type": "stream",
          "name": "stderr",
          "text": [
            "     44/100       3.6G      1.796     0.9184      1.047         87        736: 100%|██████████| 32/32 [00:12<00:00,  2.58it/s]\n",
            "                 Class     Images  Instances      Box(P          R      mAP50  mAP50-95): 100%|██████████| 16/16 [00:05<00:00,  2.85it/s]"
          ]
        },
        {
          "output_type": "stream",
          "name": "stdout",
          "text": [
            "                   all        500       5373      0.874      0.813      0.894      0.438\n"
          ]
        },
        {
          "output_type": "stream",
          "name": "stderr",
          "text": [
            "\n"
          ]
        },
        {
          "output_type": "stream",
          "name": "stdout",
          "text": [
            "\n",
            "      Epoch    GPU_mem   box_loss   cls_loss   dfl_loss  Instances       Size\n"
          ]
        },
        {
          "output_type": "stream",
          "name": "stderr",
          "text": [
            "     45/100       3.6G      1.807     0.9387      1.059         45        736: 100%|██████████| 32/32 [00:12<00:00,  2.55it/s]\n",
            "                 Class     Images  Instances      Box(P          R      mAP50  mAP50-95): 100%|██████████| 16/16 [00:06<00:00,  2.34it/s]"
          ]
        },
        {
          "output_type": "stream",
          "name": "stdout",
          "text": [
            "                   all        500       5373      0.875      0.792      0.876      0.431\n"
          ]
        },
        {
          "output_type": "stream",
          "name": "stderr",
          "text": [
            "\n"
          ]
        },
        {
          "output_type": "stream",
          "name": "stdout",
          "text": [
            "\n",
            "      Epoch    GPU_mem   box_loss   cls_loss   dfl_loss  Instances       Size\n"
          ]
        },
        {
          "output_type": "stream",
          "name": "stderr",
          "text": [
            "     46/100       3.6G      1.809     0.9419      1.059         23        736: 100%|██████████| 32/32 [00:12<00:00,  2.53it/s]\n",
            "                 Class     Images  Instances      Box(P          R      mAP50  mAP50-95): 100%|██████████| 16/16 [00:06<00:00,  2.60it/s]"
          ]
        },
        {
          "output_type": "stream",
          "name": "stdout",
          "text": [
            "                   all        500       5373      0.876      0.821      0.898      0.446\n"
          ]
        },
        {
          "output_type": "stream",
          "name": "stderr",
          "text": [
            "\n"
          ]
        },
        {
          "output_type": "stream",
          "name": "stdout",
          "text": [
            "\n",
            "      Epoch    GPU_mem   box_loss   cls_loss   dfl_loss  Instances       Size\n"
          ]
        },
        {
          "output_type": "stream",
          "name": "stderr",
          "text": [
            "     47/100       3.6G      1.796     0.9251      1.044         51        736: 100%|██████████| 32/32 [00:12<00:00,  2.60it/s]\n",
            "                 Class     Images  Instances      Box(P          R      mAP50  mAP50-95): 100%|██████████| 16/16 [00:06<00:00,  2.44it/s]"
          ]
        },
        {
          "output_type": "stream",
          "name": "stdout",
          "text": [
            "                   all        500       5373      0.863      0.824      0.895      0.445\n"
          ]
        },
        {
          "output_type": "stream",
          "name": "stderr",
          "text": [
            "\n"
          ]
        },
        {
          "output_type": "stream",
          "name": "stdout",
          "text": [
            "\n",
            "      Epoch    GPU_mem   box_loss   cls_loss   dfl_loss  Instances       Size\n"
          ]
        },
        {
          "output_type": "stream",
          "name": "stderr",
          "text": [
            "     48/100       3.6G      1.789     0.9103      1.027        124        736: 100%|██████████| 32/32 [00:12<00:00,  2.53it/s]\n",
            "                 Class     Images  Instances      Box(P          R      mAP50  mAP50-95): 100%|██████████| 16/16 [00:05<00:00,  2.98it/s]"
          ]
        },
        {
          "output_type": "stream",
          "name": "stdout",
          "text": [
            "                   all        500       5373      0.881      0.823      0.902      0.453\n"
          ]
        },
        {
          "output_type": "stream",
          "name": "stderr",
          "text": [
            "\n"
          ]
        },
        {
          "output_type": "stream",
          "name": "stdout",
          "text": [
            "\n",
            "      Epoch    GPU_mem   box_loss   cls_loss   dfl_loss  Instances       Size\n"
          ]
        },
        {
          "output_type": "stream",
          "name": "stderr",
          "text": [
            "     49/100       3.6G      1.767     0.9059      1.034         36        736: 100%|██████████| 32/32 [00:12<00:00,  2.61it/s]\n",
            "                 Class     Images  Instances      Box(P          R      mAP50  mAP50-95): 100%|██████████| 16/16 [00:06<00:00,  2.46it/s]\n"
          ]
        },
        {
          "output_type": "stream",
          "name": "stdout",
          "text": [
            "                   all        500       5373      0.867        0.8       0.89       0.44\n",
            "\n",
            "      Epoch    GPU_mem   box_loss   cls_loss   dfl_loss  Instances       Size\n"
          ]
        },
        {
          "output_type": "stream",
          "name": "stderr",
          "text": [
            "     50/100       3.6G      1.779     0.9082      1.038         67        736: 100%|██████████| 32/32 [00:12<00:00,  2.55it/s]\n",
            "                 Class     Images  Instances      Box(P          R      mAP50  mAP50-95): 100%|██████████| 16/16 [00:05<00:00,  2.96it/s]"
          ]
        },
        {
          "output_type": "stream",
          "name": "stdout",
          "text": [
            "                   all        500       5373      0.878      0.823      0.904      0.458\n"
          ]
        },
        {
          "output_type": "stream",
          "name": "stderr",
          "text": [
            "\n"
          ]
        },
        {
          "output_type": "stream",
          "name": "stdout",
          "text": [
            "\n",
            "      Epoch    GPU_mem   box_loss   cls_loss   dfl_loss  Instances       Size\n"
          ]
        },
        {
          "output_type": "stream",
          "name": "stderr",
          "text": [
            "     51/100       3.6G      1.766     0.8971       1.04         44        736: 100%|██████████| 32/32 [00:11<00:00,  2.70it/s]\n",
            "                 Class     Images  Instances      Box(P          R      mAP50  mAP50-95): 100%|██████████| 16/16 [00:06<00:00,  2.46it/s]"
          ]
        },
        {
          "output_type": "stream",
          "name": "stdout",
          "text": [
            "                   all        500       5373      0.887      0.831      0.905      0.465\n"
          ]
        },
        {
          "output_type": "stream",
          "name": "stderr",
          "text": [
            "\n"
          ]
        },
        {
          "output_type": "stream",
          "name": "stdout",
          "text": [
            "\n",
            "      Epoch    GPU_mem   box_loss   cls_loss   dfl_loss  Instances       Size\n"
          ]
        },
        {
          "output_type": "stream",
          "name": "stderr",
          "text": [
            "     52/100       3.6G      1.741     0.8796      1.035         47        736: 100%|██████████| 32/32 [00:12<00:00,  2.62it/s]\n",
            "                 Class     Images  Instances      Box(P          R      mAP50  mAP50-95): 100%|██████████| 16/16 [00:05<00:00,  2.82it/s]"
          ]
        },
        {
          "output_type": "stream",
          "name": "stdout",
          "text": [
            "                   all        500       5373       0.89      0.823      0.905      0.455\n"
          ]
        },
        {
          "output_type": "stream",
          "name": "stderr",
          "text": [
            "\n"
          ]
        },
        {
          "output_type": "stream",
          "name": "stdout",
          "text": [
            "\n",
            "      Epoch    GPU_mem   box_loss   cls_loss   dfl_loss  Instances       Size\n"
          ]
        },
        {
          "output_type": "stream",
          "name": "stderr",
          "text": [
            "     53/100       3.6G      1.749     0.8942      1.032         70        736: 100%|██████████| 32/32 [00:12<00:00,  2.62it/s]\n",
            "                 Class     Images  Instances      Box(P          R      mAP50  mAP50-95): 100%|██████████| 16/16 [00:06<00:00,  2.36it/s]"
          ]
        },
        {
          "output_type": "stream",
          "name": "stdout",
          "text": [
            "                   all        500       5373      0.871      0.834      0.896      0.453\n"
          ]
        },
        {
          "output_type": "stream",
          "name": "stderr",
          "text": [
            "\n"
          ]
        },
        {
          "output_type": "stream",
          "name": "stdout",
          "text": [
            "\n",
            "      Epoch    GPU_mem   box_loss   cls_loss   dfl_loss  Instances       Size\n"
          ]
        },
        {
          "output_type": "stream",
          "name": "stderr",
          "text": [
            "     54/100       3.6G      1.734     0.8698      1.052         58        736: 100%|██████████| 32/32 [00:11<00:00,  2.79it/s]\n",
            "                 Class     Images  Instances      Box(P          R      mAP50  mAP50-95): 100%|██████████| 16/16 [00:06<00:00,  2.64it/s]\n"
          ]
        },
        {
          "output_type": "stream",
          "name": "stdout",
          "text": [
            "                   all        500       5373      0.872      0.835      0.903      0.456\n",
            "\n",
            "      Epoch    GPU_mem   box_loss   cls_loss   dfl_loss  Instances       Size\n"
          ]
        },
        {
          "output_type": "stream",
          "name": "stderr",
          "text": [
            "     55/100       3.6G      1.752     0.8722      1.034         93        736: 100%|██████████| 32/32 [00:12<00:00,  2.55it/s]\n",
            "                 Class     Images  Instances      Box(P          R      mAP50  mAP50-95): 100%|██████████| 16/16 [00:05<00:00,  2.84it/s]"
          ]
        },
        {
          "output_type": "stream",
          "name": "stdout",
          "text": [
            "                   all        500       5373      0.883       0.83      0.906      0.457\n"
          ]
        },
        {
          "output_type": "stream",
          "name": "stderr",
          "text": [
            "\n"
          ]
        },
        {
          "output_type": "stream",
          "name": "stdout",
          "text": [
            "\n",
            "      Epoch    GPU_mem   box_loss   cls_loss   dfl_loss  Instances       Size\n"
          ]
        },
        {
          "output_type": "stream",
          "name": "stderr",
          "text": [
            "     56/100       3.6G      1.758     0.8948      1.036         37        736: 100%|██████████| 32/32 [00:11<00:00,  2.73it/s]\n",
            "                 Class     Images  Instances      Box(P          R      mAP50  mAP50-95): 100%|██████████| 16/16 [00:06<00:00,  2.39it/s]"
          ]
        },
        {
          "output_type": "stream",
          "name": "stdout",
          "text": [
            "                   all        500       5373      0.893      0.836      0.907       0.46\n"
          ]
        },
        {
          "output_type": "stream",
          "name": "stderr",
          "text": [
            "\n"
          ]
        },
        {
          "output_type": "stream",
          "name": "stdout",
          "text": [
            "\n",
            "      Epoch    GPU_mem   box_loss   cls_loss   dfl_loss  Instances       Size\n"
          ]
        },
        {
          "output_type": "stream",
          "name": "stderr",
          "text": [
            "     57/100       3.6G      1.754     0.8785      1.031         68        736: 100%|██████████| 32/32 [00:12<00:00,  2.53it/s]\n",
            "                 Class     Images  Instances      Box(P          R      mAP50  mAP50-95): 100%|██████████| 16/16 [00:05<00:00,  2.91it/s]"
          ]
        },
        {
          "output_type": "stream",
          "name": "stdout",
          "text": [
            "                   all        500       5373      0.889      0.837      0.911      0.466\n"
          ]
        },
        {
          "output_type": "stream",
          "name": "stderr",
          "text": [
            "\n"
          ]
        },
        {
          "output_type": "stream",
          "name": "stdout",
          "text": [
            "\n",
            "      Epoch    GPU_mem   box_loss   cls_loss   dfl_loss  Instances       Size\n"
          ]
        },
        {
          "output_type": "stream",
          "name": "stderr",
          "text": [
            "     58/100       3.6G      1.737     0.8818      1.032         37        736: 100%|██████████| 32/32 [00:12<00:00,  2.60it/s]\n",
            "                 Class     Images  Instances      Box(P          R      mAP50  mAP50-95): 100%|██████████| 16/16 [00:06<00:00,  2.42it/s]"
          ]
        },
        {
          "output_type": "stream",
          "name": "stdout",
          "text": [
            "                   all        500       5373      0.884      0.835      0.909      0.464\n"
          ]
        },
        {
          "output_type": "stream",
          "name": "stderr",
          "text": [
            "\n"
          ]
        },
        {
          "output_type": "stream",
          "name": "stdout",
          "text": [
            "\n",
            "      Epoch    GPU_mem   box_loss   cls_loss   dfl_loss  Instances       Size\n"
          ]
        },
        {
          "output_type": "stream",
          "name": "stderr",
          "text": [
            "     59/100       3.6G      1.791     0.9153      1.046         80        736: 100%|██████████| 32/32 [00:12<00:00,  2.54it/s]\n",
            "                 Class     Images  Instances      Box(P          R      mAP50  mAP50-95): 100%|██████████| 16/16 [00:05<00:00,  2.94it/s]"
          ]
        },
        {
          "output_type": "stream",
          "name": "stdout",
          "text": [
            "                   all        500       5373      0.889      0.839      0.911      0.461\n"
          ]
        },
        {
          "output_type": "stream",
          "name": "stderr",
          "text": [
            "\n"
          ]
        },
        {
          "output_type": "stream",
          "name": "stdout",
          "text": [
            "\n",
            "      Epoch    GPU_mem   box_loss   cls_loss   dfl_loss  Instances       Size\n"
          ]
        },
        {
          "output_type": "stream",
          "name": "stderr",
          "text": [
            "     60/100       3.6G      1.745     0.8836      1.045         42        736: 100%|██████████| 32/32 [00:12<00:00,  2.57it/s]\n",
            "                 Class     Images  Instances      Box(P          R      mAP50  mAP50-95): 100%|██████████| 16/16 [00:06<00:00,  2.31it/s]"
          ]
        },
        {
          "output_type": "stream",
          "name": "stdout",
          "text": [
            "                   all        500       5373      0.867      0.843      0.906      0.468\n"
          ]
        },
        {
          "output_type": "stream",
          "name": "stderr",
          "text": [
            "\n"
          ]
        },
        {
          "output_type": "stream",
          "name": "stdout",
          "text": [
            "\n",
            "      Epoch    GPU_mem   box_loss   cls_loss   dfl_loss  Instances       Size\n"
          ]
        },
        {
          "output_type": "stream",
          "name": "stderr",
          "text": [
            "     61/100       3.6G      1.727     0.8728      1.025         47        736: 100%|██████████| 32/32 [00:12<00:00,  2.58it/s]\n",
            "                 Class     Images  Instances      Box(P          R      mAP50  mAP50-95): 100%|██████████| 16/16 [00:05<00:00,  3.00it/s]"
          ]
        },
        {
          "output_type": "stream",
          "name": "stdout",
          "text": [
            "                   all        500       5373      0.892      0.843      0.907      0.462\n"
          ]
        },
        {
          "output_type": "stream",
          "name": "stderr",
          "text": [
            "\n"
          ]
        },
        {
          "output_type": "stream",
          "name": "stdout",
          "text": [
            "\n",
            "      Epoch    GPU_mem   box_loss   cls_loss   dfl_loss  Instances       Size\n"
          ]
        },
        {
          "output_type": "stream",
          "name": "stderr",
          "text": [
            "     62/100       3.6G      1.765     0.8821      1.031         42        736: 100%|██████████| 32/32 [00:12<00:00,  2.55it/s]\n",
            "                 Class     Images  Instances      Box(P          R      mAP50  mAP50-95): 100%|██████████| 16/16 [00:06<00:00,  2.42it/s]"
          ]
        },
        {
          "output_type": "stream",
          "name": "stdout",
          "text": [
            "                   all        500       5373      0.884      0.849      0.919      0.473\n"
          ]
        },
        {
          "output_type": "stream",
          "name": "stderr",
          "text": [
            "\n"
          ]
        },
        {
          "output_type": "stream",
          "name": "stdout",
          "text": [
            "\n",
            "      Epoch    GPU_mem   box_loss   cls_loss   dfl_loss  Instances       Size\n"
          ]
        },
        {
          "output_type": "stream",
          "name": "stderr",
          "text": [
            "     63/100       3.6G      1.715     0.8634      1.029         29        736: 100%|██████████| 32/32 [00:12<00:00,  2.56it/s]\n",
            "                 Class     Images  Instances      Box(P          R      mAP50  mAP50-95): 100%|██████████| 16/16 [00:05<00:00,  2.99it/s]\n"
          ]
        },
        {
          "output_type": "stream",
          "name": "stdout",
          "text": [
            "                   all        500       5373      0.888      0.848      0.916      0.469\n",
            "\n",
            "      Epoch    GPU_mem   box_loss   cls_loss   dfl_loss  Instances       Size\n"
          ]
        },
        {
          "output_type": "stream",
          "name": "stderr",
          "text": [
            "     64/100       3.6G       1.75     0.8773      1.039         30        736: 100%|██████████| 32/32 [00:12<00:00,  2.49it/s]\n",
            "                 Class     Images  Instances      Box(P          R      mAP50  mAP50-95): 100%|██████████| 16/16 [00:06<00:00,  2.50it/s]"
          ]
        },
        {
          "output_type": "stream",
          "name": "stdout",
          "text": [
            "                   all        500       5373      0.893      0.842      0.914      0.471\n"
          ]
        },
        {
          "output_type": "stream",
          "name": "stderr",
          "text": [
            "\n"
          ]
        },
        {
          "output_type": "stream",
          "name": "stdout",
          "text": [
            "\n",
            "      Epoch    GPU_mem   box_loss   cls_loss   dfl_loss  Instances       Size\n"
          ]
        },
        {
          "output_type": "stream",
          "name": "stderr",
          "text": [
            "     65/100       3.6G      1.714     0.8741      1.019         30        736: 100%|██████████| 32/32 [00:12<00:00,  2.58it/s]\n",
            "                 Class     Images  Instances      Box(P          R      mAP50  mAP50-95): 100%|██████████| 16/16 [00:05<00:00,  2.71it/s]"
          ]
        },
        {
          "output_type": "stream",
          "name": "stdout",
          "text": [
            "                   all        500       5373      0.886      0.847      0.917      0.475\n"
          ]
        },
        {
          "output_type": "stream",
          "name": "stderr",
          "text": [
            "\n"
          ]
        },
        {
          "output_type": "stream",
          "name": "stdout",
          "text": [
            "\n",
            "      Epoch    GPU_mem   box_loss   cls_loss   dfl_loss  Instances       Size\n"
          ]
        },
        {
          "output_type": "stream",
          "name": "stderr",
          "text": [
            "     66/100       3.6G      1.721     0.8694      1.034         48        736: 100%|██████████| 32/32 [00:12<00:00,  2.62it/s]\n",
            "                 Class     Images  Instances      Box(P          R      mAP50  mAP50-95): 100%|██████████| 16/16 [00:06<00:00,  2.48it/s]"
          ]
        },
        {
          "output_type": "stream",
          "name": "stdout",
          "text": [
            "                   all        500       5373      0.891      0.859      0.918      0.478\n"
          ]
        },
        {
          "output_type": "stream",
          "name": "stderr",
          "text": [
            "\n"
          ]
        },
        {
          "output_type": "stream",
          "name": "stdout",
          "text": [
            "\n",
            "      Epoch    GPU_mem   box_loss   cls_loss   dfl_loss  Instances       Size\n"
          ]
        },
        {
          "output_type": "stream",
          "name": "stderr",
          "text": [
            "     67/100       3.6G      1.735     0.8711      1.025         39        736: 100%|██████████| 32/32 [00:12<00:00,  2.63it/s]\n",
            "                 Class     Images  Instances      Box(P          R      mAP50  mAP50-95): 100%|██████████| 16/16 [00:05<00:00,  2.71it/s]\n"
          ]
        },
        {
          "output_type": "stream",
          "name": "stdout",
          "text": [
            "                   all        500       5373      0.895      0.845      0.919      0.481\n",
            "\n",
            "      Epoch    GPU_mem   box_loss   cls_loss   dfl_loss  Instances       Size\n"
          ]
        },
        {
          "output_type": "stream",
          "name": "stderr",
          "text": [
            "     68/100       3.6G      1.714     0.8472      1.014         44        736: 100%|██████████| 32/32 [00:12<00:00,  2.62it/s]\n",
            "                 Class     Images  Instances      Box(P          R      mAP50  mAP50-95): 100%|██████████| 16/16 [00:05<00:00,  2.67it/s]"
          ]
        },
        {
          "output_type": "stream",
          "name": "stdout",
          "text": [
            "                   all        500       5373      0.896      0.852      0.921      0.481\n"
          ]
        },
        {
          "output_type": "stream",
          "name": "stderr",
          "text": [
            "\n"
          ]
        },
        {
          "output_type": "stream",
          "name": "stdout",
          "text": [
            "\n",
            "      Epoch    GPU_mem   box_loss   cls_loss   dfl_loss  Instances       Size\n"
          ]
        },
        {
          "output_type": "stream",
          "name": "stderr",
          "text": [
            "     69/100       3.6G      1.692     0.8481      1.017         12        736: 100%|██████████| 32/32 [00:12<00:00,  2.59it/s]\n",
            "                 Class     Images  Instances      Box(P          R      mAP50  mAP50-95): 100%|██████████| 16/16 [00:06<00:00,  2.45it/s]"
          ]
        },
        {
          "output_type": "stream",
          "name": "stdout",
          "text": [
            "                   all        500       5373      0.892      0.857       0.92      0.483\n"
          ]
        },
        {
          "output_type": "stream",
          "name": "stderr",
          "text": [
            "\n"
          ]
        },
        {
          "output_type": "stream",
          "name": "stdout",
          "text": [
            "\n",
            "      Epoch    GPU_mem   box_loss   cls_loss   dfl_loss  Instances       Size\n"
          ]
        },
        {
          "output_type": "stream",
          "name": "stderr",
          "text": [
            "     70/100       3.6G        1.7     0.8374       1.02         65        736: 100%|██████████| 32/32 [00:12<00:00,  2.53it/s]\n",
            "                 Class     Images  Instances      Box(P          R      mAP50  mAP50-95): 100%|██████████| 16/16 [00:05<00:00,  2.80it/s]"
          ]
        },
        {
          "output_type": "stream",
          "name": "stdout",
          "text": [
            "                   all        500       5373      0.897      0.844      0.915      0.476\n"
          ]
        },
        {
          "output_type": "stream",
          "name": "stderr",
          "text": [
            "\n"
          ]
        },
        {
          "output_type": "stream",
          "name": "stdout",
          "text": [
            "\n",
            "      Epoch    GPU_mem   box_loss   cls_loss   dfl_loss  Instances       Size\n"
          ]
        },
        {
          "output_type": "stream",
          "name": "stderr",
          "text": [
            "     71/100       3.6G      1.725     0.8485      1.022         84        736: 100%|██████████| 32/32 [00:12<00:00,  2.62it/s]\n",
            "                 Class     Images  Instances      Box(P          R      mAP50  mAP50-95): 100%|██████████| 16/16 [00:06<00:00,  2.29it/s]"
          ]
        },
        {
          "output_type": "stream",
          "name": "stdout",
          "text": [
            "                   all        500       5373      0.892      0.858      0.922      0.478\n"
          ]
        },
        {
          "output_type": "stream",
          "name": "stderr",
          "text": [
            "\n"
          ]
        },
        {
          "output_type": "stream",
          "name": "stdout",
          "text": [
            "\n",
            "      Epoch    GPU_mem   box_loss   cls_loss   dfl_loss  Instances       Size\n"
          ]
        },
        {
          "output_type": "stream",
          "name": "stderr",
          "text": [
            "     72/100       3.6G      1.713     0.8504      1.034         51        736: 100%|██████████| 32/32 [00:12<00:00,  2.59it/s]\n",
            "                 Class     Images  Instances      Box(P          R      mAP50  mAP50-95): 100%|██████████| 16/16 [00:05<00:00,  2.71it/s]"
          ]
        },
        {
          "output_type": "stream",
          "name": "stdout",
          "text": [
            "                   all        500       5373      0.896      0.858      0.922       0.48\n"
          ]
        },
        {
          "output_type": "stream",
          "name": "stderr",
          "text": [
            "\n"
          ]
        },
        {
          "output_type": "stream",
          "name": "stdout",
          "text": [
            "\n",
            "      Epoch    GPU_mem   box_loss   cls_loss   dfl_loss  Instances       Size\n"
          ]
        },
        {
          "output_type": "stream",
          "name": "stderr",
          "text": [
            "     73/100       3.6G      1.705     0.8391      1.025         34        736: 100%|██████████| 32/32 [00:12<00:00,  2.59it/s]\n",
            "                 Class     Images  Instances      Box(P          R      mAP50  mAP50-95): 100%|██████████| 16/16 [00:06<00:00,  2.46it/s]\n"
          ]
        },
        {
          "output_type": "stream",
          "name": "stdout",
          "text": [
            "                   all        500       5373      0.878       0.86       0.92       0.48\n",
            "\n",
            "      Epoch    GPU_mem   box_loss   cls_loss   dfl_loss  Instances       Size\n"
          ]
        },
        {
          "output_type": "stream",
          "name": "stderr",
          "text": [
            "     74/100       3.6G      1.667     0.8197      1.011         63        736: 100%|██████████| 32/32 [00:12<00:00,  2.56it/s]\n",
            "                 Class     Images  Instances      Box(P          R      mAP50  mAP50-95): 100%|██████████| 16/16 [00:05<00:00,  2.84it/s]"
          ]
        },
        {
          "output_type": "stream",
          "name": "stdout",
          "text": [
            "                   all        500       5373      0.896      0.864      0.925      0.488\n"
          ]
        },
        {
          "output_type": "stream",
          "name": "stderr",
          "text": [
            "\n"
          ]
        },
        {
          "output_type": "stream",
          "name": "stdout",
          "text": [
            "\n",
            "      Epoch    GPU_mem   box_loss   cls_loss   dfl_loss  Instances       Size\n"
          ]
        },
        {
          "output_type": "stream",
          "name": "stderr",
          "text": [
            "     75/100       3.6G      1.682     0.8288      1.007         71        736: 100%|██████████| 32/32 [00:12<00:00,  2.61it/s]\n",
            "                 Class     Images  Instances      Box(P          R      mAP50  mAP50-95): 100%|██████████| 16/16 [00:06<00:00,  2.41it/s]"
          ]
        },
        {
          "output_type": "stream",
          "name": "stdout",
          "text": [
            "                   all        500       5373      0.892      0.856      0.922      0.493\n"
          ]
        },
        {
          "output_type": "stream",
          "name": "stderr",
          "text": [
            "\n"
          ]
        },
        {
          "output_type": "stream",
          "name": "stdout",
          "text": [
            "\n",
            "      Epoch    GPU_mem   box_loss   cls_loss   dfl_loss  Instances       Size\n"
          ]
        },
        {
          "output_type": "stream",
          "name": "stderr",
          "text": [
            "     76/100       3.6G      1.672     0.8256       1.01         42        736: 100%|██████████| 32/32 [00:12<00:00,  2.51it/s]\n",
            "                 Class     Images  Instances      Box(P          R      mAP50  mAP50-95): 100%|██████████| 16/16 [00:05<00:00,  2.83it/s]\n"
          ]
        },
        {
          "output_type": "stream",
          "name": "stdout",
          "text": [
            "                   all        500       5373      0.902      0.858      0.923       0.49\n",
            "\n",
            "      Epoch    GPU_mem   box_loss   cls_loss   dfl_loss  Instances       Size\n"
          ]
        },
        {
          "output_type": "stream",
          "name": "stderr",
          "text": [
            "     77/100       3.6G       1.68     0.8327      1.017         69        736: 100%|██████████| 32/32 [00:12<00:00,  2.54it/s]\n",
            "                 Class     Images  Instances      Box(P          R      mAP50  mAP50-95): 100%|██████████| 16/16 [00:07<00:00,  2.14it/s]"
          ]
        },
        {
          "output_type": "stream",
          "name": "stdout",
          "text": [
            "                   all        500       5373      0.894      0.865      0.925      0.487\n"
          ]
        },
        {
          "output_type": "stream",
          "name": "stderr",
          "text": [
            "\n"
          ]
        },
        {
          "output_type": "stream",
          "name": "stdout",
          "text": [
            "\n",
            "      Epoch    GPU_mem   box_loss   cls_loss   dfl_loss  Instances       Size\n"
          ]
        },
        {
          "output_type": "stream",
          "name": "stderr",
          "text": [
            "     78/100       3.6G       1.68     0.8156      1.001         89        736: 100%|██████████| 32/32 [00:12<00:00,  2.54it/s]\n",
            "                 Class     Images  Instances      Box(P          R      mAP50  mAP50-95): 100%|██████████| 16/16 [00:05<00:00,  2.84it/s]"
          ]
        },
        {
          "output_type": "stream",
          "name": "stdout",
          "text": [
            "                   all        500       5373      0.884      0.869      0.925      0.491\n"
          ]
        },
        {
          "output_type": "stream",
          "name": "stderr",
          "text": [
            "\n"
          ]
        },
        {
          "output_type": "stream",
          "name": "stdout",
          "text": [
            "\n",
            "      Epoch    GPU_mem   box_loss   cls_loss   dfl_loss  Instances       Size\n"
          ]
        },
        {
          "output_type": "stream",
          "name": "stderr",
          "text": [
            "     79/100      3.84G      1.698     0.8257       1.01        113        736: 100%|██████████| 32/32 [00:12<00:00,  2.51it/s]\n",
            "                 Class     Images  Instances      Box(P          R      mAP50  mAP50-95): 100%|██████████| 16/16 [00:06<00:00,  2.34it/s]"
          ]
        },
        {
          "output_type": "stream",
          "name": "stdout",
          "text": [
            "                   all        500       5373        0.9      0.846       0.92      0.493\n"
          ]
        },
        {
          "output_type": "stream",
          "name": "stderr",
          "text": [
            "\n"
          ]
        },
        {
          "output_type": "stream",
          "name": "stdout",
          "text": [
            "\n",
            "      Epoch    GPU_mem   box_loss   cls_loss   dfl_loss  Instances       Size\n"
          ]
        },
        {
          "output_type": "stream",
          "name": "stderr",
          "text": [
            "     80/100      3.84G      1.678     0.8191      1.024         40        736: 100%|██████████| 32/32 [00:12<00:00,  2.59it/s]\n",
            "                 Class     Images  Instances      Box(P          R      mAP50  mAP50-95): 100%|██████████| 16/16 [00:05<00:00,  2.86it/s]"
          ]
        },
        {
          "output_type": "stream",
          "name": "stdout",
          "text": [
            "                   all        500       5373        0.9      0.863      0.928      0.496\n"
          ]
        },
        {
          "output_type": "stream",
          "name": "stderr",
          "text": [
            "\n"
          ]
        },
        {
          "output_type": "stream",
          "name": "stdout",
          "text": [
            "\n",
            "      Epoch    GPU_mem   box_loss   cls_loss   dfl_loss  Instances       Size\n"
          ]
        },
        {
          "output_type": "stream",
          "name": "stderr",
          "text": [
            "     81/100      3.84G      1.673      0.818      1.007         59        736: 100%|██████████| 32/32 [00:12<00:00,  2.53it/s]\n",
            "                 Class     Images  Instances      Box(P          R      mAP50  mAP50-95): 100%|██████████| 16/16 [00:06<00:00,  2.40it/s]\n"
          ]
        },
        {
          "output_type": "stream",
          "name": "stdout",
          "text": [
            "                   all        500       5373      0.899      0.856      0.924      0.496\n",
            "\n",
            "      Epoch    GPU_mem   box_loss   cls_loss   dfl_loss  Instances       Size\n"
          ]
        },
        {
          "output_type": "stream",
          "name": "stderr",
          "text": [
            "     82/100      3.84G      1.659     0.8105      1.012         72        736: 100%|██████████| 32/32 [00:12<00:00,  2.59it/s]\n",
            "                 Class     Images  Instances      Box(P          R      mAP50  mAP50-95): 100%|██████████| 16/16 [00:06<00:00,  2.65it/s]"
          ]
        },
        {
          "output_type": "stream",
          "name": "stdout",
          "text": [
            "                   all        500       5373      0.899      0.867      0.926      0.497\n"
          ]
        },
        {
          "output_type": "stream",
          "name": "stderr",
          "text": [
            "\n"
          ]
        },
        {
          "output_type": "stream",
          "name": "stdout",
          "text": [
            "\n",
            "      Epoch    GPU_mem   box_loss   cls_loss   dfl_loss  Instances       Size\n"
          ]
        },
        {
          "output_type": "stream",
          "name": "stderr",
          "text": [
            "     83/100      3.84G      1.642     0.7961      1.003         43        736: 100%|██████████| 32/32 [00:12<00:00,  2.58it/s]\n",
            "                 Class     Images  Instances      Box(P          R      mAP50  mAP50-95): 100%|██████████| 16/16 [00:06<00:00,  2.45it/s]"
          ]
        },
        {
          "output_type": "stream",
          "name": "stdout",
          "text": [
            "                   all        500       5373      0.898      0.863      0.931      0.498\n"
          ]
        },
        {
          "output_type": "stream",
          "name": "stderr",
          "text": [
            "\n"
          ]
        },
        {
          "output_type": "stream",
          "name": "stdout",
          "text": [
            "\n",
            "      Epoch    GPU_mem   box_loss   cls_loss   dfl_loss  Instances       Size\n"
          ]
        },
        {
          "output_type": "stream",
          "name": "stderr",
          "text": [
            "     84/100      3.84G      1.649     0.8034      1.008         24        736: 100%|██████████| 32/32 [00:12<00:00,  2.51it/s]\n",
            "                 Class     Images  Instances      Box(P          R      mAP50  mAP50-95): 100%|██████████| 16/16 [00:05<00:00,  3.05it/s]"
          ]
        },
        {
          "output_type": "stream",
          "name": "stdout",
          "text": [
            "                   all        500       5373      0.907       0.87      0.932      0.503\n"
          ]
        },
        {
          "output_type": "stream",
          "name": "stderr",
          "text": [
            "\n"
          ]
        },
        {
          "output_type": "stream",
          "name": "stdout",
          "text": [
            "\n",
            "      Epoch    GPU_mem   box_loss   cls_loss   dfl_loss  Instances       Size\n"
          ]
        },
        {
          "output_type": "stream",
          "name": "stderr",
          "text": [
            "     85/100      3.84G      1.674     0.8097      1.003         59        736: 100%|██████████| 32/32 [00:12<00:00,  2.64it/s]\n",
            "                 Class     Images  Instances      Box(P          R      mAP50  mAP50-95): 100%|██████████| 16/16 [00:06<00:00,  2.35it/s]"
          ]
        },
        {
          "output_type": "stream",
          "name": "stdout",
          "text": [
            "                   all        500       5373      0.908       0.87      0.932      0.502\n"
          ]
        },
        {
          "output_type": "stream",
          "name": "stderr",
          "text": [
            "\n"
          ]
        },
        {
          "output_type": "stream",
          "name": "stdout",
          "text": [
            "\n",
            "      Epoch    GPU_mem   box_loss   cls_loss   dfl_loss  Instances       Size\n"
          ]
        },
        {
          "output_type": "stream",
          "name": "stderr",
          "text": [
            "     86/100      3.84G       1.66      0.808      1.014        130        736: 100%|██████████| 32/32 [00:12<00:00,  2.54it/s]\n",
            "                 Class     Images  Instances      Box(P          R      mAP50  mAP50-95): 100%|██████████| 16/16 [00:05<00:00,  2.90it/s]"
          ]
        },
        {
          "output_type": "stream",
          "name": "stdout",
          "text": [
            "                   all        500       5373      0.907      0.877      0.931      0.504\n"
          ]
        },
        {
          "output_type": "stream",
          "name": "stderr",
          "text": [
            "\n"
          ]
        },
        {
          "output_type": "stream",
          "name": "stdout",
          "text": [
            "\n",
            "      Epoch    GPU_mem   box_loss   cls_loss   dfl_loss  Instances       Size\n"
          ]
        },
        {
          "output_type": "stream",
          "name": "stderr",
          "text": [
            "     87/100      3.84G      1.672     0.8142      1.012         88        736: 100%|██████████| 32/32 [00:12<00:00,  2.56it/s]\n",
            "                 Class     Images  Instances      Box(P          R      mAP50  mAP50-95): 100%|██████████| 16/16 [00:06<00:00,  2.50it/s]"
          ]
        },
        {
          "output_type": "stream",
          "name": "stdout",
          "text": [
            "                   all        500       5373      0.903      0.867      0.928      0.504\n"
          ]
        },
        {
          "output_type": "stream",
          "name": "stderr",
          "text": [
            "\n"
          ]
        },
        {
          "output_type": "stream",
          "name": "stdout",
          "text": [
            "\n",
            "      Epoch    GPU_mem   box_loss   cls_loss   dfl_loss  Instances       Size\n"
          ]
        },
        {
          "output_type": "stream",
          "name": "stderr",
          "text": [
            "     88/100      3.84G      1.678     0.8246      1.017         38        736: 100%|██████████| 32/32 [00:12<00:00,  2.60it/s]\n",
            "                 Class     Images  Instances      Box(P          R      mAP50  mAP50-95): 100%|██████████| 16/16 [00:05<00:00,  2.81it/s]"
          ]
        },
        {
          "output_type": "stream",
          "name": "stdout",
          "text": [
            "                   all        500       5373      0.907      0.868      0.934      0.505\n"
          ]
        },
        {
          "output_type": "stream",
          "name": "stderr",
          "text": [
            "\n"
          ]
        },
        {
          "output_type": "stream",
          "name": "stdout",
          "text": [
            "\n",
            "      Epoch    GPU_mem   box_loss   cls_loss   dfl_loss  Instances       Size\n"
          ]
        },
        {
          "output_type": "stream",
          "name": "stderr",
          "text": [
            "     89/100      3.84G       1.64     0.7969       1.01         86        736: 100%|██████████| 32/32 [00:11<00:00,  2.68it/s]\n",
            "                 Class     Images  Instances      Box(P          R      mAP50  mAP50-95): 100%|██████████| 16/16 [00:06<00:00,  2.38it/s]"
          ]
        },
        {
          "output_type": "stream",
          "name": "stdout",
          "text": [
            "                   all        500       5373      0.902      0.874      0.935      0.505\n"
          ]
        },
        {
          "output_type": "stream",
          "name": "stderr",
          "text": [
            "\n"
          ]
        },
        {
          "output_type": "stream",
          "name": "stdout",
          "text": [
            "\n",
            "      Epoch    GPU_mem   box_loss   cls_loss   dfl_loss  Instances       Size\n"
          ]
        },
        {
          "output_type": "stream",
          "name": "stderr",
          "text": [
            "     90/100      3.84G      1.645     0.7926      1.011         77        736: 100%|██████████| 32/32 [00:11<00:00,  2.78it/s]\n",
            "                 Class     Images  Instances      Box(P          R      mAP50  mAP50-95): 100%|██████████| 16/16 [00:05<00:00,  2.68it/s]\n"
          ]
        },
        {
          "output_type": "stream",
          "name": "stdout",
          "text": [
            "                   all        500       5373      0.909      0.874      0.935      0.509\n",
            "Closing dataloader mosaic\n",
            "\u001b[34m\u001b[1malbumentations: \u001b[0mBlur(p=0.01, blur_limit=(3, 7)), MedianBlur(p=0.01, blur_limit=(3, 7)), ToGray(p=0.01, method='weighted_average', num_output_channels=3), CLAHE(p=0.01, clip_limit=(1.0, 4.0), tile_grid_size=(8, 8))\n",
            "\n",
            "      Epoch    GPU_mem   box_loss   cls_loss   dfl_loss  Instances       Size\n"
          ]
        },
        {
          "output_type": "stream",
          "name": "stderr",
          "text": [
            "     91/100      3.84G      1.638     0.7777      1.058         40        736: 100%|██████████| 32/32 [00:13<00:00,  2.31it/s]\n",
            "                 Class     Images  Instances      Box(P          R      mAP50  mAP50-95): 100%|██████████| 16/16 [00:06<00:00,  2.54it/s]"
          ]
        },
        {
          "output_type": "stream",
          "name": "stdout",
          "text": [
            "                   all        500       5373      0.901      0.871      0.933      0.511\n"
          ]
        },
        {
          "output_type": "stream",
          "name": "stderr",
          "text": [
            "\n"
          ]
        },
        {
          "output_type": "stream",
          "name": "stdout",
          "text": [
            "\n",
            "      Epoch    GPU_mem   box_loss   cls_loss   dfl_loss  Instances       Size\n"
          ]
        },
        {
          "output_type": "stream",
          "name": "stderr",
          "text": [
            "     92/100      3.84G      1.625     0.7876      1.035         81        736: 100%|██████████| 32/32 [00:10<00:00,  2.93it/s]\n",
            "                 Class     Images  Instances      Box(P          R      mAP50  mAP50-95): 100%|██████████| 16/16 [00:05<00:00,  2.68it/s]"
          ]
        },
        {
          "output_type": "stream",
          "name": "stdout",
          "text": [
            "                   all        500       5373       0.91      0.866      0.934       0.51\n"
          ]
        },
        {
          "output_type": "stream",
          "name": "stderr",
          "text": [
            "\n"
          ]
        },
        {
          "output_type": "stream",
          "name": "stdout",
          "text": [
            "\n",
            "      Epoch    GPU_mem   box_loss   cls_loss   dfl_loss  Instances       Size\n"
          ]
        },
        {
          "output_type": "stream",
          "name": "stderr",
          "text": [
            "     93/100      3.84G      1.642     0.7844      1.051         98        736: 100%|██████████| 32/32 [00:11<00:00,  2.72it/s]\n",
            "                 Class     Images  Instances      Box(P          R      mAP50  mAP50-95): 100%|██████████| 16/16 [00:05<00:00,  3.08it/s]"
          ]
        },
        {
          "output_type": "stream",
          "name": "stdout",
          "text": [
            "                   all        500       5373      0.904      0.876      0.937       0.51\n"
          ]
        },
        {
          "output_type": "stream",
          "name": "stderr",
          "text": [
            "\n"
          ]
        },
        {
          "output_type": "stream",
          "name": "stdout",
          "text": [
            "\n",
            "      Epoch    GPU_mem   box_loss   cls_loss   dfl_loss  Instances       Size\n"
          ]
        },
        {
          "output_type": "stream",
          "name": "stderr",
          "text": [
            "     94/100      3.84G      1.609      0.768      1.035         55        736: 100%|██████████| 32/32 [00:11<00:00,  2.75it/s]\n",
            "                 Class     Images  Instances      Box(P          R      mAP50  mAP50-95): 100%|██████████| 16/16 [00:06<00:00,  2.58it/s]\n"
          ]
        },
        {
          "output_type": "stream",
          "name": "stdout",
          "text": [
            "                   all        500       5373       0.91      0.879      0.937      0.511\n",
            "\n",
            "      Epoch    GPU_mem   box_loss   cls_loss   dfl_loss  Instances       Size\n"
          ]
        },
        {
          "output_type": "stream",
          "name": "stderr",
          "text": [
            "     95/100      3.84G      1.594     0.7648      1.023         35        736: 100%|██████████| 32/32 [00:11<00:00,  2.85it/s]\n",
            "                 Class     Images  Instances      Box(P          R      mAP50  mAP50-95): 100%|██████████| 16/16 [00:05<00:00,  2.99it/s]"
          ]
        },
        {
          "output_type": "stream",
          "name": "stdout",
          "text": [
            "                   all        500       5373       0.91      0.874      0.936      0.515\n"
          ]
        },
        {
          "output_type": "stream",
          "name": "stderr",
          "text": [
            "\n"
          ]
        },
        {
          "output_type": "stream",
          "name": "stdout",
          "text": [
            "\n",
            "      Epoch    GPU_mem   box_loss   cls_loss   dfl_loss  Instances       Size\n"
          ]
        },
        {
          "output_type": "stream",
          "name": "stderr",
          "text": [
            "     96/100      3.84G      1.603      0.762       1.03         40        736: 100%|██████████| 32/32 [00:11<00:00,  2.81it/s]\n",
            "                 Class     Images  Instances      Box(P          R      mAP50  mAP50-95): 100%|██████████| 16/16 [00:05<00:00,  2.86it/s]"
          ]
        },
        {
          "output_type": "stream",
          "name": "stdout",
          "text": [
            "                   all        500       5373      0.913      0.878      0.939      0.517\n"
          ]
        },
        {
          "output_type": "stream",
          "name": "stderr",
          "text": [
            "\n"
          ]
        },
        {
          "output_type": "stream",
          "name": "stdout",
          "text": [
            "\n",
            "      Epoch    GPU_mem   box_loss   cls_loss   dfl_loss  Instances       Size\n"
          ]
        },
        {
          "output_type": "stream",
          "name": "stderr",
          "text": [
            "     97/100      3.84G      1.602     0.7642      1.036         44        736: 100%|██████████| 32/32 [00:10<00:00,  2.97it/s]\n",
            "                 Class     Images  Instances      Box(P          R      mAP50  mAP50-95): 100%|██████████| 16/16 [00:06<00:00,  2.56it/s]"
          ]
        },
        {
          "output_type": "stream",
          "name": "stdout",
          "text": [
            "                   all        500       5373      0.913      0.875      0.938      0.516\n"
          ]
        },
        {
          "output_type": "stream",
          "name": "stderr",
          "text": [
            "\n"
          ]
        },
        {
          "output_type": "stream",
          "name": "stdout",
          "text": [
            "\n",
            "      Epoch    GPU_mem   box_loss   cls_loss   dfl_loss  Instances       Size\n"
          ]
        },
        {
          "output_type": "stream",
          "name": "stderr",
          "text": [
            "     98/100      3.84G      1.597     0.7577       1.03         27        736: 100%|██████████| 32/32 [00:11<00:00,  2.84it/s]\n",
            "                 Class     Images  Instances      Box(P          R      mAP50  mAP50-95): 100%|██████████| 16/16 [00:05<00:00,  2.92it/s]"
          ]
        },
        {
          "output_type": "stream",
          "name": "stdout",
          "text": [
            "                   all        500       5373      0.916      0.874      0.939       0.52\n"
          ]
        },
        {
          "output_type": "stream",
          "name": "stderr",
          "text": [
            "\n"
          ]
        },
        {
          "output_type": "stream",
          "name": "stdout",
          "text": [
            "\n",
            "      Epoch    GPU_mem   box_loss   cls_loss   dfl_loss  Instances       Size\n"
          ]
        },
        {
          "output_type": "stream",
          "name": "stderr",
          "text": [
            "     99/100      3.84G      1.606      0.754      1.039         47        736: 100%|██████████| 32/32 [00:11<00:00,  2.74it/s]\n",
            "                 Class     Images  Instances      Box(P          R      mAP50  mAP50-95): 100%|██████████| 16/16 [00:06<00:00,  2.56it/s]"
          ]
        },
        {
          "output_type": "stream",
          "name": "stdout",
          "text": [
            "                   all        500       5373      0.915      0.873      0.939      0.518\n"
          ]
        },
        {
          "output_type": "stream",
          "name": "stderr",
          "text": [
            "\n"
          ]
        },
        {
          "output_type": "stream",
          "name": "stdout",
          "text": [
            "\n",
            "      Epoch    GPU_mem   box_loss   cls_loss   dfl_loss  Instances       Size\n"
          ]
        },
        {
          "output_type": "stream",
          "name": "stderr",
          "text": [
            "    100/100      3.84G      1.592     0.7594      1.032         29        736: 100%|██████████| 32/32 [00:10<00:00,  3.04it/s]\n",
            "                 Class     Images  Instances      Box(P          R      mAP50  mAP50-95): 100%|██████████| 16/16 [00:06<00:00,  2.59it/s]"
          ]
        },
        {
          "output_type": "stream",
          "name": "stdout",
          "text": [
            "                   all        500       5373      0.912      0.878       0.94      0.521\n"
          ]
        },
        {
          "output_type": "stream",
          "name": "stderr",
          "text": [
            "\n"
          ]
        },
        {
          "output_type": "stream",
          "name": "stdout",
          "text": [
            "\n",
            "100 epochs completed in 0.530 hours.\n",
            "Optimizer stripped from runs/detect/train8/weights/last.pt, 5.5MB\n",
            "Optimizer stripped from runs/detect/train8/weights/best.pt, 5.5MB\n",
            "\n",
            "Validating runs/detect/train8/weights/best.pt...\n",
            "Ultralytics 8.3.152 🚀 Python-3.11.13 torch-2.6.0+cu124 CUDA:0 (Tesla T4, 15095MiB)\n",
            "YOLO11n summary (fused): 100 layers, 2,582,347 parameters, 0 gradients, 6.3 GFLOPs\n"
          ]
        },
        {
          "output_type": "stream",
          "name": "stderr",
          "text": [
            "                 Class     Images  Instances      Box(P          R      mAP50  mAP50-95): 100%|██████████| 16/16 [00:09<00:00,  1.66it/s]\n"
          ]
        },
        {
          "output_type": "stream",
          "name": "stdout",
          "text": [
            "                   all        500       5373      0.912      0.877       0.94      0.521\n",
            "Speed: 0.5ms preprocess, 3.2ms inference, 0.0ms loss, 4.7ms postprocess per image\n",
            "Results saved to \u001b[1mruns/detect/train8\u001b[0m\n"
          ]
        }
      ]
    },
    {
      "cell_type": "markdown",
      "source": [],
      "metadata": {
        "id": "ZtaKy795FOvP"
      }
    },
    {
      "cell_type": "code",
      "source": [
        "result = model_my.predict([\"/content/where-are-the-seagulls/data/test/images/20201005_175548_01_JPG.rf.70f27473f47ffe9e776dbb9d0ff21b86.jpg\"])\n",
        "print(result)"
      ],
      "metadata": {
        "colab": {
          "base_uri": "https://localhost:8080/"
        },
        "id": "igNhBY6jhqHo",
        "outputId": "a034e5df-03e7-4f24-a07b-798306c3e1a9"
      },
      "execution_count": null,
      "outputs": [
        {
          "output_type": "stream",
          "name": "stdout",
          "text": [
            "\n",
            "0: 736x736 1 seagull, 8.9ms\n",
            "Speed: 3.4ms preprocess, 8.9ms inference, 1.6ms postprocess per image at shape (1, 3, 736, 736)\n",
            "[ultralytics.engine.results.Results object with attributes:\n",
            "\n",
            "boxes: ultralytics.engine.results.Boxes object\n",
            "keypoints: None\n",
            "masks: None\n",
            "names: {0: 'seagull'}\n",
            "obb: None\n",
            "orig_img: array([[[ 57,  57,  51],\n",
            "        [ 60,  60,  54],\n",
            "        [ 65,  64,  60],\n",
            "        ...,\n",
            "        [185, 176, 172],\n",
            "        [184, 175, 171],\n",
            "        [184, 175, 171]],\n",
            "\n",
            "       [[ 57,  57,  51],\n",
            "        [ 60,  60,  54],\n",
            "        [ 65,  64,  60],\n",
            "        ...,\n",
            "        [184, 175, 171],\n",
            "        [184, 175, 171],\n",
            "        [184, 175, 171]],\n",
            "\n",
            "       [[ 56,  56,  50],\n",
            "        [ 60,  60,  54],\n",
            "        [ 64,  63,  59],\n",
            "        ...,\n",
            "        [184, 175, 171],\n",
            "        [183, 174, 170],\n",
            "        [183, 174, 170]],\n",
            "\n",
            "       ...,\n",
            "\n",
            "       [[  0,   0,   0],\n",
            "        [  0,   0,   0],\n",
            "        [  0,   0,   0],\n",
            "        ...,\n",
            "        [ 20,  35,  31],\n",
            "        [ 32,  47,  43],\n",
            "        [ 45,  60,  56]],\n",
            "\n",
            "       [[  0,   0,   0],\n",
            "        [  0,   0,   0],\n",
            "        [  0,   0,   0],\n",
            "        ...,\n",
            "        [ 20,  35,  31],\n",
            "        [ 29,  44,  40],\n",
            "        [ 40,  55,  51]],\n",
            "\n",
            "       [[  0,   0,   0],\n",
            "        [  0,   0,   0],\n",
            "        [  0,   0,   0],\n",
            "        ...,\n",
            "        [ 20,  35,  31],\n",
            "        [ 25,  40,  36],\n",
            "        [ 34,  49,  45]]], dtype=uint8)\n",
            "orig_shape: (640, 640)\n",
            "path: '/content/where-are-the-seagulls/data/test/images/20201005_175548_01_JPG.rf.70f27473f47ffe9e776dbb9d0ff21b86.jpg'\n",
            "probs: None\n",
            "save_dir: 'runs/detect/train82'\n",
            "speed: {'preprocess': 3.4176640001533087, 'inference': 8.92193599975144, 'postprocess': 1.6481789989484241}]\n"
          ]
        }
      ]
    },
    {
      "cell_type": "code",
      "source": [
        "result[0].boxes"
      ],
      "metadata": {
        "colab": {
          "base_uri": "https://localhost:8080/"
        },
        "id": "JXGVbRLQ-HW3",
        "outputId": "895cf15a-d067-440a-f7ea-cd0a80844c96"
      },
      "execution_count": null,
      "outputs": [
        {
          "output_type": "execute_result",
          "data": {
            "text/plain": [
              "ultralytics.engine.results.Boxes object with attributes:\n",
              "\n",
              "cls: tensor([0.], device='cuda:0')\n",
              "conf: tensor([0.6837], device='cuda:0')\n",
              "data: tensor([[241.0286, 415.5958, 252.4627, 431.5237,   0.6837,   0.0000]], device='cuda:0')\n",
              "id: None\n",
              "is_track: False\n",
              "orig_shape: (640, 640)\n",
              "shape: torch.Size([1, 6])\n",
              "xywh: tensor([[246.7456, 423.5598,  11.4341,  15.9279]], device='cuda:0')\n",
              "xywhn: tensor([[0.3855, 0.6618, 0.0179, 0.0249]], device='cuda:0')\n",
              "xyxy: tensor([[241.0286, 415.5958, 252.4627, 431.5237]], device='cuda:0')\n",
              "xyxyn: tensor([[0.3766, 0.6494, 0.3945, 0.6743]], device='cuda:0')"
            ]
          },
          "metadata": {},
          "execution_count": 126
        }
      ]
    },
    {
      "cell_type": "code",
      "source": [
        "\n",
        "result[0].show()"
      ],
      "metadata": {
        "colab": {
          "base_uri": "https://localhost:8080/",
          "height": 657
        },
        "id": "H80SBLSjpz22",
        "outputId": "173a06a2-be9b-4366-85b1-b6f101d7aefd"
      },
      "execution_count": null,
      "outputs": [
        {
          "output_type": "display_data",
          "data": {
            "text/plain": [
              "<PIL.Image.Image image mode=RGB size=640x640>"
            ],
            "image/png": "[encoded data removed]",
            "image/jpeg": "[encoded data removed]"
          },
          "metadata": {}
        }
      ]
    },
    {
      "cell_type": "code",
      "source": [
        "import os\n",
        "import pandas as pd\n",
        "\n",
        "def make_dataframe(img_dir):\n",
        "    data = []\n",
        "    cnt = -1\n",
        "    for filename in os.listdir(img_dir):\n",
        "        if filename.lower().endswith(('.jpg', '.jpeg', '.png')):\n",
        "            cnt += 1\n",
        "            full_path = os.path.join(filename)\n",
        "            all_path = os.path.join(img_dir, filename)\n",
        "            data.append({'index': cnt,'filename': full_path, 'all_path': all_path})\n",
        "\n",
        "    df = pd.DataFrame(data)\n",
        "    return df"
      ],
      "metadata": {
        "id": "gYbut2LEHHLa"
      },
      "execution_count": null,
      "outputs": []
    },
    {
      "cell_type": "code",
      "source": [
        "df = make_dataframe(\"/content/where-are-the-seagulls/data/test/images\")\n",
        "\n",
        "df.head()"
      ],
      "metadata": {
        "colab": {
          "base_uri": "https://localhost:8080/",
          "height": 206
        },
        "id": "TBQT6gThH7_e",
        "outputId": "825ec3a7-f9db-41dd-9ae7-df4ca731c4c5"
      },
      "execution_count": null,
      "outputs": [
        {
          "output_type": "execute_result",
          "data": {
            "text/plain": [
              "   index                                           filename  \\\n",
              "0      0  20201007_130843_01_JPG.rf.8f442fbcd9cd5e9d02e1...   \n",
              "1      1  20201006_090025_01_JPG.rf.aed12bd2aed78041950f...   \n",
              "2      2  20200929_141202_01_JPG.rf.3b6082af0a88884363aa...   \n",
              "3      3  20201001_182725_01_JPG.rf.c2f7e6a1e5a06fdf1bdc...   \n",
              "4      4  20201011_143747_01_JPG.rf.1a8844176e2f98a7e391...   \n",
              "\n",
              "                                            all_path  \n",
              "0  /content/where-are-the-seagulls/data/test/imag...  \n",
              "1  /content/where-are-the-seagulls/data/test/imag...  \n",
              "2  /content/where-are-the-seagulls/data/test/imag...  \n",
              "3  /content/where-are-the-seagulls/data/test/imag...  \n",
              "4  /content/where-are-the-seagulls/data/test/imag...  "
            ],
            "text/html": [
              "\n",
              "  <div id=\"df-d7e726e7-d27e-4d4c-93cb-8df9666e9fba\" class=\"colab-df-container\">\n",
              "    <div>\n",
              "<style scoped>\n",
              "    .dataframe tbody tr th:only-of-type {\n",
              "        vertical-align: middle;\n",
              "    }\n",
              "\n",
              "    .dataframe tbody tr th {\n",
              "        vertical-align: top;\n",
              "    }\n",
              "\n",
              "    .dataframe thead th {\n",
              "        text-align: right;\n",
              "    }\n",
              "</style>\n",
              "<table border=\"1\" class=\"dataframe\">\n",
              "  <thead>\n",
              "    <tr style=\"text-align: right;\">\n",
              "      <th></th>\n",
              "      <th>index</th>\n",
              "      <th>filename</th>\n",
              "      <th>all_path</th>\n",
              "    </tr>\n",
              "  </thead>\n",
              "  <tbody>\n",
              "    <tr>\n",
              "      <th>0</th>\n",
              "      <td>0</td>\n",
              "      <td>20201007_130843_01_JPG.rf.8f442fbcd9cd5e9d02e1...</td>\n",
              "      <td>/content/where-are-the-seagulls/data/test/imag...</td>\n",
              "    </tr>\n",
              "    <tr>\n",
              "      <th>1</th>\n",
              "      <td>1</td>\n",
              "      <td>20201006_090025_01_JPG.rf.aed12bd2aed78041950f...</td>\n",
              "      <td>/content/where-are-the-seagulls/data/test/imag...</td>\n",
              "    </tr>\n",
              "    <tr>\n",
              "      <th>2</th>\n",
              "      <td>2</td>\n",
              "      <td>20200929_141202_01_JPG.rf.3b6082af0a88884363aa...</td>\n",
              "      <td>/content/where-are-the-seagulls/data/test/imag...</td>\n",
              "    </tr>\n",
              "    <tr>\n",
              "      <th>3</th>\n",
              "      <td>3</td>\n",
              "      <td>20201001_182725_01_JPG.rf.c2f7e6a1e5a06fdf1bdc...</td>\n",
              "      <td>/content/where-are-the-seagulls/data/test/imag...</td>\n",
              "    </tr>\n",
              "    <tr>\n",
              "      <th>4</th>\n",
              "      <td>4</td>\n",
              "      <td>20201011_143747_01_JPG.rf.1a8844176e2f98a7e391...</td>\n",
              "      <td>/content/where-are-the-seagulls/data/test/imag...</td>\n",
              "    </tr>\n",
              "  </tbody>\n",
              "</table>\n",
              "</div>\n",
              "    <div class=\"colab-df-buttons\">\n",
              "\n",
              "  <div class=\"colab-df-container\">\n",
              "    <button class=\"colab-df-convert\" onclick=\"convertToInteractive('df-d7e726e7-d27e-4d4c-93cb-8df9666e9fba')\"\n",
              "            title=\"Convert this dataframe to an interactive table.\"\n",
              "            style=\"display:none;\">\n",
              "\n",
              "  <svg xmlns=\"http://www.w3.org/2000/svg\" height=\"24px\" viewBox=\"0 -960 960 960\">\n",
              "    <path d=\"M120-120v-720h720v720H120Zm60-500h600v-160H180v160Zm220 220h160v-160H400v160Zm0 220h160v-160H400v160ZM180-400h160v-160H180v160Zm440 0h160v-160H620v160ZM180-180h160v-160H180v160Zm440 0h160v-160H620v160Z\"/>\n",
              "  </svg>\n",
              "    </button>\n",
              "\n",
              "  <style>\n",
              "    .colab-df-container {\n",
              "      display:flex;\n",
              "      gap: 12px;\n",
              "    }\n",
              "\n",
              "    .colab-df-convert {\n",
              "      background-color: #E8F0FE;\n",
              "      border: none;\n",
              "      border-radius: 50%;\n",
              "      cursor: pointer;\n",
              "      display: none;\n",
              "      fill: #1967D2;\n",
              "      height: 32px;\n",
              "      padding: 0 0 0 0;\n",
              "      width: 32px;\n",
              "    }\n",
              "\n",
              "    .colab-df-convert:hover {\n",
              "      background-color: #E2EBFA;\n",
              "      box-shadow: 0px 1px 2px rgba(60, 64, 67, 0.3), 0px 1px 3px 1px rgba(60, 64, 67, 0.15);\n",
              "      fill: #174EA6;\n",
              "    }\n",
              "\n",
              "    .colab-df-buttons div {\n",
              "      margin-bottom: 4px;\n",
              "    }\n",
              "\n",
              "    [theme=dark] .colab-df-convert {\n",
              "      background-color: #3B4455;\n",
              "      fill: #D2E3FC;\n",
              "    }\n",
              "\n",
              "    [theme=dark] .colab-df-convert:hover {\n",
              "      background-color: #434B5C;\n",
              "      box-shadow: 0px 1px 3px 1px rgba(0, 0, 0, 0.15);\n",
              "      filter: drop-shadow(0px 1px 2px rgba(0, 0, 0, 0.3));\n",
              "      fill: #FFFFFF;\n",
              "    }\n",
              "  </style>\n",
              "\n",
              "    <script>\n",
              "      const buttonEl =\n",
              "        document.querySelector('#df-d7e726e7-d27e-4d4c-93cb-8df9666e9fba button.colab-df-convert');\n",
              "      buttonEl.style.display =\n",
              "        google.colab.kernel.accessAllowed ? 'block' : 'none';\n",
              "\n",
              "      async function convertToInteractive(key) {\n",
              "        const element = document.querySelector('#df-d7e726e7-d27e-4d4c-93cb-8df9666e9fba');\n",
              "        const dataTable =\n",
              "          await google.colab.kernel.invokeFunction('convertToInteractive',\n",
              "                                                    [key], {});\n",
              "        if (!dataTable) return;\n",
              "\n",
              "        const docLinkHtml = 'Like what you see? Visit the ' +\n",
              "          '<a target=\"_blank\" href=https://colab.research.google.com/notebooks/data_table.ipynb>data table notebook</a>'\n",
              "          + ' to learn more about interactive tables.';\n",
              "        element.innerHTML = '';\n",
              "        dataTable['output_type'] = 'display_data';\n",
              "        await google.colab.output.renderOutput(dataTable, element);\n",
              "        const docLink = document.createElement('div');\n",
              "        docLink.innerHTML = docLinkHtml;\n",
              "        element.appendChild(docLink);\n",
              "      }\n",
              "    </script>\n",
              "  </div>\n",
              "\n",
              "\n",
              "    <div id=\"df-c5115e8b-8d7e-4c48-b40b-1a937e2b56e2\">\n",
              "      <button class=\"colab-df-quickchart\" onclick=\"quickchart('df-c5115e8b-8d7e-4c48-b40b-1a937e2b56e2')\"\n",
              "                title=\"Suggest charts\"\n",
              "                style=\"display:none;\">\n",
              "\n",
              "<svg xmlns=\"http://www.w3.org/2000/svg\" height=\"24px\"viewBox=\"0 0 24 24\"\n",
              "     width=\"24px\">\n",
              "    <g>\n",
              "        <path d=\"M19 3H5c-1.1 0-2 .9-2 2v14c0 1.1.9 2 2 2h14c1.1 0 2-.9 2-2V5c0-1.1-.9-2-2-2zM9 17H7v-7h2v7zm4 0h-2V7h2v10zm4 0h-2v-4h2v4z\"/>\n",
              "    </g>\n",
              "</svg>\n",
              "      </button>\n",
              "\n",
              "<style>\n",
              "  .colab-df-quickchart {\n",
              "      --bg-color: #E8F0FE;\n",
              "      --fill-color: #1967D2;\n",
              "      --hover-bg-color: #E2EBFA;\n",
              "      --hover-fill-color: #174EA6;\n",
              "      --disabled-fill-color: #AAA;\n",
              "      --disabled-bg-color: #DDD;\n",
              "  }\n",
              "\n",
              "  [theme=dark] .colab-df-quickchart {\n",
              "      --bg-color: #3B4455;\n",
              "      --fill-color: #D2E3FC;\n",
              "      --hover-bg-color: #434B5C;\n",
              "      --hover-fill-color: #FFFFFF;\n",
              "      --disabled-bg-color: #3B4455;\n",
              "      --disabled-fill-color: #666;\n",
              "  }\n",
              "\n",
              "  .colab-df-quickchart {\n",
              "    background-color: var(--bg-color);\n",
              "    border: none;\n",
              "    border-radius: 50%;\n",
              "    cursor: pointer;\n",
              "    display: none;\n",
              "    fill: var(--fill-color);\n",
              "    height: 32px;\n",
              "    padding: 0;\n",
              "    width: 32px;\n",
              "  }\n",
              "\n",
              "  .colab-df-quickchart:hover {\n",
              "    background-color: var(--hover-bg-color);\n",
              "    box-shadow: 0 1px 2px rgba(60, 64, 67, 0.3), 0 1px 3px 1px rgba(60, 64, 67, 0.15);\n",
              "    fill: var(--button-hover-fill-color);\n",
              "  }\n",
              "\n",
              "  .colab-df-quickchart-complete:disabled,\n",
              "  .colab-df-quickchart-complete:disabled:hover {\n",
              "    background-color: var(--disabled-bg-color);\n",
              "    fill: var(--disabled-fill-color);\n",
              "    box-shadow: none;\n",
              "  }\n",
              "\n",
              "  .colab-df-spinner {\n",
              "    border: 2px solid var(--fill-color);\n",
              "    border-color: transparent;\n",
              "    border-bottom-color: var(--fill-color);\n",
              "    animation:\n",
              "      spin 1s steps(1) infinite;\n",
              "  }\n",
              "\n",
              "  @keyframes spin {\n",
              "    0% {\n",
              "      border-color: transparent;\n",
              "      border-bottom-color: var(--fill-color);\n",
              "      border-left-color: var(--fill-color);\n",
              "    }\n",
              "    20% {\n",
              "      border-color: transparent;\n",
              "      border-left-color: var(--fill-color);\n",
              "      border-top-color: var(--fill-color);\n",
              "    }\n",
              "    30% {\n",
              "      border-color: transparent;\n",
              "      border-left-color: var(--fill-color);\n",
              "      border-top-color: var(--fill-color);\n",
              "      border-right-color: var(--fill-color);\n",
              "    }\n",
              "    40% {\n",
              "      border-color: transparent;\n",
              "      border-right-color: var(--fill-color);\n",
              "      border-top-color: var(--fill-color);\n",
              "    }\n",
              "    60% {\n",
              "      border-color: transparent;\n",
              "      border-right-color: var(--fill-color);\n",
              "    }\n",
              "    80% {\n",
              "      border-color: transparent;\n",
              "      border-right-color: var(--fill-color);\n",
              "      border-bottom-color: var(--fill-color);\n",
              "    }\n",
              "    90% {\n",
              "      border-color: transparent;\n",
              "      border-bottom-color: var(--fill-color);\n",
              "    }\n",
              "  }\n",
              "</style>\n",
              "\n",
              "      <script>\n",
              "        async function quickchart(key) {\n",
              "          const quickchartButtonEl =\n",
              "            document.querySelector('#' + key + ' button');\n",
              "          quickchartButtonEl.disabled = true;  // To prevent multiple clicks.\n",
              "          quickchartButtonEl.classList.add('colab-df-spinner');\n",
              "          try {\n",
              "            const charts = await google.colab.kernel.invokeFunction(\n",
              "                'suggestCharts', [key], {});\n",
              "          } catch (error) {\n",
              "            console.error('Error during call to suggestCharts:', error);\n",
              "          }\n",
              "          quickchartButtonEl.classList.remove('colab-df-spinner');\n",
              "          quickchartButtonEl.classList.add('colab-df-quickchart-complete');\n",
              "        }\n",
              "        (() => {\n",
              "          let quickchartButtonEl =\n",
              "            document.querySelector('#df-c5115e8b-8d7e-4c48-b40b-1a937e2b56e2 button');\n",
              "          quickchartButtonEl.style.display =\n",
              "            google.colab.kernel.accessAllowed ? 'block' : 'none';\n",
              "        })();\n",
              "      </script>\n",
              "    </div>\n",
              "    </div>\n",
              "  </div>\n"
            ],
            "application/vnd.google.colaboratory.intrinsic+json": {
              "type": "dataframe",
              "variable_name": "df",
              "summary": "{\n  \"name\": \"df\",\n  \"rows\": 99,\n  \"fields\": [\n    {\n      \"column\": \"index\",\n      \"properties\": {\n        \"dtype\": \"number\",\n        \"std\": 28,\n        \"min\": 0,\n        \"max\": 98,\n        \"num_unique_values\": 99,\n        \"samples\": [\n          62,\n          40,\n          95\n        ],\n        \"semantic_type\": \"\",\n        \"description\": \"\"\n      }\n    },\n    {\n      \"column\": \"filename\",\n      \"properties\": {\n        \"dtype\": \"string\",\n        \"num_unique_values\": 99,\n        \"samples\": [\n          \"20201007_100751_01_JPG.rf.4be5a2f65bba69273365ebd6aa6e53b0.jpg\",\n          \"20201008_111520_01_JPG.rf.1660f3a813628a7d635f4c21179e281b.jpg\",\n          \"20201010_143036_01_JPG.rf.ce49ced547214ece69033d016ab043f9.jpg\"\n        ],\n        \"semantic_type\": \"\",\n        \"description\": \"\"\n      }\n    },\n    {\n      \"column\": \"all_path\",\n      \"properties\": {\n        \"dtype\": \"string\",\n        \"num_unique_values\": 99,\n        \"samples\": [\n          \"/content/where-are-the-seagulls/data/test/images/20201007_100751_01_JPG.rf.4be5a2f65bba69273365ebd6aa6e53b0.jpg\",\n          \"/content/where-are-the-seagulls/data/test/images/20201008_111520_01_JPG.rf.1660f3a813628a7d635f4c21179e281b.jpg\",\n          \"/content/where-are-the-seagulls/data/test/images/20201010_143036_01_JPG.rf.ce49ced547214ece69033d016ab043f9.jpg\"\n        ],\n        \"semantic_type\": \"\",\n        \"description\": \"\"\n      }\n    }\n  ]\n}"
            }
          },
          "metadata": {},
          "execution_count": 129
        }
      ]
    },
    {
      "cell_type": "code",
      "source": [
        "df['all_path'].values"
      ],
      "metadata": {
        "colab": {
          "base_uri": "https://localhost:8080/"
        },
        "id": "pHLjxnVPiZvc",
        "outputId": "85d5ef94-4e66-4f9b-99ac-87b1a47b95ea"
      },
      "execution_count": null,
      "outputs": [
        {
          "output_type": "execute_result",
          "data": {
            "text/plain": [
              "array(['/content/where-are-the-seagulls/data/test/images/20201007_130843_01_JPG.rf.8f442fbcd9cd5e9d02e13e069ff7ec59.jpg', '/content/where-are-the-seagulls/data/test/images/20201006_090025_01_JPG.rf.aed12bd2aed78041950f8df51d0810c1.jpg',\n",
              "       '/content/where-are-the-seagulls/data/test/images/20200929_141202_01_JPG.rf.3b6082af0a88884363aaa95bf76987db.jpg', '/content/where-are-the-seagulls/data/test/images/20201001_182725_01_JPG.rf.c2f7e6a1e5a06fdf1bdc854046575487.jpg',\n",
              "       '/content/where-are-the-seagulls/data/test/images/20201011_143747_01_JPG.rf.1a8844176e2f98a7e3912c485da71d6d.jpg', '/content/where-are-the-seagulls/data/test/images/20201009_082140_01_JPG.rf.1a92c675763355bf73efd404d842988b.jpg',\n",
              "       '/content/where-are-the-seagulls/data/test/images/20201002_083142_01_JPG.rf.5e31ae3ee3975752b95b0e86857424f5.jpg', '/content/where-are-the-seagulls/data/test/images/20200928_160525_01_JPG.rf.50f3289f065a9a4f5372ffa3df9e7265.jpg',\n",
              "       '/content/where-are-the-seagulls/data/test/images/20201011_093620_01_JPG.rf.4b3b67819434c7790a698d668a035673.jpg', '/content/where-are-the-seagulls/data/test/images/20201009_112233_01_JPG.rf.1755d008b242cf81add6e899c78c7002.jpg',\n",
              "       '/content/where-are-the-seagulls/data/test/images/20201001_082435_01_JPG.rf.b2ead1e408a166c0441dfd140d659f7e.jpg', '/content/where-are-the-seagulls/data/test/images/20201004_174838_01_JPG.rf.c9ee98a1f87fb033ff7be62248d5341e.jpg',\n",
              "       '/content/where-are-the-seagulls/data/test/images/20201004_074545_01_JPG.rf.346feee15fb34f4b3c10330ec118b6ad.jpg', '/content/where-are-the-seagulls/data/test/images/20201004_144746_01_JPG.rf.0b34380b718adcc3227c68f73c76ca28.jpg',\n",
              "       '/content/where-are-the-seagulls/data/test/images/20201001_162651_01_JPG.rf.c35c01d9cfd170d4fe9648ac14612a58.jpg', '/content/where-are-the-seagulls/data/test/images/20201009_162359_01_JPG.rf.611ed66fa9e69d745c334a9fb8852db4.jpg',\n",
              "       '/content/where-are-the-seagulls/data/test/images/20201003_134020_01_JPG.rf.b76ed616a58d5feeb00cbe2b9f9c6afb.jpg', '/content/where-are-the-seagulls/data/test/images/20201002_113233_01_JPG.rf.6e2f5b701ae57e121ca4b7c41692baa9.jpg',\n",
              "       '/content/where-are-the-seagulls/data/test/images/20201010_123001_01_JPG.rf.3ce0a14e91dc7671033a42905df6c7fe.jpg', '/content/where-are-the-seagulls/data/test/images/20201005_145456_01_JPG.rf.6b4c71f84cc860278bf4dfd37b45dd50.jpg',\n",
              "       '/content/where-are-the-seagulls/data/test/images/20201003_073835_01_JPG.rf.4ad960082112220e3e809ce15413d0c8.jpg', '/content/where-are-the-seagulls/data/test/images/20200929_161236_01_JPG.rf.6e9bbc6fa8cc4ad9ad4d94b348e693bb.jpg',\n",
              "       '/content/where-are-the-seagulls/data/test/images/20201009_092158_01_JPG.rf.2f60977deda066d253394a3e5a4d5d90.jpg', '/content/where-are-the-seagulls/data/test/images/20201004_154804_01_JPG.rf.85985ca4558560edeba230ddcea1c43b.jpg',\n",
              "       '/content/where-are-the-seagulls/data/test/images/20201005_175548_01_JPG.rf.70f27473f47ffe9e776dbb9d0ff21b86.jpg', '/content/where-are-the-seagulls/data/test/images/20201009_122249_01_JPG.rf.a0279961da136b010c52923d80174006.jpg',\n",
              "       '/content/where-are-the-seagulls/data/test/images/20200929_151218_01_JPG.rf.13f2297a4dae002e8849210994afd06f.jpg', '/content/where-are-the-seagulls/data/test/images/20201002_183434_01_JPG.rf.e7c0dc4918bf083dc1f551f31af5938a.jpg',\n",
              "       '/content/where-are-the-seagulls/data/test/images/20201004_124713_01_JPG.rf.9a6b8ae05c510758bd82466064589e01.jpg', '/content/where-are-the-seagulls/data/test/images/20201007_090733_01_JPG.rf.5fb0f90bc1439c28f7d4914851ccfbeb.jpg',\n",
              "       '/content/where-are-the-seagulls/data/test/images/20201007_140900_01_JPG.rf.578bd2b11413de8e8ae6805657e9468c.jpg', '/content/where-are-the-seagulls/data/test/images/20201003_093909_01_JPG.rf.5c3d01c37b3c304e89e8eb236e4d8b2d.jpg',\n",
              "       '/content/where-are-the-seagulls/data/test/images/20200930_172000_01_JPG.rf.cc2f566001d22622067d549e82a5b376.jpg', '/content/where-are-the-seagulls/data/test/images/20201006_110058_01_JPG.rf.36c508cca0d354e1261aabb8ee4b1103.jpg',\n",
              "       '/content/where-are-the-seagulls/data/test/images/20201004_094620_01_JPG.rf.1125533e549f30fd6f8a273bb1317ee4.jpg', '/content/where-are-the-seagulls/data/test/images/20200930_151927_01_JPG.rf.7f722114593c446d0ae616e1f3a68402.jpg',\n",
              "       '/content/where-are-the-seagulls/data/test/images/20201001_102509_01_JPG.rf.adf28a781feda0ebee7c2541f8be4c5f.jpg', '/content/where-are-the-seagulls/data/test/images/20201011_133731_01_JPG.rf.5b570bfacc536b83e54b98be6c4c1d50.jpg',\n",
              "       '/content/where-are-the-seagulls/data/test/images/20201007_181009_01_JPG.rf.4e91affc74f3156f0f4db221ebf4bcca.jpg', '/content/where-are-the-seagulls/data/test/images/20201004_084602_01_JPG.rf.2a32526e6242b00a6d74e17947086185.jpg',\n",
              "       '/content/where-are-the-seagulls/data/test/images/20201008_111520_01_JPG.rf.1660f3a813628a7d635f4c21179e281b.jpg', '/content/where-are-the-seagulls/data/test/images/20201005_095330_01_JPG.rf.796b013e318c121a692ff4a174399d90.jpg',\n",
              "       '/content/where-are-the-seagulls/data/test/images/20201002_143325_01_JPG.rf.249da753cdd74b37fcb7d4e02bfe38d9.jpg', '/content/where-are-the-seagulls/data/test/images/20200929_131144_01_JPG.rf.99d8c6eed2dd8cd314fb47ad53fe34e6.jpg',\n",
              "       '/content/where-are-the-seagulls/data/test/images/20201001_112526_01_JPG.rf.364b8381aa39ab70af957cd752080d0c.jpg', '/content/where-are-the-seagulls/data/test/images/20201001_142618_01_JPG.rf.b425bd19a26d985612be2e7c093e6023.jpg',\n",
              "       '/content/where-are-the-seagulls/data/test/images/20201003_174127_01_JPG.rf.1e9a717ab4f61525ded2c8f94e31f5ac.jpg', '/content/where-are-the-seagulls/data/test/images/20201011_163823_01_JPG.rf.e2a5508980ce1a7009ecacefba357cf1.jpg',\n",
              "       '/content/where-are-the-seagulls/data/test/images/20201012_084317_01_JPG.rf.1628fe9f8845551f938cbb2c4ce0b61e.jpg', '/content/where-are-the-seagulls/data/test/images/20201002_093159_01_JPG.rf.a59dd600f5f0de712b0b456c13f17676.jpg',\n",
              "       '/content/where-are-the-seagulls/data/test/images/20200928_180600_01_JPG.rf.df87e688ee0e009c3a06572a4997cf81.jpg', '/content/where-are-the-seagulls/data/test/images/20201010_092909_01_JPG.rf.8cecd0d1c5fd8259b873628edda49ffa.jpg',\n",
              "       '/content/where-are-the-seagulls/data/test/images/20201002_193457_01_JPG.rf.67ad44f1d8309f509e3eb48a687dc603.jpg', '/content/where-are-the-seagulls/data/test/images/20201007_160934_01_JPG.rf.ac452abc90fd22d9e18391df8555a2bd.jpg',\n",
              "       '/content/where-are-the-seagulls/data/test/images/20200929_081017_01_JPG.rf.c0e8134223d6ed61ac5187cc29495bd9.jpg', '/content/where-are-the-seagulls/data/test/images/20201011_083604_01_JPG.rf.65c8b94d2f696655084c6f71f61ed0d1.jpg',\n",
              "       '/content/where-are-the-seagulls/data/test/images/20201006_150208_01_JPG.rf.f6e768ab1bcbd83d46b6dc92cbc0619f.jpg', '/content/where-are-the-seagulls/data/test/images/20201006_120115_01_JPG.rf.cb8223ccabe7118bee6e7fd2011662f0.jpg',\n",
              "       '/content/where-are-the-seagulls/data/test/images/20200930_182017_01_JPG.rf.82871ec84dcb7683ee289d2770cda5fa.jpg', '/content/where-are-the-seagulls/data/test/images/20201003_194206_01_JPG.rf.fdc93ef9037d6a681325cbff291545fd.jpg',\n",
              "       '/content/where-are-the-seagulls/data/test/images/20200930_161943_01_JPG.rf.bac9a0f59c9b9861ace9e1386f438431.jpg', '/content/where-are-the-seagulls/data/test/images/20201005_135439_01_JPG.rf.3765692a9621de9bf04b9bd95ec1fb02.jpg',\n",
              "       '/content/where-are-the-seagulls/data/test/images/20201007_100751_01_JPG.rf.4be5a2f65bba69273365ebd6aa6e53b0.jpg', '/content/where-are-the-seagulls/data/test/images/20201010_163110_01_JPG.rf.c5e593cc5920891bc13960d58a229899.jpg',\n",
              "       '/content/where-are-the-seagulls/data/test/images/20200930_101801_01_JPG.rf.aefbe5575f86a36d9b9e2e5370b5ae50.jpg', '/content/where-are-the-seagulls/data/test/images/20201009_142325_01_JPG.rf.41d172e9639b43be50c288882df2274a.jpg',\n",
              "       '/content/where-are-the-seagulls/data/test/images/20201008_131555_01_JPG.rf.4ef46bbbec4e33c001da64d0c7d564e9.jpg', '/content/where-are-the-seagulls/data/test/images/20201001_092451_01_JPG.rf.92a7f7b2951d3aeebeaa8aaa8b5a417b.jpg',\n",
              "       '/content/where-are-the-seagulls/data/test/images/20201005_185607_01_JPG.rf.371e20fa59cc2ab21720f8a4426313a5.jpg', '/content/where-are-the-seagulls/data/test/images/20201010_112943_01_JPG.rf.3f2279fee92d73e2d9cf45213097a4d8.jpg',\n",
              "       '/content/where-are-the-seagulls/data/test/images/20200929_091035_01_JPG.rf.cc0f7b275eb3a5dd680df0011fa46c36.jpg', '/content/where-are-the-seagulls/data/test/images/20201011_173839_01_JPG.rf.078741d81a9f4e1427ddf7785fb7ebcc.jpg',\n",
              "       '/content/where-are-the-seagulls/data/test/images/20201002_123251_01_JPG.rf.52481dc09f56630e4f783da7b2b149c6.jpg', '/content/where-are-the-seagulls/data/test/images/20201008_121538_01_JPG.rf.26e4e9692f1520f56a8486886d557a93.jpg',\n",
              "       '/content/where-are-the-seagulls/data/test/images/20201005_115404_01_JPG.rf.10033d52322968275f453689d6bb9c44.jpg', '/content/where-are-the-seagulls/data/test/images/20201004_114654_01_JPG.rf.1beffa9a806166e7baf764bae6b40462.jpg',\n",
              "       '/content/where-are-the-seagulls/data/test/images/20201007_170953_01_JPG.rf.4fd9fc67f1e126efe11dc95f985e89c1.jpg', '/content/where-are-the-seagulls/data/test/images/20201005_165532_01_JPG.rf.d3517d9451a50c9f1a4524585e609bdf.jpg',\n",
              "       '/content/where-are-the-seagulls/data/test/images/20201001_132601_01_JPG.rf.9f4274bccb82399974ba5b34ec5290ce.jpg', '/content/where-are-the-seagulls/data/test/images/20201009_132306_01_JPG.rf.6fa5c9cf244a1e73a735e72d2d92ec3d.jpg',\n",
              "       '/content/where-are-the-seagulls/data/test/images/20200928_150507_01_JPG.rf.109359154a680b75a67dce1e82062e55.jpg', '/content/where-are-the-seagulls/data/test/images/20200930_192036_01_JPG.rf.59c6547cc8b3b2ca5ba6ed777eb4f466.jpg',\n",
              "       '/content/where-are-the-seagulls/data/test/images/20201010_082852_01_JPG.rf.d480c11b259e6aef6b49460e7cb79830.jpg', '/content/where-are-the-seagulls/data/test/images/20201009_182432_01_JPG.rf.17209e04f1d5bd5ed8d5858b13bc96fe.jpg',\n",
              "       '/content/where-are-the-seagulls/data/test/images/20201003_164111_01_JPG.rf.45ae1a5a6fe75516561104c2f310963d.jpg', '/content/where-are-the-seagulls/data/test/images/20201002_163400_01_JPG.rf.6fc5242b8118bc95cc46d44191e9fe5c.jpg',\n",
              "       '/content/where-are-the-seagulls/data/test/images/20201009_152341_01_JPG.rf.0591b93777de3fe3b3bee5070c1579ad.jpg', '/content/where-are-the-seagulls/data/test/images/20200929_121126_01_JPG.rf.c8a3370bb444e2fd41b9557cc1d73566.jpg',\n",
              "       '/content/where-are-the-seagulls/data/test/images/20200930_121836_01_JPG.rf.3b8809996cd2d98cf82fd912d2901671.jpg', '/content/where-are-the-seagulls/data/test/images/20201005_085313_01_JPG.rf.106d708af1a5253af54c962da3989ae2.jpg',\n",
              "       '/content/where-are-the-seagulls/data/test/images/20201012_074301_01_JPG.rf.aeea80a57963913c15a90385454e9c65.jpg', '/content/where-are-the-seagulls/data/test/images/20201006_190315_01_JPG.rf.5b7e808610945c5af42c37c10deb68f5.jpg',\n",
              "       '/content/where-are-the-seagulls/data/test/images/20201004_104638_01_JPG.rf.fc2353fdeca3f1b658514e9db489c4f0.jpg', '/content/where-are-the-seagulls/data/test/images/20200929_101051_01_JPG.rf.1087dc5d136a81e57d658718bfae11b3.jpg',\n",
              "       '/content/where-are-the-seagulls/data/test/images/20201008_171704_01_JPG.rf.f63c781a9916b4151a4e706d70f9074c.jpg', '/content/where-are-the-seagulls/data/test/images/20201010_143036_01_JPG.rf.ce49ced547214ece69033d016ab043f9.jpg',\n",
              "       '/content/where-are-the-seagulls/data/test/images/20201008_101503_01_JPG.rf.65a4e2c7ee77c06cf4ae0dfaa930786e.jpg', '/content/where-are-the-seagulls/data/test/images/20200929_111110_01_JPG.rf.edae4423a2ce95815bcecdc24ed5fa36.jpg',\n",
              "       '/content/where-are-the-seagulls/data/test/images/20201012_085146_01_JPG.rf.17b44f92fa8cfa93ea1c0da1c404d84c.jpg'], dtype=object)"
            ]
          },
          "metadata": {},
          "execution_count": 130
        }
      ]
    },
    {
      "cell_type": "code",
      "source": [
        "results = []\n",
        "cnt = 0\n",
        "for i in df[\"all_path\"]:\n",
        "  res = model_my.predict(i)\n",
        "  d = {}\n",
        "  d[\"index\"] = cnt\n",
        "  cnt += 1\n",
        "  d[\"filename\"] = '/'.join(i.split('/')[-1:])\n",
        "  d[\"bbox\"] = res[0].boxes.xywhn\n",
        "  results.append(d)"
      ],
      "metadata": {
        "colab": {
          "base_uri": "https://localhost:8080/"
        },
        "id": "_u_D5p1OcQwC",
        "outputId": "06affa55-d7e5-4e8f-d84d-c5d426254c37"
      },
      "execution_count": null,
      "outputs": [
        {
          "output_type": "stream",
          "name": "stdout",
          "text": [
            "\n",
            "image 1/1 /content/where-are-the-seagulls/data/test/images/20201007_130843_01_JPG.rf.8f442fbcd9cd5e9d02e13e069ff7ec59.jpg: 736x736 (no detections), 12.6ms\n",
            "Speed: 4.3ms preprocess, 12.6ms inference, 0.9ms postprocess per image at shape (1, 3, 736, 736)\n",
            "\n",
            "image 1/1 /content/where-are-the-seagulls/data/test/images/20201006_090025_01_JPG.rf.aed12bd2aed78041950f8df51d0810c1.jpg: 736x736 (no detections), 10.8ms\n",
            "Speed: 3.6ms preprocess, 10.8ms inference, 0.7ms postprocess per image at shape (1, 3, 736, 736)\n",
            "\n",
            "image 1/1 /content/where-are-the-seagulls/data/test/images/20200929_141202_01_JPG.rf.3b6082af0a88884363aaa95bf76987db.jpg: 736x736 3 seagulls, 8.9ms\n",
            "Speed: 3.2ms preprocess, 8.9ms inference, 1.5ms postprocess per image at shape (1, 3, 736, 736)\n",
            "\n",
            "image 1/1 /content/where-are-the-seagulls/data/test/images/20201001_182725_01_JPG.rf.c2f7e6a1e5a06fdf1bdc854046575487.jpg: 736x736 3 seagulls, 8.9ms\n",
            "Speed: 3.2ms preprocess, 8.9ms inference, 1.4ms postprocess per image at shape (1, 3, 736, 736)\n",
            "\n",
            "image 1/1 /content/where-are-the-seagulls/data/test/images/20201011_143747_01_JPG.rf.1a8844176e2f98a7e3912c485da71d6d.jpg: 736x736 (no detections), 8.9ms\n",
            "Speed: 3.2ms preprocess, 8.9ms inference, 0.6ms postprocess per image at shape (1, 3, 736, 736)\n",
            "\n",
            "image 1/1 /content/where-are-the-seagulls/data/test/images/20201009_082140_01_JPG.rf.1a92c675763355bf73efd404d842988b.jpg: 736x736 (no detections), 8.9ms\n",
            "Speed: 3.2ms preprocess, 8.9ms inference, 0.6ms postprocess per image at shape (1, 3, 736, 736)\n",
            "\n",
            "image 1/1 /content/where-are-the-seagulls/data/test/images/20201002_083142_01_JPG.rf.5e31ae3ee3975752b95b0e86857424f5.jpg: 736x736 3 seagulls, 8.9ms\n",
            "Speed: 3.2ms preprocess, 8.9ms inference, 1.3ms postprocess per image at shape (1, 3, 736, 736)\n",
            "\n",
            "image 1/1 /content/where-are-the-seagulls/data/test/images/20200928_160525_01_JPG.rf.50f3289f065a9a4f5372ffa3df9e7265.jpg: 736x736 1 seagull, 8.9ms\n",
            "Speed: 3.2ms preprocess, 8.9ms inference, 1.3ms postprocess per image at shape (1, 3, 736, 736)\n",
            "\n",
            "image 1/1 /content/where-are-the-seagulls/data/test/images/20201011_093620_01_JPG.rf.4b3b67819434c7790a698d668a035673.jpg: 736x736 (no detections), 8.9ms\n",
            "Speed: 3.2ms preprocess, 8.9ms inference, 0.6ms postprocess per image at shape (1, 3, 736, 736)\n",
            "\n",
            "image 1/1 /content/where-are-the-seagulls/data/test/images/20201009_112233_01_JPG.rf.1755d008b242cf81add6e899c78c7002.jpg: 736x736 (no detections), 8.9ms\n",
            "Speed: 3.2ms preprocess, 8.9ms inference, 0.6ms postprocess per image at shape (1, 3, 736, 736)\n",
            "\n",
            "image 1/1 /content/where-are-the-seagulls/data/test/images/20201001_082435_01_JPG.rf.b2ead1e408a166c0441dfd140d659f7e.jpg: 736x736 7 seagulls, 8.4ms\n",
            "Speed: 3.2ms preprocess, 8.4ms inference, 1.4ms postprocess per image at shape (1, 3, 736, 736)\n",
            "\n",
            "image 1/1 /content/where-are-the-seagulls/data/test/images/20201004_174838_01_JPG.rf.c9ee98a1f87fb033ff7be62248d5341e.jpg: 736x736 1 seagull, 8.4ms\n",
            "Speed: 3.3ms preprocess, 8.4ms inference, 1.3ms postprocess per image at shape (1, 3, 736, 736)\n",
            "\n",
            "image 1/1 /content/where-are-the-seagulls/data/test/images/20201004_074545_01_JPG.rf.346feee15fb34f4b3c10330ec118b6ad.jpg: 736x736 10 seagulls, 8.3ms\n",
            "Speed: 3.2ms preprocess, 8.3ms inference, 1.3ms postprocess per image at shape (1, 3, 736, 736)\n",
            "\n",
            "image 1/1 /content/where-are-the-seagulls/data/test/images/20201004_144746_01_JPG.rf.0b34380b718adcc3227c68f73c76ca28.jpg: 736x736 (no detections), 10.3ms\n",
            "Speed: 3.5ms preprocess, 10.3ms inference, 0.8ms postprocess per image at shape (1, 3, 736, 736)\n",
            "\n",
            "image 1/1 /content/where-are-the-seagulls/data/test/images/20201001_162651_01_JPG.rf.c35c01d9cfd170d4fe9648ac14612a58.jpg: 736x736 (no detections), 9.0ms\n",
            "Speed: 3.5ms preprocess, 9.0ms inference, 0.7ms postprocess per image at shape (1, 3, 736, 736)\n",
            "\n",
            "image 1/1 /content/where-are-the-seagulls/data/test/images/20201009_162359_01_JPG.rf.611ed66fa9e69d745c334a9fb8852db4.jpg: 736x736 (no detections), 10.1ms\n",
            "Speed: 3.2ms preprocess, 10.1ms inference, 0.8ms postprocess per image at shape (1, 3, 736, 736)\n",
            "\n",
            "image 1/1 /content/where-are-the-seagulls/data/test/images/20201003_134020_01_JPG.rf.b76ed616a58d5feeb00cbe2b9f9c6afb.jpg: 736x736 (no detections), 8.2ms\n",
            "Speed: 3.2ms preprocess, 8.2ms inference, 0.6ms postprocess per image at shape (1, 3, 736, 736)\n",
            "\n",
            "image 1/1 /content/where-are-the-seagulls/data/test/images/20201002_113233_01_JPG.rf.6e2f5b701ae57e121ca4b7c41692baa9.jpg: 736x736 1 seagull, 9.2ms\n",
            "Speed: 3.8ms preprocess, 9.2ms inference, 1.4ms postprocess per image at shape (1, 3, 736, 736)\n",
            "\n",
            "image 1/1 /content/where-are-the-seagulls/data/test/images/20201010_123001_01_JPG.rf.3ce0a14e91dc7671033a42905df6c7fe.jpg: 736x736 (no detections), 8.3ms\n",
            "Speed: 3.1ms preprocess, 8.3ms inference, 0.6ms postprocess per image at shape (1, 3, 736, 736)\n",
            "\n",
            "image 1/1 /content/where-are-the-seagulls/data/test/images/20201005_145456_01_JPG.rf.6b4c71f84cc860278bf4dfd37b45dd50.jpg: 736x736 (no detections), 10.2ms\n",
            "Speed: 3.2ms preprocess, 10.2ms inference, 0.8ms postprocess per image at shape (1, 3, 736, 736)\n",
            "\n",
            "image 1/1 /content/where-are-the-seagulls/data/test/images/20201003_073835_01_JPG.rf.4ad960082112220e3e809ce15413d0c8.jpg: 736x736 2 seagulls, 8.9ms\n",
            "Speed: 3.2ms preprocess, 8.9ms inference, 1.4ms postprocess per image at shape (1, 3, 736, 736)\n",
            "\n",
            "image 1/1 /content/where-are-the-seagulls/data/test/images/20200929_161236_01_JPG.rf.6e9bbc6fa8cc4ad9ad4d94b348e693bb.jpg: 736x736 2 seagulls, 9.2ms\n",
            "Speed: 3.2ms preprocess, 9.2ms inference, 1.6ms postprocess per image at shape (1, 3, 736, 736)\n",
            "\n",
            "image 1/1 /content/where-are-the-seagulls/data/test/images/20201009_092158_01_JPG.rf.2f60977deda066d253394a3e5a4d5d90.jpg: 736x736 (no detections), 8.4ms\n",
            "Speed: 3.2ms preprocess, 8.4ms inference, 0.6ms postprocess per image at shape (1, 3, 736, 736)\n",
            "\n",
            "image 1/1 /content/where-are-the-seagulls/data/test/images/20201004_154804_01_JPG.rf.85985ca4558560edeba230ddcea1c43b.jpg: 736x736 (no detections), 8.3ms\n",
            "Speed: 3.2ms preprocess, 8.3ms inference, 0.6ms postprocess per image at shape (1, 3, 736, 736)\n",
            "\n",
            "image 1/1 /content/where-are-the-seagulls/data/test/images/20201005_175548_01_JPG.rf.70f27473f47ffe9e776dbb9d0ff21b86.jpg: 736x736 1 seagull, 9.4ms\n",
            "Speed: 3.1ms preprocess, 9.4ms inference, 1.3ms postprocess per image at shape (1, 3, 736, 736)\n",
            "\n",
            "image 1/1 /content/where-are-the-seagulls/data/test/images/20201009_122249_01_JPG.rf.a0279961da136b010c52923d80174006.jpg: 736x736 (no detections), 10.0ms\n",
            "Speed: 3.2ms preprocess, 10.0ms inference, 0.9ms postprocess per image at shape (1, 3, 736, 736)\n",
            "\n",
            "image 1/1 /content/where-are-the-seagulls/data/test/images/20200929_151218_01_JPG.rf.13f2297a4dae002e8849210994afd06f.jpg: 736x736 1 seagull, 8.3ms\n",
            "Speed: 3.2ms preprocess, 8.3ms inference, 1.3ms postprocess per image at shape (1, 3, 736, 736)\n",
            "\n",
            "image 1/1 /content/where-are-the-seagulls/data/test/images/20201002_183434_01_JPG.rf.e7c0dc4918bf083dc1f551f31af5938a.jpg: 736x736 5 seagulls, 9.4ms\n",
            "Speed: 3.2ms preprocess, 9.4ms inference, 1.5ms postprocess per image at shape (1, 3, 736, 736)\n",
            "\n",
            "image 1/1 /content/where-are-the-seagulls/data/test/images/20201004_124713_01_JPG.rf.9a6b8ae05c510758bd82466064589e01.jpg: 736x736 (no detections), 8.1ms\n",
            "Speed: 3.2ms preprocess, 8.1ms inference, 0.8ms postprocess per image at shape (1, 3, 736, 736)\n",
            "\n",
            "image 1/1 /content/where-are-the-seagulls/data/test/images/20201007_090733_01_JPG.rf.5fb0f90bc1439c28f7d4914851ccfbeb.jpg: 736x736 13 seagulls, 8.4ms\n",
            "Speed: 3.2ms preprocess, 8.4ms inference, 1.3ms postprocess per image at shape (1, 3, 736, 736)\n",
            "\n",
            "image 1/1 /content/where-are-the-seagulls/data/test/images/20201007_140900_01_JPG.rf.578bd2b11413de8e8ae6805657e9468c.jpg: 736x736 (no detections), 16.2ms\n",
            "Speed: 5.5ms preprocess, 16.2ms inference, 1.1ms postprocess per image at shape (1, 3, 736, 736)\n",
            "\n",
            "image 1/1 /content/where-are-the-seagulls/data/test/images/20201003_093909_01_JPG.rf.5c3d01c37b3c304e89e8eb236e4d8b2d.jpg: 736x736 2 seagulls, 10.6ms\n",
            "Speed: 4.4ms preprocess, 10.6ms inference, 1.3ms postprocess per image at shape (1, 3, 736, 736)\n",
            "\n",
            "image 1/1 /content/where-are-the-seagulls/data/test/images/20200930_172000_01_JPG.rf.cc2f566001d22622067d549e82a5b376.jpg: 736x736 (no detections), 8.6ms\n",
            "Speed: 3.6ms preprocess, 8.6ms inference, 0.6ms postprocess per image at shape (1, 3, 736, 736)\n",
            "\n",
            "image 1/1 /content/where-are-the-seagulls/data/test/images/20201006_110058_01_JPG.rf.36c508cca0d354e1261aabb8ee4b1103.jpg: 736x736 (no detections), 8.6ms\n",
            "Speed: 3.5ms preprocess, 8.6ms inference, 0.7ms postprocess per image at shape (1, 3, 736, 736)\n",
            "\n",
            "image 1/1 /content/where-are-the-seagulls/data/test/images/20201004_094620_01_JPG.rf.1125533e549f30fd6f8a273bb1317ee4.jpg: 736x736 (no detections), 8.5ms\n",
            "Speed: 3.6ms preprocess, 8.5ms inference, 0.7ms postprocess per image at shape (1, 3, 736, 736)\n",
            "\n",
            "image 1/1 /content/where-are-the-seagulls/data/test/images/20200930_151927_01_JPG.rf.7f722114593c446d0ae616e1f3a68402.jpg: 736x736 (no detections), 8.3ms\n",
            "Speed: 3.3ms preprocess, 8.3ms inference, 0.6ms postprocess per image at shape (1, 3, 736, 736)\n",
            "\n",
            "image 1/1 /content/where-are-the-seagulls/data/test/images/20201001_102509_01_JPG.rf.adf28a781feda0ebee7c2541f8be4c5f.jpg: 736x736 4 seagulls, 9.0ms\n",
            "Speed: 3.2ms preprocess, 9.0ms inference, 1.3ms postprocess per image at shape (1, 3, 736, 736)\n",
            "\n",
            "image 1/1 /content/where-are-the-seagulls/data/test/images/20201011_133731_01_JPG.rf.5b570bfacc536b83e54b98be6c4c1d50.jpg: 736x736 (no detections), 8.6ms\n",
            "Speed: 3.3ms preprocess, 8.6ms inference, 0.6ms postprocess per image at shape (1, 3, 736, 736)\n",
            "\n",
            "image 1/1 /content/where-are-the-seagulls/data/test/images/20201007_181009_01_JPG.rf.4e91affc74f3156f0f4db221ebf4bcca.jpg: 736x736 1 seagull, 8.5ms\n",
            "Speed: 4.1ms preprocess, 8.5ms inference, 1.4ms postprocess per image at shape (1, 3, 736, 736)\n",
            "\n",
            "image 1/1 /content/where-are-the-seagulls/data/test/images/20201004_084602_01_JPG.rf.2a32526e6242b00a6d74e17947086185.jpg: 736x736 1 seagull, 8.3ms\n",
            "Speed: 3.6ms preprocess, 8.3ms inference, 1.3ms postprocess per image at shape (1, 3, 736, 736)\n",
            "\n",
            "image 1/1 /content/where-are-the-seagulls/data/test/images/20201008_111520_01_JPG.rf.1660f3a813628a7d635f4c21179e281b.jpg: 736x736 (no detections), 8.8ms\n",
            "Speed: 3.4ms preprocess, 8.8ms inference, 0.7ms postprocess per image at shape (1, 3, 736, 736)\n",
            "\n",
            "image 1/1 /content/where-are-the-seagulls/data/test/images/20201005_095330_01_JPG.rf.796b013e318c121a692ff4a174399d90.jpg: 736x736 (no detections), 8.2ms\n",
            "Speed: 3.4ms preprocess, 8.2ms inference, 0.6ms postprocess per image at shape (1, 3, 736, 736)\n",
            "\n",
            "image 1/1 /content/where-are-the-seagulls/data/test/images/20201002_143325_01_JPG.rf.249da753cdd74b37fcb7d4e02bfe38d9.jpg: 736x736 (no detections), 8.5ms\n",
            "Speed: 3.4ms preprocess, 8.5ms inference, 0.6ms postprocess per image at shape (1, 3, 736, 736)\n",
            "\n",
            "image 1/1 /content/where-are-the-seagulls/data/test/images/20200929_131144_01_JPG.rf.99d8c6eed2dd8cd314fb47ad53fe34e6.jpg: 736x736 6 seagulls, 8.1ms\n",
            "Speed: 3.3ms preprocess, 8.1ms inference, 1.4ms postprocess per image at shape (1, 3, 736, 736)\n",
            "\n",
            "image 1/1 /content/where-are-the-seagulls/data/test/images/20201001_112526_01_JPG.rf.364b8381aa39ab70af957cd752080d0c.jpg: 736x736 1 seagull, 8.0ms\n",
            "Speed: 3.4ms preprocess, 8.0ms inference, 1.4ms postprocess per image at shape (1, 3, 736, 736)\n",
            "\n",
            "image 1/1 /content/where-are-the-seagulls/data/test/images/20201001_142618_01_JPG.rf.b425bd19a26d985612be2e7c093e6023.jpg: 736x736 (no detections), 8.1ms\n",
            "Speed: 3.5ms preprocess, 8.1ms inference, 0.8ms postprocess per image at shape (1, 3, 736, 736)\n",
            "\n",
            "image 1/1 /content/where-are-the-seagulls/data/test/images/20201003_174127_01_JPG.rf.1e9a717ab4f61525ded2c8f94e31f5ac.jpg: 736x736 (no detections), 8.3ms\n",
            "Speed: 3.4ms preprocess, 8.3ms inference, 0.6ms postprocess per image at shape (1, 3, 736, 736)\n",
            "\n",
            "image 1/1 /content/where-are-the-seagulls/data/test/images/20201011_163823_01_JPG.rf.e2a5508980ce1a7009ecacefba357cf1.jpg: 736x736 (no detections), 9.1ms\n",
            "Speed: 3.6ms preprocess, 9.1ms inference, 0.8ms postprocess per image at shape (1, 3, 736, 736)\n",
            "\n",
            "image 1/1 /content/where-are-the-seagulls/data/test/images/20201012_084317_01_JPG.rf.1628fe9f8845551f938cbb2c4ce0b61e.jpg: 736x736 (no detections), 8.5ms\n",
            "Speed: 3.5ms preprocess, 8.5ms inference, 0.7ms postprocess per image at shape (1, 3, 736, 736)\n",
            "\n",
            "image 1/1 /content/where-are-the-seagulls/data/test/images/20201002_093159_01_JPG.rf.a59dd600f5f0de712b0b456c13f17676.jpg: 736x736 3 seagulls, 8.1ms\n",
            "Speed: 3.3ms preprocess, 8.1ms inference, 1.4ms postprocess per image at shape (1, 3, 736, 736)\n",
            "\n",
            "image 1/1 /content/where-are-the-seagulls/data/test/images/20200928_180600_01_JPG.rf.df87e688ee0e009c3a06572a4997cf81.jpg: 736x736 (no detections), 9.1ms\n",
            "Speed: 3.4ms preprocess, 9.1ms inference, 0.7ms postprocess per image at shape (1, 3, 736, 736)\n",
            "\n",
            "image 1/1 /content/where-are-the-seagulls/data/test/images/20201010_092909_01_JPG.rf.8cecd0d1c5fd8259b873628edda49ffa.jpg: 736x736 (no detections), 8.6ms\n",
            "Speed: 4.5ms preprocess, 8.6ms inference, 0.6ms postprocess per image at shape (1, 3, 736, 736)\n",
            "\n",
            "image 1/1 /content/where-are-the-seagulls/data/test/images/20201002_193457_01_JPG.rf.67ad44f1d8309f509e3eb48a687dc603.jpg: 736x736 6 seagulls, 8.5ms\n",
            "Speed: 3.5ms preprocess, 8.5ms inference, 1.5ms postprocess per image at shape (1, 3, 736, 736)\n",
            "\n",
            "image 1/1 /content/where-are-the-seagulls/data/test/images/20201007_160934_01_JPG.rf.ac452abc90fd22d9e18391df8555a2bd.jpg: 736x736 (no detections), 8.2ms\n",
            "Speed: 3.5ms preprocess, 8.2ms inference, 0.7ms postprocess per image at shape (1, 3, 736, 736)\n",
            "\n",
            "image 1/1 /content/where-are-the-seagulls/data/test/images/20200929_081017_01_JPG.rf.c0e8134223d6ed61ac5187cc29495bd9.jpg: 736x736 (no detections), 8.2ms\n",
            "Speed: 3.2ms preprocess, 8.2ms inference, 0.6ms postprocess per image at shape (1, 3, 736, 736)\n",
            "\n",
            "image 1/1 /content/where-are-the-seagulls/data/test/images/20201011_083604_01_JPG.rf.65c8b94d2f696655084c6f71f61ed0d1.jpg: 736x736 (no detections), 8.7ms\n",
            "Speed: 4.1ms preprocess, 8.7ms inference, 0.6ms postprocess per image at shape (1, 3, 736, 736)\n",
            "\n",
            "image 1/1 /content/where-are-the-seagulls/data/test/images/20201006_150208_01_JPG.rf.f6e768ab1bcbd83d46b6dc92cbc0619f.jpg: 736x736 1 seagull, 8.2ms\n",
            "Speed: 3.2ms preprocess, 8.2ms inference, 1.3ms postprocess per image at shape (1, 3, 736, 736)\n",
            "\n",
            "image 1/1 /content/where-are-the-seagulls/data/test/images/20201006_120115_01_JPG.rf.cb8223ccabe7118bee6e7fd2011662f0.jpg: 736x736 (no detections), 8.4ms\n",
            "Speed: 3.3ms preprocess, 8.4ms inference, 0.6ms postprocess per image at shape (1, 3, 736, 736)\n",
            "\n",
            "image 1/1 /content/where-are-the-seagulls/data/test/images/20200930_182017_01_JPG.rf.82871ec84dcb7683ee289d2770cda5fa.jpg: 736x736 5 seagulls, 8.4ms\n",
            "Speed: 3.2ms preprocess, 8.4ms inference, 1.3ms postprocess per image at shape (1, 3, 736, 736)\n",
            "\n",
            "image 1/1 /content/where-are-the-seagulls/data/test/images/20201003_194206_01_JPG.rf.fdc93ef9037d6a681325cbff291545fd.jpg: 736x736 5 seagulls, 8.5ms\n",
            "Speed: 3.5ms preprocess, 8.5ms inference, 1.6ms postprocess per image at shape (1, 3, 736, 736)\n",
            "\n",
            "image 1/1 /content/where-are-the-seagulls/data/test/images/20200930_161943_01_JPG.rf.bac9a0f59c9b9861ace9e1386f438431.jpg: 736x736 1 seagull, 10.2ms\n",
            "Speed: 3.4ms preprocess, 10.2ms inference, 1.4ms postprocess per image at shape (1, 3, 736, 736)\n",
            "\n",
            "image 1/1 /content/where-are-the-seagulls/data/test/images/20201005_135439_01_JPG.rf.3765692a9621de9bf04b9bd95ec1fb02.jpg: 736x736 (no detections), 8.5ms\n",
            "Speed: 3.2ms preprocess, 8.5ms inference, 0.6ms postprocess per image at shape (1, 3, 736, 736)\n",
            "\n",
            "image 1/1 /content/where-are-the-seagulls/data/test/images/20201007_100751_01_JPG.rf.4be5a2f65bba69273365ebd6aa6e53b0.jpg: 736x736 3 seagulls, 8.4ms\n",
            "Speed: 3.3ms preprocess, 8.4ms inference, 1.3ms postprocess per image at shape (1, 3, 736, 736)\n",
            "\n",
            "image 1/1 /content/where-are-the-seagulls/data/test/images/20201010_163110_01_JPG.rf.c5e593cc5920891bc13960d58a229899.jpg: 736x736 (no detections), 8.3ms\n",
            "Speed: 3.4ms preprocess, 8.3ms inference, 0.6ms postprocess per image at shape (1, 3, 736, 736)\n",
            "\n",
            "image 1/1 /content/where-are-the-seagulls/data/test/images/20200930_101801_01_JPG.rf.aefbe5575f86a36d9b9e2e5370b5ae50.jpg: 736x736 (no detections), 10.4ms\n",
            "Speed: 3.6ms preprocess, 10.4ms inference, 0.9ms postprocess per image at shape (1, 3, 736, 736)\n",
            "\n",
            "image 1/1 /content/where-are-the-seagulls/data/test/images/20201009_142325_01_JPG.rf.41d172e9639b43be50c288882df2274a.jpg: 736x736 (no detections), 9.4ms\n",
            "Speed: 3.8ms preprocess, 9.4ms inference, 0.6ms postprocess per image at shape (1, 3, 736, 736)\n",
            "\n",
            "image 1/1 /content/where-are-the-seagulls/data/test/images/20201008_131555_01_JPG.rf.4ef46bbbec4e33c001da64d0c7d564e9.jpg: 736x736 (no detections), 8.6ms\n",
            "Speed: 3.4ms preprocess, 8.6ms inference, 0.8ms postprocess per image at shape (1, 3, 736, 736)\n",
            "\n",
            "image 1/1 /content/where-are-the-seagulls/data/test/images/20201001_092451_01_JPG.rf.92a7f7b2951d3aeebeaa8aaa8b5a417b.jpg: 736x736 6 seagulls, 8.4ms\n",
            "Speed: 3.5ms preprocess, 8.4ms inference, 1.4ms postprocess per image at shape (1, 3, 736, 736)\n",
            "\n",
            "image 1/1 /content/where-are-the-seagulls/data/test/images/20201005_185607_01_JPG.rf.371e20fa59cc2ab21720f8a4426313a5.jpg: 736x736 2 seagulls, 8.7ms\n",
            "Speed: 3.4ms preprocess, 8.7ms inference, 1.4ms postprocess per image at shape (1, 3, 736, 736)\n",
            "\n",
            "image 1/1 /content/where-are-the-seagulls/data/test/images/20201010_112943_01_JPG.rf.3f2279fee92d73e2d9cf45213097a4d8.jpg: 736x736 (no detections), 8.5ms\n",
            "Speed: 3.5ms preprocess, 8.5ms inference, 0.7ms postprocess per image at shape (1, 3, 736, 736)\n",
            "\n",
            "image 1/1 /content/where-are-the-seagulls/data/test/images/20200929_091035_01_JPG.rf.cc0f7b275eb3a5dd680df0011fa46c36.jpg: 736x736 (no detections), 8.6ms\n",
            "Speed: 3.4ms preprocess, 8.6ms inference, 0.8ms postprocess per image at shape (1, 3, 736, 736)\n",
            "\n",
            "image 1/1 /content/where-are-the-seagulls/data/test/images/20201011_173839_01_JPG.rf.078741d81a9f4e1427ddf7785fb7ebcc.jpg: 736x736 (no detections), 8.3ms\n",
            "Speed: 3.5ms preprocess, 8.3ms inference, 0.7ms postprocess per image at shape (1, 3, 736, 736)\n",
            "\n",
            "image 1/1 /content/where-are-the-seagulls/data/test/images/20201002_123251_01_JPG.rf.52481dc09f56630e4f783da7b2b149c6.jpg: 736x736 (no detections), 8.4ms\n",
            "Speed: 3.3ms preprocess, 8.4ms inference, 0.6ms postprocess per image at shape (1, 3, 736, 736)\n",
            "\n",
            "image 1/1 /content/where-are-the-seagulls/data/test/images/20201008_121538_01_JPG.rf.26e4e9692f1520f56a8486886d557a93.jpg: 736x736 (no detections), 8.5ms\n",
            "Speed: 3.2ms preprocess, 8.5ms inference, 0.6ms postprocess per image at shape (1, 3, 736, 736)\n",
            "\n",
            "image 1/1 /content/where-are-the-seagulls/data/test/images/20201005_115404_01_JPG.rf.10033d52322968275f453689d6bb9c44.jpg: 736x736 (no detections), 8.4ms\n",
            "Speed: 3.2ms preprocess, 8.4ms inference, 0.6ms postprocess per image at shape (1, 3, 736, 736)\n",
            "\n",
            "image 1/1 /content/where-are-the-seagulls/data/test/images/20201004_114654_01_JPG.rf.1beffa9a806166e7baf764bae6b40462.jpg: 736x736 (no detections), 8.9ms\n",
            "Speed: 4.6ms preprocess, 8.9ms inference, 0.6ms postprocess per image at shape (1, 3, 736, 736)\n",
            "\n",
            "image 1/1 /content/where-are-the-seagulls/data/test/images/20201007_170953_01_JPG.rf.4fd9fc67f1e126efe11dc95f985e89c1.jpg: 736x736 (no detections), 8.6ms\n",
            "Speed: 3.4ms preprocess, 8.6ms inference, 0.6ms postprocess per image at shape (1, 3, 736, 736)\n",
            "\n",
            "image 1/1 /content/where-are-the-seagulls/data/test/images/20201005_165532_01_JPG.rf.d3517d9451a50c9f1a4524585e609bdf.jpg: 736x736 1 seagull, 8.9ms\n",
            "Speed: 4.4ms preprocess, 8.9ms inference, 1.3ms postprocess per image at shape (1, 3, 736, 736)\n",
            "\n",
            "image 1/1 /content/where-are-the-seagulls/data/test/images/20201001_132601_01_JPG.rf.9f4274bccb82399974ba5b34ec5290ce.jpg: 736x736 (no detections), 8.5ms\n",
            "Speed: 3.2ms preprocess, 8.5ms inference, 0.6ms postprocess per image at shape (1, 3, 736, 736)\n",
            "\n",
            "image 1/1 /content/where-are-the-seagulls/data/test/images/20201009_132306_01_JPG.rf.6fa5c9cf244a1e73a735e72d2d92ec3d.jpg: 736x736 (no detections), 8.6ms\n",
            "Speed: 3.3ms preprocess, 8.6ms inference, 0.6ms postprocess per image at shape (1, 3, 736, 736)\n",
            "\n",
            "image 1/1 /content/where-are-the-seagulls/data/test/images/20200928_150507_01_JPG.rf.109359154a680b75a67dce1e82062e55.jpg: 736x736 (no detections), 8.5ms\n",
            "Speed: 3.5ms preprocess, 8.5ms inference, 0.6ms postprocess per image at shape (1, 3, 736, 736)\n",
            "\n",
            "image 1/1 /content/where-are-the-seagulls/data/test/images/20200930_192036_01_JPG.rf.59c6547cc8b3b2ca5ba6ed777eb4f466.jpg: 736x736 5 seagulls, 10.2ms\n",
            "Speed: 3.5ms preprocess, 10.2ms inference, 2.0ms postprocess per image at shape (1, 3, 736, 736)\n",
            "\n",
            "image 1/1 /content/where-are-the-seagulls/data/test/images/20201010_082852_01_JPG.rf.d480c11b259e6aef6b49460e7cb79830.jpg: 736x736 (no detections), 16.6ms\n",
            "Speed: 5.0ms preprocess, 16.6ms inference, 0.8ms postprocess per image at shape (1, 3, 736, 736)\n",
            "\n",
            "image 1/1 /content/where-are-the-seagulls/data/test/images/20201009_182432_01_JPG.rf.17209e04f1d5bd5ed8d5858b13bc96fe.jpg: 736x736 (no detections), 9.1ms\n",
            "Speed: 3.2ms preprocess, 9.1ms inference, 0.7ms postprocess per image at shape (1, 3, 736, 736)\n",
            "\n",
            "image 1/1 /content/where-are-the-seagulls/data/test/images/20201003_164111_01_JPG.rf.45ae1a5a6fe75516561104c2f310963d.jpg: 736x736 (no detections), 9.6ms\n",
            "Speed: 5.7ms preprocess, 9.6ms inference, 0.7ms postprocess per image at shape (1, 3, 736, 736)\n",
            "\n",
            "image 1/1 /content/where-are-the-seagulls/data/test/images/20201002_163400_01_JPG.rf.6fc5242b8118bc95cc46d44191e9fe5c.jpg: 736x736 1 seagull, 8.4ms\n",
            "Speed: 4.0ms preprocess, 8.4ms inference, 1.5ms postprocess per image at shape (1, 3, 736, 736)\n",
            "\n",
            "image 1/1 /content/where-are-the-seagulls/data/test/images/20201009_152341_01_JPG.rf.0591b93777de3fe3b3bee5070c1579ad.jpg: 736x736 (no detections), 8.4ms\n",
            "Speed: 3.2ms preprocess, 8.4ms inference, 0.7ms postprocess per image at shape (1, 3, 736, 736)\n",
            "\n",
            "image 1/1 /content/where-are-the-seagulls/data/test/images/20200929_121126_01_JPG.rf.c8a3370bb444e2fd41b9557cc1d73566.jpg: 736x736 8 seagulls, 8.6ms\n",
            "Speed: 3.4ms preprocess, 8.6ms inference, 1.4ms postprocess per image at shape (1, 3, 736, 736)\n",
            "\n",
            "image 1/1 /content/where-are-the-seagulls/data/test/images/20200930_121836_01_JPG.rf.3b8809996cd2d98cf82fd912d2901671.jpg: 736x736 1 seagull, 8.1ms\n",
            "Speed: 3.4ms preprocess, 8.1ms inference, 1.3ms postprocess per image at shape (1, 3, 736, 736)\n",
            "\n",
            "image 1/1 /content/where-are-the-seagulls/data/test/images/20201005_085313_01_JPG.rf.106d708af1a5253af54c962da3989ae2.jpg: 736x736 (no detections), 9.1ms\n",
            "Speed: 3.4ms preprocess, 9.1ms inference, 0.7ms postprocess per image at shape (1, 3, 736, 736)\n",
            "\n",
            "image 1/1 /content/where-are-the-seagulls/data/test/images/20201012_074301_01_JPG.rf.aeea80a57963913c15a90385454e9c65.jpg: 736x736 (no detections), 8.4ms\n",
            "Speed: 4.8ms preprocess, 8.4ms inference, 0.7ms postprocess per image at shape (1, 3, 736, 736)\n",
            "\n",
            "image 1/1 /content/where-are-the-seagulls/data/test/images/20201006_190315_01_JPG.rf.5b7e808610945c5af42c37c10deb68f5.jpg: 736x736 1 seagull, 10.7ms\n",
            "Speed: 3.3ms preprocess, 10.7ms inference, 1.4ms postprocess per image at shape (1, 3, 736, 736)\n",
            "\n",
            "image 1/1 /content/where-are-the-seagulls/data/test/images/20201004_104638_01_JPG.rf.fc2353fdeca3f1b658514e9db489c4f0.jpg: 736x736 (no detections), 8.8ms\n",
            "Speed: 3.4ms preprocess, 8.8ms inference, 0.9ms postprocess per image at shape (1, 3, 736, 736)\n",
            "\n",
            "image 1/1 /content/where-are-the-seagulls/data/test/images/20200929_101051_01_JPG.rf.1087dc5d136a81e57d658718bfae11b3.jpg: 736x736 (no detections), 12.0ms\n",
            "Speed: 3.4ms preprocess, 12.0ms inference, 0.6ms postprocess per image at shape (1, 3, 736, 736)\n",
            "\n",
            "image 1/1 /content/where-are-the-seagulls/data/test/images/20201008_171704_01_JPG.rf.f63c781a9916b4151a4e706d70f9074c.jpg: 736x736 (no detections), 8.3ms\n",
            "Speed: 4.0ms preprocess, 8.3ms inference, 0.7ms postprocess per image at shape (1, 3, 736, 736)\n",
            "\n",
            "image 1/1 /content/where-are-the-seagulls/data/test/images/20201010_143036_01_JPG.rf.ce49ced547214ece69033d016ab043f9.jpg: 736x736 (no detections), 9.4ms\n",
            "Speed: 3.3ms preprocess, 9.4ms inference, 0.7ms postprocess per image at shape (1, 3, 736, 736)\n",
            "\n",
            "image 1/1 /content/where-are-the-seagulls/data/test/images/20201008_101503_01_JPG.rf.65a4e2c7ee77c06cf4ae0dfaa930786e.jpg: 736x736 (no detections), 8.4ms\n",
            "Speed: 3.4ms preprocess, 8.4ms inference, 0.6ms postprocess per image at shape (1, 3, 736, 736)\n",
            "\n",
            "image 1/1 /content/where-are-the-seagulls/data/test/images/20200929_111110_01_JPG.rf.edae4423a2ce95815bcecdc24ed5fa36.jpg: 736x736 1 seagull, 8.4ms\n",
            "Speed: 3.3ms preprocess, 8.4ms inference, 1.3ms postprocess per image at shape (1, 3, 736, 736)\n",
            "\n",
            "image 1/1 /content/where-are-the-seagulls/data/test/images/20201012_085146_01_JPG.rf.17b44f92fa8cfa93ea1c0da1c404d84c.jpg: 736x736 (no detections), 8.7ms\n",
            "Speed: 3.9ms preprocess, 8.7ms inference, 0.7ms postprocess per image at shape (1, 3, 736, 736)\n"
          ]
        }
      ]
    },
    {
      "cell_type": "code",
      "source": [
        "results"
      ],
      "metadata": {
        "colab": {
          "base_uri": "https://localhost:8080/"
        },
        "id": "WE_xjak0jRz2",
        "outputId": "57bf6755-7e19-46c8-da3d-fc84e4b29eff"
      },
      "execution_count": null,
      "outputs": [
        {
          "output_type": "execute_result",
          "data": {
            "text/plain": [
              "[{'index': 0,\n",
              "  'filename': '20201007_130843_01_JPG.rf.8f442fbcd9cd5e9d02e13e069ff7ec59.jpg',\n",
              "  'bbox': tensor([], device='cuda:0', size=(0, 4))},\n",
              " {'index': 1,\n",
              "  'filename': '20201006_090025_01_JPG.rf.aed12bd2aed78041950f8df51d0810c1.jpg',\n",
              "  'bbox': tensor([], device='cuda:0', size=(0, 4))},\n",
              " {'index': 2,\n",
              "  'filename': '20200929_141202_01_JPG.rf.3b6082af0a88884363aaa95bf76987db.jpg',\n",
              "  'bbox': tensor([[0.5229, 0.6453, 0.0186, 0.0296],\n",
              "          [0.3635, 0.6442, 0.0198, 0.0274],\n",
              "          [0.1508, 0.6718, 0.0271, 0.0297]], device='cuda:0')},\n",
              " {'index': 3,\n",
              "  'filename': '20201001_182725_01_JPG.rf.c2f7e6a1e5a06fdf1bdc854046575487.jpg',\n",
              "  'bbox': tensor([[0.7054, 0.6864, 0.0413, 0.0476],\n",
              "          [0.7730, 0.6295, 0.0328, 0.0488],\n",
              "          [0.3848, 0.6580, 0.0238, 0.0291]], device='cuda:0')},\n",
              " {'index': 4,\n",
              "  'filename': '20201011_143747_01_JPG.rf.1a8844176e2f98a7e3912c485da71d6d.jpg',\n",
              "  'bbox': tensor([], device='cuda:0', size=(0, 4))},\n",
              " {'index': 5,\n",
              "  'filename': '20201009_082140_01_JPG.rf.1a92c675763355bf73efd404d842988b.jpg',\n",
              "  'bbox': tensor([], device='cuda:0', size=(0, 4))},\n",
              " {'index': 6,\n",
              "  'filename': '20201002_083142_01_JPG.rf.5e31ae3ee3975752b95b0e86857424f5.jpg',\n",
              "  'bbox': tensor([[0.3807, 0.6340, 0.0304, 0.0403],\n",
              "          [0.7621, 0.6173, 0.0276, 0.0306],\n",
              "          [0.5840, 0.7990, 0.0392, 0.0602]], device='cuda:0')},\n",
              " {'index': 7,\n",
              "  'filename': '20200928_160525_01_JPG.rf.50f3289f065a9a4f5372ffa3df9e7265.jpg',\n",
              "  'bbox': tensor([[0.1750, 0.7686, 0.0256, 0.0427]], device='cuda:0')},\n",
              " {'index': 8,\n",
              "  'filename': '20201011_093620_01_JPG.rf.4b3b67819434c7790a698d668a035673.jpg',\n",
              "  'bbox': tensor([], device='cuda:0', size=(0, 4))},\n",
              " {'index': 9,\n",
              "  'filename': '20201009_112233_01_JPG.rf.1755d008b242cf81add6e899c78c7002.jpg',\n",
              "  'bbox': tensor([], device='cuda:0', size=(0, 4))},\n",
              " {'index': 10,\n",
              "  'filename': '20201001_082435_01_JPG.rf.b2ead1e408a166c0441dfd140d659f7e.jpg',\n",
              "  'bbox': tensor([[0.3232, 0.6990, 0.0332, 0.0543],\n",
              "          [0.6828, 0.6909, 0.0280, 0.0516],\n",
              "          [0.5167, 0.6753, 0.0418, 0.0384],\n",
              "          [0.2095, 0.6415, 0.0245, 0.0378],\n",
              "          [0.8930, 0.6187, 0.0217, 0.0503],\n",
              "          [0.7484, 0.6178, 0.0388, 0.0348],\n",
              "          [0.7033, 0.7806, 0.0345, 0.0325]], device='cuda:0')},\n",
              " {'index': 11,\n",
              "  'filename': '20201004_174838_01_JPG.rf.c9ee98a1f87fb033ff7be62248d5341e.jpg',\n",
              "  'bbox': tensor([[0.3824, 0.6550, 0.0247, 0.0445]], device='cuda:0')},\n",
              " {'index': 12,\n",
              "  'filename': '20201004_074545_01_JPG.rf.346feee15fb34f4b3c10330ec118b6ad.jpg',\n",
              "  'bbox': tensor([[0.5583, 0.6639, 0.0265, 0.0466],\n",
              "          [0.3125, 0.7049, 0.0348, 0.0398],\n",
              "          [0.2020, 0.6732, 0.0282, 0.0348],\n",
              "          [0.2282, 0.6396, 0.0196, 0.0376],\n",
              "          [0.3594, 0.6397, 0.0279, 0.0396],\n",
              "          [0.4626, 0.7047, 0.0307, 0.0476],\n",
              "          [0.8812, 0.6230, 0.0319, 0.0439],\n",
              "          [0.1817, 0.6280, 0.0323, 0.0261],\n",
              "          [0.1520, 0.6407, 0.0263, 0.0346],\n",
              "          [0.1570, 0.6378, 0.0231, 0.0345]], device='cuda:0')},\n",
              " {'index': 13,\n",
              "  'filename': '20201004_144746_01_JPG.rf.0b34380b718adcc3227c68f73c76ca28.jpg',\n",
              "  'bbox': tensor([], device='cuda:0', size=(0, 4))},\n",
              " {'index': 14,\n",
              "  'filename': '20201001_162651_01_JPG.rf.c35c01d9cfd170d4fe9648ac14612a58.jpg',\n",
              "  'bbox': tensor([], device='cuda:0', size=(0, 4))},\n",
              " {'index': 15,\n",
              "  'filename': '20201009_162359_01_JPG.rf.611ed66fa9e69d745c334a9fb8852db4.jpg',\n",
              "  'bbox': tensor([], device='cuda:0', size=(0, 4))},\n",
              " {'index': 16,\n",
              "  'filename': '20201003_134020_01_JPG.rf.b76ed616a58d5feeb00cbe2b9f9c6afb.jpg',\n",
              "  'bbox': tensor([], device='cuda:0', size=(0, 4))},\n",
              " {'index': 17,\n",
              "  'filename': '20201002_113233_01_JPG.rf.6e2f5b701ae57e121ca4b7c41692baa9.jpg',\n",
              "  'bbox': tensor([[0.7564, 0.6093, 0.0271, 0.0346]], device='cuda:0')},\n",
              " {'index': 18,\n",
              "  'filename': '20201010_123001_01_JPG.rf.3ce0a14e91dc7671033a42905df6c7fe.jpg',\n",
              "  'bbox': tensor([], device='cuda:0', size=(0, 4))},\n",
              " {'index': 19,\n",
              "  'filename': '20201005_145456_01_JPG.rf.6b4c71f84cc860278bf4dfd37b45dd50.jpg',\n",
              "  'bbox': tensor([], device='cuda:0', size=(0, 4))},\n",
              " {'index': 20,\n",
              "  'filename': '20201003_073835_01_JPG.rf.4ad960082112220e3e809ce15413d0c8.jpg',\n",
              "  'bbox': tensor([[0.2323, 0.6452, 0.0214, 0.0356],\n",
              "          [0.1688, 0.7635, 0.0249, 0.0423]], device='cuda:0')},\n",
              " {'index': 21,\n",
              "  'filename': '20200929_161236_01_JPG.rf.6e9bbc6fa8cc4ad9ad4d94b348e693bb.jpg',\n",
              "  'bbox': tensor([[0.6724, 0.6912, 0.0249, 0.0417],\n",
              "          [0.7686, 0.6357, 0.0344, 0.0317]], device='cuda:0')},\n",
              " {'index': 22,\n",
              "  'filename': '20201009_092158_01_JPG.rf.2f60977deda066d253394a3e5a4d5d90.jpg',\n",
              "  'bbox': tensor([], device='cuda:0', size=(0, 4))},\n",
              " {'index': 23,\n",
              "  'filename': '20201004_154804_01_JPG.rf.85985ca4558560edeba230ddcea1c43b.jpg',\n",
              "  'bbox': tensor([], device='cuda:0', size=(0, 4))},\n",
              " {'index': 24,\n",
              "  'filename': '20201005_175548_01_JPG.rf.70f27473f47ffe9e776dbb9d0ff21b86.jpg',\n",
              "  'bbox': tensor([[0.3855, 0.6618, 0.0179, 0.0249]], device='cuda:0')},\n",
              " {'index': 25,\n",
              "  'filename': '20201009_122249_01_JPG.rf.a0279961da136b010c52923d80174006.jpg',\n",
              "  'bbox': tensor([], device='cuda:0', size=(0, 4))},\n",
              " {'index': 26,\n",
              "  'filename': '20200929_151218_01_JPG.rf.13f2297a4dae002e8849210994afd06f.jpg',\n",
              "  'bbox': tensor([[0.1853, 0.7232, 0.0320, 0.0330]], device='cuda:0')},\n",
              " {'index': 27,\n",
              "  'filename': '20201002_183434_01_JPG.rf.e7c0dc4918bf083dc1f551f31af5938a.jpg',\n",
              "  'bbox': tensor([[0.4077, 0.7645, 0.0423, 0.0517],\n",
              "          [0.2680, 0.7012, 0.0325, 0.0361],\n",
              "          [0.4964, 0.6776, 0.0328, 0.0358],\n",
              "          [0.2989, 0.7164, 0.0190, 0.0421],\n",
              "          [0.7697, 0.6330, 0.0249, 0.0388]], device='cuda:0')},\n",
              " {'index': 28,\n",
              "  'filename': '20201004_124713_01_JPG.rf.9a6b8ae05c510758bd82466064589e01.jpg',\n",
              "  'bbox': tensor([], device='cuda:0', size=(0, 4))},\n",
              " {'index': 29,\n",
              "  'filename': '20201007_090733_01_JPG.rf.5fb0f90bc1439c28f7d4914851ccfbeb.jpg',\n",
              "  'bbox': tensor([[0.6604, 0.6920, 0.0387, 0.0462],\n",
              "          [0.3860, 0.6513, 0.0362, 0.0396],\n",
              "          [0.5317, 0.7333, 0.0387, 0.0479],\n",
              "          [0.7098, 0.7257, 0.0443, 0.0532],\n",
              "          [0.1567, 0.6274, 0.0181, 0.0265],\n",
              "          [0.7576, 0.6438, 0.0391, 0.0885],\n",
              "          [0.5070, 0.7990, 0.0487, 0.0785],\n",
              "          [0.7539, 0.6642, 0.0309, 0.0463],\n",
              "          [0.4831, 0.8235, 0.0520, 0.0697],\n",
              "          [0.2432, 0.6448, 0.0266, 0.0386],\n",
              "          [0.7631, 0.6181, 0.0248, 0.0398],\n",
              "          [0.7620, 0.6239, 0.0283, 0.0496],\n",
              "          [0.4889, 0.8171, 0.0620, 0.0819]], device='cuda:0')},\n",
              " {'index': 30,\n",
              "  'filename': '20201007_140900_01_JPG.rf.578bd2b11413de8e8ae6805657e9468c.jpg',\n",
              "  'bbox': tensor([], device='cuda:0', size=(0, 4))},\n",
              " {'index': 31,\n",
              "  'filename': '20201003_093909_01_JPG.rf.5c3d01c37b3c304e89e8eb236e4d8b2d.jpg',\n",
              "  'bbox': tensor([[0.3489, 0.7946, 0.0347, 0.0592],\n",
              "          [0.5468, 0.6313, 0.0325, 0.0360]], device='cuda:0')},\n",
              " {'index': 32,\n",
              "  'filename': '20200930_172000_01_JPG.rf.cc2f566001d22622067d549e82a5b376.jpg',\n",
              "  'bbox': tensor([], device='cuda:0', size=(0, 4))},\n",
              " {'index': 33,\n",
              "  'filename': '20201006_110058_01_JPG.rf.36c508cca0d354e1261aabb8ee4b1103.jpg',\n",
              "  'bbox': tensor([], device='cuda:0', size=(0, 4))},\n",
              " {'index': 34,\n",
              "  'filename': '20201004_094620_01_JPG.rf.1125533e549f30fd6f8a273bb1317ee4.jpg',\n",
              "  'bbox': tensor([], device='cuda:0', size=(0, 4))},\n",
              " {'index': 35,\n",
              "  'filename': '20200930_151927_01_JPG.rf.7f722114593c446d0ae616e1f3a68402.jpg',\n",
              "  'bbox': tensor([], device='cuda:0', size=(0, 4))},\n",
              " {'index': 36,\n",
              "  'filename': '20201001_102509_01_JPG.rf.adf28a781feda0ebee7c2541f8be4c5f.jpg',\n",
              "  'bbox': tensor([[0.2585, 0.7324, 0.0367, 0.0499],\n",
              "          [0.4616, 0.7477, 0.0422, 0.0475],\n",
              "          [0.5677, 0.6580, 0.0360, 0.0387],\n",
              "          [0.1793, 0.6297, 0.0188, 0.0254]], device='cuda:0')},\n",
              " {'index': 37,\n",
              "  'filename': '20201011_133731_01_JPG.rf.5b570bfacc536b83e54b98be6c4c1d50.jpg',\n",
              "  'bbox': tensor([], device='cuda:0', size=(0, 4))},\n",
              " {'index': 38,\n",
              "  'filename': '20201007_181009_01_JPG.rf.4e91affc74f3156f0f4db221ebf4bcca.jpg',\n",
              "  'bbox': tensor([[0.1517, 0.7005, 0.0299, 0.0523]], device='cuda:0')},\n",
              " {'index': 39,\n",
              "  'filename': '20201004_084602_01_JPG.rf.2a32526e6242b00a6d74e17947086185.jpg',\n",
              "  'bbox': tensor([[0.5336, 0.6731, 0.0316, 0.0461]], device='cuda:0')},\n",
              " {'index': 40,\n",
              "  'filename': '20201008_111520_01_JPG.rf.1660f3a813628a7d635f4c21179e281b.jpg',\n",
              "  'bbox': tensor([], device='cuda:0', size=(0, 4))},\n",
              " {'index': 41,\n",
              "  'filename': '20201005_095330_01_JPG.rf.796b013e318c121a692ff4a174399d90.jpg',\n",
              "  'bbox': tensor([], device='cuda:0', size=(0, 4))},\n",
              " {'index': 42,\n",
              "  'filename': '20201002_143325_01_JPG.rf.249da753cdd74b37fcb7d4e02bfe38d9.jpg',\n",
              "  'bbox': tensor([], device='cuda:0', size=(0, 4))},\n",
              " {'index': 43,\n",
              "  'filename': '20200929_131144_01_JPG.rf.99d8c6eed2dd8cd314fb47ad53fe34e6.jpg',\n",
              "  'bbox': tensor([[0.5309, 0.6712, 0.0314, 0.0370],\n",
              "          [0.6084, 0.7122, 0.0222, 0.0610],\n",
              "          [0.2918, 0.7256, 0.0233, 0.0563],\n",
              "          [0.1576, 0.6295, 0.0271, 0.0328],\n",
              "          [0.6362, 0.8037, 0.0241, 0.0479],\n",
              "          [0.6414, 0.8095, 0.0336, 0.0598]], device='cuda:0')},\n",
              " {'index': 44,\n",
              "  'filename': '20201001_112526_01_JPG.rf.364b8381aa39ab70af957cd752080d0c.jpg',\n",
              "  'bbox': tensor([[0.6624, 0.7797, 0.0466, 0.0513]], device='cuda:0')},\n",
              " {'index': 45,\n",
              "  'filename': '20201001_142618_01_JPG.rf.b425bd19a26d985612be2e7c093e6023.jpg',\n",
              "  'bbox': tensor([], device='cuda:0', size=(0, 4))},\n",
              " {'index': 46,\n",
              "  'filename': '20201003_174127_01_JPG.rf.1e9a717ab4f61525ded2c8f94e31f5ac.jpg',\n",
              "  'bbox': tensor([], device='cuda:0', size=(0, 4))},\n",
              " {'index': 47,\n",
              "  'filename': '20201011_163823_01_JPG.rf.e2a5508980ce1a7009ecacefba357cf1.jpg',\n",
              "  'bbox': tensor([], device='cuda:0', size=(0, 4))},\n",
              " {'index': 48,\n",
              "  'filename': '20201012_084317_01_JPG.rf.1628fe9f8845551f938cbb2c4ce0b61e.jpg',\n",
              "  'bbox': tensor([], device='cuda:0', size=(0, 4))},\n",
              " {'index': 49,\n",
              "  'filename': '20201002_093159_01_JPG.rf.a59dd600f5f0de712b0b456c13f17676.jpg',\n",
              "  'bbox': tensor([[0.5749, 0.6629, 0.0257, 0.0376],\n",
              "          [0.6221, 0.6845, 0.0269, 0.0430],\n",
              "          [0.7208, 0.6232, 0.0340, 0.0396]], device='cuda:0')},\n",
              " {'index': 50,\n",
              "  'filename': '20200928_180600_01_JPG.rf.df87e688ee0e009c3a06572a4997cf81.jpg',\n",
              "  'bbox': tensor([], device='cuda:0', size=(0, 4))},\n",
              " {'index': 51,\n",
              "  'filename': '20201010_092909_01_JPG.rf.8cecd0d1c5fd8259b873628edda49ffa.jpg',\n",
              "  'bbox': tensor([], device='cuda:0', size=(0, 4))},\n",
              " {'index': 52,\n",
              "  'filename': '20201002_193457_01_JPG.rf.67ad44f1d8309f509e3eb48a687dc603.jpg',\n",
              "  'bbox': tensor([[0.5072, 0.6829, 0.0335, 0.0398],\n",
              "          [0.3258, 0.7033, 0.0345, 0.0369],\n",
              "          [0.3658, 0.6771, 0.0264, 0.0477],\n",
              "          [0.2635, 0.7611, 0.0516, 0.0495],\n",
              "          [0.7737, 0.6384, 0.0248, 0.0386],\n",
              "          [0.7557, 0.6142, 0.0197, 0.0275]], device='cuda:0')},\n",
              " {'index': 53,\n",
              "  'filename': '20201007_160934_01_JPG.rf.ac452abc90fd22d9e18391df8555a2bd.jpg',\n",
              "  'bbox': tensor([], device='cuda:0', size=(0, 4))},\n",
              " {'index': 54,\n",
              "  'filename': '20200929_081017_01_JPG.rf.c0e8134223d6ed61ac5187cc29495bd9.jpg',\n",
              "  'bbox': tensor([], device='cuda:0', size=(0, 4))},\n",
              " {'index': 55,\n",
              "  'filename': '20201011_083604_01_JPG.rf.65c8b94d2f696655084c6f71f61ed0d1.jpg',\n",
              "  'bbox': tensor([], device='cuda:0', size=(0, 4))},\n",
              " {'index': 56,\n",
              "  'filename': '20201006_150208_01_JPG.rf.f6e768ab1bcbd83d46b6dc92cbc0619f.jpg',\n",
              "  'bbox': tensor([[0.2863, 0.6622, 0.0253, 0.0314]], device='cuda:0')},\n",
              " {'index': 57,\n",
              "  'filename': '20201006_120115_01_JPG.rf.cb8223ccabe7118bee6e7fd2011662f0.jpg',\n",
              "  'bbox': tensor([], device='cuda:0', size=(0, 4))},\n",
              " {'index': 58,\n",
              "  'filename': '20200930_182017_01_JPG.rf.82871ec84dcb7683ee289d2770cda5fa.jpg',\n",
              "  'bbox': tensor([[0.2524, 0.7293, 0.0411, 0.0476],\n",
              "          [0.1378, 0.6596, 0.0208, 0.0272],\n",
              "          [0.1674, 0.7184, 0.0283, 0.0481],\n",
              "          [0.2178, 0.6328, 0.0197, 0.0309],\n",
              "          [0.3226, 0.7210, 0.0308, 0.0363]], device='cuda:0')},\n",
              " {'index': 59,\n",
              "  'filename': '20201003_194206_01_JPG.rf.fdc93ef9037d6a681325cbff291545fd.jpg',\n",
              "  'bbox': tensor([[0.3154, 0.6680, 0.0263, 0.0493],\n",
              "          [0.4236, 0.7133, 0.0309, 0.0463],\n",
              "          [0.2964, 0.7055, 0.0346, 0.0432],\n",
              "          [0.2451, 0.6345, 0.0243, 0.0353],\n",
              "          [0.3629, 0.6441, 0.0177, 0.0220]], device='cuda:0')},\n",
              " {'index': 60,\n",
              "  'filename': '20200930_161943_01_JPG.rf.bac9a0f59c9b9861ace9e1386f438431.jpg',\n",
              "  'bbox': tensor([[0.5896, 0.6754, 0.0475, 0.0442]], device='cuda:0')},\n",
              " {'index': 61,\n",
              "  'filename': '20201005_135439_01_JPG.rf.3765692a9621de9bf04b9bd95ec1fb02.jpg',\n",
              "  'bbox': tensor([], device='cuda:0', size=(0, 4))},\n",
              " {'index': 62,\n",
              "  'filename': '20201007_100751_01_JPG.rf.4be5a2f65bba69273365ebd6aa6e53b0.jpg',\n",
              "  'bbox': tensor([[0.5625, 0.6697, 0.0358, 0.0410],\n",
              "          [0.6734, 0.7064, 0.0330, 0.0605],\n",
              "          [0.4628, 0.6653, 0.0246, 0.0416]], device='cuda:0')},\n",
              " {'index': 63,\n",
              "  'filename': '20201010_163110_01_JPG.rf.c5e593cc5920891bc13960d58a229899.jpg',\n",
              "  'bbox': tensor([], device='cuda:0', size=(0, 4))},\n",
              " {'index': 64,\n",
              "  'filename': '20200930_101801_01_JPG.rf.aefbe5575f86a36d9b9e2e5370b5ae50.jpg',\n",
              "  'bbox': tensor([], device='cuda:0', size=(0, 4))},\n",
              " {'index': 65,\n",
              "  'filename': '20201009_142325_01_JPG.rf.41d172e9639b43be50c288882df2274a.jpg',\n",
              "  'bbox': tensor([], device='cuda:0', size=(0, 4))},\n",
              " {'index': 66,\n",
              "  'filename': '20201008_131555_01_JPG.rf.4ef46bbbec4e33c001da64d0c7d564e9.jpg',\n",
              "  'bbox': tensor([], device='cuda:0', size=(0, 4))},\n",
              " {'index': 67,\n",
              "  'filename': '20201001_092451_01_JPG.rf.92a7f7b2951d3aeebeaa8aaa8b5a417b.jpg',\n",
              "  'bbox': tensor([[0.3748, 0.7964, 0.0441, 0.0523],\n",
              "          [0.4140, 0.6508, 0.0219, 0.0514],\n",
              "          [0.5656, 0.6535, 0.0379, 0.0331],\n",
              "          [0.2918, 0.6404, 0.0235, 0.0298],\n",
              "          [0.2474, 0.7332, 0.0280, 0.0323],\n",
              "          [0.1811, 0.6276, 0.0188, 0.0237]], device='cuda:0')},\n",
              " {'index': 68,\n",
              "  'filename': '20201005_185607_01_JPG.rf.371e20fa59cc2ab21720f8a4426313a5.jpg',\n",
              "  'bbox': tensor([[0.3801, 0.6623, 0.0256, 0.0256],\n",
              "          [0.1743, 0.7207, 0.0307, 0.0368]], device='cuda:0')},\n",
              " {'index': 69,\n",
              "  'filename': '20201010_112943_01_JPG.rf.3f2279fee92d73e2d9cf45213097a4d8.jpg',\n",
              "  'bbox': tensor([], device='cuda:0', size=(0, 4))},\n",
              " {'index': 70,\n",
              "  'filename': '20200929_091035_01_JPG.rf.cc0f7b275eb3a5dd680df0011fa46c36.jpg',\n",
              "  'bbox': tensor([], device='cuda:0', size=(0, 4))},\n",
              " {'index': 71,\n",
              "  'filename': '20201011_173839_01_JPG.rf.078741d81a9f4e1427ddf7785fb7ebcc.jpg',\n",
              "  'bbox': tensor([], device='cuda:0', size=(0, 4))},\n",
              " {'index': 72,\n",
              "  'filename': '20201002_123251_01_JPG.rf.52481dc09f56630e4f783da7b2b149c6.jpg',\n",
              "  'bbox': tensor([], device='cuda:0', size=(0, 4))},\n",
              " {'index': 73,\n",
              "  'filename': '20201008_121538_01_JPG.rf.26e4e9692f1520f56a8486886d557a93.jpg',\n",
              "  'bbox': tensor([], device='cuda:0', size=(0, 4))},\n",
              " {'index': 74,\n",
              "  'filename': '20201005_115404_01_JPG.rf.10033d52322968275f453689d6bb9c44.jpg',\n",
              "  'bbox': tensor([], device='cuda:0', size=(0, 4))},\n",
              " {'index': 75,\n",
              "  'filename': '20201004_114654_01_JPG.rf.1beffa9a806166e7baf764bae6b40462.jpg',\n",
              "  'bbox': tensor([], device='cuda:0', size=(0, 4))},\n",
              " {'index': 76,\n",
              "  'filename': '20201007_170953_01_JPG.rf.4fd9fc67f1e126efe11dc95f985e89c1.jpg',\n",
              "  'bbox': tensor([], device='cuda:0', size=(0, 4))},\n",
              " {'index': 77,\n",
              "  'filename': '20201005_165532_01_JPG.rf.d3517d9451a50c9f1a4524585e609bdf.jpg',\n",
              "  'bbox': tensor([[0.3236, 0.6739, 0.0241, 0.0382]], device='cuda:0')},\n",
              " {'index': 78,\n",
              "  'filename': '20201001_132601_01_JPG.rf.9f4274bccb82399974ba5b34ec5290ce.jpg',\n",
              "  'bbox': tensor([], device='cuda:0', size=(0, 4))},\n",
              " {'index': 79,\n",
              "  'filename': '20201009_132306_01_JPG.rf.6fa5c9cf244a1e73a735e72d2d92ec3d.jpg',\n",
              "  'bbox': tensor([], device='cuda:0', size=(0, 4))},\n",
              " {'index': 80,\n",
              "  'filename': '20200928_150507_01_JPG.rf.109359154a680b75a67dce1e82062e55.jpg',\n",
              "  'bbox': tensor([], device='cuda:0', size=(0, 4))},\n",
              " {'index': 81,\n",
              "  'filename': '20200930_192036_01_JPG.rf.59c6547cc8b3b2ca5ba6ed777eb4f466.jpg',\n",
              "  'bbox': tensor([[0.7071, 0.6841, 0.0285, 0.0613],\n",
              "          [0.3905, 0.6590, 0.0246, 0.0299],\n",
              "          [0.1613, 0.6494, 0.0286, 0.0384],\n",
              "          [0.1557, 0.6560, 0.0212, 0.0403],\n",
              "          [0.2509, 0.6337, 0.0170, 0.0287]], device='cuda:0')},\n",
              " {'index': 82,\n",
              "  'filename': '20201010_082852_01_JPG.rf.d480c11b259e6aef6b49460e7cb79830.jpg',\n",
              "  'bbox': tensor([], device='cuda:0', size=(0, 4))},\n",
              " {'index': 83,\n",
              "  'filename': '20201009_182432_01_JPG.rf.17209e04f1d5bd5ed8d5858b13bc96fe.jpg',\n",
              "  'bbox': tensor([], device='cuda:0', size=(0, 4))},\n",
              " {'index': 84,\n",
              "  'filename': '20201003_164111_01_JPG.rf.45ae1a5a6fe75516561104c2f310963d.jpg',\n",
              "  'bbox': tensor([], device='cuda:0', size=(0, 4))},\n",
              " {'index': 85,\n",
              "  'filename': '20201002_163400_01_JPG.rf.6fc5242b8118bc95cc46d44191e9fe5c.jpg',\n",
              "  'bbox': tensor([[0.3795, 0.6529, 0.0392, 0.0414]], device='cuda:0')},\n",
              " {'index': 86,\n",
              "  'filename': '20201009_152341_01_JPG.rf.0591b93777de3fe3b3bee5070c1579ad.jpg',\n",
              "  'bbox': tensor([], device='cuda:0', size=(0, 4))},\n",
              " {'index': 87,\n",
              "  'filename': '20200929_121126_01_JPG.rf.c8a3370bb444e2fd41b9557cc1d73566.jpg',\n",
              "  'bbox': tensor([[0.6290, 0.7264, 0.0283, 0.0550],\n",
              "          [0.4937, 0.6729, 0.0338, 0.0393],\n",
              "          [0.2712, 0.7073, 0.0253, 0.0434],\n",
              "          [0.3516, 0.6429, 0.0205, 0.0268],\n",
              "          [0.2043, 0.6603, 0.0201, 0.0225],\n",
              "          [0.3148, 0.7138, 0.0293, 0.0366],\n",
              "          [0.5773, 0.6627, 0.0295, 0.0218],\n",
              "          [0.7094, 0.7093, 0.0287, 0.0277]], device='cuda:0')},\n",
              " {'index': 88,\n",
              "  'filename': '20200930_121836_01_JPG.rf.3b8809996cd2d98cf82fd912d2901671.jpg',\n",
              "  'bbox': tensor([[0.5505, 0.6594, 0.0320, 0.0350]], device='cuda:0')},\n",
              " {'index': 89,\n",
              "  'filename': '20201005_085313_01_JPG.rf.106d708af1a5253af54c962da3989ae2.jpg',\n",
              "  'bbox': tensor([], device='cuda:0', size=(0, 4))},\n",
              " {'index': 90,\n",
              "  'filename': '20201012_074301_01_JPG.rf.aeea80a57963913c15a90385454e9c65.jpg',\n",
              "  'bbox': tensor([], device='cuda:0', size=(0, 4))},\n",
              " {'index': 91,\n",
              "  'filename': '20201006_190315_01_JPG.rf.5b7e808610945c5af42c37c10deb68f5.jpg',\n",
              "  'bbox': tensor([[0.5741, 0.6646, 0.0305, 0.0439]], device='cuda:0')},\n",
              " {'index': 92,\n",
              "  'filename': '20201004_104638_01_JPG.rf.fc2353fdeca3f1b658514e9db489c4f0.jpg',\n",
              "  'bbox': tensor([], device='cuda:0', size=(0, 4))},\n",
              " {'index': 93,\n",
              "  'filename': '20200929_101051_01_JPG.rf.1087dc5d136a81e57d658718bfae11b3.jpg',\n",
              "  'bbox': tensor([], device='cuda:0', size=(0, 4))},\n",
              " {'index': 94,\n",
              "  'filename': '20201008_171704_01_JPG.rf.f63c781a9916b4151a4e706d70f9074c.jpg',\n",
              "  'bbox': tensor([], device='cuda:0', size=(0, 4))},\n",
              " {'index': 95,\n",
              "  'filename': '20201010_143036_01_JPG.rf.ce49ced547214ece69033d016ab043f9.jpg',\n",
              "  'bbox': tensor([], device='cuda:0', size=(0, 4))},\n",
              " {'index': 96,\n",
              "  'filename': '20201008_101503_01_JPG.rf.65a4e2c7ee77c06cf4ae0dfaa930786e.jpg',\n",
              "  'bbox': tensor([], device='cuda:0', size=(0, 4))},\n",
              " {'index': 97,\n",
              "  'filename': '20200929_111110_01_JPG.rf.edae4423a2ce95815bcecdc24ed5fa36.jpg',\n",
              "  'bbox': tensor([[0.2917, 0.6743, 0.0239, 0.0423]], device='cuda:0')},\n",
              " {'index': 98,\n",
              "  'filename': '20201012_085146_01_JPG.rf.17b44f92fa8cfa93ea1c0da1c404d84c.jpg',\n",
              "  'bbox': tensor([], device='cuda:0', size=(0, 4))}]"
            ]
          },
          "metadata": {},
          "execution_count": 132
        }
      ]
    },
    {
      "cell_type": "code",
      "source": [
        " df1 = pd.DataFrame(results)"
      ],
      "metadata": {
        "id": "xtXuS4oktE3f"
      },
      "execution_count": null,
      "outputs": []
    },
    {
      "cell_type": "code",
      "source": [
        "type(df1)"
      ],
      "metadata": {
        "id": "pTXwOIp5SmDw",
        "outputId": "78b3d465-9ab7-43b8-c5ac-8eacd49d4883",
        "colab": {
          "base_uri": "https://localhost:8080/",
          "height": 204
        }
      },
      "execution_count": null,
      "outputs": [
        {
          "output_type": "execute_result",
          "data": {
            "text/plain": [
              "pandas.core.frame.DataFrame"
            ],
            "text/html": [
              "<div style=\"max-width:800px; border: 1px solid var(--colab-border-color);\"><style>\n",
              "      pre.function-repr-contents {\n",
              "        overflow-x: auto;\n",
              "        padding: 8px 12px;\n",
              "        max-height: 500px;\n",
              "      }\n",
              "\n",
              "      pre.function-repr-contents.function-repr-contents-collapsed {\n",
              "        cursor: pointer;\n",
              "        max-height: 100px;\n",
              "      }\n",
              "    </style>\n",
              "    <pre style=\"white-space: initial; background:\n",
              "         var(--colab-secondary-surface-color); padding: 8px 12px;\n",
              "         border-bottom: 1px solid var(--colab-border-color);\"><b>pandas.core.frame.DataFrame</b><br/>def __init__(data=None, index: Axes | None=None, columns: Axes | None=None, dtype: Dtype | None=None, copy: bool | None=None) -&gt; None</pre><pre class=\"function-repr-contents function-repr-contents-collapsed\" style=\"\"><a class=\"filepath\" style=\"display:none\" href=\"#\">/usr/local/lib/python3.11/dist-packages/pandas/core/frame.py</a>Two-dimensional, size-mutable, potentially heterogeneous tabular data.\n",
              "\n",
              "Data structure also contains labeled axes (rows and columns).\n",
              "Arithmetic operations align on both row and column labels. Can be\n",
              "thought of as a dict-like container for Series objects. The primary\n",
              "pandas data structure.\n",
              "\n",
              "Parameters\n",
              "----------\n",
              "data : ndarray (structured or homogeneous), Iterable, dict, or DataFrame\n",
              "    Dict can contain Series, arrays, constants, dataclass or list-like objects. If\n",
              "    data is a dict, column order follows insertion-order. If a dict contains Series\n",
              "    which have an index defined, it is aligned by its index. This alignment also\n",
              "    occurs if data is a Series or a DataFrame itself. Alignment is done on\n",
              "    Series/DataFrame inputs.\n",
              "\n",
              "    If data is a list of dicts, column order follows insertion-order.\n",
              "\n",
              "index : Index or array-like\n",
              "    Index to use for resulting frame. Will default to RangeIndex if\n",
              "    no indexing information part of input data and no index provided.\n",
              "columns : Index or array-like\n",
              "    Column labels to use for resulting frame when data does not have them,\n",
              "    defaulting to RangeIndex(0, 1, 2, ..., n). If data contains column labels,\n",
              "    will perform column selection instead.\n",
              "dtype : dtype, default None\n",
              "    Data type to force. Only a single dtype is allowed. If None, infer.\n",
              "copy : bool or None, default None\n",
              "    Copy data from inputs.\n",
              "    For dict data, the default of None behaves like ``copy=True``.  For DataFrame\n",
              "    or 2d ndarray input, the default of None behaves like ``copy=False``.\n",
              "    If data is a dict containing one or more Series (possibly of different dtypes),\n",
              "    ``copy=False`` will ensure that these inputs are not copied.\n",
              "\n",
              "    .. versionchanged:: 1.3.0\n",
              "\n",
              "See Also\n",
              "--------\n",
              "DataFrame.from_records : Constructor from tuples, also record arrays.\n",
              "DataFrame.from_dict : From dicts of Series, arrays, or dicts.\n",
              "read_csv : Read a comma-separated values (csv) file into DataFrame.\n",
              "read_table : Read general delimited file into DataFrame.\n",
              "read_clipboard : Read text from clipboard into DataFrame.\n",
              "\n",
              "Notes\n",
              "-----\n",
              "Please reference the :ref:`User Guide &lt;basics.dataframe&gt;` for more information.\n",
              "\n",
              "Examples\n",
              "--------\n",
              "Constructing DataFrame from a dictionary.\n",
              "\n",
              "&gt;&gt;&gt; d = {&#x27;col1&#x27;: [1, 2], &#x27;col2&#x27;: [3, 4]}\n",
              "&gt;&gt;&gt; df = pd.DataFrame(data=d)\n",
              "&gt;&gt;&gt; df\n",
              "   col1  col2\n",
              "0     1     3\n",
              "1     2     4\n",
              "\n",
              "Notice that the inferred dtype is int64.\n",
              "\n",
              "&gt;&gt;&gt; df.dtypes\n",
              "col1    int64\n",
              "col2    int64\n",
              "dtype: object\n",
              "\n",
              "To enforce a single dtype:\n",
              "\n",
              "&gt;&gt;&gt; df = pd.DataFrame(data=d, dtype=np.int8)\n",
              "&gt;&gt;&gt; df.dtypes\n",
              "col1    int8\n",
              "col2    int8\n",
              "dtype: object\n",
              "\n",
              "Constructing DataFrame from a dictionary including Series:\n",
              "\n",
              "&gt;&gt;&gt; d = {&#x27;col1&#x27;: [0, 1, 2, 3], &#x27;col2&#x27;: pd.Series([2, 3], index=[2, 3])}\n",
              "&gt;&gt;&gt; pd.DataFrame(data=d, index=[0, 1, 2, 3])\n",
              "   col1  col2\n",
              "0     0   NaN\n",
              "1     1   NaN\n",
              "2     2   2.0\n",
              "3     3   3.0\n",
              "\n",
              "Constructing DataFrame from numpy ndarray:\n",
              "\n",
              "&gt;&gt;&gt; df2 = pd.DataFrame(np.array([[1, 2, 3], [4, 5, 6], [7, 8, 9]]),\n",
              "...                    columns=[&#x27;a&#x27;, &#x27;b&#x27;, &#x27;c&#x27;])\n",
              "&gt;&gt;&gt; df2\n",
              "   a  b  c\n",
              "0  1  2  3\n",
              "1  4  5  6\n",
              "2  7  8  9\n",
              "\n",
              "Constructing DataFrame from a numpy ndarray that has labeled columns:\n",
              "\n",
              "&gt;&gt;&gt; data = np.array([(1, 2, 3), (4, 5, 6), (7, 8, 9)],\n",
              "...                 dtype=[(&quot;a&quot;, &quot;i4&quot;), (&quot;b&quot;, &quot;i4&quot;), (&quot;c&quot;, &quot;i4&quot;)])\n",
              "&gt;&gt;&gt; df3 = pd.DataFrame(data, columns=[&#x27;c&#x27;, &#x27;a&#x27;])\n",
              "...\n",
              "&gt;&gt;&gt; df3\n",
              "   c  a\n",
              "0  3  1\n",
              "1  6  4\n",
              "2  9  7\n",
              "\n",
              "Constructing DataFrame from dataclass:\n",
              "\n",
              "&gt;&gt;&gt; from dataclasses import make_dataclass\n",
              "&gt;&gt;&gt; Point = make_dataclass(&quot;Point&quot;, [(&quot;x&quot;, int), (&quot;y&quot;, int)])\n",
              "&gt;&gt;&gt; pd.DataFrame([Point(0, 0), Point(0, 3), Point(2, 3)])\n",
              "   x  y\n",
              "0  0  0\n",
              "1  0  3\n",
              "2  2  3\n",
              "\n",
              "Constructing DataFrame from Series/DataFrame:\n",
              "\n",
              "&gt;&gt;&gt; ser = pd.Series([1, 2, 3], index=[&quot;a&quot;, &quot;b&quot;, &quot;c&quot;])\n",
              "&gt;&gt;&gt; df = pd.DataFrame(data=ser, index=[&quot;a&quot;, &quot;c&quot;])\n",
              "&gt;&gt;&gt; df\n",
              "   0\n",
              "a  1\n",
              "c  3\n",
              "\n",
              "&gt;&gt;&gt; df1 = pd.DataFrame([1, 2, 3], index=[&quot;a&quot;, &quot;b&quot;, &quot;c&quot;], columns=[&quot;x&quot;])\n",
              "&gt;&gt;&gt; df2 = pd.DataFrame(data=df1, index=[&quot;a&quot;, &quot;c&quot;])\n",
              "&gt;&gt;&gt; df2\n",
              "   x\n",
              "a  1\n",
              "c  3</pre>\n",
              "      <script>\n",
              "      if (google.colab.kernel.accessAllowed && google.colab.files && google.colab.files.view) {\n",
              "        for (const element of document.querySelectorAll('.filepath')) {\n",
              "          element.style.display = 'block'\n",
              "          element.onclick = (event) => {\n",
              "            event.preventDefault();\n",
              "            event.stopPropagation();\n",
              "            google.colab.files.view(element.textContent, 509);\n",
              "          };\n",
              "        }\n",
              "      }\n",
              "      for (const element of document.querySelectorAll('.function-repr-contents')) {\n",
              "        element.onclick = (event) => {\n",
              "          event.preventDefault();\n",
              "          event.stopPropagation();\n",
              "          element.classList.toggle('function-repr-contents-collapsed');\n",
              "        };\n",
              "      }\n",
              "      </script>\n",
              "      </div>"
            ]
          },
          "metadata": {},
          "execution_count": 134
        }
      ]
    },
    {
      "cell_type": "code",
      "source": [
        "df1"
      ],
      "metadata": {
        "id": "jzeKO1ixSyAP",
        "outputId": "5772b350-bd65-4573-f06a-e33ea51bc37a",
        "colab": {
          "base_uri": "https://localhost:8080/",
          "height": 424
        }
      },
      "execution_count": null,
      "outputs": [
        {
          "output_type": "execute_result",
          "data": {
            "text/plain": [
              "    index                                           filename  \\\n",
              "0       0  20201007_130843_01_JPG.rf.8f442fbcd9cd5e9d02e1...   \n",
              "1       1  20201006_090025_01_JPG.rf.aed12bd2aed78041950f...   \n",
              "2       2  20200929_141202_01_JPG.rf.3b6082af0a88884363aa...   \n",
              "3       3  20201001_182725_01_JPG.rf.c2f7e6a1e5a06fdf1bdc...   \n",
              "4       4  20201011_143747_01_JPG.rf.1a8844176e2f98a7e391...   \n",
              "..    ...                                                ...   \n",
              "94     94  20201008_171704_01_JPG.rf.f63c781a9916b4151a4e...   \n",
              "95     95  20201010_143036_01_JPG.rf.ce49ced547214ece6903...   \n",
              "96     96  20201008_101503_01_JPG.rf.65a4e2c7ee77c06cf4ae...   \n",
              "97     97  20200929_111110_01_JPG.rf.edae4423a2ce95815bce...   \n",
              "98     98  20201012_085146_01_JPG.rf.17b44f92fa8cfa93ea1c...   \n",
              "\n",
              "                                                 bbox  \n",
              "0                                                  []  \n",
              "1                                                  []  \n",
              "2   [[tensor(0.5229, device='cuda:0'), tensor(0.64...  \n",
              "3   [[tensor(0.7054, device='cuda:0'), tensor(0.68...  \n",
              "4                                                  []  \n",
              "..                                                ...  \n",
              "94                                                 []  \n",
              "95                                                 []  \n",
              "96                                                 []  \n",
              "97  [[tensor(0.2917, device='cuda:0'), tensor(0.67...  \n",
              "98                                                 []  \n",
              "\n",
              "[99 rows x 3 columns]"
            ],
            "text/html": [
              "\n",
              "  <div id=\"df-66f6626b-be09-4a78-969a-0eeb9545d738\" class=\"colab-df-container\">\n",
              "    <div>\n",
              "<style scoped>\n",
              "    .dataframe tbody tr th:only-of-type {\n",
              "        vertical-align: middle;\n",
              "    }\n",
              "\n",
              "    .dataframe tbody tr th {\n",
              "        vertical-align: top;\n",
              "    }\n",
              "\n",
              "    .dataframe thead th {\n",
              "        text-align: right;\n",
              "    }\n",
              "</style>\n",
              "<table border=\"1\" class=\"dataframe\">\n",
              "  <thead>\n",
              "    <tr style=\"text-align: right;\">\n",
              "      <th></th>\n",
              "      <th>index</th>\n",
              "      <th>filename</th>\n",
              "      <th>bbox</th>\n",
              "    </tr>\n",
              "  </thead>\n",
              "  <tbody>\n",
              "    <tr>\n",
              "      <th>0</th>\n",
              "      <td>0</td>\n",
              "      <td>20201007_130843_01_JPG.rf.8f442fbcd9cd5e9d02e1...</td>\n",
              "      <td>[]</td>\n",
              "    </tr>\n",
              "    <tr>\n",
              "      <th>1</th>\n",
              "      <td>1</td>\n",
              "      <td>20201006_090025_01_JPG.rf.aed12bd2aed78041950f...</td>\n",
              "      <td>[]</td>\n",
              "    </tr>\n",
              "    <tr>\n",
              "      <th>2</th>\n",
              "      <td>2</td>\n",
              "      <td>20200929_141202_01_JPG.rf.3b6082af0a88884363aa...</td>\n",
              "      <td>[[tensor(0.5229, device='cuda:0'), tensor(0.64...</td>\n",
              "    </tr>\n",
              "    <tr>\n",
              "      <th>3</th>\n",
              "      <td>3</td>\n",
              "      <td>20201001_182725_01_JPG.rf.c2f7e6a1e5a06fdf1bdc...</td>\n",
              "      <td>[[tensor(0.7054, device='cuda:0'), tensor(0.68...</td>\n",
              "    </tr>\n",
              "    <tr>\n",
              "      <th>4</th>\n",
              "      <td>4</td>\n",
              "      <td>20201011_143747_01_JPG.rf.1a8844176e2f98a7e391...</td>\n",
              "      <td>[]</td>\n",
              "    </tr>\n",
              "    <tr>\n",
              "      <th>...</th>\n",
              "      <td>...</td>\n",
              "      <td>...</td>\n",
              "      <td>...</td>\n",
              "    </tr>\n",
              "    <tr>\n",
              "      <th>94</th>\n",
              "      <td>94</td>\n",
              "      <td>20201008_171704_01_JPG.rf.f63c781a9916b4151a4e...</td>\n",
              "      <td>[]</td>\n",
              "    </tr>\n",
              "    <tr>\n",
              "      <th>95</th>\n",
              "      <td>95</td>\n",
              "      <td>20201010_143036_01_JPG.rf.ce49ced547214ece6903...</td>\n",
              "      <td>[]</td>\n",
              "    </tr>\n",
              "    <tr>\n",
              "      <th>96</th>\n",
              "      <td>96</td>\n",
              "      <td>20201008_101503_01_JPG.rf.65a4e2c7ee77c06cf4ae...</td>\n",
              "      <td>[]</td>\n",
              "    </tr>\n",
              "    <tr>\n",
              "      <th>97</th>\n",
              "      <td>97</td>\n",
              "      <td>20200929_111110_01_JPG.rf.edae4423a2ce95815bce...</td>\n",
              "      <td>[[tensor(0.2917, device='cuda:0'), tensor(0.67...</td>\n",
              "    </tr>\n",
              "    <tr>\n",
              "      <th>98</th>\n",
              "      <td>98</td>\n",
              "      <td>20201012_085146_01_JPG.rf.17b44f92fa8cfa93ea1c...</td>\n",
              "      <td>[]</td>\n",
              "    </tr>\n",
              "  </tbody>\n",
              "</table>\n",
              "<p>99 rows × 3 columns</p>\n",
              "</div>\n",
              "    <div class=\"colab-df-buttons\">\n",
              "\n",
              "  <div class=\"colab-df-container\">\n",
              "    <button class=\"colab-df-convert\" onclick=\"convertToInteractive('df-66f6626b-be09-4a78-969a-0eeb9545d738')\"\n",
              "            title=\"Convert this dataframe to an interactive table.\"\n",
              "            style=\"display:none;\">\n",
              "\n",
              "  <svg xmlns=\"http://www.w3.org/2000/svg\" height=\"24px\" viewBox=\"0 -960 960 960\">\n",
              "    <path d=\"M120-120v-720h720v720H120Zm60-500h600v-160H180v160Zm220 220h160v-160H400v160Zm0 220h160v-160H400v160ZM180-400h160v-160H180v160Zm440 0h160v-160H620v160ZM180-180h160v-160H180v160Zm440 0h160v-160H620v160Z\"/>\n",
              "  </svg>\n",
              "    </button>\n",
              "\n",
              "  <style>\n",
              "    .colab-df-container {\n",
              "      display:flex;\n",
              "      gap: 12px;\n",
              "    }\n",
              "\n",
              "    .colab-df-convert {\n",
              "      background-color: #E8F0FE;\n",
              "      border: none;\n",
              "      border-radius: 50%;\n",
              "      cursor: pointer;\n",
              "      display: none;\n",
              "      fill: #1967D2;\n",
              "      height: 32px;\n",
              "      padding: 0 0 0 0;\n",
              "      width: 32px;\n",
              "    }\n",
              "\n",
              "    .colab-df-convert:hover {\n",
              "      background-color: #E2EBFA;\n",
              "      box-shadow: 0px 1px 2px rgba(60, 64, 67, 0.3), 0px 1px 3px 1px rgba(60, 64, 67, 0.15);\n",
              "      fill: #174EA6;\n",
              "    }\n",
              "\n",
              "    .colab-df-buttons div {\n",
              "      margin-bottom: 4px;\n",
              "    }\n",
              "\n",
              "    [theme=dark] .colab-df-convert {\n",
              "      background-color: #3B4455;\n",
              "      fill: #D2E3FC;\n",
              "    }\n",
              "\n",
              "    [theme=dark] .colab-df-convert:hover {\n",
              "      background-color: #434B5C;\n",
              "      box-shadow: 0px 1px 3px 1px rgba(0, 0, 0, 0.15);\n",
              "      filter: drop-shadow(0px 1px 2px rgba(0, 0, 0, 0.3));\n",
              "      fill: #FFFFFF;\n",
              "    }\n",
              "  </style>\n",
              "\n",
              "    <script>\n",
              "      const buttonEl =\n",
              "        document.querySelector('#df-66f6626b-be09-4a78-969a-0eeb9545d738 button.colab-df-convert');\n",
              "      buttonEl.style.display =\n",
              "        google.colab.kernel.accessAllowed ? 'block' : 'none';\n",
              "\n",
              "      async function convertToInteractive(key) {\n",
              "        const element = document.querySelector('#df-66f6626b-be09-4a78-969a-0eeb9545d738');\n",
              "        const dataTable =\n",
              "          await google.colab.kernel.invokeFunction('convertToInteractive',\n",
              "                                                    [key], {});\n",
              "        if (!dataTable) return;\n",
              "\n",
              "        const docLinkHtml = 'Like what you see? Visit the ' +\n",
              "          '<a target=\"_blank\" href=https://colab.research.google.com/notebooks/data_table.ipynb>data table notebook</a>'\n",
              "          + ' to learn more about interactive tables.';\n",
              "        element.innerHTML = '';\n",
              "        dataTable['output_type'] = 'display_data';\n",
              "        await google.colab.output.renderOutput(dataTable, element);\n",
              "        const docLink = document.createElement('div');\n",
              "        docLink.innerHTML = docLinkHtml;\n",
              "        element.appendChild(docLink);\n",
              "      }\n",
              "    </script>\n",
              "  </div>\n",
              "\n",
              "\n",
              "    <div id=\"df-7f78e08e-2a4b-48a7-992a-c3b1dd5ab945\">\n",
              "      <button class=\"colab-df-quickchart\" onclick=\"quickchart('df-7f78e08e-2a4b-48a7-992a-c3b1dd5ab945')\"\n",
              "                title=\"Suggest charts\"\n",
              "                style=\"display:none;\">\n",
              "\n",
              "<svg xmlns=\"http://www.w3.org/2000/svg\" height=\"24px\"viewBox=\"0 0 24 24\"\n",
              "     width=\"24px\">\n",
              "    <g>\n",
              "        <path d=\"M19 3H5c-1.1 0-2 .9-2 2v14c0 1.1.9 2 2 2h14c1.1 0 2-.9 2-2V5c0-1.1-.9-2-2-2zM9 17H7v-7h2v7zm4 0h-2V7h2v10zm4 0h-2v-4h2v4z\"/>\n",
              "    </g>\n",
              "</svg>\n",
              "      </button>\n",
              "\n",
              "<style>\n",
              "  .colab-df-quickchart {\n",
              "      --bg-color: #E8F0FE;\n",
              "      --fill-color: #1967D2;\n",
              "      --hover-bg-color: #E2EBFA;\n",
              "      --hover-fill-color: #174EA6;\n",
              "      --disabled-fill-color: #AAA;\n",
              "      --disabled-bg-color: #DDD;\n",
              "  }\n",
              "\n",
              "  [theme=dark] .colab-df-quickchart {\n",
              "      --bg-color: #3B4455;\n",
              "      --fill-color: #D2E3FC;\n",
              "      --hover-bg-color: #434B5C;\n",
              "      --hover-fill-color: #FFFFFF;\n",
              "      --disabled-bg-color: #3B4455;\n",
              "      --disabled-fill-color: #666;\n",
              "  }\n",
              "\n",
              "  .colab-df-quickchart {\n",
              "    background-color: var(--bg-color);\n",
              "    border: none;\n",
              "    border-radius: 50%;\n",
              "    cursor: pointer;\n",
              "    display: none;\n",
              "    fill: var(--fill-color);\n",
              "    height: 32px;\n",
              "    padding: 0;\n",
              "    width: 32px;\n",
              "  }\n",
              "\n",
              "  .colab-df-quickchart:hover {\n",
              "    background-color: var(--hover-bg-color);\n",
              "    box-shadow: 0 1px 2px rgba(60, 64, 67, 0.3), 0 1px 3px 1px rgba(60, 64, 67, 0.15);\n",
              "    fill: var(--button-hover-fill-color);\n",
              "  }\n",
              "\n",
              "  .colab-df-quickchart-complete:disabled,\n",
              "  .colab-df-quickchart-complete:disabled:hover {\n",
              "    background-color: var(--disabled-bg-color);\n",
              "    fill: var(--disabled-fill-color);\n",
              "    box-shadow: none;\n",
              "  }\n",
              "\n",
              "  .colab-df-spinner {\n",
              "    border: 2px solid var(--fill-color);\n",
              "    border-color: transparent;\n",
              "    border-bottom-color: var(--fill-color);\n",
              "    animation:\n",
              "      spin 1s steps(1) infinite;\n",
              "  }\n",
              "\n",
              "  @keyframes spin {\n",
              "    0% {\n",
              "      border-color: transparent;\n",
              "      border-bottom-color: var(--fill-color);\n",
              "      border-left-color: var(--fill-color);\n",
              "    }\n",
              "    20% {\n",
              "      border-color: transparent;\n",
              "      border-left-color: var(--fill-color);\n",
              "      border-top-color: var(--fill-color);\n",
              "    }\n",
              "    30% {\n",
              "      border-color: transparent;\n",
              "      border-left-color: var(--fill-color);\n",
              "      border-top-color: var(--fill-color);\n",
              "      border-right-color: var(--fill-color);\n",
              "    }\n",
              "    40% {\n",
              "      border-color: transparent;\n",
              "      border-right-color: var(--fill-color);\n",
              "      border-top-color: var(--fill-color);\n",
              "    }\n",
              "    60% {\n",
              "      border-color: transparent;\n",
              "      border-right-color: var(--fill-color);\n",
              "    }\n",
              "    80% {\n",
              "      border-color: transparent;\n",
              "      border-right-color: var(--fill-color);\n",
              "      border-bottom-color: var(--fill-color);\n",
              "    }\n",
              "    90% {\n",
              "      border-color: transparent;\n",
              "      border-bottom-color: var(--fill-color);\n",
              "    }\n",
              "  }\n",
              "</style>\n",
              "\n",
              "      <script>\n",
              "        async function quickchart(key) {\n",
              "          const quickchartButtonEl =\n",
              "            document.querySelector('#' + key + ' button');\n",
              "          quickchartButtonEl.disabled = true;  // To prevent multiple clicks.\n",
              "          quickchartButtonEl.classList.add('colab-df-spinner');\n",
              "          try {\n",
              "            const charts = await google.colab.kernel.invokeFunction(\n",
              "                'suggestCharts', [key], {});\n",
              "          } catch (error) {\n",
              "            console.error('Error during call to suggestCharts:', error);\n",
              "          }\n",
              "          quickchartButtonEl.classList.remove('colab-df-spinner');\n",
              "          quickchartButtonEl.classList.add('colab-df-quickchart-complete');\n",
              "        }\n",
              "        (() => {\n",
              "          let quickchartButtonEl =\n",
              "            document.querySelector('#df-7f78e08e-2a4b-48a7-992a-c3b1dd5ab945 button');\n",
              "          quickchartButtonEl.style.display =\n",
              "            google.colab.kernel.accessAllowed ? 'block' : 'none';\n",
              "        })();\n",
              "      </script>\n",
              "    </div>\n",
              "    </div>\n",
              "  </div>\n"
            ],
            "application/vnd.google.colaboratory.intrinsic+json": {
              "type": "dataframe",
              "variable_name": "df1",
              "summary": "{\n  \"name\": \"df1\",\n  \"rows\": 99,\n  \"fields\": [\n    {\n      \"column\": \"index\",\n      \"properties\": {\n        \"dtype\": \"number\",\n        \"std\": 28,\n        \"min\": 0,\n        \"max\": 98,\n        \"num_unique_values\": 99,\n        \"samples\": [\n          62,\n          40,\n          95\n        ],\n        \"semantic_type\": \"\",\n        \"description\": \"\"\n      }\n    },\n    {\n      \"column\": \"filename\",\n      \"properties\": {\n        \"dtype\": \"string\",\n        \"num_unique_values\": 99,\n        \"samples\": [\n          \"20201007_100751_01_JPG.rf.4be5a2f65bba69273365ebd6aa6e53b0.jpg\",\n          \"20201008_111520_01_JPG.rf.1660f3a813628a7d635f4c21179e281b.jpg\",\n          \"20201010_143036_01_JPG.rf.ce49ced547214ece69033d016ab043f9.jpg\"\n        ],\n        \"semantic_type\": \"\",\n        \"description\": \"\"\n      }\n    },\n    {\n      \"column\": \"bbox\",\n      \"properties\": {\n        \"dtype\": \"string\",\n        \"num_unique_values\": 99,\n        \"samples\": [\n          \"tensor([[0.5625, 0.6697, 0.0358, 0.0410],\\n        [0.6734, 0.7064, 0.0330, 0.0605],\\n        [0.4628, 0.6653, 0.0246, 0.0416]], device='cuda:0')\",\n          \"tensor([], device='cuda:0', size=(0, 4))\",\n          \"tensor([], device='cuda:0', size=(0, 4))\"\n        ],\n        \"semantic_type\": \"\",\n        \"description\": \"\"\n      }\n    }\n  ]\n}"
            }
          },
          "metadata": {},
          "execution_count": 135
        }
      ]
    },
    {
      "cell_type": "code",
      "source": [
        "import torch\n",
        "import numpy as np\n",
        "\n",
        "def modify_bbox(tensor):\n",
        "    if isinstance(tensor, torch.Tensor):\n",
        "        if tensor.is_cuda:\n",
        "            tensor = tensor.cpu()\n",
        "        tensor = tensor.numpy()\n",
        "\n",
        "    if tensor.size == 0:\n",
        "        return np.array(-1)\n",
        "    elif tensor.ndim == 1:\n",
        "        return np.insert(tensor, 0, 0)\n",
        "    elif tensor.ndim == 2:\n",
        "        return np.insert(tensor, 0, 0, axis=1)\n",
        "    else:\n",
        "        return tensor\n",
        "\n",
        "df1[\"bbox\"] = df1[\"bbox\"].apply(modify_bbox)"
      ],
      "metadata": {
        "id": "8sU5CSkDS5wS"
      },
      "execution_count": null,
      "outputs": []
    },
    {
      "cell_type": "code",
      "source": [
        "df1"
      ],
      "metadata": {
        "id": "Fae-a5J8ZXuy",
        "outputId": "13b23f0d-eb80-4909-f3b4-e26fde74795a",
        "colab": {
          "base_uri": "https://localhost:8080/",
          "height": 424
        }
      },
      "execution_count": null,
      "outputs": [
        {
          "output_type": "execute_result",
          "data": {
            "text/plain": [
              "    index                                           filename  \\\n",
              "0       0  20201007_130843_01_JPG.rf.8f442fbcd9cd5e9d02e1...   \n",
              "1       1  20201006_090025_01_JPG.rf.aed12bd2aed78041950f...   \n",
              "2       2  20200929_141202_01_JPG.rf.3b6082af0a88884363aa...   \n",
              "3       3  20201001_182725_01_JPG.rf.c2f7e6a1e5a06fdf1bdc...   \n",
              "4       4  20201011_143747_01_JPG.rf.1a8844176e2f98a7e391...   \n",
              "..    ...                                                ...   \n",
              "94     94  20201008_171704_01_JPG.rf.f63c781a9916b4151a4e...   \n",
              "95     95  20201010_143036_01_JPG.rf.ce49ced547214ece6903...   \n",
              "96     96  20201008_101503_01_JPG.rf.65a4e2c7ee77c06cf4ae...   \n",
              "97     97  20200929_111110_01_JPG.rf.edae4423a2ce95815bce...   \n",
              "98     98  20201012_085146_01_JPG.rf.17b44f92fa8cfa93ea1c...   \n",
              "\n",
              "                                                 bbox  \n",
              "0                                                  -1  \n",
              "1                                                  -1  \n",
              "2   [[0.0, 0.5228618, 0.64532596, 0.018595649, 0.0...  \n",
              "3   [[0.0, 0.7053524, 0.6864404, 0.04129925, 0.047...  \n",
              "4                                                  -1  \n",
              "..                                                ...  \n",
              "94                                                 -1  \n",
              "95                                                 -1  \n",
              "96                                                 -1  \n",
              "97  [[0.0, 0.29171166, 0.67426825, 0.02392943, 0.0...  \n",
              "98                                                 -1  \n",
              "\n",
              "[99 rows x 3 columns]"
            ],
            "text/html": [
              "\n",
              "  <div id=\"df-0f08c69c-0222-4295-8196-089a36b2113f\" class=\"colab-df-container\">\n",
              "    <div>\n",
              "<style scoped>\n",
              "    .dataframe tbody tr th:only-of-type {\n",
              "        vertical-align: middle;\n",
              "    }\n",
              "\n",
              "    .dataframe tbody tr th {\n",
              "        vertical-align: top;\n",
              "    }\n",
              "\n",
              "    .dataframe thead th {\n",
              "        text-align: right;\n",
              "    }\n",
              "</style>\n",
              "<table border=\"1\" class=\"dataframe\">\n",
              "  <thead>\n",
              "    <tr style=\"text-align: right;\">\n",
              "      <th></th>\n",
              "      <th>index</th>\n",
              "      <th>filename</th>\n",
              "      <th>bbox</th>\n",
              "    </tr>\n",
              "  </thead>\n",
              "  <tbody>\n",
              "    <tr>\n",
              "      <th>0</th>\n",
              "      <td>0</td>\n",
              "      <td>20201007_130843_01_JPG.rf.8f442fbcd9cd5e9d02e1...</td>\n",
              "      <td>-1</td>\n",
              "    </tr>\n",
              "    <tr>\n",
              "      <th>1</th>\n",
              "      <td>1</td>\n",
              "      <td>20201006_090025_01_JPG.rf.aed12bd2aed78041950f...</td>\n",
              "      <td>-1</td>\n",
              "    </tr>\n",
              "    <tr>\n",
              "      <th>2</th>\n",
              "      <td>2</td>\n",
              "      <td>20200929_141202_01_JPG.rf.3b6082af0a88884363aa...</td>\n",
              "      <td>[[0.0, 0.5228618, 0.64532596, 0.018595649, 0.0...</td>\n",
              "    </tr>\n",
              "    <tr>\n",
              "      <th>3</th>\n",
              "      <td>3</td>\n",
              "      <td>20201001_182725_01_JPG.rf.c2f7e6a1e5a06fdf1bdc...</td>\n",
              "      <td>[[0.0, 0.7053524, 0.6864404, 0.04129925, 0.047...</td>\n",
              "    </tr>\n",
              "    <tr>\n",
              "      <th>4</th>\n",
              "      <td>4</td>\n",
              "      <td>20201011_143747_01_JPG.rf.1a8844176e2f98a7e391...</td>\n",
              "      <td>-1</td>\n",
              "    </tr>\n",
              "    <tr>\n",
              "      <th>...</th>\n",
              "      <td>...</td>\n",
              "      <td>...</td>\n",
              "      <td>...</td>\n",
              "    </tr>\n",
              "    <tr>\n",
              "      <th>94</th>\n",
              "      <td>94</td>\n",
              "      <td>20201008_171704_01_JPG.rf.f63c781a9916b4151a4e...</td>\n",
              "      <td>-1</td>\n",
              "    </tr>\n",
              "    <tr>\n",
              "      <th>95</th>\n",
              "      <td>95</td>\n",
              "      <td>20201010_143036_01_JPG.rf.ce49ced547214ece6903...</td>\n",
              "      <td>-1</td>\n",
              "    </tr>\n",
              "    <tr>\n",
              "      <th>96</th>\n",
              "      <td>96</td>\n",
              "      <td>20201008_101503_01_JPG.rf.65a4e2c7ee77c06cf4ae...</td>\n",
              "      <td>-1</td>\n",
              "    </tr>\n",
              "    <tr>\n",
              "      <th>97</th>\n",
              "      <td>97</td>\n",
              "      <td>20200929_111110_01_JPG.rf.edae4423a2ce95815bce...</td>\n",
              "      <td>[[0.0, 0.29171166, 0.67426825, 0.02392943, 0.0...</td>\n",
              "    </tr>\n",
              "    <tr>\n",
              "      <th>98</th>\n",
              "      <td>98</td>\n",
              "      <td>20201012_085146_01_JPG.rf.17b44f92fa8cfa93ea1c...</td>\n",
              "      <td>-1</td>\n",
              "    </tr>\n",
              "  </tbody>\n",
              "</table>\n",
              "<p>99 rows × 3 columns</p>\n",
              "</div>\n",
              "    <div class=\"colab-df-buttons\">\n",
              "\n",
              "  <div class=\"colab-df-container\">\n",
              "    <button class=\"colab-df-convert\" onclick=\"convertToInteractive('df-0f08c69c-0222-4295-8196-089a36b2113f')\"\n",
              "            title=\"Convert this dataframe to an interactive table.\"\n",
              "            style=\"display:none;\">\n",
              "\n",
              "  <svg xmlns=\"http://www.w3.org/2000/svg\" height=\"24px\" viewBox=\"0 -960 960 960\">\n",
              "    <path d=\"M120-120v-720h720v720H120Zm60-500h600v-160H180v160Zm220 220h160v-160H400v160Zm0 220h160v-160H400v160ZM180-400h160v-160H180v160Zm440 0h160v-160H620v160ZM180-180h160v-160H180v160Zm440 0h160v-160H620v160Z\"/>\n",
              "  </svg>\n",
              "    </button>\n",
              "\n",
              "  <style>\n",
              "    .colab-df-container {\n",
              "      display:flex;\n",
              "      gap: 12px;\n",
              "    }\n",
              "\n",
              "    .colab-df-convert {\n",
              "      background-color: #E8F0FE;\n",
              "      border: none;\n",
              "      border-radius: 50%;\n",
              "      cursor: pointer;\n",
              "      display: none;\n",
              "      fill: #1967D2;\n",
              "      height: 32px;\n",
              "      padding: 0 0 0 0;\n",
              "      width: 32px;\n",
              "    }\n",
              "\n",
              "    .colab-df-convert:hover {\n",
              "      background-color: #E2EBFA;\n",
              "      box-shadow: 0px 1px 2px rgba(60, 64, 67, 0.3), 0px 1px 3px 1px rgba(60, 64, 67, 0.15);\n",
              "      fill: #174EA6;\n",
              "    }\n",
              "\n",
              "    .colab-df-buttons div {\n",
              "      margin-bottom: 4px;\n",
              "    }\n",
              "\n",
              "    [theme=dark] .colab-df-convert {\n",
              "      background-color: #3B4455;\n",
              "      fill: #D2E3FC;\n",
              "    }\n",
              "\n",
              "    [theme=dark] .colab-df-convert:hover {\n",
              "      background-color: #434B5C;\n",
              "      box-shadow: 0px 1px 3px 1px rgba(0, 0, 0, 0.15);\n",
              "      filter: drop-shadow(0px 1px 2px rgba(0, 0, 0, 0.3));\n",
              "      fill: #FFFFFF;\n",
              "    }\n",
              "  </style>\n",
              "\n",
              "    <script>\n",
              "      const buttonEl =\n",
              "        document.querySelector('#df-0f08c69c-0222-4295-8196-089a36b2113f button.colab-df-convert');\n",
              "      buttonEl.style.display =\n",
              "        google.colab.kernel.accessAllowed ? 'block' : 'none';\n",
              "\n",
              "      async function convertToInteractive(key) {\n",
              "        const element = document.querySelector('#df-0f08c69c-0222-4295-8196-089a36b2113f');\n",
              "        const dataTable =\n",
              "          await google.colab.kernel.invokeFunction('convertToInteractive',\n",
              "                                                    [key], {});\n",
              "        if (!dataTable) return;\n",
              "\n",
              "        const docLinkHtml = 'Like what you see? Visit the ' +\n",
              "          '<a target=\"_blank\" href=https://colab.research.google.com/notebooks/data_table.ipynb>data table notebook</a>'\n",
              "          + ' to learn more about interactive tables.';\n",
              "        element.innerHTML = '';\n",
              "        dataTable['output_type'] = 'display_data';\n",
              "        await google.colab.output.renderOutput(dataTable, element);\n",
              "        const docLink = document.createElement('div');\n",
              "        docLink.innerHTML = docLinkHtml;\n",
              "        element.appendChild(docLink);\n",
              "      }\n",
              "    </script>\n",
              "  </div>\n",
              "\n",
              "\n",
              "    <div id=\"df-59f2e41d-d7ec-4c2d-bece-784f35a7f954\">\n",
              "      <button class=\"colab-df-quickchart\" onclick=\"quickchart('df-59f2e41d-d7ec-4c2d-bece-784f35a7f954')\"\n",
              "                title=\"Suggest charts\"\n",
              "                style=\"display:none;\">\n",
              "\n",
              "<svg xmlns=\"http://www.w3.org/2000/svg\" height=\"24px\"viewBox=\"0 0 24 24\"\n",
              "     width=\"24px\">\n",
              "    <g>\n",
              "        <path d=\"M19 3H5c-1.1 0-2 .9-2 2v14c0 1.1.9 2 2 2h14c1.1 0 2-.9 2-2V5c0-1.1-.9-2-2-2zM9 17H7v-7h2v7zm4 0h-2V7h2v10zm4 0h-2v-4h2v4z\"/>\n",
              "    </g>\n",
              "</svg>\n",
              "      </button>\n",
              "\n",
              "<style>\n",
              "  .colab-df-quickchart {\n",
              "      --bg-color: #E8F0FE;\n",
              "      --fill-color: #1967D2;\n",
              "      --hover-bg-color: #E2EBFA;\n",
              "      --hover-fill-color: #174EA6;\n",
              "      --disabled-fill-color: #AAA;\n",
              "      --disabled-bg-color: #DDD;\n",
              "  }\n",
              "\n",
              "  [theme=dark] .colab-df-quickchart {\n",
              "      --bg-color: #3B4455;\n",
              "      --fill-color: #D2E3FC;\n",
              "      --hover-bg-color: #434B5C;\n",
              "      --hover-fill-color: #FFFFFF;\n",
              "      --disabled-bg-color: #3B4455;\n",
              "      --disabled-fill-color: #666;\n",
              "  }\n",
              "\n",
              "  .colab-df-quickchart {\n",
              "    background-color: var(--bg-color);\n",
              "    border: none;\n",
              "    border-radius: 50%;\n",
              "    cursor: pointer;\n",
              "    display: none;\n",
              "    fill: var(--fill-color);\n",
              "    height: 32px;\n",
              "    padding: 0;\n",
              "    width: 32px;\n",
              "  }\n",
              "\n",
              "  .colab-df-quickchart:hover {\n",
              "    background-color: var(--hover-bg-color);\n",
              "    box-shadow: 0 1px 2px rgba(60, 64, 67, 0.3), 0 1px 3px 1px rgba(60, 64, 67, 0.15);\n",
              "    fill: var(--button-hover-fill-color);\n",
              "  }\n",
              "\n",
              "  .colab-df-quickchart-complete:disabled,\n",
              "  .colab-df-quickchart-complete:disabled:hover {\n",
              "    background-color: var(--disabled-bg-color);\n",
              "    fill: var(--disabled-fill-color);\n",
              "    box-shadow: none;\n",
              "  }\n",
              "\n",
              "  .colab-df-spinner {\n",
              "    border: 2px solid var(--fill-color);\n",
              "    border-color: transparent;\n",
              "    border-bottom-color: var(--fill-color);\n",
              "    animation:\n",
              "      spin 1s steps(1) infinite;\n",
              "  }\n",
              "\n",
              "  @keyframes spin {\n",
              "    0% {\n",
              "      border-color: transparent;\n",
              "      border-bottom-color: var(--fill-color);\n",
              "      border-left-color: var(--fill-color);\n",
              "    }\n",
              "    20% {\n",
              "      border-color: transparent;\n",
              "      border-left-color: var(--fill-color);\n",
              "      border-top-color: var(--fill-color);\n",
              "    }\n",
              "    30% {\n",
              "      border-color: transparent;\n",
              "      border-left-color: var(--fill-color);\n",
              "      border-top-color: var(--fill-color);\n",
              "      border-right-color: var(--fill-color);\n",
              "    }\n",
              "    40% {\n",
              "      border-color: transparent;\n",
              "      border-right-color: var(--fill-color);\n",
              "      border-top-color: var(--fill-color);\n",
              "    }\n",
              "    60% {\n",
              "      border-color: transparent;\n",
              "      border-right-color: var(--fill-color);\n",
              "    }\n",
              "    80% {\n",
              "      border-color: transparent;\n",
              "      border-right-color: var(--fill-color);\n",
              "      border-bottom-color: var(--fill-color);\n",
              "    }\n",
              "    90% {\n",
              "      border-color: transparent;\n",
              "      border-bottom-color: var(--fill-color);\n",
              "    }\n",
              "  }\n",
              "</style>\n",
              "\n",
              "      <script>\n",
              "        async function quickchart(key) {\n",
              "          const quickchartButtonEl =\n",
              "            document.querySelector('#' + key + ' button');\n",
              "          quickchartButtonEl.disabled = true;  // To prevent multiple clicks.\n",
              "          quickchartButtonEl.classList.add('colab-df-spinner');\n",
              "          try {\n",
              "            const charts = await google.colab.kernel.invokeFunction(\n",
              "                'suggestCharts', [key], {});\n",
              "          } catch (error) {\n",
              "            console.error('Error during call to suggestCharts:', error);\n",
              "          }\n",
              "          quickchartButtonEl.classList.remove('colab-df-spinner');\n",
              "          quickchartButtonEl.classList.add('colab-df-quickchart-complete');\n",
              "        }\n",
              "        (() => {\n",
              "          let quickchartButtonEl =\n",
              "            document.querySelector('#df-59f2e41d-d7ec-4c2d-bece-784f35a7f954 button');\n",
              "          quickchartButtonEl.style.display =\n",
              "            google.colab.kernel.accessAllowed ? 'block' : 'none';\n",
              "        })();\n",
              "      </script>\n",
              "    </div>\n",
              "    </div>\n",
              "  </div>\n"
            ],
            "application/vnd.google.colaboratory.intrinsic+json": {
              "type": "dataframe",
              "variable_name": "df1",
              "summary": "{\n  \"name\": \"df1\",\n  \"rows\": 99,\n  \"fields\": [\n    {\n      \"column\": \"index\",\n      \"properties\": {\n        \"dtype\": \"number\",\n        \"std\": 28,\n        \"min\": 0,\n        \"max\": 98,\n        \"num_unique_values\": 99,\n        \"samples\": [\n          62,\n          40,\n          95\n        ],\n        \"semantic_type\": \"\",\n        \"description\": \"\"\n      }\n    },\n    {\n      \"column\": \"filename\",\n      \"properties\": {\n        \"dtype\": \"string\",\n        \"num_unique_values\": 99,\n        \"samples\": [\n          \"20201007_100751_01_JPG.rf.4be5a2f65bba69273365ebd6aa6e53b0.jpg\",\n          \"20201008_111520_01_JPG.rf.1660f3a813628a7d635f4c21179e281b.jpg\",\n          \"20201010_143036_01_JPG.rf.ce49ced547214ece69033d016ab043f9.jpg\"\n        ],\n        \"semantic_type\": \"\",\n        \"description\": \"\"\n      }\n    },\n    {\n      \"column\": \"bbox\",\n      \"properties\": {\n        \"dtype\": \"object\",\n        \"semantic_type\": \"\",\n        \"description\": \"\"\n      }\n    }\n  ]\n}"
            }
          },
          "metadata": {},
          "execution_count": 137
        }
      ]
    },
    {
      "cell_type": "code",
      "source": [
        "type(df1['bbox'][2])"
      ],
      "metadata": {
        "id": "u5WxFd7dedFr",
        "outputId": "84dc3685-9135-434a-e432-e969601da918",
        "colab": {
          "base_uri": "https://localhost:8080/"
        }
      },
      "execution_count": null,
      "outputs": [
        {
          "output_type": "execute_result",
          "data": {
            "text/plain": [
              "numpy.ndarray"
            ]
          },
          "metadata": {},
          "execution_count": 138
        }
      ]
    },
    {
      "cell_type": "code",
      "source": [
        "import numpy as np\n",
        "import pandas as pd\n",
        "\n",
        "def array_to_string(arr):\n",
        "    if isinstance(arr, np.ndarray):\n",
        "        return ' '.join(map(str, arr.flatten()))\n",
        "    elif isinstance(arr, (list, tuple)):\n",
        "        return ' '.join(map(str, arr))\n",
        "    return str(arr)\n",
        "\n",
        "df_formatted = df1.applymap(array_to_string)\n",
        "\n",
        "df_formatted.to_csv('output.csv', index=False)"
      ],
      "metadata": {
        "id": "q96MmZf_f91-"
      },
      "execution_count": null,
      "outputs": []
    }
  ]
}