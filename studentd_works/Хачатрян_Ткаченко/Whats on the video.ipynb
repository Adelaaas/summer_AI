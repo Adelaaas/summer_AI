{
  "cells": [
    {
      "cell_type": "code",
      "source": [
        "!apt-get update\n",
        "!apt-get install -y ffmpeg\n",
        "!pip install av"
      ],
      "metadata": {
        "colab": {
          "base_uri": "https://localhost:8080/"
        },
        "collapsed": true,
        "id": "IDDUsUN-sB3Q",
        "outputId": "786ddd41-59ab-419f-8aa7-4c033aec77fa"
      },
      "id": "IDDUsUN-sB3Q",
      "execution_count": null,
      "outputs": [
        {
          "output_type": "stream",
          "name": "stdout",
          "text": [
            "\r0% [Working]\r            \rHit:1 http://archive.ubuntu.com/ubuntu jammy InRelease\n",
            "\r0% [Waiting for headers] [Connecting to cloud.r-project.org] [Connecting to r2u\r                                                                               \rGet:2 http://archive.ubuntu.com/ubuntu jammy-updates InRelease [128 kB]\n",
            "\r                                                                               \rGet:3 http://archive.ubuntu.com/ubuntu jammy-backports InRelease [127 kB]\n",
            "\r                                                                               \rGet:4 http://security.ubuntu.com/ubuntu jammy-security InRelease [129 kB]\n",
            "\r0% [Connecting to cloud.r-project.org] [Connecting to r2u.stat.illinois.edu (19\r                                                                               \rGet:5 https://developer.download.nvidia.com/compute/cuda/repos/ubuntu2204/x86_64  InRelease [1,581 B]\n",
            "\r0% [Connecting to cloud.r-project.org] [Connecting to r2u.stat.illinois.edu (19\r0% [Connecting to cloud.r-project.org] [Connecting to r2u.stat.illinois.edu (19\r                                                                               \rHit:6 https://ppa.launchpadcontent.net/deadsnakes/ppa/ubuntu jammy InRelease\n",
            "\r0% [Connecting to cloud.r-project.org] [Connecting to r2u.stat.illinois.edu (19\r                                                                               \rHit:7 https://ppa.launchpadcontent.net/graphics-drivers/ppa/ubuntu jammy InRelease\n",
            "Hit:8 https://ppa.launchpadcontent.net/ubuntugis/ppa/ubuntu jammy InRelease\n",
            "Get:9 http://archive.ubuntu.com/ubuntu jammy-updates/main amd64 Packages [3,295 kB]\n",
            "Get:10 https://r2u.stat.illinois.edu/ubuntu jammy InRelease [6,555 B]\n",
            "Get:11 http://archive.ubuntu.com/ubuntu jammy-updates/universe amd64 Packages [1,553 kB]\n",
            "Get:12 https://cloud.r-project.org/bin/linux/ubuntu jammy-cran40/ InRelease [3,632 B]\n",
            "Get:13 http://security.ubuntu.com/ubuntu jammy-security/main amd64 Packages [2,984 kB]\n",
            "Get:14 https://developer.download.nvidia.com/compute/cuda/repos/ubuntu2204/x86_64  Packages [1,765 kB]\n",
            "Get:15 https://r2u.stat.illinois.edu/ubuntu jammy/main all Packages [9,017 kB]\n",
            "Get:16 https://r2u.stat.illinois.edu/ubuntu jammy/main amd64 Packages [2,742 kB]\n",
            "Fetched 21.8 MB in 4s (5,263 kB/s)\n",
            "Reading package lists... Done\n",
            "W: Skipping acquire of configured file 'main/source/Sources' as repository 'https://r2u.stat.illinois.edu/ubuntu jammy InRelease' does not seem to provide it (sources.list entry misspelt?)\n",
            "Reading package lists... Done\n",
            "Building dependency tree... Done\n",
            "Reading state information... Done\n",
            "ffmpeg is already the newest version (7:4.4.2-0ubuntu0.22.04.1).\n",
            "0 upgraded, 0 newly installed, 0 to remove and 38 not upgraded.\n",
            "Collecting av\n",
            "  Downloading av-14.4.0-cp311-cp311-manylinux_2_17_x86_64.manylinux2014_x86_64.whl.metadata (4.6 kB)\n",
            "Downloading av-14.4.0-cp311-cp311-manylinux_2_17_x86_64.manylinux2014_x86_64.whl (35.3 MB)\n",
            "\u001b[2K   \u001b[90m━━━━━━━━━━━━━━━━━━━━━━━━━━━━━━━━━━━━━━━━\u001b[0m \u001b[32m35.3/35.3 MB\u001b[0m \u001b[31m63.7 MB/s\u001b[0m eta \u001b[36m0:00:00\u001b[0m\n",
            "\u001b[?25hInstalling collected packages: av\n",
            "Successfully installed av-14.4.0\n"
          ]
        }
      ]
    },
    {
      "cell_type": "code",
      "execution_count": null,
      "id": "1221a7c6",
      "metadata": {
        "colab": {
          "base_uri": "https://localhost:8080/",
          "height": 380
        },
        "id": "1221a7c6",
        "outputId": "658a4c03-31da-4366-b475-e8abebd890e3"
      },
      "outputs": [
        {
          "output_type": "stream",
          "name": "stdout",
          "text": [
            "Please provide your Kaggle credentials to download this dataset. Learn more: http://bit.ly/kaggle-creds\n",
            "Your Kaggle username: crimsondev\n",
            "Your Kaggle Key: ··········\n",
            "Downloading what-on-the-video.zip to ./what-on-the-video\n"
          ]
        },
        {
          "output_type": "stream",
          "name": "stderr",
          "text": [
            "100%|██████████| 690M/690M [00:04<00:00, 166MB/s]\n"
          ]
        },
        {
          "output_type": "stream",
          "name": "stdout",
          "text": [
            "\n",
            "Extracting archive ./what-on-the-video/what-on-the-video.zip to ./what-on-the-video\n",
            "Список файлов в корне датасета: ['sample_submit.csv', 'train.csv', 'test', 'train']\n",
            "Количество train видео: 428\n",
            "Количество test видео: 435\n"
          ]
        },
        {
          "output_type": "execute_result",
          "data": {
            "text/plain": [
              "                                                path  labels\n",
              "0                    port_before_sunrise_preview.mp4  sunset\n",
              "1  Louisiana speeding boat on Mississippi River_p...   cloud\n",
              "2                     170509A_Vietnam_03_preview.mp4   water\n",
              "3  Croatia water on rocks at high tide pan_previe...   water\n",
              "4        Arizona zoom on sunset mountain_preview.mp4  sunset"
            ],
            "text/html": [
              "\n",
              "  <div id=\"df-5772e325-9e67-4abf-aaa0-a0914ac153a7\" class=\"colab-df-container\">\n",
              "    <div>\n",
              "<style scoped>\n",
              "    .dataframe tbody tr th:only-of-type {\n",
              "        vertical-align: middle;\n",
              "    }\n",
              "\n",
              "    .dataframe tbody tr th {\n",
              "        vertical-align: top;\n",
              "    }\n",
              "\n",
              "    .dataframe thead th {\n",
              "        text-align: right;\n",
              "    }\n",
              "</style>\n",
              "<table border=\"1\" class=\"dataframe\">\n",
              "  <thead>\n",
              "    <tr style=\"text-align: right;\">\n",
              "      <th></th>\n",
              "      <th>path</th>\n",
              "      <th>labels</th>\n",
              "    </tr>\n",
              "  </thead>\n",
              "  <tbody>\n",
              "    <tr>\n",
              "      <th>0</th>\n",
              "      <td>port_before_sunrise_preview.mp4</td>\n",
              "      <td>sunset</td>\n",
              "    </tr>\n",
              "    <tr>\n",
              "      <th>1</th>\n",
              "      <td>Louisiana speeding boat on Mississippi River_p...</td>\n",
              "      <td>cloud</td>\n",
              "    </tr>\n",
              "    <tr>\n",
              "      <th>2</th>\n",
              "      <td>170509A_Vietnam_03_preview.mp4</td>\n",
              "      <td>water</td>\n",
              "    </tr>\n",
              "    <tr>\n",
              "      <th>3</th>\n",
              "      <td>Croatia water on rocks at high tide pan_previe...</td>\n",
              "      <td>water</td>\n",
              "    </tr>\n",
              "    <tr>\n",
              "      <th>4</th>\n",
              "      <td>Arizona zoom on sunset mountain_preview.mp4</td>\n",
              "      <td>sunset</td>\n",
              "    </tr>\n",
              "  </tbody>\n",
              "</table>\n",
              "</div>\n",
              "    <div class=\"colab-df-buttons\">\n",
              "\n",
              "  <div class=\"colab-df-container\">\n",
              "    <button class=\"colab-df-convert\" onclick=\"convertToInteractive('df-5772e325-9e67-4abf-aaa0-a0914ac153a7')\"\n",
              "            title=\"Convert this dataframe to an interactive table.\"\n",
              "            style=\"display:none;\">\n",
              "\n",
              "  <svg xmlns=\"http://www.w3.org/2000/svg\" height=\"24px\" viewBox=\"0 -960 960 960\">\n",
              "    <path d=\"M120-120v-720h720v720H120Zm60-500h600v-160H180v160Zm220 220h160v-160H400v160Zm0 220h160v-160H400v160ZM180-400h160v-160H180v160Zm440 0h160v-160H620v160ZM180-180h160v-160H180v160Zm440 0h160v-160H620v160Z\"/>\n",
              "  </svg>\n",
              "    </button>\n",
              "\n",
              "  <style>\n",
              "    .colab-df-container {\n",
              "      display:flex;\n",
              "      gap: 12px;\n",
              "    }\n",
              "\n",
              "    .colab-df-convert {\n",
              "      background-color: #E8F0FE;\n",
              "      border: none;\n",
              "      border-radius: 50%;\n",
              "      cursor: pointer;\n",
              "      display: none;\n",
              "      fill: #1967D2;\n",
              "      height: 32px;\n",
              "      padding: 0 0 0 0;\n",
              "      width: 32px;\n",
              "    }\n",
              "\n",
              "    .colab-df-convert:hover {\n",
              "      background-color: #E2EBFA;\n",
              "      box-shadow: 0px 1px 2px rgba(60, 64, 67, 0.3), 0px 1px 3px 1px rgba(60, 64, 67, 0.15);\n",
              "      fill: #174EA6;\n",
              "    }\n",
              "\n",
              "    .colab-df-buttons div {\n",
              "      margin-bottom: 4px;\n",
              "    }\n",
              "\n",
              "    [theme=dark] .colab-df-convert {\n",
              "      background-color: #3B4455;\n",
              "      fill: #D2E3FC;\n",
              "    }\n",
              "\n",
              "    [theme=dark] .colab-df-convert:hover {\n",
              "      background-color: #434B5C;\n",
              "      box-shadow: 0px 1px 3px 1px rgba(0, 0, 0, 0.15);\n",
              "      filter: drop-shadow(0px 1px 2px rgba(0, 0, 0, 0.3));\n",
              "      fill: #FFFFFF;\n",
              "    }\n",
              "  </style>\n",
              "\n",
              "    <script>\n",
              "      const buttonEl =\n",
              "        document.querySelector('#df-5772e325-9e67-4abf-aaa0-a0914ac153a7 button.colab-df-convert');\n",
              "      buttonEl.style.display =\n",
              "        google.colab.kernel.accessAllowed ? 'block' : 'none';\n",
              "\n",
              "      async function convertToInteractive(key) {\n",
              "        const element = document.querySelector('#df-5772e325-9e67-4abf-aaa0-a0914ac153a7');\n",
              "        const dataTable =\n",
              "          await google.colab.kernel.invokeFunction('convertToInteractive',\n",
              "                                                    [key], {});\n",
              "        if (!dataTable) return;\n",
              "\n",
              "        const docLinkHtml = 'Like what you see? Visit the ' +\n",
              "          '<a target=\"_blank\" href=https://colab.research.google.com/notebooks/data_table.ipynb>data table notebook</a>'\n",
              "          + ' to learn more about interactive tables.';\n",
              "        element.innerHTML = '';\n",
              "        dataTable['output_type'] = 'display_data';\n",
              "        await google.colab.output.renderOutput(dataTable, element);\n",
              "        const docLink = document.createElement('div');\n",
              "        docLink.innerHTML = docLinkHtml;\n",
              "        element.appendChild(docLink);\n",
              "      }\n",
              "    </script>\n",
              "  </div>\n",
              "\n",
              "\n",
              "    <div id=\"df-c2878fcf-f25c-42e5-94d3-527e625619b2\">\n",
              "      <button class=\"colab-df-quickchart\" onclick=\"quickchart('df-c2878fcf-f25c-42e5-94d3-527e625619b2')\"\n",
              "                title=\"Suggest charts\"\n",
              "                style=\"display:none;\">\n",
              "\n",
              "<svg xmlns=\"http://www.w3.org/2000/svg\" height=\"24px\"viewBox=\"0 0 24 24\"\n",
              "     width=\"24px\">\n",
              "    <g>\n",
              "        <path d=\"M19 3H5c-1.1 0-2 .9-2 2v14c0 1.1.9 2 2 2h14c1.1 0 2-.9 2-2V5c0-1.1-.9-2-2-2zM9 17H7v-7h2v7zm4 0h-2V7h2v10zm4 0h-2v-4h2v4z\"/>\n",
              "    </g>\n",
              "</svg>\n",
              "      </button>\n",
              "\n",
              "<style>\n",
              "  .colab-df-quickchart {\n",
              "      --bg-color: #E8F0FE;\n",
              "      --fill-color: #1967D2;\n",
              "      --hover-bg-color: #E2EBFA;\n",
              "      --hover-fill-color: #174EA6;\n",
              "      --disabled-fill-color: #AAA;\n",
              "      --disabled-bg-color: #DDD;\n",
              "  }\n",
              "\n",
              "  [theme=dark] .colab-df-quickchart {\n",
              "      --bg-color: #3B4455;\n",
              "      --fill-color: #D2E3FC;\n",
              "      --hover-bg-color: #434B5C;\n",
              "      --hover-fill-color: #FFFFFF;\n",
              "      --disabled-bg-color: #3B4455;\n",
              "      --disabled-fill-color: #666;\n",
              "  }\n",
              "\n",
              "  .colab-df-quickchart {\n",
              "    background-color: var(--bg-color);\n",
              "    border: none;\n",
              "    border-radius: 50%;\n",
              "    cursor: pointer;\n",
              "    display: none;\n",
              "    fill: var(--fill-color);\n",
              "    height: 32px;\n",
              "    padding: 0;\n",
              "    width: 32px;\n",
              "  }\n",
              "\n",
              "  .colab-df-quickchart:hover {\n",
              "    background-color: var(--hover-bg-color);\n",
              "    box-shadow: 0 1px 2px rgba(60, 64, 67, 0.3), 0 1px 3px 1px rgba(60, 64, 67, 0.15);\n",
              "    fill: var(--button-hover-fill-color);\n",
              "  }\n",
              "\n",
              "  .colab-df-quickchart-complete:disabled,\n",
              "  .colab-df-quickchart-complete:disabled:hover {\n",
              "    background-color: var(--disabled-bg-color);\n",
              "    fill: var(--disabled-fill-color);\n",
              "    box-shadow: none;\n",
              "  }\n",
              "\n",
              "  .colab-df-spinner {\n",
              "    border: 2px solid var(--fill-color);\n",
              "    border-color: transparent;\n",
              "    border-bottom-color: var(--fill-color);\n",
              "    animation:\n",
              "      spin 1s steps(1) infinite;\n",
              "  }\n",
              "\n",
              "  @keyframes spin {\n",
              "    0% {\n",
              "      border-color: transparent;\n",
              "      border-bottom-color: var(--fill-color);\n",
              "      border-left-color: var(--fill-color);\n",
              "    }\n",
              "    20% {\n",
              "      border-color: transparent;\n",
              "      border-left-color: var(--fill-color);\n",
              "      border-top-color: var(--fill-color);\n",
              "    }\n",
              "    30% {\n",
              "      border-color: transparent;\n",
              "      border-left-color: var(--fill-color);\n",
              "      border-top-color: var(--fill-color);\n",
              "      border-right-color: var(--fill-color);\n",
              "    }\n",
              "    40% {\n",
              "      border-color: transparent;\n",
              "      border-right-color: var(--fill-color);\n",
              "      border-top-color: var(--fill-color);\n",
              "    }\n",
              "    60% {\n",
              "      border-color: transparent;\n",
              "      border-right-color: var(--fill-color);\n",
              "    }\n",
              "    80% {\n",
              "      border-color: transparent;\n",
              "      border-right-color: var(--fill-color);\n",
              "      border-bottom-color: var(--fill-color);\n",
              "    }\n",
              "    90% {\n",
              "      border-color: transparent;\n",
              "      border-bottom-color: var(--fill-color);\n",
              "    }\n",
              "  }\n",
              "</style>\n",
              "\n",
              "      <script>\n",
              "        async function quickchart(key) {\n",
              "          const quickchartButtonEl =\n",
              "            document.querySelector('#' + key + ' button');\n",
              "          quickchartButtonEl.disabled = true;  // To prevent multiple clicks.\n",
              "          quickchartButtonEl.classList.add('colab-df-spinner');\n",
              "          try {\n",
              "            const charts = await google.colab.kernel.invokeFunction(\n",
              "                'suggestCharts', [key], {});\n",
              "          } catch (error) {\n",
              "            console.error('Error during call to suggestCharts:', error);\n",
              "          }\n",
              "          quickchartButtonEl.classList.remove('colab-df-spinner');\n",
              "          quickchartButtonEl.classList.add('colab-df-quickchart-complete');\n",
              "        }\n",
              "        (() => {\n",
              "          let quickchartButtonEl =\n",
              "            document.querySelector('#df-c2878fcf-f25c-42e5-94d3-527e625619b2 button');\n",
              "          quickchartButtonEl.style.display =\n",
              "            google.colab.kernel.accessAllowed ? 'block' : 'none';\n",
              "        })();\n",
              "      </script>\n",
              "    </div>\n",
              "    </div>\n",
              "  </div>\n"
            ],
            "application/vnd.google.colaboratory.intrinsic+json": {
              "type": "dataframe",
              "variable_name": "train_df",
              "summary": "{\n  \"name\": \"train_df\",\n  \"rows\": 290,\n  \"fields\": [\n    {\n      \"column\": \"path\",\n      \"properties\": {\n        \"dtype\": \"string\",\n        \"num_unique_values\": 290,\n        \"samples\": [\n          \"Penguins Nov12_preview.mp4\",\n          \"010918604-merida-aqueduct-miracles-flowe_preview.mp4\",\n          \"Mexico Huatulco evening with houses and boats_preview.mp4\"\n        ],\n        \"semantic_type\": \"\",\n        \"description\": \"\"\n      }\n    },\n    {\n      \"column\": \"labels\",\n      \"properties\": {\n        \"dtype\": \"category\",\n        \"num_unique_values\": 13,\n        \"samples\": [\n          \"cloud, sunset\",\n          \"dance\",\n          \"sunset\"\n        ],\n        \"semantic_type\": \"\",\n        \"description\": \"\"\n      }\n    }\n  ]\n}"
            }
          },
          "metadata": {},
          "execution_count": 2
        }
      ],
      "source": [
        "import os\n",
        "import random\n",
        "import numpy as np\n",
        "import pandas as pd\n",
        "import torch\n",
        "import torch.nn as nn\n",
        "import torch.nn.functional as F\n",
        "from torch.utils.data import Dataset, DataLoader\n",
        "import torchvision.transforms as T\n",
        "from torchvision.io import read_video\n",
        "from torchvision.models import resnet50\n",
        "from sklearn.metrics import roc_auc_score\n",
        "from tqdm import tqdm\n",
        "import matplotlib.pyplot as plt\n",
        "\n",
        "!pip install opendatasets --quiet\n",
        "import opendatasets as od\n",
        "\n",
        "DATA_DIR = \"/content/what-on-the-video\"\n",
        "\n",
        "if not os.path.isdir(DATA_DIR):\n",
        "    od.download(\"https://www.kaggle.com/competitions/what-on-the-video\")\n",
        "\n",
        "print(\"Список файлов в корне датасета:\", os.listdir(DATA_DIR))\n",
        "print(\"Количество train видео:\", len(os.listdir(os.path.join(DATA_DIR, \"train\"))))\n",
        "print(\"Количество test видео:\", len(os.listdir(os.path.join(DATA_DIR, \"test\"))))\n",
        "\n",
        "train_csv_path = os.path.join(DATA_DIR, \"train.csv\")\n",
        "train_df = pd.read_csv(train_csv_path)\n",
        "train_df.head()"
      ]
    },
    {
      "cell_type": "code",
      "source": [
        "train_df['labels'].value_counts()"
      ],
      "metadata": {
        "id": "SHkBS2bH8XAJ",
        "colab": {
          "base_uri": "https://localhost:8080/",
          "height": 523
        },
        "outputId": "a129f5e7-0b27-4403-e4e2-f34ee2458ac7"
      },
      "id": "SHkBS2bH8XAJ",
      "execution_count": null,
      "outputs": [
        {
          "output_type": "execute_result",
          "data": {
            "text/plain": [
              "labels\n",
              "water            68\n",
              "cloud            41\n",
              "car              33\n",
              "food             30\n",
              "sunset           29\n",
              "flower           29\n",
              "animal           21\n",
              "dance            17\n",
              "cloud, water     11\n",
              "fire              6\n",
              "cloud, sunset     3\n",
              "cloud. water      1\n",
              "water, sunset     1\n",
              "Name: count, dtype: int64"
            ],
            "text/html": [
              "<div>\n",
              "<style scoped>\n",
              "    .dataframe tbody tr th:only-of-type {\n",
              "        vertical-align: middle;\n",
              "    }\n",
              "\n",
              "    .dataframe tbody tr th {\n",
              "        vertical-align: top;\n",
              "    }\n",
              "\n",
              "    .dataframe thead th {\n",
              "        text-align: right;\n",
              "    }\n",
              "</style>\n",
              "<table border=\"1\" class=\"dataframe\">\n",
              "  <thead>\n",
              "    <tr style=\"text-align: right;\">\n",
              "      <th></th>\n",
              "      <th>count</th>\n",
              "    </tr>\n",
              "    <tr>\n",
              "      <th>labels</th>\n",
              "      <th></th>\n",
              "    </tr>\n",
              "  </thead>\n",
              "  <tbody>\n",
              "    <tr>\n",
              "      <th>water</th>\n",
              "      <td>68</td>\n",
              "    </tr>\n",
              "    <tr>\n",
              "      <th>cloud</th>\n",
              "      <td>41</td>\n",
              "    </tr>\n",
              "    <tr>\n",
              "      <th>car</th>\n",
              "      <td>33</td>\n",
              "    </tr>\n",
              "    <tr>\n",
              "      <th>food</th>\n",
              "      <td>30</td>\n",
              "    </tr>\n",
              "    <tr>\n",
              "      <th>sunset</th>\n",
              "      <td>29</td>\n",
              "    </tr>\n",
              "    <tr>\n",
              "      <th>flower</th>\n",
              "      <td>29</td>\n",
              "    </tr>\n",
              "    <tr>\n",
              "      <th>animal</th>\n",
              "      <td>21</td>\n",
              "    </tr>\n",
              "    <tr>\n",
              "      <th>dance</th>\n",
              "      <td>17</td>\n",
              "    </tr>\n",
              "    <tr>\n",
              "      <th>cloud, water</th>\n",
              "      <td>11</td>\n",
              "    </tr>\n",
              "    <tr>\n",
              "      <th>fire</th>\n",
              "      <td>6</td>\n",
              "    </tr>\n",
              "    <tr>\n",
              "      <th>cloud, sunset</th>\n",
              "      <td>3</td>\n",
              "    </tr>\n",
              "    <tr>\n",
              "      <th>cloud. water</th>\n",
              "      <td>1</td>\n",
              "    </tr>\n",
              "    <tr>\n",
              "      <th>water, sunset</th>\n",
              "      <td>1</td>\n",
              "    </tr>\n",
              "  </tbody>\n",
              "</table>\n",
              "</div><br><label><b>dtype:</b> int64</label>"
            ]
          },
          "metadata": {},
          "execution_count": 3
        }
      ]
    },
    {
      "cell_type": "code",
      "execution_count": null,
      "id": "8dc1131a",
      "metadata": {
        "colab": {
          "base_uri": "https://localhost:8080/",
          "height": 206
        },
        "id": "8dc1131a",
        "outputId": "f0200eb9-ca95-4ed8-9e29-44327bed4e59"
      },
      "outputs": [
        {
          "output_type": "execute_result",
          "data": {
            "text/plain": [
              "                                           path  sunset  cloud  water  food  \\\n",
              "0                           port_before_sunrise       1      0      0     0   \n",
              "1  Louisiana speeding boat on Mississippi River       0      1      0     0   \n",
              "2                            170509A_Vietnam_03       0      0      1     0   \n",
              "3       Croatia water on rocks at high tide pan       0      0      1     0   \n",
              "4               Arizona zoom on sunset mountain       1      0      0     0   \n",
              "\n",
              "   flower  car  animal  dance  fire  \n",
              "0       0    0       0      0     0  \n",
              "1       0    0       0      0     0  \n",
              "2       0    0       0      0     0  \n",
              "3       0    0       0      0     0  \n",
              "4       0    0       0      0     0  "
            ],
            "text/html": [
              "\n",
              "  <div id=\"df-bc015d95-32fa-4f28-9b58-516da3fbdeff\" class=\"colab-df-container\">\n",
              "    <div>\n",
              "<style scoped>\n",
              "    .dataframe tbody tr th:only-of-type {\n",
              "        vertical-align: middle;\n",
              "    }\n",
              "\n",
              "    .dataframe tbody tr th {\n",
              "        vertical-align: top;\n",
              "    }\n",
              "\n",
              "    .dataframe thead th {\n",
              "        text-align: right;\n",
              "    }\n",
              "</style>\n",
              "<table border=\"1\" class=\"dataframe\">\n",
              "  <thead>\n",
              "    <tr style=\"text-align: right;\">\n",
              "      <th></th>\n",
              "      <th>path</th>\n",
              "      <th>sunset</th>\n",
              "      <th>cloud</th>\n",
              "      <th>water</th>\n",
              "      <th>food</th>\n",
              "      <th>flower</th>\n",
              "      <th>car</th>\n",
              "      <th>animal</th>\n",
              "      <th>dance</th>\n",
              "      <th>fire</th>\n",
              "    </tr>\n",
              "  </thead>\n",
              "  <tbody>\n",
              "    <tr>\n",
              "      <th>0</th>\n",
              "      <td>port_before_sunrise</td>\n",
              "      <td>1</td>\n",
              "      <td>0</td>\n",
              "      <td>0</td>\n",
              "      <td>0</td>\n",
              "      <td>0</td>\n",
              "      <td>0</td>\n",
              "      <td>0</td>\n",
              "      <td>0</td>\n",
              "      <td>0</td>\n",
              "    </tr>\n",
              "    <tr>\n",
              "      <th>1</th>\n",
              "      <td>Louisiana speeding boat on Mississippi River</td>\n",
              "      <td>0</td>\n",
              "      <td>1</td>\n",
              "      <td>0</td>\n",
              "      <td>0</td>\n",
              "      <td>0</td>\n",
              "      <td>0</td>\n",
              "      <td>0</td>\n",
              "      <td>0</td>\n",
              "      <td>0</td>\n",
              "    </tr>\n",
              "    <tr>\n",
              "      <th>2</th>\n",
              "      <td>170509A_Vietnam_03</td>\n",
              "      <td>0</td>\n",
              "      <td>0</td>\n",
              "      <td>1</td>\n",
              "      <td>0</td>\n",
              "      <td>0</td>\n",
              "      <td>0</td>\n",
              "      <td>0</td>\n",
              "      <td>0</td>\n",
              "      <td>0</td>\n",
              "    </tr>\n",
              "    <tr>\n",
              "      <th>3</th>\n",
              "      <td>Croatia water on rocks at high tide pan</td>\n",
              "      <td>0</td>\n",
              "      <td>0</td>\n",
              "      <td>1</td>\n",
              "      <td>0</td>\n",
              "      <td>0</td>\n",
              "      <td>0</td>\n",
              "      <td>0</td>\n",
              "      <td>0</td>\n",
              "      <td>0</td>\n",
              "    </tr>\n",
              "    <tr>\n",
              "      <th>4</th>\n",
              "      <td>Arizona zoom on sunset mountain</td>\n",
              "      <td>1</td>\n",
              "      <td>0</td>\n",
              "      <td>0</td>\n",
              "      <td>0</td>\n",
              "      <td>0</td>\n",
              "      <td>0</td>\n",
              "      <td>0</td>\n",
              "      <td>0</td>\n",
              "      <td>0</td>\n",
              "    </tr>\n",
              "  </tbody>\n",
              "</table>\n",
              "</div>\n",
              "    <div class=\"colab-df-buttons\">\n",
              "\n",
              "  <div class=\"colab-df-container\">\n",
              "    <button class=\"colab-df-convert\" onclick=\"convertToInteractive('df-bc015d95-32fa-4f28-9b58-516da3fbdeff')\"\n",
              "            title=\"Convert this dataframe to an interactive table.\"\n",
              "            style=\"display:none;\">\n",
              "\n",
              "  <svg xmlns=\"http://www.w3.org/2000/svg\" height=\"24px\" viewBox=\"0 -960 960 960\">\n",
              "    <path d=\"M120-120v-720h720v720H120Zm60-500h600v-160H180v160Zm220 220h160v-160H400v160Zm0 220h160v-160H400v160ZM180-400h160v-160H180v160Zm440 0h160v-160H620v160ZM180-180h160v-160H180v160Zm440 0h160v-160H620v160Z\"/>\n",
              "  </svg>\n",
              "    </button>\n",
              "\n",
              "  <style>\n",
              "    .colab-df-container {\n",
              "      display:flex;\n",
              "      gap: 12px;\n",
              "    }\n",
              "\n",
              "    .colab-df-convert {\n",
              "      background-color: #E8F0FE;\n",
              "      border: none;\n",
              "      border-radius: 50%;\n",
              "      cursor: pointer;\n",
              "      display: none;\n",
              "      fill: #1967D2;\n",
              "      height: 32px;\n",
              "      padding: 0 0 0 0;\n",
              "      width: 32px;\n",
              "    }\n",
              "\n",
              "    .colab-df-convert:hover {\n",
              "      background-color: #E2EBFA;\n",
              "      box-shadow: 0px 1px 2px rgba(60, 64, 67, 0.3), 0px 1px 3px 1px rgba(60, 64, 67, 0.15);\n",
              "      fill: #174EA6;\n",
              "    }\n",
              "\n",
              "    .colab-df-buttons div {\n",
              "      margin-bottom: 4px;\n",
              "    }\n",
              "\n",
              "    [theme=dark] .colab-df-convert {\n",
              "      background-color: #3B4455;\n",
              "      fill: #D2E3FC;\n",
              "    }\n",
              "\n",
              "    [theme=dark] .colab-df-convert:hover {\n",
              "      background-color: #434B5C;\n",
              "      box-shadow: 0px 1px 3px 1px rgba(0, 0, 0, 0.15);\n",
              "      filter: drop-shadow(0px 1px 2px rgba(0, 0, 0, 0.3));\n",
              "      fill: #FFFFFF;\n",
              "    }\n",
              "  </style>\n",
              "\n",
              "    <script>\n",
              "      const buttonEl =\n",
              "        document.querySelector('#df-bc015d95-32fa-4f28-9b58-516da3fbdeff button.colab-df-convert');\n",
              "      buttonEl.style.display =\n",
              "        google.colab.kernel.accessAllowed ? 'block' : 'none';\n",
              "\n",
              "      async function convertToInteractive(key) {\n",
              "        const element = document.querySelector('#df-bc015d95-32fa-4f28-9b58-516da3fbdeff');\n",
              "        const dataTable =\n",
              "          await google.colab.kernel.invokeFunction('convertToInteractive',\n",
              "                                                    [key], {});\n",
              "        if (!dataTable) return;\n",
              "\n",
              "        const docLinkHtml = 'Like what you see? Visit the ' +\n",
              "          '<a target=\"_blank\" href=https://colab.research.google.com/notebooks/data_table.ipynb>data table notebook</a>'\n",
              "          + ' to learn more about interactive tables.';\n",
              "        element.innerHTML = '';\n",
              "        dataTable['output_type'] = 'display_data';\n",
              "        await google.colab.output.renderOutput(dataTable, element);\n",
              "        const docLink = document.createElement('div');\n",
              "        docLink.innerHTML = docLinkHtml;\n",
              "        element.appendChild(docLink);\n",
              "      }\n",
              "    </script>\n",
              "  </div>\n",
              "\n",
              "\n",
              "    <div id=\"df-bdb881fe-f6af-4cc7-bbde-b9dcef00923e\">\n",
              "      <button class=\"colab-df-quickchart\" onclick=\"quickchart('df-bdb881fe-f6af-4cc7-bbde-b9dcef00923e')\"\n",
              "                title=\"Suggest charts\"\n",
              "                style=\"display:none;\">\n",
              "\n",
              "<svg xmlns=\"http://www.w3.org/2000/svg\" height=\"24px\"viewBox=\"0 0 24 24\"\n",
              "     width=\"24px\">\n",
              "    <g>\n",
              "        <path d=\"M19 3H5c-1.1 0-2 .9-2 2v14c0 1.1.9 2 2 2h14c1.1 0 2-.9 2-2V5c0-1.1-.9-2-2-2zM9 17H7v-7h2v7zm4 0h-2V7h2v10zm4 0h-2v-4h2v4z\"/>\n",
              "    </g>\n",
              "</svg>\n",
              "      </button>\n",
              "\n",
              "<style>\n",
              "  .colab-df-quickchart {\n",
              "      --bg-color: #E8F0FE;\n",
              "      --fill-color: #1967D2;\n",
              "      --hover-bg-color: #E2EBFA;\n",
              "      --hover-fill-color: #174EA6;\n",
              "      --disabled-fill-color: #AAA;\n",
              "      --disabled-bg-color: #DDD;\n",
              "  }\n",
              "\n",
              "  [theme=dark] .colab-df-quickchart {\n",
              "      --bg-color: #3B4455;\n",
              "      --fill-color: #D2E3FC;\n",
              "      --hover-bg-color: #434B5C;\n",
              "      --hover-fill-color: #FFFFFF;\n",
              "      --disabled-bg-color: #3B4455;\n",
              "      --disabled-fill-color: #666;\n",
              "  }\n",
              "\n",
              "  .colab-df-quickchart {\n",
              "    background-color: var(--bg-color);\n",
              "    border: none;\n",
              "    border-radius: 50%;\n",
              "    cursor: pointer;\n",
              "    display: none;\n",
              "    fill: var(--fill-color);\n",
              "    height: 32px;\n",
              "    padding: 0;\n",
              "    width: 32px;\n",
              "  }\n",
              "\n",
              "  .colab-df-quickchart:hover {\n",
              "    background-color: var(--hover-bg-color);\n",
              "    box-shadow: 0 1px 2px rgba(60, 64, 67, 0.3), 0 1px 3px 1px rgba(60, 64, 67, 0.15);\n",
              "    fill: var(--button-hover-fill-color);\n",
              "  }\n",
              "\n",
              "  .colab-df-quickchart-complete:disabled,\n",
              "  .colab-df-quickchart-complete:disabled:hover {\n",
              "    background-color: var(--disabled-bg-color);\n",
              "    fill: var(--disabled-fill-color);\n",
              "    box-shadow: none;\n",
              "  }\n",
              "\n",
              "  .colab-df-spinner {\n",
              "    border: 2px solid var(--fill-color);\n",
              "    border-color: transparent;\n",
              "    border-bottom-color: var(--fill-color);\n",
              "    animation:\n",
              "      spin 1s steps(1) infinite;\n",
              "  }\n",
              "\n",
              "  @keyframes spin {\n",
              "    0% {\n",
              "      border-color: transparent;\n",
              "      border-bottom-color: var(--fill-color);\n",
              "      border-left-color: var(--fill-color);\n",
              "    }\n",
              "    20% {\n",
              "      border-color: transparent;\n",
              "      border-left-color: var(--fill-color);\n",
              "      border-top-color: var(--fill-color);\n",
              "    }\n",
              "    30% {\n",
              "      border-color: transparent;\n",
              "      border-left-color: var(--fill-color);\n",
              "      border-top-color: var(--fill-color);\n",
              "      border-right-color: var(--fill-color);\n",
              "    }\n",
              "    40% {\n",
              "      border-color: transparent;\n",
              "      border-right-color: var(--fill-color);\n",
              "      border-top-color: var(--fill-color);\n",
              "    }\n",
              "    60% {\n",
              "      border-color: transparent;\n",
              "      border-right-color: var(--fill-color);\n",
              "    }\n",
              "    80% {\n",
              "      border-color: transparent;\n",
              "      border-right-color: var(--fill-color);\n",
              "      border-bottom-color: var(--fill-color);\n",
              "    }\n",
              "    90% {\n",
              "      border-color: transparent;\n",
              "      border-bottom-color: var(--fill-color);\n",
              "    }\n",
              "  }\n",
              "</style>\n",
              "\n",
              "      <script>\n",
              "        async function quickchart(key) {\n",
              "          const quickchartButtonEl =\n",
              "            document.querySelector('#' + key + ' button');\n",
              "          quickchartButtonEl.disabled = true;  // To prevent multiple clicks.\n",
              "          quickchartButtonEl.classList.add('colab-df-spinner');\n",
              "          try {\n",
              "            const charts = await google.colab.kernel.invokeFunction(\n",
              "                'suggestCharts', [key], {});\n",
              "          } catch (error) {\n",
              "            console.error('Error during call to suggestCharts:', error);\n",
              "          }\n",
              "          quickchartButtonEl.classList.remove('colab-df-spinner');\n",
              "          quickchartButtonEl.classList.add('colab-df-quickchart-complete');\n",
              "        }\n",
              "        (() => {\n",
              "          let quickchartButtonEl =\n",
              "            document.querySelector('#df-bdb881fe-f6af-4cc7-bbde-b9dcef00923e button');\n",
              "          quickchartButtonEl.style.display =\n",
              "            google.colab.kernel.accessAllowed ? 'block' : 'none';\n",
              "        })();\n",
              "      </script>\n",
              "    </div>\n",
              "    </div>\n",
              "  </div>\n"
            ],
            "application/vnd.google.colaboratory.intrinsic+json": {
              "type": "dataframe",
              "variable_name": "train_df",
              "summary": "{\n  \"name\": \"train_df\",\n  \"rows\": 290,\n  \"fields\": [\n    {\n      \"column\": \"path\",\n      \"properties\": {\n        \"dtype\": \"string\",\n        \"num_unique_values\": 290,\n        \"samples\": [\n          \"Penguins Nov12\",\n          \"010918604-merida-aqueduct-miracles-flowe\",\n          \"Mexico Huatulco evening with houses and boats\"\n        ],\n        \"semantic_type\": \"\",\n        \"description\": \"\"\n      }\n    },\n    {\n      \"column\": \"sunset\",\n      \"properties\": {\n        \"dtype\": \"number\",\n        \"std\": 0,\n        \"min\": 0,\n        \"max\": 1,\n        \"num_unique_values\": 2,\n        \"samples\": [\n          0,\n          1\n        ],\n        \"semantic_type\": \"\",\n        \"description\": \"\"\n      }\n    },\n    {\n      \"column\": \"cloud\",\n      \"properties\": {\n        \"dtype\": \"number\",\n        \"std\": 0,\n        \"min\": 0,\n        \"max\": 1,\n        \"num_unique_values\": 2,\n        \"samples\": [\n          1,\n          0\n        ],\n        \"semantic_type\": \"\",\n        \"description\": \"\"\n      }\n    },\n    {\n      \"column\": \"water\",\n      \"properties\": {\n        \"dtype\": \"number\",\n        \"std\": 0,\n        \"min\": 0,\n        \"max\": 1,\n        \"num_unique_values\": 2,\n        \"samples\": [\n          1,\n          0\n        ],\n        \"semantic_type\": \"\",\n        \"description\": \"\"\n      }\n    },\n    {\n      \"column\": \"food\",\n      \"properties\": {\n        \"dtype\": \"number\",\n        \"std\": 0,\n        \"min\": 0,\n        \"max\": 1,\n        \"num_unique_values\": 2,\n        \"samples\": [\n          1,\n          0\n        ],\n        \"semantic_type\": \"\",\n        \"description\": \"\"\n      }\n    },\n    {\n      \"column\": \"flower\",\n      \"properties\": {\n        \"dtype\": \"number\",\n        \"std\": 0,\n        \"min\": 0,\n        \"max\": 1,\n        \"num_unique_values\": 2,\n        \"samples\": [\n          1,\n          0\n        ],\n        \"semantic_type\": \"\",\n        \"description\": \"\"\n      }\n    },\n    {\n      \"column\": \"car\",\n      \"properties\": {\n        \"dtype\": \"number\",\n        \"std\": 0,\n        \"min\": 0,\n        \"max\": 1,\n        \"num_unique_values\": 2,\n        \"samples\": [\n          1,\n          0\n        ],\n        \"semantic_type\": \"\",\n        \"description\": \"\"\n      }\n    },\n    {\n      \"column\": \"animal\",\n      \"properties\": {\n        \"dtype\": \"number\",\n        \"std\": 0,\n        \"min\": 0,\n        \"max\": 1,\n        \"num_unique_values\": 2,\n        \"samples\": [\n          1,\n          0\n        ],\n        \"semantic_type\": \"\",\n        \"description\": \"\"\n      }\n    },\n    {\n      \"column\": \"dance\",\n      \"properties\": {\n        \"dtype\": \"number\",\n        \"std\": 0,\n        \"min\": 0,\n        \"max\": 1,\n        \"num_unique_values\": 2,\n        \"samples\": [\n          1,\n          0\n        ],\n        \"semantic_type\": \"\",\n        \"description\": \"\"\n      }\n    },\n    {\n      \"column\": \"fire\",\n      \"properties\": {\n        \"dtype\": \"number\",\n        \"std\": 0,\n        \"min\": 0,\n        \"max\": 1,\n        \"num_unique_values\": 2,\n        \"samples\": [\n          1,\n          0\n        ],\n        \"semantic_type\": \"\",\n        \"description\": \"\"\n      }\n    }\n  ]\n}"
            }
          },
          "metadata": {},
          "execution_count": 4
        }
      ],
      "source": [
        "all_labels = train_df[\"labels\"].str.split(\". \").explode()\n",
        "unique_classes = all_labels.unique().tolist()\n",
        "\n",
        "for cls in unique_classes:\n",
        "    train_df[cls] = train_df[\"labels\"].str.contains(rf\"\\b{cls}\\b\").astype(int)\n",
        "\n",
        "train_df = train_df.drop(columns=[\"labels\"])\n",
        "train_df[\"path\"] = train_df[\"path\"].str.replace(\"_preview.mp4\", \"\").str.strip()\n",
        "\n",
        "train_df.head()"
      ]
    },
    {
      "cell_type": "code",
      "execution_count": null,
      "id": "a9db9470",
      "metadata": {
        "colab": {
          "base_uri": "https://localhost:8080/"
        },
        "id": "a9db9470",
        "outputId": "415540fd-5110-4430-93d2-38fa7724f919"
      },
      "outputs": [
        {
          "output_type": "stream",
          "name": "stdout",
          "text": [
            "Размеры: (232, 10) (58, 10)\n"
          ]
        }
      ],
      "source": [
        "from sklearn.model_selection import train_test_split\n",
        "\n",
        "train_rows, val_rows = train_test_split(\n",
        "    train_df,\n",
        "    test_size=0.2,\n",
        "    random_state=42,\n",
        ")\n",
        "\n",
        "train_rows = train_rows.reset_index(drop=True)\n",
        "val_rows   = val_rows.reset_index(drop=True)\n",
        "\n",
        "print(\"Размеры:\", train_rows.shape, val_rows.shape)\n",
        "\n",
        "class VideoDataset(Dataset):\n",
        "    def __init__(self, df, data_dir, classes, frames_per_clip=16, fps=5, transform=None, mode='train'):\n",
        "        self.df = df\n",
        "        self.data_dir = data_dir\n",
        "        self.classes = classes\n",
        "        self.frames_per_clip = frames_per_clip\n",
        "        self.fps = fps\n",
        "        self.transform = transform\n",
        "        self.mode = mode\n",
        "\n",
        "    def __len__(self):\n",
        "        return len(self.df)\n",
        "\n",
        "    def __getitem__(self, idx):\n",
        "        row = self.df.loc[idx]\n",
        "        video_id = row[\"path\"]\n",
        "\n",
        "        video_path = os.path.join(self.data_dir, video_id + \"_preview.mp4\")\n",
        "        video, _, info = read_video(video_path, pts_unit=\"sec\")\n",
        "\n",
        "        total_frames = video.shape[0]\n",
        "        if total_frames >= self.frames_per_clip:\n",
        "            indices = np.linspace(0, total_frames - 1, self.frames_per_clip).astype(int)\n",
        "            clip = video[indices]\n",
        "        else:\n",
        "            last_frame = video[-1]\n",
        "            indices = list(range(total_frames))\n",
        "            n_extra = self.frames_per_clip - total_frames\n",
        "            indices = indices + [total_frames - 1] * n_extra\n",
        "            clip = video[indices]\n",
        "\n",
        "        clip = clip.permute(0, 3, 1, 2)  # (T, C, H, W)\n",
        "        if self.transform is not None:\n",
        "            frames = []\n",
        "            for t in range(clip.shape[0]):\n",
        "                frame = clip[t].float() / 255.0\n",
        "                frame = self.transform(frame)\n",
        "                frames.append(frame)\n",
        "            clip = torch.stack(frames, dim=0)\n",
        "        else:\n",
        "            clip = clip.float() / 255.0\n",
        "\n",
        "        if self.mode == 'train':\n",
        "          labels = torch.tensor(row[self.classes].values.astype(np.float32), dtype=torch.float32)\n",
        "          return clip, labels\n",
        "        else:\n",
        "          return video_path, clip\n",
        "\n",
        "train_transform = T.Compose([\n",
        "    T.Resize((224, 224)),\n",
        "])\n",
        "\n",
        "val_transform = T.Compose([\n",
        "    T.Resize((224, 224)),\n",
        "])\n",
        "\n",
        "batch_size = 8\n",
        "train_dataset = VideoDataset(\n",
        "    df=train_rows,\n",
        "    data_dir='what-on-the-video/train',\n",
        "    classes=unique_classes,\n",
        "    frames_per_clip=16,\n",
        "    fps=5,\n",
        "    transform=train_transform\n",
        ")\n",
        "\n",
        "val_dataset = VideoDataset(\n",
        "    df=val_rows,\n",
        "    data_dir='what-on-the-video/train',\n",
        "    classes=unique_classes,\n",
        "    frames_per_clip=16,\n",
        "    fps=5,\n",
        "    transform=val_transform\n",
        ")\n",
        "\n",
        "train_loader = DataLoader(train_dataset, batch_size=batch_size, shuffle=True)\n",
        "val_loader   = DataLoader(val_dataset, batch_size=batch_size, shuffle=False)"
      ]
    },
    {
      "cell_type": "code",
      "source": [
        "!ls what-on-the-video/test"
      ],
      "metadata": {
        "colab": {
          "base_uri": "https://localhost:8080/"
        },
        "id": "Fmh656cOzm1e",
        "outputId": "f550035f-7458-44e4-aadb-4ebf0377c48e"
      },
      "id": "Fmh656cOzm1e",
      "execution_count": null,
      "outputs": [
        {
          "output_type": "stream",
          "name": "stdout",
          "text": [
            " 000464896-guatemala-antigua-church-festi_preview.mp4\n",
            " 000691821-mexico-puerto-vallarta-ocean_preview.mp4\n",
            " 000692230-panama-canal-clouds-over-gatun_preview.mp4\n",
            " 000745494-florida-anhinga-dead-tree_preview.mp4\n",
            " 000764644-sunset-and-boat_preview.mp4\n",
            " 000939318-cincinnati-bridge-evening-cars_preview.mp4\n",
            " 000939595-ecuador-weavings-otovalo-marke_preview.mp4\n",
            " 000984040-steeple-church-kona-hawaii_preview.mp4\n",
            " 000984827-honolulu-ala-moana-late-evenin_preview.mp4\n",
            " 000984905-honolulu-skyline-clouds_preview.mp4\n",
            " 000984908-honolulu-skyline-above_preview.mp4\n",
            " 000985481-hydrangeas-and-gazebo-maui_preview.mp4\n",
            " 000985854-upcountry-view-island-maui_preview.mp4\n",
            " 000987148-waikiki-street-scene-and-build_preview.mp4\n",
            " 005495163-white-flower_preview.mp4\n",
            " 008608165-andalusia-salobrena-vies_preview.mp4\n",
            " 010723413-massachusetts-salisbury-beach-_preview.mp4\n",
            " 010896838-granada-isabel-columbus-statue_preview.mp4\n",
            " 011001413-spain-stork-and-church-2_preview.mp4\n",
            " 011004318-spain-storks-nest_preview.mp4\n",
            " 011004667-spain-three-storks-1_preview.mp4\n",
            " 024687499-west-virginia-huntington-flood_preview.mp4\n",
            " 024691030-sunset-clouds-wyoming_preview.mp4\n",
            " 026101097-clouds-moving-over-flat-plain_preview.mp4\n",
            " 026202866-greenland-ice-fjord-mountains-_preview.mp4\n",
            " 026205312-greenland-ice-fjord-c09_preview.mp4\n",
            " 026234704-time-lapse-cloud-streamers-wis_preview.mp4\n",
            " 026237940-kansas-clouds-over-plains_preview.mp4\n",
            " 026250895-kansas-wheat-and-windmills-tim_preview.mp4\n",
            " 026358200-utah-capitol-reef-clouds-time-_preview.mp4\n",
            " 034660478-berlin-reichstag-backlit-drama_preview.mp4\n",
            " 035727617-ukraine-crimean-coast-approach_preview.mp4\n",
            " 038804681-fire-grill_preview.mp4\n",
            " 039742171-cusco-street-plaza-and-church_preview.mp4\n",
            " 039818055-canada-icefields-parkway-athab_preview.mp4\n",
            " 040602606-canada-athabasca-glacier-movin_preview.mp4\n",
            " 040613180-british-columbia-mount-robson-_preview.mp4\n",
            " 040642316-montana-grass-fire-and-weeds-s_preview.mp4\n",
            " 040978892-amazon-river-flag-and-ship_preview.mp4\n",
            " 040979577-amazon-brazil-lowering-cloud-o_preview.mp4\n",
            " 128255765-guatemala-flowers-decorate-int_preview.mp4\n",
            " 150412_01_SeaSlowMotion_BW_1080p_preview.mp4\n",
            " 150412_07_SeaSlowMotion_BWCC_1080p_preview.mp4\n",
            " 160410_25_Los_Angeles_Skyline_19_1080p_preview.mp4\n",
            " 160410_46_LA_Motorway_5_1080p_preview.mp4\n",
            " 160820_057_NYC_TaxisInRain4_1080p_preview.mp4\n",
            " 160820_279_NYC_DowntownSunset3_1080p_preview.mp4\n",
            " 160929_066_London_Taxi3_1080p_preview.mp4\n",
            " 161212_002_Vietnam_1080p96fps_preview.mp4\n",
            " 161212_028_Vietnam_1080p96fps_preview.mp4\n",
            " 161212_056_Vietnam_1080p96fps_preview.mp4\n",
            " 161212_087_Vietnam_1080p96fps_preview.mp4\n",
            " 170209D_039_Diving_1080p_preview.mp4\n",
            " 170216A_001_Alpaca1_1080p_preview.mp4\n",
            " 170216A_136_WomanDrivingCar_1080p_preview.mp4\n",
            " 170411A_13_Blossom_1080p_preview.mp4\n",
            " 170509A_Vietnam_04_preview.mp4\n",
            " 170609_B_DelhiJamaMasjid_004_preview.mp4\n",
            " 170609_B_DelhiJamaMasjid_006_preview.mp4\n",
            " 170609_D_Varanasi_002_preview.mp4\n",
            " 170609_D_Varanasi_003_preview.mp4\n",
            " 170609_D_Varanasi_060_1_preview.mp4\n",
            " 170609_E_Varanasi_028_preview.mp4\n",
            " 170609_F_Varanasi_071_preview.mp4\n",
            " 170628_009_preview.mp4\n",
            " 170628_014_preview.mp4\n",
            " 170724_01_Wavesfromabove_preview.mp4\n",
            " 170724_41_Surfersfromabove_preview.mp4\n",
            " 170728_Berlin_A_012_preview.mp4\n",
            " 170728_Berlin_C_022_preview.mp4\n",
            " 170804_B_Lombok_003_preview.mp4\n",
            " 170804_B_Lombok_068_preview.mp4\n",
            " 170804_B_Lombok_087_preview.mp4\n",
            " 170804_C_Lombok_009_preview.mp4\n",
            " 170804_C_Lombok_026_preview.mp4\n",
            " 171124_C2_UHD_002_preview.mp4\n",
            " 171124_D1_HD_011_preview.mp4\n",
            " 171124_G2_002_preview.mp4\n",
            " 171124_I1_004_preview.mp4\n",
            " 171124_I1_009_preview.mp4\n",
            " 171124_I1_011_preview.mp4\n",
            " 180301_07_A_HongKongIsland_19_preview.mp4\n",
            " 180607_A_015_preview.mp4\n",
            " 180607_A_086_preview.mp4\n",
            " 180607_A_088_preview.mp4\n",
            " 180607_A_100_preview.mp4\n",
            " 180607_A_122_preview.mp4\n",
            " 180825_02_02_preview.mp4\n",
            " 180825_08_garden_preview.mp4\n",
            " 181004_21_WATERDEVELOPMENT_07_preview.mp4\n",
            " 181015_05b_GriffithObservatory_13_preview.mp4\n",
            " 181015_05c_GriffithObservatory_HD_003_preview.mp4\n",
            "'181015_15b_Venice Canals_HD_01_preview.mp4'\n",
            "'181217 _11_Munich_002_preview.mp4'\n",
            " 190111_01_RatuchakNightMarket_Drone_007_preview.mp4\n",
            " 190111_04_TaksinBridge_Drone_12_preview.mp4\n",
            " 190111_16_MuayThaiTraining_HD_04_preview.mp4\n",
            " 190212_03_MarrakechKoutoubia_HD_07_preview.mp4\n",
            " 190301_02_KenyaWildlife_03_preview.mp4\n",
            " 190301_02_KenyaWildlife_27_preview.mp4\n",
            " 190301_02_KenyaWildlife_40_preview.mp4\n",
            " 190312_04_PiazzaNavona_UHD_003_preview.mp4\n",
            " 190319_01_ClimateChange_013_preview.mp4\n",
            " 190408_01_Alaska_Landscapes1_05_preview.mp4\n",
            " 190416_10_Drone1_11_preview.mp4\n",
            " 190416_13_MidlandsFarm_HD_002_preview.mp4\n",
            " 190614_09_CamelYurts_UHD_01_preview.mp4\n",
            " 190625_07_RooftopFlightNight_Drone_15_preview.mp4\n",
            " 190625_08_RooftopFlightMisc_Drone_27_preview.mp4\n",
            " 190712_Cornwall_HD_11_preview.mp4\n",
            " 190802_01_MakokoStiltCommunity_HD_61_preview.mp4\n",
            " 190802_05_PlasticPollution_HD_07_preview.mp4\n",
            " 190802_05_PlasticPollution_HD_10_preview.mp4\n",
            " 190802_17a_HD_21_preview.mp4\n",
            " 190802_17a_HD_32_preview.mp4\n",
            " 190802_17a_HD_33_preview.mp4\n",
            " 190802_17b_UHD_04_preview.mp4\n",
            " 190802_19_06_preview.mp4\n",
            " 190802_22_Drone_13_preview.mp4\n",
            "'200116_Lens effect_4k_040_preview.mp4'\n",
            "'200116_Lens effect_4k_074_preview.mp4'\n",
            "'200116_Lens effect_colour_4k_018_preview.mp4'\n",
            "'200207_London Streets_1_4k_065_preview.mp4'\n",
            "'200207_London Streets_1_4k_093_preview.mp4'\n",
            " 200223_Cafe_03_26_preview.mp4\n",
            "'200401_Oil and Elements 32_13_preview.mp4'\n",
            " 200415_03_Batch_05_006_preview.mp4\n",
            " 200415_03_Batch_05_007_preview.mp4\n",
            "'200506_kitchen Food_02_4k_019_preview.mp4'\n",
            "'200506_Kitchen Food_04_4k_014_preview.mp4'\n",
            "'200506_Kitchen Food_04_4k_019_preview.mp4'\n",
            "'200506_Kitchen Food_04_4k_032_preview.mp4'\n",
            "'200506_Kitchen Food_05_4k_043_preview.mp4'\n",
            "'200520_Kim Sydney_01_4k_008_preview.mp4'\n",
            "'200520_Kim Sydney_01_4k_009_preview.mp4'\n",
            "'200520_Kim Sydney_01_4k_036_preview.mp4'\n",
            "'200520_Kim Sydney_02_HD_020_preview.mp4'\n",
            "'200605_BLM US Protests_01_4k_002_preview.mp4'\n",
            "'200605_BLM US Protests_02_4k_038_preview.mp4'\n",
            " 200625_01_bees_004_preview.mp4\n",
            " 200910_04_Oxford_4K_041_preview.mp4\n",
            "'201119_02_Cobnut Christmas_4k_001_preview.mp4'\n",
            "'210112_01_Covid Oxford_4k_060_preview.mp4'\n",
            "'210121_01_Oxford Flooding_4k_022_preview.mp4'\n",
            "'210518_06_Camera DIY_2k_006_preview.mp4'\n",
            "'210521_01_Oxford Rain_4k_004_preview.mp4'\n",
            "'210521_02_Oxford Rain_2k_001_preview.mp4'\n",
            "'210603_02_July 4_4k_008_preview.mp4'\n",
            "'210603_03_July 4_4k_004_preview.mp4'\n",
            "'210603_03_July 4_4k_024_preview.mp4'\n",
            "'210613_01_Drone Cogges_4k_011_preview.mp4'\n",
            " 210616_02_Staycation_4k_027_preview.mp4\n",
            " 210616_02_Staycation_4k_061_preview.mp4\n",
            " 210616_04_Staycation_4k_012_preview.mp4\n",
            "'210804_01_Dog Walk_4k_001_preview.mp4'\n",
            "'210804_01_Dog Walk_4k_017_preview.mp4'\n",
            "'210804_01_Dog Walk_4k_024_preview.mp4'\n",
            "'210826_06_Family Outdoors_4k_043_preview.mp4'\n",
            "'211203_02_Christmas Food_4k_006_preview.mp4'\n",
            " 211212_03_Jakarta_4k_083_preview.mp4\n",
            " 211212_07_Jakarta_4k_058_preview.mp4\n",
            "'220507_01_Nature 1_4k_028_preview.mp4'\n",
            "'220507_01_Nature 1_4k_033_preview.mp4'\n",
            "'220507_05_Nature 1_4k_001_preview.mp4'\n",
            "'220507_05_Nature 1_4k_002_preview.mp4'\n",
            "'220507_05_Nature 1_4k_011_preview.mp4'\n",
            "'220507_05_Nature 1_4k_012_preview.mp4'\n",
            "'220514_01_London _4k_086_preview.mp4'\n",
            " 220518_01_Woods_4k_002_preview.mp4\n",
            " 220518_01_Woods_4k_012_preview.mp4\n",
            " 220518_02_Woods_4k_003_preview.mp4\n",
            " 220615_07_Summer_4k_027_preview.mp4\n",
            "'220810_02_Football Still Life_4k_021_preview.mp4'\n",
            " 4k_Tilt_of_Waterfall_preview.mp4\n",
            " 7_lavender_free1_preview.mp4\n",
            " a46_preview.mp4\n",
            " Airplanewing1_preview.mp4\n",
            "'Aitutaki blue green lagoon with rippling water_preview.mp4'\n",
            "'Aitutaki sunset time lapse_preview.mp4'\n",
            "'Alaska edge of northern forest zoom in_preview.mp4'\n",
            "'Alaska spring shrub in wind_preview.mp4'\n",
            " alyssahuberfilms_Ocean_Waves_at_Sunset_HD_Stock_Clip_preview.mp4\n",
            "'American Samoa ginger plant_preview.mp4'\n",
            "'_Argentina cloud above church_preview.mp4'\n",
            "'_Argentina Purmamarca zooms on market cart_preview.mp4'\n",
            "'Arizona desert shrubs and clouds_preview.mp4'\n",
            "'Arizona palms and grey sky_preview.mp4'\n",
            "'Arizona sunset with creosote bush_preview.mp4'\n",
            "'Arizona Tucson Mountain sun in evening_preview.mp4'\n",
            " beach3_preview.mp4\n",
            " Beach_evening_preview.mp4\n",
            " Bee__2825_preview.mp4\n",
            "'Big leaf maple flowers zoom in_preview.mp4'\n",
            " Blurred_Dance_Floor_preview.mp4\n",
            " BokehNightDriving_preview.mp4\n",
            "'California Anza Borrego flowers and view_preview.mp4'\n",
            "'_California couple inspect a blooming Beavertail cactus_preview.mp4'\n",
            "'California flowering shrub in forest_preview.mp4'\n",
            "'California Merced River rapids and weeds zooms in_preview.mp4'\n",
            "'_California San Francisco men turn cable car_preview.mp4'\n",
            "'_California San Francisco passing commercial buildings_preview.mp4'\n",
            "'_California San Francisco streetcar and bikes_preview.mp4'\n",
            "'_California San Francisco streets in shadow_preview.mp4'\n",
            "'_California San Francisco traffic with bicycle and busses_preview.mp4'\n",
            "'California smoke in evening sky_preview.mp4'\n",
            "'Canada broad view Bay of Fundy_preview.mp4'\n",
            "'Canada Hopewell Rocks Bay of Fundy big cloud just before sunset_preview.mp4'\n",
            "'Canada Nova Scotia forest under cloudy sky pan_preview.mp4'\n",
            "'Canada Nova Scotia low tide with edge of dock pan_preview.mp4'\n",
            "'Canada rocks and blue sky_preview.mp4'\n",
            "'Canada Vancouver red scaffolding_preview.mp4'\n",
            " Candastimelapse1_preview.mp4\n",
            " Cape_Perpetua_Oregon_Coast_preview.mp4\n",
            " Chickens_Outside_03_preview.mp4\n",
            "'Chile Aisen Fjord view_preview.mp4'\n",
            "'Chile Chiloe palafitos in the Gamboa district of Castro_preview.mp4'\n",
            "'Chile Estero de Castro coast and cloud_preview.mp4'\n",
            "'Chile Puerto Chacabuco work boat passes hills_preview.mp4'\n",
            "'Chile Valparaiso pilot boat goes by_preview.mp4'\n",
            " Choppy_Sea_3_preview.mp4\n",
            "'City street time lapse-H264 75_preview.mp4'\n",
            "'Close up of lake -H264 75_preview.mp4'\n",
            "'_Costa Rica Golden Birdwing butterfly feeds on a red flower_preview.mp4'\n",
            "'_Costa Rica rainforest large leaves block view on occasion_preview.mp4'\n",
            "'_Costa Rica rainforest looking down at cable cars_preview.mp4'\n",
            " creek_in_slowmotion1_preview.mp4\n",
            " creek_in_slowmotion2_preview.mp4\n",
            " DeerWalking_preview.mp4\n",
            " Distant_Waterfall_Mt_Ranier_preview.mp4\n",
            " Ducklings_preview.mp4\n",
            " earth_water_and_sky_timelapse_preview.mp4\n",
            "'_Estonia Tallinn family walking in the rain_preview.mp4'\n",
            " Falls3_preview.mp4\n",
            "'Fig tree top zooms out_preview.mp4'\n",
            " Fire_2_preview.mp4\n",
            "'Florida Everglades Eco Pond with reflection and bird_preview.mp4'\n",
            "'Florida Key West pelican sitting on post_preview.mp4'\n",
            "'Florida Key West Southern most beach with tourists_preview.mp4'\n",
            "'Florida Key West sun red at sunset time lapse_preview.mp4'\n",
            "'_Florida Miami traffic at sunset with birds_preview.mp4'\n",
            " flor_preview.mp4\n",
            "'Flowers bright red tulip_preview.mp4'\n",
            " FoodPack1_01_Videvo_preview.mp4\n",
            "'France Argentiere church and cross with Alps_preview.mp4'\n",
            "'France curious alpine clouds time lapse_preview.mp4'\n",
            "'France Mont Blanc les Bossons Glacier zoom out_preview.mp4'\n",
            "'France Mont Blanc with clouds time lapse_preview.mp4'\n",
            "'France Mont Blanc zooms in from highway_preview.mp4'\n",
            " Gardenstock_08_Videvo_preview.mp4\n",
            " Gardenstock_10_Videvo_preview.mp4\n",
            "'Georgia Okefenokee cypress trees against orange sky_preview.mp4'\n",
            "'Georgia Okefenokee reflections in scummy water pan_preview.mp4'\n",
            "'_Georgia Savannah view of river after sunset_preview.mp4'\n",
            "'Germany curving row in fruit orchard_preview.mp4'\n",
            "'Germany flowering trees zooms in_preview.mp4'\n",
            "'Germany man throws ball for dog at low tide on the Wadden sea_preview.mp4'\n",
            "'Germany mud and grass in the Wadden Sea_preview.mp4'\n",
            "'Germany river in Berchtesgaden zooms in_preview.mp4'\n",
            "'Germany road and car under cloudy sky_preview.mp4'\n",
            "'Germany Tangermunde Rathhous and statue of Grete Munde beyond flowers_preview.mp4'\n",
            "'Germany Wadden Sea zoom in to last of sunset_preview.mp4'\n",
            "'Germany Wismar buildings by the harbor with sidewalk cafe_preview.mp4'\n",
            " GREEN_SCREEN_ANIMALS__ALPACA_preview.mp4\n",
            " guadeloupe_french_angelfish_preview.mp4\n",
            " guadeloupe_urchins_lobster_preview.mp4\n",
            "'Guatemala tugboat in late evening_preview.mp4'\n",
            "'hd0057-H264 75_preview.mp4'\n",
            " hd0213_preview.mp4\n",
            " hd1119_preview.mp4\n",
            " heavyweather_preview.mp4\n",
            "'Iceland Haukadalur geothermal people watch geyser erupting_preview.mp4'\n",
            " _import_6065c57bb19250.58566001_preview.mp4\n",
            " _import_6065d325ab7a48.42065204_preview.mp4\n",
            " _import_60c057c4a9bb92.70321955_preview.mp4\n",
            " _import_60c98990d41000.24640210_preview.mp4\n",
            " _import_60cc306eb3ab91.13245739_preview.mp4\n",
            " _import_60d02f4d6e03b0.46854221_preview.mp4\n",
            " _import_60d0300d31a395.58288371_preview.mp4\n",
            " _import_60dd4fe459e568.98073769_preview.mp4\n",
            " _import_60e1425551f347.64507043_preview.mp4\n",
            " _import_60e1445b155109.47450302_preview.mp4\n",
            " _import_60ee7b38b64dd9.92365586_preview.mp4\n",
            " _import_60ee8c5e26e572.61397245_preview.mp4\n",
            " _import_610116784e1d62.13056130_preview.mp4\n",
            " _import_61288191454cd9.22449365_preview.mp4\n",
            " _import_612895507f07b6.40498971_preview.mp4\n",
            " _import_6128976f7320b3.79014040_preview.mp4\n",
            " _import_6128991e757991.79992470_preview.mp4\n",
            " _import_61289a56d4c477.72334296_preview.mp4\n",
            " _import_614eec7a926421.45456331_preview.mp4\n",
            " _import_614ef0949b5446.23214321_preview.mp4\n",
            " _import_614f0884e972e2.19041194_preview.mp4\n",
            " _import_61500a3412b026.38826220_preview.mp4\n",
            " _import_61554f890f8993.83985142_preview.mp4\n",
            " _import_6157ebf780e902.15891837_preview.mp4\n",
            " _import_6163cde71fb1f5.20419284_preview.mp4\n",
            " _import_61652b85c628f3.82983087_preview.mp4\n",
            " _import_61654deeef5b64.29911119_preview.mp4\n",
            " _import_6167bc5d382852.84834620_preview.mp4\n",
            " _import_616e5f6d5657b8.14622698_preview.mp4\n",
            " _import_616e761dd634a8.19634608_preview.mp4\n",
            " _import_616e7f78a17260.13545125_preview.mp4\n",
            " _import_6177e0cf8036a4.37473265_preview.mp4\n",
            " _import_617a4fe9c30c80.39525646_preview.mp4\n",
            " _import_6184dfdc4a70a6.83520120_preview.mp4\n",
            " _import_61a9ade7a970a6.73839300_preview.mp4\n",
            " _import_61c95050076a95.79642391_preview.mp4\n",
            " _import_61c96e0214e918.38022068_preview.mp4\n",
            " _import_61ce92ca0ddf90.72206355_preview.mp4\n",
            " _import_61dd12dd85adc0.99844289_preview.mp4\n",
            " _import_61dd13ed2cad44.96373891_preview.mp4\n",
            " _import_61de6244083ac0.96033932_preview.mp4\n",
            " _import_61de62f29214e6.07423532_preview.mp4\n",
            " _import_61fa0fe6012086.49186503_preview.mp4\n",
            " _import_62623747cb91d7.21560951_preview.mp4\n",
            " _import_627a05b8bba559.48832708_preview.mp4\n",
            " _import_628b56b464eb24.09712803_preview.mp4\n",
            " _import_62a30d102a7524.67788324_preview.mp4\n",
            " _import_62a30e774d71a7.11740613_preview.mp4\n",
            " _import_62a3141f4b2347.28274638_preview.mp4\n",
            " _import_62a317a25b1948.52092175_preview.mp4\n",
            " _import_62a43699b31a84.52474335_preview.mp4\n",
            " _import_62a58dfa0a2971.36532340_preview.mp4\n",
            " _import_62ad8960dcd171.05889245_preview.mp4\n",
            " _import_62aec63ac22bb7.85561144_preview.mp4\n",
            " _import_62b00c435e3261.15265927_preview.mp4\n",
            " _import_62b0244d09af01.32593025_preview.mp4\n",
            " _import_62ba93f5c1a178.10596314_preview.mp4\n",
            " _import_62bbf158a280a4.97325197_preview.mp4\n",
            " _import_62bbf21eafbd40.36684572_preview.mp4\n",
            " _import_62bbf47605de44.36784975_preview.mp4\n",
            " _import_62bff14a61f762.48345820_preview.mp4\n",
            " _import_62bff30ce09103.56298710_preview.mp4\n",
            " _import_62c12501cd3f30.82606984_preview.mp4\n",
            " _import_62c13eca8a91d0.54432958_preview.mp4\n",
            " _import_62c1427d614bc7.98321253_preview.mp4\n",
            " _import_62c2a8de886981.70065660_preview.mp4\n",
            " _import_62c66a318912d7.10566061_preview.mp4\n",
            " _import_62c66af772cf47.68678045_preview.mp4\n",
            " _import_62c7c6bf70f7f3.91095751_preview.mp4\n",
            " _import_62c7cd28c70145.12171020_preview.mp4\n",
            " _import_62ca6b3eeb5426.00786373_preview.mp4\n",
            " _import_62ca6cee1e5783.29058702_preview.mp4\n",
            " Incline_Overlook_preview.mp4\n",
            "'_Iowa an autumn view toward the Missouri River_preview.mp4'\n",
            "'Ireland County Galway Rinvyle coast with rock_preview.mp4'\n",
            "'Ireland County Galway Rinvyle road_preview.mp4'\n",
            "'Ireland County Kerry Killorglin man crosses street pan_preview.mp4'\n",
            "'Ireland County Kerry Killorglin man crosses street_preview.mp4'\n",
            "'Ireland Dingle Peninsula road above sea cliffs pans and zooms_preview.mp4'\n",
            "'Ireland Doolin view with steers and stone wall_preview.mp4'\n",
            " Japan_preview.mp4\n",
            "'Jellyfish moves toward rocks_preview.mp4'\n",
            " Lake_Mountain_Timelapse_preview.mp4\n",
            " Light_amongst_the_leaves_CCBY_NatureClip_preview.mp4\n",
            "'Los Angeles skyline as night falls time lapse_preview.mp4'\n",
            "'Louisiana car and atv by levee_preview.mp4'\n",
            "'Louisiana lake with landscaping_preview.mp4'\n",
            "'Louisiana Mississippi in flood with levee_preview.mp4'\n",
            " Luna_00001_preview.mp4\n",
            "'_Massachusetts Salem Witch s House with sign_preview.mp4'\n",
            " MelbourneCBD1H264_preview.mp4\n",
            "'Mexico Guanajuato statue and people_preview.mp4'\n",
            "'Mexico Huatulco flowers and people_preview.mp4'\n",
            "'Mexico Huatulco looking down on beach and town_preview.mp4'\n",
            "'Mexico Huatulco man rides scooter on walkway_preview.mp4'\n",
            "'Montana clouds over trees_preview.mp4'\n",
            "'Montana traffic on road past East Glacier town_preview.mp4'\n",
            "'Montana view of Missouri headwaters at Three Forks_preview.mp4'\n",
            " MVI_1483_preview.mp4\n",
            " Mykonos_2_preview.mp4\n",
            " Mykonos_5_preview.mp4\n",
            " myrdalssandur_iceland_one_preview.mp4\n",
            "'New Orleans clouds over town_preview.mp4'\n",
            "'New Orleans Commanders Palace in Garden District_preview.mp4'\n",
            "'New Orleans French Quarter line and bike evening_preview.mp4'\n",
            "'_New York Goshen street scene with school bus_preview.mp4'\n",
            "'New Zealand Catlins Tahakopa River_preview.mp4'\n",
            "'New Zealand cloud and driftwood Moeraki_preview.mp4'\n",
            "'New Zealand Moeraki view of bay_preview.mp4'\n",
            "'New Zealand mountains and clouds_preview.mp4'\n",
            "'New Zealand path and wave clouds Lake Dunstan_preview.mp4'\n",
            " Nightclub_DJ_Hands_in_Air_preview.mp4\n",
            "'_North Carolina tilts up fall trees_preview.mp4'\n",
            "'Northern Ireland Antrim zooms on tiny tide pool_preview.mp4'\n",
            "'_Oklahoma car in late evening_preview.mp4'\n",
            "'_Oregon coast sunset and drifting fog_preview.mp4'\n",
            "'_Oregon Columbia Gorge Memeloose Overlook with flowers_preview.mp4'\n",
            "'Oregon Columbia River backwater with dead branch pan_preview.mp4'\n",
            "'Oregon Deschutes River ducks swimming_preview.mp4'\n",
            "'Oregon Deschutes River with huge rock_preview.mp4'\n",
            "'Oregon highway under clouds time lapse_preview.mp4'\n",
            "'Oregon large cloud with rainbow_preview.mp4'\n",
            "'Oregon late evening sun time lapse_preview.mp4'\n",
            "'Oregon Portland south park art museum_preview.mp4'\n",
            " P1000227_Trim_1591402552_preview.mp4\n",
            " P1250020_00_00_0100_00_06_preview.mp4\n",
            " Parasailing_1_preview.mp4\n",
            "'_Pennsylvania West Chester street_preview.mp4'\n",
            " PiccadillyCircusNightVidevo_preview.mp4\n",
            " PlayingWithPlane_preview.mp4\n",
            " Pordeitev_smrek_preview.mp4\n",
            " Porto_sunrise_preview.mp4\n",
            " Pull_Focus_Along_Groynes__Videvo_preview.mp4\n",
            " Rainbow_timelapse_CCBY_NatureClip_preview.mp4\n",
            "'Rarotonga lagoon Muri Beach sky_preview.mp4'\n",
            " reed1_preview.mp4\n",
            " rifugio_becco_preview.mp4\n",
            " RooftopClouds_preview.mp4\n",
            " rover_and_rocks_medium_preview.mp4\n",
            "'Samoa throwing coconuts_preview.mp4'\n",
            " ScenicOceanBeach_1_preview.mp4\n",
            " SeagullsMediumAltMaster_preview.mp4\n",
            "'Spain Serrania de Cuenca Una lagoon with brown reeds_preview.mp4'\n",
            " Sqirrel_Eats_Wide_preview.mp4\n",
            " Squirrel_Monkey_on_Breach_preview.mp4\n",
            " Sunsat___8_1596540777_preview.mp4\n",
            " SunsetBoat720p_preview.mp4\n",
            " Sydney_storm_preview.mp4\n",
            "'Texas Austin Capitol building after sunset_preview.mp4'\n",
            "'Texas Austin Capitol building in evening zoom in_preview.mp4'\n",
            "'Texas Big Bend Chisos red sunset zoom in_preview.mp4'\n",
            " TimelapsephotographyFieldF21JamaJamon_preview.mp4\n",
            " TL_3_h264420_1080p_HQ_preview.mp4\n",
            " Venice_Sunset_HDmovie_1591370022_preview.mp4\n",
            "'Washington butterfly and mountain view_preview.mp4'\n",
            "'Washington evening clouds pink time lapse_preview.mp4'\n",
            "'Washington Silver Lake after sunset pan_preview.mp4'\n",
            " Water_3_150fps_videvo_preview.mp4\n",
            " water_bubbles_preview.mp4\n",
            "'Weeds and moving water_preview.mp4'\n",
            "'Wind Turbine 2-Stock Video_preview.mp4'\n",
            "'_Wisconsin sunset on Mississippi_preview.mp4'\n",
            "'_Wisconsin sunset on Mississippi River_preview.mp4'\n",
            "'Yellowstone lower falls of the river_preview.mp4'\n"
          ]
        }
      ]
    },
    {
      "cell_type": "code",
      "source": [
        "!ls what-on-the-video/train"
      ],
      "metadata": {
        "colab": {
          "base_uri": "https://localhost:8080/"
        },
        "id": "IY3dVVfWzkC2",
        "outputId": "d00a902d-2cf6-4036-b490-539778de0ae9"
      },
      "id": "IY3dVVfWzkC2",
      "execution_count": null,
      "outputs": [
        {
          "output_type": "stream",
          "name": "stdout",
          "text": [
            " 000690437-arizona-sedona-statue-cowboy-a_preview.mp4\n",
            " 000691986-nemea-valley-vineyards_preview.mp4\n",
            " 000692710-sunset-kathisma-beach_preview.mp4\n",
            " 000693013-view-toward-skyscrapers_preview.mp4\n",
            " 000763544-florida-boat-bay_preview.mp4\n",
            " 000937113-edge-sea-kilauea-lava-flow_preview.mp4\n",
            " 000939521-ecuador-crater-lake-view_preview.mp4\n",
            " 000984125-marina-kona-coast-hawaii_preview.mp4\n",
            " 000984652-hawaii-waiale-waterfall-view_preview.mp4\n",
            " 000984824-honolulu-late-evening-ala-moan_preview.mp4\n",
            " 000985273-lake-michigan-upper-peninsula_preview.mp4\n",
            " 000985570-maui-lahaina-street-scene_preview.mp4\n",
            " 000985632-lanai-waves-and-cloud_preview.mp4\n",
            " 000985859-maui-view-haleakala-4_preview.mp4\n",
            " 002197756-bonaire-bicycle-kralendiji_preview.mp4\n",
            " 002200816-st-thomas-runway-mov_preview.mp4\n",
            " 005501044-poinciana-flowers-wind_preview.mp4\n",
            " 010713166-saba-sunset-clouds_preview.mp4\n",
            " 010713170-saba-sunset_preview.mp4\n",
            " 010894013-spain-castile-valle-de-iruelas_preview.mp4\n",
            " 010918338-spain-merida-aqueduct-miracles_preview.mp4\n",
            " 010918604-merida-aqueduct-miracles-flowe_preview.mp4\n",
            " 011057265-patagonia-beagle-channel-view_preview.mp4\n",
            " 011095672-chile-hollyhock-s1_preview.mp4\n",
            " 011110623-patagonia-owl-winks_preview.mp4\n",
            " 011123524-patagonia-puerto-natales-sunse_preview.mp4\n",
            " 011130883-amalia-glacier-people-ship_preview.mp4\n",
            " 011130937-patagonia-chilean-fjords_preview.mp4\n",
            " 011131040-chile-torres-del-paine-burn-1s_preview.mp4\n",
            " 011139863-torres-del-paine-lago-pehoe-ca_preview.mp4\n",
            " 012157030-greenland-qaqortoq-carvings-5_preview.mp4\n",
            " 014918141-iceland-eyjafjordur-area-yello_preview.mp4\n",
            " 014965117-iceland-olafsfjordur-headland-_preview.mp4\n",
            " 024686456-idaho-snake-river-thousand-fal_preview.mp4\n",
            " 024686597-nevada-yuccas_preview.mp4\n",
            " 024690993-wyoming-sunset-jet-contrail-ov_preview.mp4\n",
            " 026205318-greenland-ice-fjord-people-edi_preview.mp4\n",
            " 026349083-new-mexico-taos-landscape-time_preview.mp4\n",
            " 026357907-utah-capitol-reef-sunset-time-_preview.mp4\n",
            " 027_preview.mp4\n",
            " 034655368-berlin-bahnhof-friedrichstrass_preview.mp4\n",
            " 039741528-cusco-view-hill-church-c_preview.mp4\n",
            " 039817929-canada-athabasca-glacier-drama_preview.mp4\n",
            " 040611767-british-columbia-glacier-np-st_preview.mp4\n",
            " 040615070-canadian-rockies-icefields-par_preview.mp4\n",
            " 0530_F1507_H2_008_Orcas_02_preview.mp4\n",
            " 128177537-singapore-city-fountain-and-pe_preview.mp4\n",
            " 132080839-paris-tree-lined-avenue_preview.mp4\n",
            " 160606_MontBlanc_CableCar_1080p_preview.mp4\n",
            " 160725_181_Chicago_1080p_preview.mp4\n",
            " 160820_049_NYC_RainStreet6_1080p_preview.mp4\n",
            " 160820_102_NYC_BrooklynBridgeSunset_1080p_preview.mp4\n",
            " 160820_123_NYC_OutOfFocusCarLights3_1080p_preview.mp4\n",
            " 160825_05_Sunflowers3_1080p_preview.mp4\n",
            " 160825_08_Grapevines3_1080p_preview.mp4\n",
            " 160929_044_London_BigBen2_1080p_preview.mp4\n",
            " 160929_114_London_HMSBelfast_1080p_preview.mp4\n",
            " 160929_118_London_TowerBridge3_1080p_preview.mp4\n",
            " 160929_120_London_TowerBridge4_1080p_preview.mp4\n",
            " 161022_084_SanFrancisco_4K_preview.mp4\n",
            " 161212_052_Vietnam_1080p96fps_preview.mp4\n",
            " 170411A_23_Blossom_1080p_preview.mp4\n",
            " 170509A_Vietnam_03_preview.mp4\n",
            " 170609_A_Delhi_074_1_preview.mp4\n",
            " 170609_B_DelhiJamaMasjid_054_preview.mp4\n",
            " 170609_E_Varanasi_022_preview.mp4\n",
            " 170609_E_Varanasi_071_preview.mp4\n",
            " 170609_E_Varanasi_111_1_preview.mp4\n",
            " 170609_F_Varanasi_010_preview.mp4\n",
            " 170609_F_Varanasi_050_preview.mp4\n",
            " 170609_F_Varanasi_088_preview.mp4\n",
            " 170628_016_preview.mp4\n",
            " 170724_29_Flyingoverpalms_preview.mp4\n",
            " 170728_Berlin_A_018_preview.mp4\n",
            " 170804_A_Lombok_026_preview.mp4\n",
            " 170804_A_Lombok_032_preview.mp4\n",
            " 170804_C_Lombok_001_preview.mp4\n",
            " 171124_E1_HD_018_preview.mp4\n",
            " 171124_G1_033_preview.mp4\n",
            " 171124_H2_008_preview.mp4\n",
            " 171124_I1_013_preview.mp4\n",
            " 180116_01_01_preview.mp4\n",
            " 180301_14_A_KowloonWetMarket_08_preview.mp4\n",
            " 180607_A_016_preview.mp4\n",
            " 180607_A_025_preview.mp4\n",
            " 180607_A_034_preview.mp4\n",
            " 180607_A_036_preview.mp4\n",
            " 180711_01_01_preview.mp4\n",
            " 180920_01_Cologne_02_preview.mp4\n",
            " 181004_04_Dolphins-Whale_05_preview.mp4\n",
            "'181015_05a_Griffith Observatory Drone_09_preview.mp4'\n",
            " 181015_05b_GriffithObservatory_15_preview.mp4\n",
            " 181015_06_FourLevel_03_preview.mp4\n",
            " 181015_06_FourLevel_04_preview.mp4\n",
            " 181015_07a_Hollywood_UHD_013_preview.mp4\n",
            " 181015_07a_Hollywood_UHD_020_preview.mp4\n",
            " 181015_09_Timelapses_06_preview.mp4\n",
            "'181015_13_Venice Beach Drone_04_preview.mp4'\n",
            " 190111_10_SkytrainMetro_HD_003_preview.mp4\n",
            " 190111_11_ChinaTown_HD_004_preview.mp4\n",
            " 190111_TL_1_12_preview.mp4\n",
            " 190212_03_MarrakechKoutoubia_HD_12_preview.mp4\n",
            " 190301_02_KenyaWildlife_26_preview.mp4\n",
            " 190301_02_KenyaWildlife_36_preview.mp4\n",
            " 190301_1_25_01_preview.mp4\n",
            " 190301_1_25_11_preview.mp4\n",
            " 190301_1_25_14_preview.mp4\n",
            " 190312_08_ParcoDegliAquedotti_Drone_004_preview.mp4\n",
            " 190312_08_ParcoDegliAquedotti_Drone_005_preview.mp4\n",
            " 190312_21_StPetersBasilicaSquare_UHD_005_preview.mp4\n",
            " 190312_26_PiazzaVenezia_Drone_006_preview.mp4\n",
            " 190312_26_PiazzaVenezia_Drone_007_preview.mp4\n",
            " 190312_26_PiazzaVenezia_Drone_009_preview.mp4\n",
            " 190408_04_AmericanLandscapes1_05_preview.mp4\n",
            " 190408_04_AmericanLandscapes1_06_preview.mp4\n",
            " 190408_10_MonarchLifecycle3_12_preview.mp4\n",
            " 190408_MonarchLifecycle2_04_preview.mp4\n",
            " 190416_01_LlandudnoBeach_Drone_030_preview.mp4\n",
            " 190527_Vari_1_02_preview.mp4\n",
            " 190614_02_HellMouth_UHD_09_preview.mp4\n",
            " 190625_07_RooftopFlightNight_Drone_05_preview.mp4\n",
            " 190802_01_MakokoStiltCommunity_HD_109_preview.mp4\n",
            " 190802_01_MakokoStiltCommunity_HD_57_preview.mp4\n",
            " 190802_01_MakokoStiltCommunity_HD_63_preview.mp4\n",
            " 190802_17a_HD_40_preview.mp4\n",
            " 190802_22_Drone_18_preview.mp4\n",
            " 191126_2_HD_Party_Cropped_07_preview.mp4\n",
            " 191126_2_HD_Party_Cropped_10_preview.mp4\n",
            "'200116_Lens effect_4k_036_preview.mp4'\n",
            "'200116_Lens effect_4k_042_preview.mp4'\n",
            "'200116_Lens effect_4k_069_preview.mp4'\n",
            " 200223_Cafe_03_14_preview.mp4\n",
            "'200401_Fizzy Drinks 6_03_preview.mp4'\n",
            " 200412_02_Fire4K_08_preview.mp4\n",
            "'200506_Kitchen Food_03_4k_008_preview.mp4'\n",
            "'200506_Kitchen Food_04_4k_021_preview.mp4'\n",
            "'200506_Kitchen Food_05_4k_044_preview.mp4'\n",
            "'200520_Kim Sydney_01_4k_007_preview.mp4'\n",
            "'200605_BLM US Protests_01_4k_013_preview.mp4'\n",
            "'200612_Making Pizza_01_4k_026_preview.mp4'\n",
            "'200612_Making Pizza_01_4k_041_preview.mp4'\n",
            " 200910_02_Oxford_4K_042_preview.mp4\n",
            " 200923_03_Birmingham_4k_023_preview.mp4\n",
            "'201119_04_Cobnut Christmas_4k_017_preview.mp4'\n",
            "'210302_01_Search terms_4k_105_preview.mp4'\n",
            "'210302_01_Search terms_4k_107_preview.mp4'\n",
            "'210302_02_Search terms_4k_051_preview.mp4'\n",
            "'210303_01_Rural Walk_4k_015_preview.mp4'\n",
            " 210329_01B_Bali_1080p_026_preview.mp4\n",
            "'210603_02_July 4_4k_003_preview.mp4'\n",
            "'210603_02_July 4_4k_007_preview.mp4'\n",
            " 210616_03_Staycation_4k_047_preview.mp4\n",
            " 210722_05_Festival_4k_073_preview.mp4\n",
            "'210804_01_Dog Walk_4k_014_preview.mp4'\n",
            "'210804_01_Dog Walk_4k_030_preview.mp4'\n",
            "'210819_06_Health and Expressions_4k_024_preview.mp4'\n",
            " 211004_02B_Bali_4k_009_preview.mp4\n",
            "'211025_10_C_Kids in Studio_HD_009_preview.mp4'\n",
            "'211028_01_Christmas Bar_4k_006_preview.mp4'\n",
            "'211028_04_Christmas Bar_4K_014_preview.mp4'\n",
            "'211028_04_Christmas Bar_4K_051_preview.mp4'\n",
            "'211028_06_Christmas Bar_4K_018_preview.mp4'\n",
            "'211028_08_Christmas Bar_4k_001_preview.mp4'\n",
            " 211212_07_Jakarta_4k_041_preview.mp4\n",
            "'220507_01_Nature 1_4k_005_preview.mp4'\n",
            "'220507_01_Nature 1_4k_039_preview.mp4'\n",
            "'220507_05_Nature 1_4k_005_preview.mp4'\n",
            " 220518_01_Woods_4k_001_preview.mp4\n",
            " 220518_01_Woods_4k_010_preview.mp4\n",
            " 220615_09_Summer_4k_004_preview.mp4\n",
            "'220810_02_Football Still Life_4k_003_preview.mp4'\n",
            "'220810_02_Football Still Life_4k_005_preview.mp4'\n",
            "'220810_02_Football Still Life_4k_023_preview.mp4'\n",
            " 220923_04_Diwali_4k_002_preview.mp4\n",
            " 221003_06_Flags_4k_001_preview.mp4\n",
            " 221003_06_Flags_4k_002_preview.mp4\n",
            " 221003_06_Flags_4k_004_preview.mp4\n",
            " 221003_06_Flags_4k_011_preview.mp4\n",
            " 221003_06_Flags_4k_041_preview.mp4\n",
            " 221003_07_Flags_4k_001_preview.mp4\n",
            " 221003_07_Flags_4k_032_preview.mp4\n",
            " 221003_07_Flags_4k_042_preview.mp4\n",
            " 221003_08_Flags_4k_017_preview.mp4\n",
            " 221003_08_Flags_4k_041_preview.mp4\n",
            " 911_dial_Videvo_preview.mp4\n",
            " A0271_F1506_H2_Bridge_with_bike_AM_WA_pan_preview.mp4\n",
            " A0449_1507_H3_807_1163_Videvo_preview.mp4\n",
            " A0458_1507_H3_807_1166_Videvo_preview.mp4\n",
            " A0471_1507_H3_807_1170_Videvo_preview.mp4\n",
            " A0472_1507_H3_807_1170_Videvo_preview.mp4\n",
            " A0474_1507_H3_807_1171_Videvo_preview.mp4\n",
            "'Aitutaki colorful kayaks on a beach by a lagoon zoom in_preview.mp4'\n",
            "'Aitutaki white sand beach and lagoon with shore pine_preview.mp4'\n",
            "'Alaska Denali park tourists on path_preview.mp4'\n",
            "'Aquarium bottom fish_preview.mp4'\n",
            "'_Argentina a cloud after sunset over Fitz Roy_preview.mp4'\n",
            "'_Argentina Salta cloud over tobacco field_preview.mp4'\n",
            "'_Arizona Navajo Reservation jet contrails_preview.mp4'\n",
            "'Arizona Prescott after sunset_preview.mp4'\n",
            "'Arizona zoom on sunset mountain_preview.mp4'\n",
            "'Arkansas Mammoth Spring water detail_preview.mp4'\n",
            " barbecue_2_preview.mp4\n",
            "'Barley-Stock Video_preview.mp4'\n",
            " barras012_preview.mp4\n",
            " Beach_Log_with_a_view_HDV_1080p25_Mp4___TanuriX_Stock_Footage_preview.mp4\n",
            "'Beach rocks at dusk -H264 75_preview.mp4'\n",
            " Beach_sp1_H264_Videvo_preview.mp4\n",
            " bees2_preview.mp4\n",
            " Boxing_09Videvo_preview.mp4\n",
            "'California clouds time lapse_preview.mp4'\n",
            "'California fountain with pink flowers and people_preview.mp4'\n",
            "'California Hetch Hetchy split rock and tree_preview.mp4'\n",
            "'California looking up at palm fruit_preview.mp4'\n",
            "'California mosaic dome and tower with palm trees_preview.mp4'\n",
            "'California people on path by sea in Santa Cruz_preview.mp4'\n",
            "'_California San Francisco cable car enters turntable_preview.mp4'\n",
            "'_California San Francisco mission church_preview.mp4'\n",
            "'California Solvang sidewalk and flowers with pedestrians_preview.mp4'\n",
            "'Canada Bay of Fundy curved beach_preview.mp4'\n",
            "'Canada Nova Scotia car approaching on highway_preview.mp4'\n",
            "'Canada Nova Scotia cloudy sky and distant houses pan_preview.mp4'\n",
            "'Canada Ranger helps tourists at Hopewell Rocks_preview.mp4'\n",
            "'Canada tide retreating by Hopewell Rocks_preview.mp4'\n",
            "'Canada trees on a red rock at Hopewell Rocks_preview.mp4'\n",
            " Cape_Perpetua_Oregon_Coast_Pt_2_preview.mp4\n",
            " Cell_Tower_at_Sunset_CLOSE_preview.mp4\n",
            "'Chile Punta Arenas zooms on street scene_preview.mp4'\n",
            "'Chile Smyth Channel reflection of rugged mountains_preview.mp4'\n",
            "'Chile Smyth Channel sailboat on rugged coast_preview.mp4'\n",
            " ChinaPeacock_preview.mp4\n",
            " Clip17271013Videvo_preview.mp4\n",
            " CloseFallsTimelapse_1_preview.mp4\n",
            " CloseupWaterfall3_preview.mp4\n",
            "'Clouds At Sunset-H264 75_preview.mp4'\n",
            " Clouds_Over_the_City_3_Time_Lapse_preview.mp4\n",
            "'Croatia Lovran rocks and water_preview.mp4'\n",
            "'Croatia water on rocks at high tide pan_preview.mp4'\n",
            "'Daisy-Stock Video_preview.mp4'\n",
            " DJ_Set_2_MAYBE_preview.mp4\n",
            " Download_progress_01_Videvo_preview.mp4\n",
            " Droplets_Videvo_preview.mp4\n",
            " DSCN0569rain_preview.mp4\n",
            " Ducks_in_Sunset_preview.mp4\n",
            " extrazapadkarlhrad_1592838946_preview.mp4\n",
            " Female_Mallard_preview.mp4\n",
            " FerryComingtoDock2_1_preview.mp4\n",
            "'Fig tree in spring and looming clouds_preview.mp4'\n",
            "'Florida Keys highway_preview.mp4'\n",
            "'Flowers in park -H264 75_preview.mp4'\n",
            " FoodPack1_04_Videvo_preview.mp4\n",
            "'France Alsace trees and clouds time lapse_preview.mp4'\n",
            "'France blooming trees in woods zoom in_preview.mp4'\n",
            "'France branch frames peak above the Valley of Ubaye zoom to car_preview.mp4'\n",
            "'France Chamonix with river and Mont Blanc_preview.mp4'\n",
            "'France Mont Blanc les Bossons Glacier view_preview.mp4'\n",
            "'France Mont Blanc view with street light zoom in_preview.mp4'\n",
            "'France Revel Belledonne church and WWI statue_preview.mp4'\n",
            " free_footage_11c_preview.mp4\n",
            " FREEStockVideoDOWNLOADVictrolaRecordPlayer2PackHD_preview.mp4\n",
            " Gardenstock_03_Videvo_preview.mp4\n",
            " GARDEN_SUMMER_2_preview.mp4\n",
            "'_Georgia cars pass on country highway_preview.mp4'\n",
            "'Georgia Okefenokee clouds over forest_preview.mp4'\n",
            "'Georgia Okefenokee cypress trees by water in ditch_preview.mp4'\n",
            "'Georgia Okefenokee dramatic setting sun and orange sky_preview.mp4'\n",
            "'Germany low tide on the Wadden Sea_preview.mp4'\n",
            "'Germany sun on water of Wadden Sea_preview.mp4'\n",
            "'Germany Wismar traffic and election poster_preview.mp4'\n",
            " GirlinWaves_preview.mp4\n",
            "'Greece Crete Aegean Sea with tourist on rock_preview.mp4'\n",
            "'Green lemon on a tree_preview.mp4'\n",
            " greypass009_preview.mp4\n",
            "'hd0073-H264 75_preview.mp4'\n",
            "'hd0287-H264 75_preview.mp4'\n",
            " hd0588_preview.mp4\n",
            " hd0638_preview.mp4\n",
            " hd0976_preview.mp4\n",
            " hd1068_preview.mp4\n",
            " hd1579_preview.mp4\n",
            " HS016_preview.mp4\n",
            " Humming_Bird_1_preview.mp4\n",
            "'Iceland Gullfoss waterfall overview_preview.mp4'\n",
            "'Iceland landscape with cliff_preview.mp4'\n",
            "'Idaho Shoshone Falls in fall with trees_preview.mp4'\n",
            "'Idaho view of Shoshone Falls_preview.mp4'\n",
            "'_Illinois small town main street_preview.mp4'\n",
            " _import_60646ce3ac9429.36732825_preview.mp4\n",
            " _import_6065c421dd66b8.88923114_preview.mp4\n",
            " _import_6065d34a70c782.30248515_preview.mp4\n",
            " _import_6065d384221800.68603998_preview.mp4\n",
            " _import_60b88e1af139d5.18059651_preview.mp4\n",
            " _import_60bf1b2460e635.70222225_preview.mp4\n",
            " _import_60bf2490d519d8.48380607_preview.mp4\n",
            " _import_60c45a35cbc233.33813190_preview.mp4\n",
            " _import_60c98768340bd4.69842985_preview.mp4\n",
            " _import_60d02948d5d725.11253653_preview.mp4\n",
            " _import_60d430553e9d38.44259666_preview.mp4\n",
            " _import_60d43b28eccb76.56949249_preview.mp4\n",
            " _import_60e1427525e802.45294546_preview.mp4\n",
            " _import_60e1438143f817.17126516_preview.mp4\n",
            " _import_6100f248554909.08502974_preview.mp4\n",
            " _import_6100f2ed174ef1.30067168_preview.mp4\n",
            " _import_612886ec24c325.97237293_preview.mp4\n",
            " _import_6128934e3599e0.40316639_preview.mp4\n",
            " _import_61289b8fc2d065.45490606_preview.mp4\n",
            " _import_613c3e41a95833.35503967_preview.mp4\n",
            " _import_613c654a17ad52.70715239_preview.mp4\n",
            " _import_613c6de5ee0846.60838525_preview.mp4\n",
            " _import_614efb3229e902.59139691_preview.mp4\n",
            " _import_614efddbd19516.60448217_preview.mp4\n",
            " _import_615fd719c295d0.10594294_preview.mp4\n",
            " _import_615fdc101b8d89.05791019_preview.mp4\n",
            " _import_616e5ebb6151f5.55336006_preview.mp4\n",
            " _import_616e6f098a5c54.58213374_preview.mp4\n",
            " _import_616e8403090515.37900575_preview.mp4\n",
            " _import_61784fbeb50dd0.74414094_preview.mp4\n",
            " _import_61c064195d9b07.10341428_preview.mp4\n",
            " _import_61ce92481ba023.01430871_preview.mp4\n",
            " _import_61ce930f8ed944.85981323_preview.mp4\n",
            " _import_61cfe3f2155a28.97821744_preview.mp4\n",
            " _import_61dd0eda11d195.77389081_preview.mp4\n",
            " _import_61eb903d4d7c42.69975501_preview.mp4\n",
            " _import_6207416ea00a28.78733137_preview.mp4\n",
            " _import_620c861d7eabb1.18252571_preview.mp4\n",
            " _import_623563d066c5a7.19754478_preview.mp4\n",
            " _import_6279ffebeb7545.76083627_preview.mp4\n",
            " _import_6284909a6386a1.74626481_preview.mp4\n",
            " _import_628dc39bae13e6.08897269_preview.mp4\n",
            " _import_6295af57e91899.44502981_preview.mp4\n",
            " _import_62a30c94ebd558.82088264_preview.mp4\n",
            " _import_62a314e3575bd8.79997499_preview.mp4\n",
            " _import_62a3185725f401.40534811_preview.mp4\n",
            " _import_62a42f010c5739.50703197_preview.mp4\n",
            " _import_62a584fa595768.31556786_preview.mp4\n",
            " _import_62aec5c7f1c230.84098795_preview.mp4\n",
            " _import_62aecdb5e85316.67090481_preview.mp4\n",
            " _import_62b0222fe9e2f6.59740247_preview.mp4\n",
            " _import_62bd3f44432c89.21660927_preview.mp4\n",
            " _import_62c1423a8d2765.91564446_preview.mp4\n",
            " _import_62c144f8bceab5.22089619_preview.mp4\n",
            " _import_62c66f266e5c22.05088660_preview.mp4\n",
            " _import_62c7cdc8224a01.35117630_preview.mp4\n",
            " _import_62c7ce01046979.01307962_preview.mp4\n",
            " _import_62ca6256159466.11484720_preview.mp4\n",
            "'_Iowa Burlington rail yards with train_preview.mp4'\n",
            "'Ireland a standing rock of limestone near the Burren shore_preview.mp4'\n",
            "'Ireland County Kerry Killorglin town_preview.mp4'\n",
            "'Ireland Doolin view with stone wall_preview.mp4'\n",
            "'Ireland Mullaghmore buildings on a street_preview.mp4'\n",
            "'Ireland sheep on slope_preview.mp4'\n",
            "'Ireland snapdragons and leaves_preview.mp4'\n",
            "'Ireland Tullamore ramps to a canal bridge_preview.mp4'\n",
            "'Italy Po Valley under clouds_preview.mp4'\n",
            " JetSkiRiverSunset_preview.mp4\n",
            " lake_before_sunrise2_preview.mp4\n",
            " lake_before_sunrise3_preview.mp4\n",
            " lake_waves_and_boats_people__free_12s_preview.mp4\n",
            " Lavender_CCBY_NatureClip_preview.mp4\n",
            " Limousin_Cows_1__VIdevo_preview.mp4\n",
            " LobsterinTankH264_preview.mp4\n",
            "'Los Angeles skyline getting darker time lapse_preview.mp4'\n",
            "'Los Angeles Venice Beach boardwalk visitors walk past shops w flags_preview.mp4'\n",
            "'Louisiana Fort Jackson brick walls_preview.mp4'\n",
            "'Louisiana man on scooter on boardwalk moves_preview.mp4'\n",
            "'Louisiana Mississippi ferry leaving dock_preview.mp4'\n",
            "'Louisiana pink snapdragon_preview.mp4'\n",
            "'Louisiana speeding boat on Mississippi River_preview.mp4'\n",
            "'Louisiana swamp boardwalk with man on scooter_preview.mp4'\n",
            " Metal_Wind_Chimes_at_Sunset_preview.mp4\n",
            "'Mexico Huatulco evening with houses and boats_preview.mp4'\n",
            "'Mexico Manzanillo waterfront zoom in_preview.mp4'\n",
            "'Mexico San Julian flowers and bicycles_preview.mp4'\n",
            "'Mexico San Julian view of arches palms and umbrellas_preview.mp4'\n",
            "'Mexico Tlaquepaque fountain in main plaza_preview.mp4'\n",
            "'Mississippi National Forest sign with dogwood_preview.mp4'\n",
            " mongfolija2_preview.mp4\n",
            "'Montana cloud moving over snowy mountain_preview.mp4'\n",
            "'Montana Glacier National Park lake in sun_preview.mp4'\n",
            "'Montana mountains from the plains_preview.mp4'\n",
            " mostytramvaj1_1592839346_preview.mp4\n",
            "'motionplaces flower-Oct2018_preview.mp4'\n",
            "'Mud and seaweed at low tide_preview.mp4'\n",
            " MVI_1268_preview.mp4\n",
            "'Nature rippling water_preview.mp4'\n",
            "'Netherlands spring branches with flower buds zoom in_preview.mp4'\n",
            "'_Nevada Owyhee River_preview.mp4'\n",
            "'New Orleans buggy goes down the street_preview.mp4'\n",
            "'New Orleans ferry boat on the Mississippi_preview.mp4'\n",
            "'New Zealand Catlins Tautuku Bay with cloud_preview.mp4'\n",
            "'New Zealand clouds on horizon_preview.mp4'\n",
            "'New Zealand clouds over Mt Cook time lapse_preview.mp4'\n",
            "'New Zealand dark cloud over Lake Dunstan_preview.mp4'\n",
            "'New Zealand flower boxes Lake Dunstan_preview.mp4'\n",
            "'New Zealand Lake Gunn reflections Fiordland_preview.mp4'\n",
            "'New Zealand Lake Gunn wooded banks Fiordland_preview.mp4'\n",
            "'New Zealand two types of clouds sun rays time lapse_preview.mp4'\n",
            "'_North Carolina view at Mile High Overlook_preview.mp4'\n",
            "'Oahu Honolulu harbor with airplane leaving_preview.mp4'\n",
            " OldHouse_preview.mp4\n",
            "'Oregon beautiful clouds over sea_preview.mp4'\n",
            "'Oregon Columbia River backwater branch in pond_preview.mp4'\n",
            "'Oregon cumulous cloud over Cannon Beach_preview.mp4'\n",
            "'Oregon dawn over Crater Lake_preview.mp4'\n",
            "'Oregon jet contrails above La Pine pan_preview.mp4'\n",
            "'_Oregon Newport town and streets_preview.mp4'\n",
            "'Penguins Nov12_preview.mp4'\n",
            " PoliceBoatPatrollingHarbour2Videvo_preview.mp4\n",
            " port_before_sunrise_preview.mp4\n",
            " River_preview.mp4\n",
            " Sequence_01_preview.mp4\n",
            " Shoreline_Sunset_1__Videvo_preview.mp4\n",
            "'SleepingBee-H264 75_preview.mp4'\n",
            " Small_river_preview.mp4\n",
            "'Spain Barcelona cruise ship docked_preview.mp4'\n",
            "'Spain Serrania de Cuenca eroded limestone_preview.mp4'\n",
            " Sqirrel_Eats_Close_preview.mp4\n",
            " SunsetOverPortsmouthHarbourVidevo_preview.mp4\n",
            " SunsetWavesWide_preview.mp4\n",
            "'Switzerland tree with white flowers by woods_preview.mp4'\n",
            " Tajski_ribi_preview.mp4\n",
            " Taveta_Weaver_CloseUp_preview.mp4\n",
            "'Texas Big Bend Burro Mesa and blooming yucca on the side_preview.mp4'\n",
            " the_beach_preview.mp4\n",
            " The_Flight_over_the_Lake_preview.mp4\n",
            " USCoastGuardBoat_1_preview.mp4\n",
            "'Washington Seattle buildings of skyline by water_preview.mp4'\n",
            "'Washington Silver Lake evening light_preview.mp4'\n",
            " Waves_over_sand_at_dusk__Videvo_preview.mp4\n"
          ]
        }
      ]
    },
    {
      "cell_type": "code",
      "source": [
        "# Самописная сеть\n",
        "class SkyNet(nn.Module):\n",
        "    def __init__(self, num_classes=9, input_size=(3, 224, 224)):\n",
        "        super().__init__()\n",
        "        self.conv1 = nn.Conv2d(3, 32, kernel_size=3, padding=1)\n",
        "        self.bn1 = nn.BatchNorm2d(32)\n",
        "        self.pool1 = nn.AvgPool2d(2, 2)\n",
        "        self.dropout1 = nn.Dropout2d(p=0.2)\n",
        "\n",
        "        self.conv2 = nn.Conv2d(32, 64, kernel_size=3, padding=1)\n",
        "        self.bn2 = nn.BatchNorm2d(64)\n",
        "        self.pool2 = nn.AvgPool2d(2, 2)\n",
        "        self.dropout2 = nn.Dropout2d(p=0.2)\n",
        "\n",
        "        with torch.no_grad():\n",
        "            dummy = torch.zeros(1, *input_size)\n",
        "            dummy = self.pool1(F.relu(self.bn1(self.conv1(dummy))))\n",
        "            dummy = self.pool2(F.relu(self.bn2(self.conv2(dummy))))\n",
        "            n_size = dummy.numel()\n",
        "\n",
        "        self.fc1 = nn.Linear(n_size, 128)\n",
        "        self.fc2 = nn.Linear(128, num_classes)\n",
        "\n",
        "        self.sigmoid = nn.Sigmoid()\n",
        "\n",
        "    def forward(self, x):\n",
        "        B, T, C, H, W = x.shape\n",
        "        x = x.view(B * T, C, H, W)\n",
        "\n",
        "        x = self.pool1(F.relu(self.bn1(self.conv1(x))))\n",
        "        x = self.dropout1(x)\n",
        "\n",
        "        x = self.pool2(F.relu(self.bn2(self.conv2(x))))\n",
        "        x = self.dropout2(x)\n",
        "\n",
        "        x = x.view(x.size(0), -1)\n",
        "        x = F.relu(self.fc1(x))\n",
        "        x = self.fc2(x)\n",
        "        x = self.sigmoid(x)\n",
        "\n",
        "        x = x.view(B, T, -1)\n",
        "        out = x.mean(dim=1)\n",
        "        return out"
      ],
      "metadata": {
        "id": "TVY7hASm3nqm"
      },
      "id": "TVY7hASm3nqm",
      "execution_count": null,
      "outputs": []
    },
    {
      "cell_type": "code",
      "source": [
        "# Модель на основе ResNet50\n",
        "class ResNet50Classifier(nn.Module):\n",
        "    def __init__(self, num_classes):\n",
        "        super().__init__()\n",
        "        self.backbone = resnet50(pretrained=True)\n",
        "        self.backbone.fc = nn.Linear(self.backbone.fc.in_features, num_classes)\n",
        "\n",
        "    def forward(self, clip):\n",
        "        batch_size, T, C, H, W = clip.shape\n",
        "        clip = clip.view(batch_size * T, C, H, W)\n",
        "        features = self.backbone(clip)\n",
        "        features = features.view(batch_size, T, -1)\n",
        "        out = features.mean(dim=1)\n",
        "        return out"
      ],
      "metadata": {
        "id": "EKW8D1pX3svD"
      },
      "id": "EKW8D1pX3svD",
      "execution_count": null,
      "outputs": []
    },
    {
      "cell_type": "code",
      "source": [
        "class ResNet50RNNClassifier(nn.Module):\n",
        "    def __init__(self, num_classes, hidden_size=256, num_layers=1, bidirectional=False):\n",
        "        super().__init__()\n",
        "        self.backbone = resnet50(pretrained=True)\n",
        "        self.backbone.fc = nn.Identity()\n",
        "\n",
        "        self.feature_dim = self.backbone.fc.in_features if hasattr(self.backbone.fc, 'in_features') else 2048\n",
        "\n",
        "        self.rnn = nn.LSTM(\n",
        "            input_size=self.feature_dim,\n",
        "            hidden_size=hidden_size,\n",
        "            num_layers=num_layers,\n",
        "            batch_first=True,\n",
        "            bidirectional=bidirectional\n",
        "        )\n",
        "\n",
        "        rnn_output_size = hidden_size * (2 if bidirectional else 1)\n",
        "        self.classifier = nn.Linear(rnn_output_size, num_classes)\n",
        "\n",
        "    def forward(self, clip):\n",
        "        batch_size, T, C, H, W = clip.shape\n",
        "        clip = clip.view(batch_size * T, C, H, W)\n",
        "\n",
        "        with torch.no_grad():\n",
        "            features = self.backbone(clip)\n",
        "\n",
        "        features = features.view(batch_size, T, -1)\n",
        "\n",
        "        rnn_out, _ = self.rnn(features)\n",
        "\n",
        "        out = rnn_out[:, -1, :]\n",
        "\n",
        "        return self.classifier(out)"
      ],
      "metadata": {
        "id": "6ngS-NcVPD_L"
      },
      "id": "6ngS-NcVPD_L",
      "execution_count": null,
      "outputs": []
    },
    {
      "cell_type": "code",
      "execution_count": null,
      "id": "f8df057f",
      "metadata": {
        "id": "f8df057f",
        "colab": {
          "base_uri": "https://localhost:8080/"
        },
        "outputId": "f236b47e-0c43-4134-949c-74a8e00884d1"
      },
      "outputs": [
        {
          "output_type": "execute_result",
          "data": {
            "text/plain": [
              "9"
            ]
          },
          "metadata": {},
          "execution_count": 11
        }
      ],
      "source": [
        "num_classes = len(unique_classes)\n",
        "num_classes"
      ]
    },
    {
      "cell_type": "code",
      "execution_count": null,
      "id": "c0859559",
      "metadata": {
        "id": "c0859559"
      },
      "outputs": [],
      "source": [
        "import av\n",
        "\n",
        "def train_one_epoch(model, loader, criterion, optimizer, device):\n",
        "    model.train()\n",
        "    running_loss = 0.0\n",
        "    all_preds = []\n",
        "    all_targets = []\n",
        "\n",
        "    for clips, targets in tqdm(loader, desc=\"Train batches\"):\n",
        "        clips = clips.to(device)\n",
        "        targets = targets.to(device)\n",
        "\n",
        "        optimizer.zero_grad()\n",
        "        outputs = model(clips)\n",
        "        loss = criterion(outputs, targets)\n",
        "        loss.backward()\n",
        "        optimizer.step()\n",
        "\n",
        "        running_loss += loss.item() * clips.size(0)\n",
        "        all_preds.append(outputs.detach().cpu().numpy())\n",
        "        all_targets.append(targets.detach().cpu().numpy())\n",
        "\n",
        "    epoch_loss = running_loss / len(loader.dataset)\n",
        "    preds = np.concatenate(all_preds, axis=0)\n",
        "    trues = np.concatenate(all_targets, axis=0)\n",
        "    try:\n",
        "        epoch_auc = roc_auc_score(trues, preds, multi_class='ovr', average='macro')\n",
        "    except:\n",
        "        epoch_auc = float(\"nan\")\n",
        "    return epoch_loss, epoch_auc\n",
        "\n",
        "def validate_one_epoch(model, loader, criterion, device):\n",
        "    model.eval()\n",
        "    running_loss = 0.0\n",
        "    all_preds = []\n",
        "    all_targets = []\n",
        "\n",
        "    with torch.no_grad():\n",
        "        for clips, targets in tqdm(loader, desc=\"Val batches\"):\n",
        "            clips = clips.to(device)\n",
        "            targets = targets.to(device)\n",
        "\n",
        "            outputs = model(clips)\n",
        "            loss = criterion(outputs, targets)\n",
        "            running_loss += loss.item() * clips.size(0)\n",
        "\n",
        "            all_preds.append(outputs.cpu().numpy())\n",
        "            all_targets.append(targets.cpu().numpy())\n",
        "\n",
        "    val_loss = running_loss / len(loader.dataset)\n",
        "    preds = np.concatenate(all_preds, axis=0)\n",
        "    trues = np.concatenate(all_targets, axis=0)\n",
        "    try:\n",
        "        val_auc = roc_auc_score(trues, preds, multi_class='ovr', average='macro')\n",
        "    except:\n",
        "        val_auc = float(\"nan\")\n",
        "    return val_loss, val_auc\n",
        "\n",
        "def train_loop(\n",
        "    model,\n",
        "    train_loader,\n",
        "    val_loader,\n",
        "    criterion,\n",
        "    optimizer,\n",
        "    device,\n",
        "    num_epochs=5,\n",
        "    save_path=\"best_model.pth\"\n",
        "):\n",
        "    best_auc = 0.0\n",
        "    history = {\n",
        "        \"train_loss\": [],\n",
        "        \"train_auc\": [],\n",
        "        \"val_loss\": [],\n",
        "        \"val_auc\": []\n",
        "    }\n",
        "\n",
        "    for epoch in range(1, num_epochs + 1):\n",
        "        print(f\"\\n=== Epoch {epoch}/{num_epochs} ===\")\n",
        "\n",
        "        train_loss, train_auc = train_one_epoch(model, train_loader, criterion, optimizer, device)\n",
        "        val_loss, val_auc     = validate_one_epoch(model, val_loader, criterion, device)\n",
        "\n",
        "        print(f\"  Train loss: {train_loss:.4f}, Train AUC: {train_auc:.4f}\")\n",
        "        print(f\"  Val   loss: {val_loss:.4f}, Val   AUC: {val_auc:.4f}\")\n",
        "\n",
        "        history[\"train_loss\"].append(train_loss)\n",
        "        history[\"train_auc\"].append(train_auc)\n",
        "        history[\"val_loss\"].append(val_loss)\n",
        "        history[\"val_auc\"].append(val_auc)\n",
        "        print(val_auc, best_auc)\n",
        "        if val_auc > best_auc:\n",
        "            best_auc = val_auc\n",
        "            torch.save(model.state_dict(), save_path)\n",
        "            print(f\"Сохраняем модель, val_auc = {val_auc:.4f}\")\n",
        "\n",
        "    print(f'Best AUC: {best_auc}')\n",
        "    history['best_auc'] = best_auc\n",
        "\n",
        "    return history"
      ]
    },
    {
      "cell_type": "markdown",
      "source": [
        "# Эксперименты"
      ],
      "metadata": {
        "id": "RGCgJ9V71hC6"
      },
      "id": "RGCgJ9V71hC6"
    },
    {
      "cell_type": "code",
      "source": [
        "import matplotlib.pyplot as plt"
      ],
      "metadata": {
        "id": "5ChsJyUp-q_4"
      },
      "id": "5ChsJyUp-q_4",
      "execution_count": null,
      "outputs": []
    },
    {
      "cell_type": "code",
      "source": [
        "def plot_experiment(history):\n",
        "  plt.figure(figsize=(8, 4))\n",
        "  plt.plot(history[\"train_loss\"], label=\"Train Loss\")\n",
        "  plt.plot(history[\"val_loss\"],   label=\"Val Loss\")\n",
        "  plt.xlabel(\"Epoch\")\n",
        "  plt.ylabel(\"Loss\")\n",
        "  plt.legend()\n",
        "  plt.title(\"Loss over epochs\")\n",
        "  plt.show()\n",
        "\n",
        "  plt.figure(figsize=(8, 4))\n",
        "  plt.plot(history[\"train_auc\"], label=\"Train AUC\")\n",
        "  plt.plot(history[\"val_auc\"],   label=\"Val AUC\")\n",
        "  plt.xlabel(\"Epoch\")\n",
        "  plt.ylabel(\"ROC AUC\")\n",
        "  plt.legend()\n",
        "  plt.title(\"ROC AUC over epochs\")\n",
        "  plt.show()"
      ],
      "metadata": {
        "id": "UM4LOGHr2MCp"
      },
      "id": "UM4LOGHr2MCp",
      "execution_count": null,
      "outputs": []
    },
    {
      "cell_type": "code",
      "source": [
        "# 4 эксперимента:\n",
        "# SkyNet и BCEWithLogitsLoss\n",
        "# SkyNet и MSE\n",
        "# ResNet50 и BCEWithLogitsLoss\n",
        "# ResNet50 и MSE\n",
        "\n",
        "import warnings\n",
        "warnings.filterwarnings('ignore')\n",
        "\n",
        "num_epochs = 10\n",
        "device = torch.device('cuda')\n",
        "\n",
        "cnt = 1\n",
        "best_auc = (-1, -1)\n",
        "\n",
        "experiments = [\n",
        "    (SkyNet(num_classes).to(device), nn.BCEWithLogitsLoss()),\n",
        "    (SkyNet(num_classes).to(device), nn.MSELoss()),\n",
        "    (ResNet50Classifier(num_classes).to(device), nn.BCEWithLogitsLoss()),\n",
        "    (ResNet50Classifier(num_classes).to(device), nn.MSELoss()),\n",
        "]"
      ],
      "metadata": {
        "id": "2_81xHJX11Ia",
        "colab": {
          "base_uri": "https://localhost:8080/"
        },
        "outputId": "ef4cdac4-53cf-4c25-c07e-466883301e3a"
      },
      "id": "2_81xHJX11Ia",
      "execution_count": null,
      "outputs": [
        {
          "output_type": "stream",
          "name": "stderr",
          "text": [
            "Downloading: \"https://download.pytorch.org/models/resnet50-0676ba61.pth\" to /root/.cache/torch/hub/checkpoints/resnet50-0676ba61.pth\n",
            "100%|██████████| 97.8M/97.8M [00:01<00:00, 92.0MB/s]\n"
          ]
        }
      ]
    },
    {
      "cell_type": "code",
      "source": [
        "def experiment(num):\n",
        "    global best_auc\n",
        "    model, criterion = experiments[num]\n",
        "\n",
        "    optimizer = torch.optim.Adam(model.parameters(), lr=1e-4)\n",
        "    save_path = f\"best_save_ex{num}.pth\"\n",
        "\n",
        "    history = train_loop(\n",
        "      model=model,\n",
        "      train_loader=train_loader,\n",
        "      val_loader=val_loader,\n",
        "      criterion=criterion,\n",
        "      optimizer=optimizer,\n",
        "      device=device,\n",
        "      num_epochs=num_epochs,\n",
        "      save_path=save_path\n",
        "    )\n",
        "\n",
        "    plot_experiment(history)\n",
        "\n",
        "    if history['best_auc'] > best_auc[0]:\n",
        "      best_auc = history['best_auc'], num"
      ],
      "metadata": {
        "id": "ROA8u8t_HEMY"
      },
      "id": "ROA8u8t_HEMY",
      "execution_count": null,
      "outputs": []
    },
    {
      "cell_type": "code",
      "source": [
        "experiment(0)"
      ],
      "metadata": {
        "id": "QUgKW4uIsEEK",
        "colab": {
          "base_uri": "https://localhost:8080/",
          "height": 1000
        },
        "outputId": "35fa93ca-ae2b-4d45-9c9b-da543137b97e"
      },
      "id": "QUgKW4uIsEEK",
      "execution_count": null,
      "outputs": [
        {
          "output_type": "stream",
          "name": "stdout",
          "text": [
            "\n",
            "=== Epoch 1/10 ===\n"
          ]
        },
        {
          "output_type": "stream",
          "name": "stderr",
          "text": [
            "Train batches: 100%|██████████| 29/29 [01:25<00:00,  2.96s/it]\n",
            "Val batches: 100%|██████████| 8/8 [00:18<00:00,  2.37s/it]\n"
          ]
        },
        {
          "output_type": "stream",
          "name": "stdout",
          "text": [
            "  Train loss: 0.7013, Train AUC: 0.4843\n",
            "  Val   loss: 0.6931, Val   AUC: 0.4797\n",
            "0.4796995235078651 0.0\n",
            "Сохраняем модель, val_auc = 0.4797\n",
            "\n",
            "=== Epoch 2/10 ===\n"
          ]
        },
        {
          "output_type": "stream",
          "name": "stderr",
          "text": [
            "Train batches: 100%|██████████| 29/29 [01:24<00:00,  2.91s/it]\n",
            "Val batches: 100%|██████████| 8/8 [00:17<00:00,  2.25s/it]\n"
          ]
        },
        {
          "output_type": "stream",
          "name": "stdout",
          "text": [
            "  Train loss: 0.6931, Train AUC: 0.4776\n",
            "  Val   loss: 0.6931, Val   AUC: 0.4482\n",
            "0.4481613866842268 0.4796995235078651\n",
            "\n",
            "=== Epoch 3/10 ===\n"
          ]
        },
        {
          "output_type": "stream",
          "name": "stderr",
          "text": [
            "Train batches: 100%|██████████| 29/29 [01:24<00:00,  2.92s/it]\n",
            "Val batches: 100%|██████████| 8/8 [00:18<00:00,  2.34s/it]\n"
          ]
        },
        {
          "output_type": "stream",
          "name": "stdout",
          "text": [
            "  Train loss: 0.6931, Train AUC: 0.4841\n",
            "  Val   loss: 0.6931, Val   AUC: 0.4472\n",
            "0.4472001624198745 0.4796995235078651\n",
            "\n",
            "=== Epoch 4/10 ===\n"
          ]
        },
        {
          "output_type": "stream",
          "name": "stderr",
          "text": [
            "Train batches: 100%|██████████| 29/29 [01:24<00:00,  2.92s/it]\n",
            "Val batches: 100%|██████████| 8/8 [00:18<00:00,  2.35s/it]\n"
          ]
        },
        {
          "output_type": "stream",
          "name": "stdout",
          "text": [
            "  Train loss: 0.6931, Train AUC: 0.4694\n",
            "  Val   loss: 0.6931, Val   AUC: 0.4497\n",
            "0.44970822476284245 0.4796995235078651\n",
            "\n",
            "=== Epoch 5/10 ===\n"
          ]
        },
        {
          "output_type": "stream",
          "name": "stderr",
          "text": [
            "Train batches: 100%|██████████| 29/29 [01:24<00:00,  2.92s/it]\n",
            "Val batches: 100%|██████████| 8/8 [00:18<00:00,  2.29s/it]\n"
          ]
        },
        {
          "output_type": "stream",
          "name": "stdout",
          "text": [
            "  Train loss: 0.6931, Train AUC: 0.4560\n",
            "  Val   loss: 0.6931, Val   AUC: 0.4476\n",
            "0.4476426985699578 0.4796995235078651\n",
            "\n",
            "=== Epoch 6/10 ===\n"
          ]
        },
        {
          "output_type": "stream",
          "name": "stderr",
          "text": [
            "Train batches: 100%|██████████| 29/29 [01:24<00:00,  2.92s/it]\n",
            "Val batches: 100%|██████████| 8/8 [00:18<00:00,  2.37s/it]\n"
          ]
        },
        {
          "output_type": "stream",
          "name": "stdout",
          "text": [
            "  Train loss: 0.6931, Train AUC: 0.4793\n",
            "  Val   loss: 0.6931, Val   AUC: 0.4481\n",
            "0.44810521386737867 0.4796995235078651\n",
            "\n",
            "=== Epoch 7/10 ===\n"
          ]
        },
        {
          "output_type": "stream",
          "name": "stderr",
          "text": [
            "Train batches: 100%|██████████| 29/29 [01:24<00:00,  2.92s/it]\n",
            "Val batches: 100%|██████████| 8/8 [00:18<00:00,  2.31s/it]\n"
          ]
        },
        {
          "output_type": "stream",
          "name": "stdout",
          "text": [
            "  Train loss: 0.6931, Train AUC: 0.4772\n",
            "  Val   loss: 0.6931, Val   AUC: 0.4458\n",
            "0.4458421537269601 0.4796995235078651\n",
            "\n",
            "=== Epoch 8/10 ===\n"
          ]
        },
        {
          "output_type": "stream",
          "name": "stderr",
          "text": [
            "Train batches: 100%|██████████| 29/29 [01:24<00:00,  2.91s/it]\n",
            "Val batches: 100%|██████████| 8/8 [00:18<00:00,  2.37s/it]\n"
          ]
        },
        {
          "output_type": "stream",
          "name": "stdout",
          "text": [
            "  Train loss: 0.6931, Train AUC: 0.4525\n",
            "  Val   loss: 0.6931, Val   AUC: 0.4425\n",
            "0.4425371669872663 0.4796995235078651\n",
            "\n",
            "=== Epoch 9/10 ===\n"
          ]
        },
        {
          "output_type": "stream",
          "name": "stderr",
          "text": [
            "Train batches: 100%|██████████| 29/29 [01:24<00:00,  2.92s/it]\n",
            "Val batches: 100%|██████████| 8/8 [00:18<00:00,  2.29s/it]\n"
          ]
        },
        {
          "output_type": "stream",
          "name": "stdout",
          "text": [
            "  Train loss: 0.6931, Train AUC: 0.4807\n",
            "  Val   loss: 0.6931, Val   AUC: 0.4474\n",
            "0.44739277815494305 0.4796995235078651\n",
            "\n",
            "=== Epoch 10/10 ===\n"
          ]
        },
        {
          "output_type": "stream",
          "name": "stderr",
          "text": [
            "Train batches: 100%|██████████| 29/29 [01:24<00:00,  2.92s/it]\n",
            "Val batches: 100%|██████████| 8/8 [00:18<00:00,  2.37s/it]"
          ]
        },
        {
          "output_type": "stream",
          "name": "stdout",
          "text": [
            "  Train loss: 0.6931, Train AUC: 0.4757\n",
            "  Val   loss: 0.6931, Val   AUC: 0.4478\n",
            "0.4478433461055109 0.4796995235078651\n",
            "Best AUC: 0.4796995235078651\n"
          ]
        },
        {
          "output_type": "stream",
          "name": "stderr",
          "text": [
            "\n"
          ]
        },
        {
          "output_type": "display_data",
          "data": {
            "text/plain": [
              "<Figure size 800x400 with 1 Axes>"
            ],
            "image/png": "[encoded data removed]"
          },
          "metadata": {}
        },
        {
          "output_type": "display_data",
          "data": {
            "text/plain": [
              "<Figure size 800x400 with 1 Axes>"
            ],
            "image/png": "[encoded data removed]"
          },
          "metadata": {}
        }
      ]
    },
    {
      "cell_type": "code",
      "source": [
        "experiment(1)"
      ],
      "metadata": {
        "id": "kwlOJQI7HbO3",
        "colab": {
          "base_uri": "https://localhost:8080/",
          "height": 1000
        },
        "outputId": "c3656a02-d6f5-4b9a-d712-0800c3f1571b"
      },
      "id": "kwlOJQI7HbO3",
      "execution_count": null,
      "outputs": [
        {
          "output_type": "stream",
          "name": "stdout",
          "text": [
            "\n",
            "=== Epoch 1/10 ===\n"
          ]
        },
        {
          "output_type": "stream",
          "name": "stderr",
          "text": [
            "Train batches: 100%|██████████| 29/29 [01:24<00:00,  2.92s/it]\n",
            "Val batches: 100%|██████████| 8/8 [00:18<00:00,  2.28s/it]\n"
          ]
        },
        {
          "output_type": "stream",
          "name": "stdout",
          "text": [
            "  Train loss: 0.1689, Train AUC: 0.5044\n",
            "  Val   loss: 0.1724, Val   AUC: 0.5249\n",
            "0.5249355209596023 0.0\n",
            "Сохраняем модель, val_auc = 0.5249\n",
            "\n",
            "=== Epoch 2/10 ===\n"
          ]
        },
        {
          "output_type": "stream",
          "name": "stderr",
          "text": [
            "Train batches: 100%|██████████| 29/29 [01:24<00:00,  2.92s/it]\n",
            "Val batches: 100%|██████████| 8/8 [00:18<00:00,  2.32s/it]\n"
          ]
        },
        {
          "output_type": "stream",
          "name": "stdout",
          "text": [
            "  Train loss: 0.1647, Train AUC: 0.5207\n",
            "  Val   loss: 0.1724, Val   AUC: 0.5022\n",
            "0.5021708699278213 0.5249355209596023\n",
            "\n",
            "=== Epoch 3/10 ===\n"
          ]
        },
        {
          "output_type": "stream",
          "name": "stderr",
          "text": [
            "Train batches: 100%|██████████| 29/29 [01:24<00:00,  2.91s/it]\n",
            "Val batches: 100%|██████████| 8/8 [00:18<00:00,  2.34s/it]\n"
          ]
        },
        {
          "output_type": "stream",
          "name": "stdout",
          "text": [
            "  Train loss: 0.1554, Train AUC: 0.5500\n",
            "  Val   loss: 0.1087, Val   AUC: 0.5360\n",
            "0.5359874455145061 0.5249355209596023\n",
            "Сохраняем модель, val_auc = 0.5360\n",
            "\n",
            "=== Epoch 4/10 ===\n"
          ]
        },
        {
          "output_type": "stream",
          "name": "stderr",
          "text": [
            "Train batches: 100%|██████████| 29/29 [01:24<00:00,  2.91s/it]\n",
            "Val batches: 100%|██████████| 8/8 [00:18<00:00,  2.30s/it]\n"
          ]
        },
        {
          "output_type": "stream",
          "name": "stdout",
          "text": [
            "  Train loss: 0.1145, Train AUC: 0.5472\n",
            "  Val   loss: 0.1127, Val   AUC: 0.5310\n",
            "0.531021842505209 0.5359874455145061\n",
            "\n",
            "=== Epoch 5/10 ===\n"
          ]
        },
        {
          "output_type": "stream",
          "name": "stderr",
          "text": [
            "Train batches: 100%|██████████| 29/29 [01:24<00:00,  2.92s/it]\n",
            "Val batches: 100%|██████████| 8/8 [00:18<00:00,  2.37s/it]\n"
          ]
        },
        {
          "output_type": "stream",
          "name": "stdout",
          "text": [
            "  Train loss: 0.1114, Train AUC: 0.5385\n",
            "  Val   loss: 0.1215, Val   AUC: 0.5195\n",
            "0.5194715178069199 0.5359874455145061\n",
            "\n",
            "=== Epoch 6/10 ===\n"
          ]
        },
        {
          "output_type": "stream",
          "name": "stderr",
          "text": [
            "Train batches: 100%|██████████| 29/29 [01:24<00:00,  2.92s/it]\n",
            "Val batches: 100%|██████████| 8/8 [00:18<00:00,  2.30s/it]\n"
          ]
        },
        {
          "output_type": "stream",
          "name": "stdout",
          "text": [
            "  Train loss: 0.1098, Train AUC: 0.5350\n",
            "  Val   loss: 0.1139, Val   AUC: 0.5247\n",
            "0.524679330149787 0.5359874455145061\n",
            "\n",
            "=== Epoch 7/10 ===\n"
          ]
        },
        {
          "output_type": "stream",
          "name": "stderr",
          "text": [
            "Train batches: 100%|██████████| 29/29 [01:24<00:00,  2.92s/it]\n",
            "Val batches: 100%|██████████| 8/8 [00:18<00:00,  2.35s/it]\n"
          ]
        },
        {
          "output_type": "stream",
          "name": "stdout",
          "text": [
            "  Train loss: 0.1125, Train AUC: 0.5313\n",
            "  Val   loss: 0.1135, Val   AUC: 0.5266\n",
            "0.5265742769863923 0.5359874455145061\n",
            "\n",
            "=== Epoch 8/10 ===\n"
          ]
        },
        {
          "output_type": "stream",
          "name": "stderr",
          "text": [
            "Train batches: 100%|██████████| 29/29 [01:21<00:00,  2.81s/it]\n",
            "Val batches: 100%|██████████| 8/8 [00:18<00:00,  2.35s/it]\n"
          ]
        },
        {
          "output_type": "stream",
          "name": "stdout",
          "text": [
            "  Train loss: 0.1096, Train AUC: 0.5552\n",
            "  Val   loss: 0.1154, Val   AUC: 0.5188\n",
            "0.5188379091668565 0.5359874455145061\n",
            "\n",
            "=== Epoch 9/10 ===\n"
          ]
        },
        {
          "output_type": "stream",
          "name": "stderr",
          "text": [
            "Train batches: 100%|██████████| 29/29 [01:24<00:00,  2.90s/it]\n",
            "Val batches: 100%|██████████| 8/8 [00:18<00:00,  2.28s/it]\n"
          ]
        },
        {
          "output_type": "stream",
          "name": "stdout",
          "text": [
            "  Train loss: 0.1053, Train AUC: 0.5452\n",
            "  Val   loss: 0.1164, Val   AUC: 0.5014\n",
            "0.5013864956901204 0.5359874455145061\n",
            "\n",
            "=== Epoch 10/10 ===\n"
          ]
        },
        {
          "output_type": "stream",
          "name": "stderr",
          "text": [
            "Train batches: 100%|██████████| 29/29 [01:24<00:00,  2.91s/it]\n",
            "Val batches: 100%|██████████| 8/8 [00:18<00:00,  2.33s/it]"
          ]
        },
        {
          "output_type": "stream",
          "name": "stdout",
          "text": [
            "  Train loss: 0.1057, Train AUC: 0.5263\n",
            "  Val   loss: 0.1168, Val   AUC: 0.4981\n",
            "0.4981256518868238 0.5359874455145061\n",
            "Best AUC: 0.5359874455145061\n"
          ]
        },
        {
          "output_type": "stream",
          "name": "stderr",
          "text": [
            "\n"
          ]
        },
        {
          "output_type": "display_data",
          "data": {
            "text/plain": [
              "<Figure size 800x400 with 1 Axes>"
            ],
            "image/png": "[encoded data removed]"
          },
          "metadata": {}
        },
        {
          "output_type": "display_data",
          "data": {
            "text/plain": [
              "<Figure size 800x400 with 1 Axes>"
            ],
            "image/png": "[encoded data removed]"
          },
          "metadata": {}
        }
      ]
    },
    {
      "cell_type": "code",
      "source": [
        "experiment(2)"
      ],
      "metadata": {
        "id": "Hbx-xwh_Hbal",
        "colab": {
          "base_uri": "https://localhost:8080/"
        },
        "outputId": "d08ba1ae-d23c-4fb5-b0fc-240c593ec9dc"
      },
      "id": "Hbx-xwh_Hbal",
      "execution_count": null,
      "outputs": [
        {
          "output_type": "stream",
          "name": "stdout",
          "text": [
            "\n",
            "=== Epoch 1/10 ===\n"
          ]
        },
        {
          "output_type": "stream",
          "name": "stderr",
          "text": [
            "Train batches: 100%|██████████| 37/37 [02:18<00:00,  3.74s/it]\n",
            "Val batches: 100%|██████████| 8/8 [00:20<00:00,  2.57s/it]\n"
          ]
        },
        {
          "output_type": "stream",
          "name": "stdout",
          "text": [
            "  Train loss: 0.3731, Train AUC: 0.7422\n",
            "  Val   loss: 0.1709, Val   AUC: 0.9685\n",
            "0.9684674497410346 0.0\n",
            "Сохраняем модель, val_auc = 0.9685\n",
            "\n",
            "=== Epoch 2/10 ===\n"
          ]
        },
        {
          "output_type": "stream",
          "name": "stderr",
          "text": [
            "Train batches: 100%|██████████| 37/37 [02:18<00:00,  3.73s/it]\n",
            "Val batches: 100%|██████████| 8/8 [00:20<00:00,  2.60s/it]\n"
          ]
        },
        {
          "output_type": "stream",
          "name": "stdout",
          "text": [
            "  Train loss: 0.1714, Train AUC: 0.9614\n",
            "  Val   loss: 0.0529, Val   AUC: 0.9989\n",
            "0.99894943019943 0.9684674497410346\n",
            "Сохраняем модель, val_auc = 0.9989\n",
            "\n",
            "=== Epoch 3/10 ===\n"
          ]
        },
        {
          "output_type": "stream",
          "name": "stderr",
          "text": [
            "Train batches: 100%|██████████| 37/37 [02:18<00:00,  3.73s/it]\n",
            "Val batches: 100%|██████████| 8/8 [00:20<00:00,  2.53s/it]\n"
          ]
        },
        {
          "output_type": "stream",
          "name": "stdout",
          "text": [
            "  Train loss: 0.1239, Train AUC: 0.9825\n",
            "  Val   loss: 0.0489, Val   AUC: 0.9977\n",
            "0.9976851851851851 0.99894943019943\n",
            "\n",
            "=== Epoch 4/10 ===\n"
          ]
        },
        {
          "output_type": "stream",
          "name": "stderr",
          "text": [
            "Train batches: 100%|██████████| 37/37 [02:16<00:00,  3.69s/it]\n",
            "Val batches: 100%|██████████| 8/8 [00:20<00:00,  2.56s/it]\n"
          ]
        },
        {
          "output_type": "stream",
          "name": "stdout",
          "text": [
            "  Train loss: 0.0989, Train AUC: 0.9837\n",
            "  Val   loss: 0.0207, Val   AUC: 1.0000\n",
            "1.0 0.99894943019943\n",
            "Сохраняем модель, val_auc = 1.0000\n",
            "\n",
            "=== Epoch 5/10 ===\n"
          ]
        },
        {
          "output_type": "stream",
          "name": "stderr",
          "text": [
            "Train batches: 100%|██████████| 37/37 [02:17<00:00,  3.73s/it]\n",
            "Val batches: 100%|██████████| 8/8 [00:20<00:00,  2.53s/it]\n"
          ]
        },
        {
          "output_type": "stream",
          "name": "stdout",
          "text": [
            "  Train loss: 0.0746, Train AUC: 0.9941\n",
            "  Val   loss: 0.0120, Val   AUC: 1.0000\n",
            "1.0 1.0\n",
            "\n",
            "=== Epoch 6/10 ===\n"
          ]
        },
        {
          "output_type": "stream",
          "name": "stderr",
          "text": [
            "Train batches:  76%|███████▌  | 28/37 [01:46<00:34,  3.82s/it]"
          ]
        }
      ]
    },
    {
      "cell_type": "code",
      "source": [
        "experiment(3)"
      ],
      "metadata": {
        "id": "ie-tLI7EHbma",
        "colab": {
          "base_uri": "https://localhost:8080/",
          "height": 1000
        },
        "outputId": "219eb818-fb13-45df-c3b9-0d453c6d2861"
      },
      "id": "ie-tLI7EHbma",
      "execution_count": null,
      "outputs": [
        {
          "output_type": "stream",
          "name": "stdout",
          "text": [
            "\n",
            "=== Epoch 1/10 ===\n"
          ]
        },
        {
          "output_type": "stream",
          "name": "stderr",
          "text": [
            "Train batches: 100%|██████████| 29/29 [01:49<00:00,  3.78s/it]\n",
            "Val batches: 100%|██████████| 8/8 [00:20<00:00,  2.52s/it]\n"
          ]
        },
        {
          "output_type": "stream",
          "name": "stdout",
          "text": [
            "  Train loss: 0.1099, Train AUC: 0.7341\n",
            "  Val   loss: 0.1177, Val   AUC: 0.7870\n",
            "0.7870175114800239 0.0\n",
            "Сохраняем модель, val_auc = 0.7870\n",
            "\n",
            "=== Epoch 2/10 ===\n"
          ]
        },
        {
          "output_type": "stream",
          "name": "stderr",
          "text": [
            "Train batches: 100%|██████████| 29/29 [01:49<00:00,  3.78s/it]\n",
            "Val batches: 100%|██████████| 8/8 [00:20<00:00,  2.53s/it]\n"
          ]
        },
        {
          "output_type": "stream",
          "name": "stdout",
          "text": [
            "  Train loss: 0.0560, Train AUC: 0.9627\n",
            "  Val   loss: 0.0916, Val   AUC: 0.8876\n",
            "0.8875910387380099 0.7870175114800239\n",
            "Сохраняем модель, val_auc = 0.8876\n",
            "\n",
            "=== Epoch 3/10 ===\n"
          ]
        },
        {
          "output_type": "stream",
          "name": "stderr",
          "text": [
            "Train batches: 100%|██████████| 29/29 [01:49<00:00,  3.76s/it]\n",
            "Val batches: 100%|██████████| 8/8 [00:19<00:00,  2.38s/it]\n"
          ]
        },
        {
          "output_type": "stream",
          "name": "stdout",
          "text": [
            "  Train loss: 0.0369, Train AUC: 0.9938\n",
            "  Val   loss: 0.0712, Val   AUC: 0.8868\n",
            "0.8867721472686716 0.8875910387380099\n",
            "\n",
            "=== Epoch 4/10 ===\n"
          ]
        },
        {
          "output_type": "stream",
          "name": "stderr",
          "text": [
            "Train batches: 100%|██████████| 29/29 [01:47<00:00,  3.70s/it]\n",
            "Val batches: 100%|██████████| 8/8 [00:20<00:00,  2.57s/it]\n"
          ]
        },
        {
          "output_type": "stream",
          "name": "stdout",
          "text": [
            "  Train loss: 0.0276, Train AUC: 0.9979\n",
            "  Val   loss: 0.0752, Val   AUC: 0.9094\n",
            "0.9094217282313112 0.8875910387380099\n",
            "Сохраняем модель, val_auc = 0.9094\n",
            "\n",
            "=== Epoch 5/10 ===\n"
          ]
        },
        {
          "output_type": "stream",
          "name": "stderr",
          "text": [
            "Train batches: 100%|██████████| 29/29 [01:49<00:00,  3.78s/it]\n",
            "Val batches: 100%|██████████| 8/8 [00:20<00:00,  2.55s/it]\n"
          ]
        },
        {
          "output_type": "stream",
          "name": "stdout",
          "text": [
            "  Train loss: 0.0249, Train AUC: 0.9996\n",
            "  Val   loss: 0.0727, Val   AUC: 0.9072\n",
            "0.9071542026420377 0.9094217282313112\n",
            "\n",
            "=== Epoch 6/10 ===\n"
          ]
        },
        {
          "output_type": "stream",
          "name": "stderr",
          "text": [
            "Train batches: 100%|██████████| 29/29 [01:49<00:00,  3.78s/it]\n",
            "Val batches: 100%|██████████| 8/8 [00:19<00:00,  2.45s/it]\n"
          ]
        },
        {
          "output_type": "stream",
          "name": "stdout",
          "text": [
            "  Train loss: 0.0259, Train AUC: 0.9987\n",
            "  Val   loss: 0.0691, Val   AUC: 0.9042\n",
            "0.9042099989642194 0.9094217282313112\n",
            "\n",
            "=== Epoch 7/10 ===\n"
          ]
        },
        {
          "output_type": "stream",
          "name": "stderr",
          "text": [
            "Train batches: 100%|██████████| 29/29 [01:49<00:00,  3.77s/it]\n",
            "Val batches: 100%|██████████| 8/8 [00:20<00:00,  2.53s/it]\n"
          ]
        },
        {
          "output_type": "stream",
          "name": "stdout",
          "text": [
            "  Train loss: 0.0200, Train AUC: 0.9999\n",
            "  Val   loss: 0.0695, Val   AUC: 0.9265\n",
            "0.9265431519912651 0.9094217282313112\n",
            "Сохраняем модель, val_auc = 0.9265\n",
            "\n",
            "=== Epoch 8/10 ===\n"
          ]
        },
        {
          "output_type": "stream",
          "name": "stderr",
          "text": [
            "Train batches: 100%|██████████| 29/29 [01:48<00:00,  3.75s/it]\n",
            "Val batches: 100%|██████████| 8/8 [00:19<00:00,  2.46s/it]\n"
          ]
        },
        {
          "output_type": "stream",
          "name": "stdout",
          "text": [
            "  Train loss: 0.0192, Train AUC: 0.9999\n",
            "  Val   loss: 0.0716, Val   AUC: 0.8901\n",
            "0.8901423538762169 0.9265431519912651\n",
            "\n",
            "=== Epoch 9/10 ===\n"
          ]
        },
        {
          "output_type": "stream",
          "name": "stderr",
          "text": [
            "Train batches: 100%|██████████| 29/29 [01:49<00:00,  3.77s/it]\n",
            "Val batches: 100%|██████████| 8/8 [00:25<00:00,  3.17s/it]\n"
          ]
        },
        {
          "output_type": "stream",
          "name": "stdout",
          "text": [
            "  Train loss: 0.0192, Train AUC: 1.0000\n",
            "  Val   loss: 0.0663, Val   AUC: 0.9285\n",
            "0.9284952006414271 0.9265431519912651\n",
            "Сохраняем модель, val_auc = 0.9285\n",
            "\n",
            "=== Epoch 10/10 ===\n"
          ]
        },
        {
          "output_type": "stream",
          "name": "stderr",
          "text": [
            "Train batches: 100%|██████████| 29/29 [01:46<00:00,  3.67s/it]\n",
            "Val batches: 100%|██████████| 8/8 [00:20<00:00,  2.53s/it]\n"
          ]
        },
        {
          "output_type": "stream",
          "name": "stdout",
          "text": [
            "  Train loss: 0.0197, Train AUC: 0.9996\n",
            "  Val   loss: 0.0597, Val   AUC: 0.9433\n",
            "0.9432613447000241 0.9284952006414271\n",
            "Сохраняем модель, val_auc = 0.9433\n",
            "Best AUC: 0.9432613447000241\n"
          ]
        },
        {
          "output_type": "display_data",
          "data": {
            "text/plain": [
              "<Figure size 800x400 with 1 Axes>"
            ],
            "image/png": "[encoded data removed]"
          },
          "metadata": {}
        },
        {
          "output_type": "display_data",
          "data": {
            "text/plain": [
              "<Figure size 800x400 with 1 Axes>"
            ],
            "image/png": "[encoded data removed]"
          },
          "metadata": {}
        }
      ]
    },
    {
      "cell_type": "code",
      "source": [
        "model, criterion = ResNet50RNNClassifier(num_classes, num_layers=3).to(device), nn.BCEWithLogitsLoss()\n",
        "model.load_state_dict(torch.load('best_save_ex_recc.pth'))\n",
        "optimizer = torch.optim.Adam(model.parameters(), lr=1e-6)\n",
        "save_path = f\"best_save_ex_recc.pth\"\n",
        "\n",
        "num_epochs = 20\n",
        "\n",
        "history = train_loop(\n",
        "  model=model,\n",
        "  train_loader=train_loader,\n",
        "  val_loader=val_loader,\n",
        "  criterion=criterion,\n",
        "  optimizer=optimizer,\n",
        "  device=device,\n",
        "  num_epochs=num_epochs,\n",
        "  save_path=save_path\n",
        ")\n",
        "\n",
        "print('Best AUC:', history['best_auc'])\n",
        "plot_experiment(history)"
      ],
      "metadata": {
        "colab": {
          "base_uri": "https://localhost:8080/",
          "height": 1000
        },
        "id": "Pf5pkYEcQg59",
        "outputId": "2e865e10-2c8b-42f8-8e91-8f2147e6902b"
      },
      "id": "Pf5pkYEcQg59",
      "execution_count": null,
      "outputs": [
        {
          "output_type": "stream",
          "name": "stdout",
          "text": [
            "\n",
            "=== Epoch 1/20 ===\n"
          ]
        },
        {
          "output_type": "stream",
          "name": "stderr",
          "text": [
            "Train batches: 100%|██████████| 29/29 [01:26<00:00,  3.00s/it]\n",
            "Val batches: 100%|██████████| 8/8 [00:19<00:00,  2.47s/it]\n"
          ]
        },
        {
          "output_type": "stream",
          "name": "stdout",
          "text": [
            "  Train loss: 0.6995, Train AUC: 0.5410\n",
            "  Val   loss: 0.6987, Val   AUC: 0.5417\n",
            "0.5417435223939693 0.0\n",
            "Сохраняем модель, val_auc = 0.5417\n",
            "\n",
            "=== Epoch 2/20 ===\n"
          ]
        },
        {
          "output_type": "stream",
          "name": "stderr",
          "text": [
            "Train batches: 100%|██████████| 29/29 [01:25<00:00,  2.95s/it]\n",
            "Val batches: 100%|██████████| 8/8 [00:20<00:00,  2.52s/it]\n"
          ]
        },
        {
          "output_type": "stream",
          "name": "stdout",
          "text": [
            "  Train loss: 0.6980, Train AUC: 0.5161\n",
            "  Val   loss: 0.6972, Val   AUC: 0.5492\n",
            "0.5492235127041484 0.5417435223939693\n",
            "Сохраняем модель, val_auc = 0.5492\n",
            "\n",
            "=== Epoch 3/20 ===\n"
          ]
        },
        {
          "output_type": "stream",
          "name": "stderr",
          "text": [
            "Train batches: 100%|██████████| 29/29 [01:25<00:00,  2.95s/it]\n",
            "Val batches: 100%|██████████| 8/8 [00:20<00:00,  2.53s/it]\n"
          ]
        },
        {
          "output_type": "stream",
          "name": "stdout",
          "text": [
            "  Train loss: 0.6965, Train AUC: 0.5593\n",
            "  Val   loss: 0.6959, Val   AUC: 0.5558\n",
            "0.5557763135481605 0.5492235127041484\n",
            "Сохраняем модель, val_auc = 0.5558\n",
            "\n",
            "=== Epoch 4/20 ===\n"
          ]
        },
        {
          "output_type": "stream",
          "name": "stderr",
          "text": [
            "Train batches: 100%|██████████| 29/29 [01:25<00:00,  2.95s/it]\n",
            "Val batches: 100%|██████████| 8/8 [00:19<00:00,  2.50s/it]\n"
          ]
        },
        {
          "output_type": "stream",
          "name": "stdout",
          "text": [
            "  Train loss: 0.6949, Train AUC: 0.5238\n",
            "  Val   loss: 0.6944, Val   AUC: 0.5434\n",
            "0.5434102981409337 0.5557763135481605\n",
            "\n",
            "=== Epoch 5/20 ===\n"
          ]
        },
        {
          "output_type": "stream",
          "name": "stderr",
          "text": [
            "Train batches: 100%|██████████| 29/29 [01:25<00:00,  2.96s/it]\n",
            "Val batches: 100%|██████████| 8/8 [00:19<00:00,  2.49s/it]\n"
          ]
        },
        {
          "output_type": "stream",
          "name": "stdout",
          "text": [
            "  Train loss: 0.6933, Train AUC: 0.5333\n",
            "  Val   loss: 0.6929, Val   AUC: 0.5449\n",
            "0.5449179288106796 0.5557763135481605\n",
            "\n",
            "=== Epoch 6/20 ===\n"
          ]
        },
        {
          "output_type": "stream",
          "name": "stderr",
          "text": [
            "Train batches: 100%|██████████| 29/29 [01:26<00:00,  2.97s/it]\n",
            "Val batches: 100%|██████████| 8/8 [00:20<00:00,  2.53s/it]\n"
          ]
        },
        {
          "output_type": "stream",
          "name": "stdout",
          "text": [
            "  Train loss: 0.6916, Train AUC: 0.5519\n",
            "  Val   loss: 0.6912, Val   AUC: 0.5519\n",
            "0.5518568227902886 0.5557763135481605\n",
            "\n",
            "=== Epoch 7/20 ===\n"
          ]
        },
        {
          "output_type": "stream",
          "name": "stderr",
          "text": [
            "Train batches: 100%|██████████| 29/29 [01:25<00:00,  2.96s/it]\n",
            "Val batches: 100%|██████████| 8/8 [00:20<00:00,  2.52s/it]\n"
          ]
        },
        {
          "output_type": "stream",
          "name": "stdout",
          "text": [
            "  Train loss: 0.6898, Train AUC: 0.5426\n",
            "  Val   loss: 0.6897, Val   AUC: 0.5465\n",
            "0.5464871047430631 0.5557763135481605\n",
            "\n",
            "=== Epoch 8/20 ===\n"
          ]
        },
        {
          "output_type": "stream",
          "name": "stderr",
          "text": [
            "Train batches:  93%|█████████▎| 27/29 [01:19<00:05,  2.96s/it]\n"
          ]
        },
        {
          "output_type": "error",
          "ename": "KeyboardInterrupt",
          "evalue": "",
          "traceback": [
            "\u001b[0;31m---------------------------------------------------------------------------\u001b[0m",
            "\u001b[0;31mKeyboardInterrupt\u001b[0m                         Traceback (most recent call last)",
            "\u001b[0;32m<ipython-input-36-974a6221121e>\u001b[0m in \u001b[0;36m<cell line: 0>\u001b[0;34m()\u001b[0m\n\u001b[1;32m      6\u001b[0m \u001b[0mnum_epochs\u001b[0m \u001b[0;34m=\u001b[0m \u001b[0;36m20\u001b[0m\u001b[0;34m\u001b[0m\u001b[0;34m\u001b[0m\u001b[0m\n\u001b[1;32m      7\u001b[0m \u001b[0;34m\u001b[0m\u001b[0m\n\u001b[0;32m----> 8\u001b[0;31m history = train_loop(\n\u001b[0m\u001b[1;32m      9\u001b[0m   \u001b[0mmodel\u001b[0m\u001b[0;34m=\u001b[0m\u001b[0mmodel\u001b[0m\u001b[0;34m,\u001b[0m\u001b[0;34m\u001b[0m\u001b[0;34m\u001b[0m\u001b[0m\n\u001b[1;32m     10\u001b[0m   \u001b[0mtrain_loader\u001b[0m\u001b[0;34m=\u001b[0m\u001b[0mtrain_loader\u001b[0m\u001b[0;34m,\u001b[0m\u001b[0;34m\u001b[0m\u001b[0;34m\u001b[0m\u001b[0m\n",
            "\u001b[0;32m<ipython-input-12-09a56d489648>\u001b[0m in \u001b[0;36mtrain_loop\u001b[0;34m(model, train_loader, val_loader, criterion, optimizer, device, num_epochs, save_path)\u001b[0m\n\u001b[1;32m     78\u001b[0m         \u001b[0mprint\u001b[0m\u001b[0;34m(\u001b[0m\u001b[0;34mf\"\\n=== Epoch {epoch}/{num_epochs} ===\"\u001b[0m\u001b[0;34m)\u001b[0m\u001b[0;34m\u001b[0m\u001b[0;34m\u001b[0m\u001b[0m\n\u001b[1;32m     79\u001b[0m \u001b[0;34m\u001b[0m\u001b[0m\n\u001b[0;32m---> 80\u001b[0;31m         \u001b[0mtrain_loss\u001b[0m\u001b[0;34m,\u001b[0m \u001b[0mtrain_auc\u001b[0m \u001b[0;34m=\u001b[0m \u001b[0mtrain_one_epoch\u001b[0m\u001b[0;34m(\u001b[0m\u001b[0mmodel\u001b[0m\u001b[0;34m,\u001b[0m \u001b[0mtrain_loader\u001b[0m\u001b[0;34m,\u001b[0m \u001b[0mcriterion\u001b[0m\u001b[0;34m,\u001b[0m \u001b[0moptimizer\u001b[0m\u001b[0;34m,\u001b[0m \u001b[0mdevice\u001b[0m\u001b[0;34m)\u001b[0m\u001b[0;34m\u001b[0m\u001b[0;34m\u001b[0m\u001b[0m\n\u001b[0m\u001b[1;32m     81\u001b[0m         \u001b[0mval_loss\u001b[0m\u001b[0;34m,\u001b[0m \u001b[0mval_auc\u001b[0m     \u001b[0;34m=\u001b[0m \u001b[0mvalidate_one_epoch\u001b[0m\u001b[0;34m(\u001b[0m\u001b[0mmodel\u001b[0m\u001b[0;34m,\u001b[0m \u001b[0mval_loader\u001b[0m\u001b[0;34m,\u001b[0m \u001b[0mcriterion\u001b[0m\u001b[0;34m,\u001b[0m \u001b[0mdevice\u001b[0m\u001b[0;34m)\u001b[0m\u001b[0;34m\u001b[0m\u001b[0;34m\u001b[0m\u001b[0m\n\u001b[1;32m     82\u001b[0m \u001b[0;34m\u001b[0m\u001b[0m\n",
            "\u001b[0;32m<ipython-input-12-09a56d489648>\u001b[0m in \u001b[0;36mtrain_one_epoch\u001b[0;34m(model, loader, criterion, optimizer, device)\u001b[0m\n\u001b[1;32m      7\u001b[0m     \u001b[0mall_targets\u001b[0m \u001b[0;34m=\u001b[0m \u001b[0;34m[\u001b[0m\u001b[0;34m]\u001b[0m\u001b[0;34m\u001b[0m\u001b[0;34m\u001b[0m\u001b[0m\n\u001b[1;32m      8\u001b[0m \u001b[0;34m\u001b[0m\u001b[0m\n\u001b[0;32m----> 9\u001b[0;31m     \u001b[0;32mfor\u001b[0m \u001b[0mclips\u001b[0m\u001b[0;34m,\u001b[0m \u001b[0mtargets\u001b[0m \u001b[0;32min\u001b[0m \u001b[0mtqdm\u001b[0m\u001b[0;34m(\u001b[0m\u001b[0mloader\u001b[0m\u001b[0;34m,\u001b[0m \u001b[0mdesc\u001b[0m\u001b[0;34m=\u001b[0m\u001b[0;34m\"Train batches\"\u001b[0m\u001b[0;34m)\u001b[0m\u001b[0;34m:\u001b[0m\u001b[0;34m\u001b[0m\u001b[0;34m\u001b[0m\u001b[0m\n\u001b[0m\u001b[1;32m     10\u001b[0m         \u001b[0mclips\u001b[0m \u001b[0;34m=\u001b[0m \u001b[0mclips\u001b[0m\u001b[0;34m.\u001b[0m\u001b[0mto\u001b[0m\u001b[0;34m(\u001b[0m\u001b[0mdevice\u001b[0m\u001b[0;34m)\u001b[0m\u001b[0;34m\u001b[0m\u001b[0;34m\u001b[0m\u001b[0m\n\u001b[1;32m     11\u001b[0m         \u001b[0mtargets\u001b[0m \u001b[0;34m=\u001b[0m \u001b[0mtargets\u001b[0m\u001b[0;34m.\u001b[0m\u001b[0mto\u001b[0m\u001b[0;34m(\u001b[0m\u001b[0mdevice\u001b[0m\u001b[0;34m)\u001b[0m\u001b[0;34m\u001b[0m\u001b[0;34m\u001b[0m\u001b[0m\n",
            "\u001b[0;32m/usr/local/lib/python3.11/dist-packages/tqdm/std.py\u001b[0m in \u001b[0;36m__iter__\u001b[0;34m(self)\u001b[0m\n\u001b[1;32m   1179\u001b[0m \u001b[0;34m\u001b[0m\u001b[0m\n\u001b[1;32m   1180\u001b[0m         \u001b[0;32mtry\u001b[0m\u001b[0;34m:\u001b[0m\u001b[0;34m\u001b[0m\u001b[0;34m\u001b[0m\u001b[0m\n\u001b[0;32m-> 1181\u001b[0;31m             \u001b[0;32mfor\u001b[0m \u001b[0mobj\u001b[0m \u001b[0;32min\u001b[0m \u001b[0miterable\u001b[0m\u001b[0;34m:\u001b[0m\u001b[0;34m\u001b[0m\u001b[0;34m\u001b[0m\u001b[0m\n\u001b[0m\u001b[1;32m   1182\u001b[0m                 \u001b[0;32myield\u001b[0m \u001b[0mobj\u001b[0m\u001b[0;34m\u001b[0m\u001b[0;34m\u001b[0m\u001b[0m\n\u001b[1;32m   1183\u001b[0m                 \u001b[0;31m# Update and possibly print the progressbar.\u001b[0m\u001b[0;34m\u001b[0m\u001b[0;34m\u001b[0m\u001b[0m\n",
            "\u001b[0;32m/usr/local/lib/python3.11/dist-packages/torch/utils/data/dataloader.py\u001b[0m in \u001b[0;36m__next__\u001b[0;34m(self)\u001b[0m\n\u001b[1;32m    706\u001b[0m                 \u001b[0;31m# TODO(https://github.com/pytorch/pytorch/issues/76750)\u001b[0m\u001b[0;34m\u001b[0m\u001b[0;34m\u001b[0m\u001b[0m\n\u001b[1;32m    707\u001b[0m                 \u001b[0mself\u001b[0m\u001b[0;34m.\u001b[0m\u001b[0m_reset\u001b[0m\u001b[0;34m(\u001b[0m\u001b[0;34m)\u001b[0m  \u001b[0;31m# type: ignore[call-arg]\u001b[0m\u001b[0;34m\u001b[0m\u001b[0;34m\u001b[0m\u001b[0m\n\u001b[0;32m--> 708\u001b[0;31m             \u001b[0mdata\u001b[0m \u001b[0;34m=\u001b[0m \u001b[0mself\u001b[0m\u001b[0;34m.\u001b[0m\u001b[0m_next_data\u001b[0m\u001b[0;34m(\u001b[0m\u001b[0;34m)\u001b[0m\u001b[0;34m\u001b[0m\u001b[0;34m\u001b[0m\u001b[0m\n\u001b[0m\u001b[1;32m    709\u001b[0m             \u001b[0mself\u001b[0m\u001b[0;34m.\u001b[0m\u001b[0m_num_yielded\u001b[0m \u001b[0;34m+=\u001b[0m \u001b[0;36m1\u001b[0m\u001b[0;34m\u001b[0m\u001b[0;34m\u001b[0m\u001b[0m\n\u001b[1;32m    710\u001b[0m             if (\n",
            "\u001b[0;32m/usr/local/lib/python3.11/dist-packages/torch/utils/data/dataloader.py\u001b[0m in \u001b[0;36m_next_data\u001b[0;34m(self)\u001b[0m\n\u001b[1;32m    762\u001b[0m     \u001b[0;32mdef\u001b[0m \u001b[0m_next_data\u001b[0m\u001b[0;34m(\u001b[0m\u001b[0mself\u001b[0m\u001b[0;34m)\u001b[0m\u001b[0;34m:\u001b[0m\u001b[0;34m\u001b[0m\u001b[0;34m\u001b[0m\u001b[0m\n\u001b[1;32m    763\u001b[0m         \u001b[0mindex\u001b[0m \u001b[0;34m=\u001b[0m \u001b[0mself\u001b[0m\u001b[0;34m.\u001b[0m\u001b[0m_next_index\u001b[0m\u001b[0;34m(\u001b[0m\u001b[0;34m)\u001b[0m  \u001b[0;31m# may raise StopIteration\u001b[0m\u001b[0;34m\u001b[0m\u001b[0;34m\u001b[0m\u001b[0m\n\u001b[0;32m--> 764\u001b[0;31m         \u001b[0mdata\u001b[0m \u001b[0;34m=\u001b[0m \u001b[0mself\u001b[0m\u001b[0;34m.\u001b[0m\u001b[0m_dataset_fetcher\u001b[0m\u001b[0;34m.\u001b[0m\u001b[0mfetch\u001b[0m\u001b[0;34m(\u001b[0m\u001b[0mindex\u001b[0m\u001b[0;34m)\u001b[0m  \u001b[0;31m# may raise StopIteration\u001b[0m\u001b[0;34m\u001b[0m\u001b[0;34m\u001b[0m\u001b[0m\n\u001b[0m\u001b[1;32m    765\u001b[0m         \u001b[0;32mif\u001b[0m \u001b[0mself\u001b[0m\u001b[0;34m.\u001b[0m\u001b[0m_pin_memory\u001b[0m\u001b[0;34m:\u001b[0m\u001b[0;34m\u001b[0m\u001b[0;34m\u001b[0m\u001b[0m\n\u001b[1;32m    766\u001b[0m             \u001b[0mdata\u001b[0m \u001b[0;34m=\u001b[0m \u001b[0m_utils\u001b[0m\u001b[0;34m.\u001b[0m\u001b[0mpin_memory\u001b[0m\u001b[0;34m.\u001b[0m\u001b[0mpin_memory\u001b[0m\u001b[0;34m(\u001b[0m\u001b[0mdata\u001b[0m\u001b[0;34m,\u001b[0m \u001b[0mself\u001b[0m\u001b[0;34m.\u001b[0m\u001b[0m_pin_memory_device\u001b[0m\u001b[0;34m)\u001b[0m\u001b[0;34m\u001b[0m\u001b[0;34m\u001b[0m\u001b[0m\n",
            "\u001b[0;32m/usr/local/lib/python3.11/dist-packages/torch/utils/data/_utils/fetch.py\u001b[0m in \u001b[0;36mfetch\u001b[0;34m(self, possibly_batched_index)\u001b[0m\n\u001b[1;32m     50\u001b[0m                 \u001b[0mdata\u001b[0m \u001b[0;34m=\u001b[0m \u001b[0mself\u001b[0m\u001b[0;34m.\u001b[0m\u001b[0mdataset\u001b[0m\u001b[0;34m.\u001b[0m\u001b[0m__getitems__\u001b[0m\u001b[0;34m(\u001b[0m\u001b[0mpossibly_batched_index\u001b[0m\u001b[0;34m)\u001b[0m\u001b[0;34m\u001b[0m\u001b[0;34m\u001b[0m\u001b[0m\n\u001b[1;32m     51\u001b[0m             \u001b[0;32melse\u001b[0m\u001b[0;34m:\u001b[0m\u001b[0;34m\u001b[0m\u001b[0;34m\u001b[0m\u001b[0m\n\u001b[0;32m---> 52\u001b[0;31m                 \u001b[0mdata\u001b[0m \u001b[0;34m=\u001b[0m \u001b[0;34m[\u001b[0m\u001b[0mself\u001b[0m\u001b[0;34m.\u001b[0m\u001b[0mdataset\u001b[0m\u001b[0;34m[\u001b[0m\u001b[0midx\u001b[0m\u001b[0;34m]\u001b[0m \u001b[0;32mfor\u001b[0m \u001b[0midx\u001b[0m \u001b[0;32min\u001b[0m \u001b[0mpossibly_batched_index\u001b[0m\u001b[0;34m]\u001b[0m\u001b[0;34m\u001b[0m\u001b[0;34m\u001b[0m\u001b[0m\n\u001b[0m\u001b[1;32m     53\u001b[0m         \u001b[0;32melse\u001b[0m\u001b[0;34m:\u001b[0m\u001b[0;34m\u001b[0m\u001b[0;34m\u001b[0m\u001b[0m\n\u001b[1;32m     54\u001b[0m             \u001b[0mdata\u001b[0m \u001b[0;34m=\u001b[0m \u001b[0mself\u001b[0m\u001b[0;34m.\u001b[0m\u001b[0mdataset\u001b[0m\u001b[0;34m[\u001b[0m\u001b[0mpossibly_batched_index\u001b[0m\u001b[0;34m]\u001b[0m\u001b[0;34m\u001b[0m\u001b[0;34m\u001b[0m\u001b[0m\n",
            "\u001b[0;32m/usr/local/lib/python3.11/dist-packages/torch/utils/data/_utils/fetch.py\u001b[0m in \u001b[0;36m<listcomp>\u001b[0;34m(.0)\u001b[0m\n\u001b[1;32m     50\u001b[0m                 \u001b[0mdata\u001b[0m \u001b[0;34m=\u001b[0m \u001b[0mself\u001b[0m\u001b[0;34m.\u001b[0m\u001b[0mdataset\u001b[0m\u001b[0;34m.\u001b[0m\u001b[0m__getitems__\u001b[0m\u001b[0;34m(\u001b[0m\u001b[0mpossibly_batched_index\u001b[0m\u001b[0;34m)\u001b[0m\u001b[0;34m\u001b[0m\u001b[0;34m\u001b[0m\u001b[0m\n\u001b[1;32m     51\u001b[0m             \u001b[0;32melse\u001b[0m\u001b[0;34m:\u001b[0m\u001b[0;34m\u001b[0m\u001b[0;34m\u001b[0m\u001b[0m\n\u001b[0;32m---> 52\u001b[0;31m                 \u001b[0mdata\u001b[0m \u001b[0;34m=\u001b[0m \u001b[0;34m[\u001b[0m\u001b[0mself\u001b[0m\u001b[0;34m.\u001b[0m\u001b[0mdataset\u001b[0m\u001b[0;34m[\u001b[0m\u001b[0midx\u001b[0m\u001b[0;34m]\u001b[0m \u001b[0;32mfor\u001b[0m \u001b[0midx\u001b[0m \u001b[0;32min\u001b[0m \u001b[0mpossibly_batched_index\u001b[0m\u001b[0;34m]\u001b[0m\u001b[0;34m\u001b[0m\u001b[0;34m\u001b[0m\u001b[0m\n\u001b[0m\u001b[1;32m     53\u001b[0m         \u001b[0;32melse\u001b[0m\u001b[0;34m:\u001b[0m\u001b[0;34m\u001b[0m\u001b[0;34m\u001b[0m\u001b[0m\n\u001b[1;32m     54\u001b[0m             \u001b[0mdata\u001b[0m \u001b[0;34m=\u001b[0m \u001b[0mself\u001b[0m\u001b[0;34m.\u001b[0m\u001b[0mdataset\u001b[0m\u001b[0;34m[\u001b[0m\u001b[0mpossibly_batched_index\u001b[0m\u001b[0;34m]\u001b[0m\u001b[0;34m\u001b[0m\u001b[0;34m\u001b[0m\u001b[0m\n",
            "\u001b[0;32m<ipython-input-17-b38b2726e2c9>\u001b[0m in \u001b[0;36m__getitem__\u001b[0;34m(self, idx)\u001b[0m\n\u001b[1;32m     48\u001b[0m             \u001b[0;32mfor\u001b[0m \u001b[0mt\u001b[0m \u001b[0;32min\u001b[0m \u001b[0mrange\u001b[0m\u001b[0;34m(\u001b[0m\u001b[0mclip\u001b[0m\u001b[0;34m.\u001b[0m\u001b[0mshape\u001b[0m\u001b[0;34m[\u001b[0m\u001b[0;36m0\u001b[0m\u001b[0;34m]\u001b[0m\u001b[0;34m)\u001b[0m\u001b[0;34m:\u001b[0m\u001b[0;34m\u001b[0m\u001b[0;34m\u001b[0m\u001b[0m\n\u001b[1;32m     49\u001b[0m                 \u001b[0mframe\u001b[0m \u001b[0;34m=\u001b[0m \u001b[0mclip\u001b[0m\u001b[0;34m[\u001b[0m\u001b[0mt\u001b[0m\u001b[0;34m]\u001b[0m\u001b[0;34m.\u001b[0m\u001b[0mfloat\u001b[0m\u001b[0;34m(\u001b[0m\u001b[0;34m)\u001b[0m \u001b[0;34m/\u001b[0m \u001b[0;36m255.0\u001b[0m\u001b[0;34m\u001b[0m\u001b[0;34m\u001b[0m\u001b[0m\n\u001b[0;32m---> 50\u001b[0;31m                 \u001b[0mframe\u001b[0m \u001b[0;34m=\u001b[0m \u001b[0mself\u001b[0m\u001b[0;34m.\u001b[0m\u001b[0mtransform\u001b[0m\u001b[0;34m(\u001b[0m\u001b[0mframe\u001b[0m\u001b[0;34m)\u001b[0m\u001b[0;34m\u001b[0m\u001b[0;34m\u001b[0m\u001b[0m\n\u001b[0m\u001b[1;32m     51\u001b[0m                 \u001b[0mframes\u001b[0m\u001b[0;34m.\u001b[0m\u001b[0mappend\u001b[0m\u001b[0;34m(\u001b[0m\u001b[0mframe\u001b[0m\u001b[0;34m)\u001b[0m\u001b[0;34m\u001b[0m\u001b[0;34m\u001b[0m\u001b[0m\n\u001b[1;32m     52\u001b[0m             \u001b[0mclip\u001b[0m \u001b[0;34m=\u001b[0m \u001b[0mtorch\u001b[0m\u001b[0;34m.\u001b[0m\u001b[0mstack\u001b[0m\u001b[0;34m(\u001b[0m\u001b[0mframes\u001b[0m\u001b[0;34m,\u001b[0m \u001b[0mdim\u001b[0m\u001b[0;34m=\u001b[0m\u001b[0;36m0\u001b[0m\u001b[0;34m)\u001b[0m\u001b[0;34m\u001b[0m\u001b[0;34m\u001b[0m\u001b[0m\n",
            "\u001b[0;32m/usr/local/lib/python3.11/dist-packages/torchvision/transforms/transforms.py\u001b[0m in \u001b[0;36m__call__\u001b[0;34m(self, img)\u001b[0m\n\u001b[1;32m     93\u001b[0m     \u001b[0;32mdef\u001b[0m \u001b[0m__call__\u001b[0m\u001b[0;34m(\u001b[0m\u001b[0mself\u001b[0m\u001b[0;34m,\u001b[0m \u001b[0mimg\u001b[0m\u001b[0;34m)\u001b[0m\u001b[0;34m:\u001b[0m\u001b[0;34m\u001b[0m\u001b[0;34m\u001b[0m\u001b[0m\n\u001b[1;32m     94\u001b[0m         \u001b[0;32mfor\u001b[0m \u001b[0mt\u001b[0m \u001b[0;32min\u001b[0m \u001b[0mself\u001b[0m\u001b[0;34m.\u001b[0m\u001b[0mtransforms\u001b[0m\u001b[0;34m:\u001b[0m\u001b[0;34m\u001b[0m\u001b[0;34m\u001b[0m\u001b[0m\n\u001b[0;32m---> 95\u001b[0;31m             \u001b[0mimg\u001b[0m \u001b[0;34m=\u001b[0m \u001b[0mt\u001b[0m\u001b[0;34m(\u001b[0m\u001b[0mimg\u001b[0m\u001b[0;34m)\u001b[0m\u001b[0;34m\u001b[0m\u001b[0;34m\u001b[0m\u001b[0m\n\u001b[0m\u001b[1;32m     96\u001b[0m         \u001b[0;32mreturn\u001b[0m \u001b[0mimg\u001b[0m\u001b[0;34m\u001b[0m\u001b[0;34m\u001b[0m\u001b[0m\n\u001b[1;32m     97\u001b[0m \u001b[0;34m\u001b[0m\u001b[0m\n",
            "\u001b[0;32m/usr/local/lib/python3.11/dist-packages/torch/nn/modules/module.py\u001b[0m in \u001b[0;36m_wrapped_call_impl\u001b[0;34m(self, *args, **kwargs)\u001b[0m\n\u001b[1;32m   1737\u001b[0m             \u001b[0;32mreturn\u001b[0m \u001b[0mself\u001b[0m\u001b[0;34m.\u001b[0m\u001b[0m_compiled_call_impl\u001b[0m\u001b[0;34m(\u001b[0m\u001b[0;34m*\u001b[0m\u001b[0margs\u001b[0m\u001b[0;34m,\u001b[0m \u001b[0;34m**\u001b[0m\u001b[0mkwargs\u001b[0m\u001b[0;34m)\u001b[0m  \u001b[0;31m# type: ignore[misc]\u001b[0m\u001b[0;34m\u001b[0m\u001b[0;34m\u001b[0m\u001b[0m\n\u001b[1;32m   1738\u001b[0m         \u001b[0;32melse\u001b[0m\u001b[0;34m:\u001b[0m\u001b[0;34m\u001b[0m\u001b[0;34m\u001b[0m\u001b[0m\n\u001b[0;32m-> 1739\u001b[0;31m             \u001b[0;32mreturn\u001b[0m \u001b[0mself\u001b[0m\u001b[0;34m.\u001b[0m\u001b[0m_call_impl\u001b[0m\u001b[0;34m(\u001b[0m\u001b[0;34m*\u001b[0m\u001b[0margs\u001b[0m\u001b[0;34m,\u001b[0m \u001b[0;34m**\u001b[0m\u001b[0mkwargs\u001b[0m\u001b[0;34m)\u001b[0m\u001b[0;34m\u001b[0m\u001b[0;34m\u001b[0m\u001b[0m\n\u001b[0m\u001b[1;32m   1740\u001b[0m \u001b[0;34m\u001b[0m\u001b[0m\n\u001b[1;32m   1741\u001b[0m     \u001b[0;31m# torchrec tests the code consistency with the following code\u001b[0m\u001b[0;34m\u001b[0m\u001b[0;34m\u001b[0m\u001b[0m\n",
            "\u001b[0;32m/usr/local/lib/python3.11/dist-packages/torch/nn/modules/module.py\u001b[0m in \u001b[0;36m_call_impl\u001b[0;34m(self, *args, **kwargs)\u001b[0m\n\u001b[1;32m   1748\u001b[0m                 \u001b[0;32mor\u001b[0m \u001b[0m_global_backward_pre_hooks\u001b[0m \u001b[0;32mor\u001b[0m \u001b[0m_global_backward_hooks\u001b[0m\u001b[0;34m\u001b[0m\u001b[0;34m\u001b[0m\u001b[0m\n\u001b[1;32m   1749\u001b[0m                 or _global_forward_hooks or _global_forward_pre_hooks):\n\u001b[0;32m-> 1750\u001b[0;31m             \u001b[0;32mreturn\u001b[0m \u001b[0mforward_call\u001b[0m\u001b[0;34m(\u001b[0m\u001b[0;34m*\u001b[0m\u001b[0margs\u001b[0m\u001b[0;34m,\u001b[0m \u001b[0;34m**\u001b[0m\u001b[0mkwargs\u001b[0m\u001b[0;34m)\u001b[0m\u001b[0;34m\u001b[0m\u001b[0;34m\u001b[0m\u001b[0m\n\u001b[0m\u001b[1;32m   1751\u001b[0m \u001b[0;34m\u001b[0m\u001b[0m\n\u001b[1;32m   1752\u001b[0m         \u001b[0mresult\u001b[0m \u001b[0;34m=\u001b[0m \u001b[0;32mNone\u001b[0m\u001b[0;34m\u001b[0m\u001b[0;34m\u001b[0m\u001b[0m\n",
            "\u001b[0;32m/usr/local/lib/python3.11/dist-packages/torchvision/transforms/transforms.py\u001b[0m in \u001b[0;36mforward\u001b[0;34m(self, img)\u001b[0m\n\u001b[1;32m    352\u001b[0m             \u001b[0mPIL\u001b[0m \u001b[0mImage\u001b[0m \u001b[0;32mor\u001b[0m \u001b[0mTensor\u001b[0m\u001b[0;34m:\u001b[0m \u001b[0mRescaled\u001b[0m \u001b[0mimage\u001b[0m\u001b[0;34m.\u001b[0m\u001b[0;34m\u001b[0m\u001b[0;34m\u001b[0m\u001b[0m\n\u001b[1;32m    353\u001b[0m         \"\"\"\n\u001b[0;32m--> 354\u001b[0;31m         \u001b[0;32mreturn\u001b[0m \u001b[0mF\u001b[0m\u001b[0;34m.\u001b[0m\u001b[0mresize\u001b[0m\u001b[0;34m(\u001b[0m\u001b[0mimg\u001b[0m\u001b[0;34m,\u001b[0m \u001b[0mself\u001b[0m\u001b[0;34m.\u001b[0m\u001b[0msize\u001b[0m\u001b[0;34m,\u001b[0m \u001b[0mself\u001b[0m\u001b[0;34m.\u001b[0m\u001b[0minterpolation\u001b[0m\u001b[0;34m,\u001b[0m \u001b[0mself\u001b[0m\u001b[0;34m.\u001b[0m\u001b[0mmax_size\u001b[0m\u001b[0;34m,\u001b[0m \u001b[0mself\u001b[0m\u001b[0;34m.\u001b[0m\u001b[0mantialias\u001b[0m\u001b[0;34m)\u001b[0m\u001b[0;34m\u001b[0m\u001b[0;34m\u001b[0m\u001b[0m\n\u001b[0m\u001b[1;32m    355\u001b[0m \u001b[0;34m\u001b[0m\u001b[0m\n\u001b[1;32m    356\u001b[0m     \u001b[0;32mdef\u001b[0m \u001b[0m__repr__\u001b[0m\u001b[0;34m(\u001b[0m\u001b[0mself\u001b[0m\u001b[0;34m)\u001b[0m \u001b[0;34m->\u001b[0m \u001b[0mstr\u001b[0m\u001b[0;34m:\u001b[0m\u001b[0;34m\u001b[0m\u001b[0;34m\u001b[0m\u001b[0m\n",
            "\u001b[0;32m/usr/local/lib/python3.11/dist-packages/torchvision/transforms/functional.py\u001b[0m in \u001b[0;36mresize\u001b[0;34m(img, size, interpolation, max_size, antialias)\u001b[0m\n\u001b[1;32m    477\u001b[0m         \u001b[0;32mreturn\u001b[0m \u001b[0mF_pil\u001b[0m\u001b[0;34m.\u001b[0m\u001b[0mresize\u001b[0m\u001b[0;34m(\u001b[0m\u001b[0mimg\u001b[0m\u001b[0;34m,\u001b[0m \u001b[0msize\u001b[0m\u001b[0;34m=\u001b[0m\u001b[0moutput_size\u001b[0m\u001b[0;34m,\u001b[0m \u001b[0minterpolation\u001b[0m\u001b[0;34m=\u001b[0m\u001b[0mpil_interpolation\u001b[0m\u001b[0;34m)\u001b[0m\u001b[0;34m\u001b[0m\u001b[0;34m\u001b[0m\u001b[0m\n\u001b[1;32m    478\u001b[0m \u001b[0;34m\u001b[0m\u001b[0m\n\u001b[0;32m--> 479\u001b[0;31m     \u001b[0;32mreturn\u001b[0m \u001b[0mF_t\u001b[0m\u001b[0;34m.\u001b[0m\u001b[0mresize\u001b[0m\u001b[0;34m(\u001b[0m\u001b[0mimg\u001b[0m\u001b[0;34m,\u001b[0m \u001b[0msize\u001b[0m\u001b[0;34m=\u001b[0m\u001b[0moutput_size\u001b[0m\u001b[0;34m,\u001b[0m \u001b[0minterpolation\u001b[0m\u001b[0;34m=\u001b[0m\u001b[0minterpolation\u001b[0m\u001b[0;34m.\u001b[0m\u001b[0mvalue\u001b[0m\u001b[0;34m,\u001b[0m \u001b[0mantialias\u001b[0m\u001b[0;34m=\u001b[0m\u001b[0mantialias\u001b[0m\u001b[0;34m)\u001b[0m\u001b[0;34m\u001b[0m\u001b[0;34m\u001b[0m\u001b[0m\n\u001b[0m\u001b[1;32m    480\u001b[0m \u001b[0;34m\u001b[0m\u001b[0m\n\u001b[1;32m    481\u001b[0m \u001b[0;34m\u001b[0m\u001b[0m\n",
            "\u001b[0;32m/usr/local/lib/python3.11/dist-packages/torchvision/transforms/_functional_tensor.py\u001b[0m in \u001b[0;36mresize\u001b[0;34m(img, size, interpolation, antialias)\u001b[0m\n\u001b[1;32m    465\u001b[0m     \u001b[0malign_corners\u001b[0m \u001b[0;34m=\u001b[0m \u001b[0;32mFalse\u001b[0m \u001b[0;32mif\u001b[0m \u001b[0minterpolation\u001b[0m \u001b[0;32min\u001b[0m \u001b[0;34m[\u001b[0m\u001b[0;34m\"bilinear\"\u001b[0m\u001b[0;34m,\u001b[0m \u001b[0;34m\"bicubic\"\u001b[0m\u001b[0;34m]\u001b[0m \u001b[0;32melse\u001b[0m \u001b[0;32mNone\u001b[0m\u001b[0;34m\u001b[0m\u001b[0;34m\u001b[0m\u001b[0m\n\u001b[1;32m    466\u001b[0m \u001b[0;34m\u001b[0m\u001b[0m\n\u001b[0;32m--> 467\u001b[0;31m     \u001b[0mimg\u001b[0m \u001b[0;34m=\u001b[0m \u001b[0minterpolate\u001b[0m\u001b[0;34m(\u001b[0m\u001b[0mimg\u001b[0m\u001b[0;34m,\u001b[0m \u001b[0msize\u001b[0m\u001b[0;34m=\u001b[0m\u001b[0msize\u001b[0m\u001b[0;34m,\u001b[0m \u001b[0mmode\u001b[0m\u001b[0;34m=\u001b[0m\u001b[0minterpolation\u001b[0m\u001b[0;34m,\u001b[0m \u001b[0malign_corners\u001b[0m\u001b[0;34m=\u001b[0m\u001b[0malign_corners\u001b[0m\u001b[0;34m,\u001b[0m \u001b[0mantialias\u001b[0m\u001b[0;34m=\u001b[0m\u001b[0mantialias\u001b[0m\u001b[0;34m)\u001b[0m\u001b[0;34m\u001b[0m\u001b[0;34m\u001b[0m\u001b[0m\n\u001b[0m\u001b[1;32m    468\u001b[0m \u001b[0;34m\u001b[0m\u001b[0m\n\u001b[1;32m    469\u001b[0m     \u001b[0;32mif\u001b[0m \u001b[0minterpolation\u001b[0m \u001b[0;34m==\u001b[0m \u001b[0;34m\"bicubic\"\u001b[0m \u001b[0;32mand\u001b[0m \u001b[0mout_dtype\u001b[0m \u001b[0;34m==\u001b[0m \u001b[0mtorch\u001b[0m\u001b[0;34m.\u001b[0m\u001b[0muint8\u001b[0m\u001b[0;34m:\u001b[0m\u001b[0;34m\u001b[0m\u001b[0;34m\u001b[0m\u001b[0m\n",
            "\u001b[0;32m/usr/local/lib/python3.11/dist-packages/torch/nn/functional.py\u001b[0m in \u001b[0;36minterpolate\u001b[0;34m(input, size, scale_factor, mode, align_corners, recompute_scale_factor, antialias)\u001b[0m\n\u001b[1;32m   4676\u001b[0m         \u001b[0;32massert\u001b[0m \u001b[0malign_corners\u001b[0m \u001b[0;32mis\u001b[0m \u001b[0;32mnot\u001b[0m \u001b[0;32mNone\u001b[0m\u001b[0;34m\u001b[0m\u001b[0;34m\u001b[0m\u001b[0m\n\u001b[1;32m   4677\u001b[0m         \u001b[0;32mif\u001b[0m \u001b[0mantialias\u001b[0m\u001b[0;34m:\u001b[0m\u001b[0;34m\u001b[0m\u001b[0;34m\u001b[0m\u001b[0m\n\u001b[0;32m-> 4678\u001b[0;31m             return torch._C._nn._upsample_bilinear2d_aa(\n\u001b[0m\u001b[1;32m   4679\u001b[0m                 \u001b[0minput\u001b[0m\u001b[0;34m,\u001b[0m \u001b[0moutput_size\u001b[0m\u001b[0;34m,\u001b[0m \u001b[0malign_corners\u001b[0m\u001b[0;34m,\u001b[0m \u001b[0mscale_factors\u001b[0m\u001b[0;34m\u001b[0m\u001b[0;34m\u001b[0m\u001b[0m\n\u001b[1;32m   4680\u001b[0m             )\n",
            "\u001b[0;31mKeyboardInterrupt\u001b[0m: "
          ]
        }
      ]
    },
    {
      "cell_type": "code",
      "source": [
        "history = train_loop(\n",
        "  model=model,\n",
        "  train_loader=train_loader,\n",
        "  val_loader=val_loader,\n",
        "  criterion=criterion,\n",
        "  optimizer=optimizer,\n",
        "  device=device,\n",
        "  num_epochs=num_epochs,\n",
        "  save_path=save_path\n",
        ")\n",
        "\n",
        "print('Best AUC:', history['best_auc'])\n",
        "plot_experiment(history)"
      ],
      "metadata": {
        "colab": {
          "base_uri": "https://localhost:8080/",
          "height": 1000
        },
        "id": "IyRBDH0-YRBN",
        "outputId": "f8bcfd77-9507-41d0-fb47-52a2b152e3b4"
      },
      "id": "IyRBDH0-YRBN",
      "execution_count": null,
      "outputs": [
        {
          "output_type": "stream",
          "name": "stdout",
          "text": [
            "\n",
            "=== Epoch 1/10 ===\n"
          ]
        },
        {
          "output_type": "stream",
          "name": "stderr",
          "text": [
            "Train batches: 100%|██████████| 29/29 [01:23<00:00,  2.88s/it]\n",
            "Val batches: 100%|██████████| 8/8 [00:19<00:00,  2.49s/it]\n"
          ]
        },
        {
          "output_type": "stream",
          "name": "stdout",
          "text": [
            "  Train loss: 0.3302, Train AUC: 0.7629\n",
            "  Val   loss: 0.3289, Val   AUC: 0.7373\n",
            "0.73730706423482 0.0\n",
            "Сохраняем модель, val_auc = 0.7373\n",
            "\n",
            "=== Epoch 2/10 ===\n"
          ]
        },
        {
          "output_type": "stream",
          "name": "stderr",
          "text": [
            "Train batches: 100%|██████████| 29/29 [01:22<00:00,  2.84s/it]\n",
            "Val batches: 100%|██████████| 8/8 [00:19<00:00,  2.45s/it]\n"
          ]
        },
        {
          "output_type": "stream",
          "name": "stdout",
          "text": [
            "  Train loss: 0.3310, Train AUC: 0.7500\n",
            "  Val   loss: 0.3288, Val   AUC: 0.7399\n",
            "0.7398664798366884 0.73730706423482\n",
            "Сохраняем модель, val_auc = 0.7399\n",
            "\n",
            "=== Epoch 3/10 ===\n"
          ]
        },
        {
          "output_type": "stream",
          "name": "stderr",
          "text": [
            "Train batches: 100%|██████████| 29/29 [01:25<00:00,  2.94s/it]\n",
            "Val batches: 100%|██████████| 8/8 [00:20<00:00,  2.50s/it]\n"
          ]
        },
        {
          "output_type": "stream",
          "name": "stdout",
          "text": [
            "  Train loss: 0.3306, Train AUC: 0.7407\n",
            "  Val   loss: 0.3290, Val   AUC: 0.7337\n",
            "0.7337295306572864 0.7398664798366884\n",
            "\n",
            "=== Epoch 4/10 ===\n"
          ]
        },
        {
          "output_type": "stream",
          "name": "stderr",
          "text": [
            "Train batches: 100%|██████████| 29/29 [01:24<00:00,  2.91s/it]\n",
            "Val batches: 100%|██████████| 8/8 [00:19<00:00,  2.46s/it]\n"
          ]
        },
        {
          "output_type": "stream",
          "name": "stdout",
          "text": [
            "  Train loss: 0.3303, Train AUC: 0.7398\n",
            "  Val   loss: 0.3291, Val   AUC: 0.7370\n",
            "0.7370448727226284 0.7398664798366884\n",
            "\n",
            "=== Epoch 5/10 ===\n"
          ]
        },
        {
          "output_type": "stream",
          "name": "stderr",
          "text": [
            "Train batches: 100%|██████████| 29/29 [01:24<00:00,  2.91s/it]\n",
            "Val batches: 100%|██████████| 8/8 [00:20<00:00,  2.51s/it]\n"
          ]
        },
        {
          "output_type": "stream",
          "name": "stdout",
          "text": [
            "  Train loss: 0.3301, Train AUC: 0.7542\n",
            "  Val   loss: 0.3292, Val   AUC: 0.7329\n",
            "0.7329122923400481 0.7398664798366884\n",
            "\n",
            "=== Epoch 6/10 ===\n"
          ]
        },
        {
          "output_type": "stream",
          "name": "stderr",
          "text": [
            "Train batches: 100%|██████████| 29/29 [01:24<00:00,  2.92s/it]\n",
            "Val batches: 100%|██████████| 8/8 [00:20<00:00,  2.50s/it]\n"
          ]
        },
        {
          "output_type": "stream",
          "name": "stdout",
          "text": [
            "  Train loss: 0.3302, Train AUC: 0.7352\n",
            "  Val   loss: 0.3293, Val   AUC: 0.7351\n",
            "0.7350653087855172 0.7398664798366884\n",
            "\n",
            "=== Epoch 7/10 ===\n"
          ]
        },
        {
          "output_type": "stream",
          "name": "stderr",
          "text": [
            "Train batches: 100%|██████████| 29/29 [01:23<00:00,  2.89s/it]\n",
            "Val batches: 100%|██████████| 8/8 [00:19<00:00,  2.43s/it]\n"
          ]
        },
        {
          "output_type": "stream",
          "name": "stdout",
          "text": [
            "  Train loss: 0.3307, Train AUC: 0.7523\n",
            "  Val   loss: 0.3291, Val   AUC: 0.7371\n",
            "0.7370976283178368 0.7398664798366884\n",
            "\n",
            "=== Epoch 8/10 ===\n"
          ]
        },
        {
          "output_type": "stream",
          "name": "stderr",
          "text": [
            "Train batches: 100%|██████████| 29/29 [01:22<00:00,  2.86s/it]\n",
            "Val batches: 100%|██████████| 8/8 [00:20<00:00,  2.51s/it]\n"
          ]
        },
        {
          "output_type": "stream",
          "name": "stdout",
          "text": [
            "  Train loss: 0.3308, Train AUC: 0.7460\n",
            "  Val   loss: 0.3289, Val   AUC: 0.7345\n",
            "0.7345363142595019 0.7398664798366884\n",
            "\n",
            "=== Epoch 9/10 ===\n"
          ]
        },
        {
          "output_type": "stream",
          "name": "stderr",
          "text": [
            "Train batches: 100%|██████████| 29/29 [01:24<00:00,  2.92s/it]\n",
            "Val batches: 100%|██████████| 8/8 [00:19<00:00,  2.43s/it]\n"
          ]
        },
        {
          "output_type": "stream",
          "name": "stdout",
          "text": [
            "  Train loss: 0.3299, Train AUC: 0.7365\n",
            "  Val   loss: 0.3292, Val   AUC: 0.7342\n",
            "0.734204394717056 0.7398664798366884\n",
            "\n",
            "=== Epoch 10/10 ===\n"
          ]
        },
        {
          "output_type": "stream",
          "name": "stderr",
          "text": [
            "Train batches: 100%|██████████| 29/29 [01:24<00:00,  2.92s/it]\n",
            "Val batches: 100%|██████████| 8/8 [00:20<00:00,  2.51s/it]"
          ]
        },
        {
          "output_type": "stream",
          "name": "stdout",
          "text": [
            "  Train loss: 0.3309, Train AUC: 0.7386\n",
            "  Val   loss: 0.3289, Val   AUC: 0.7374\n",
            "0.7373939061141147 0.7398664798366884\n",
            "Best AUC: 0.7398664798366884\n",
            "Best AUC: 0.7398664798366884\n"
          ]
        },
        {
          "output_type": "stream",
          "name": "stderr",
          "text": [
            "\n"
          ]
        },
        {
          "output_type": "display_data",
          "data": {
            "text/plain": [
              "<Figure size 800x400 with 1 Axes>"
            ],
            "image/png": "[encoded data removed]"
          },
          "metadata": {}
        },
        {
          "output_type": "display_data",
          "data": {
            "text/plain": [
              "<Figure size 800x400 with 1 Axes>"
            ],
            "image/png": "[encoded data removed]"
          },
          "metadata": {}
        }
      ]
    },
    {
      "cell_type": "code",
      "source": [
        "print(f'Лучший AUC: {best_auc[0]:.4f}')"
      ],
      "metadata": {
        "id": "QMJjOw3qHc6n",
        "colab": {
          "base_uri": "https://localhost:8080/"
        },
        "outputId": "876e6239-75bc-4ba5-be41-e26a703f0278"
      },
      "id": "QMJjOw3qHc6n",
      "execution_count": null,
      "outputs": [
        {
          "output_type": "stream",
          "name": "stdout",
          "text": [
            "Лучший AUC: 0.9433\n"
          ]
        }
      ]
    },
    {
      "cell_type": "markdown",
      "source": [
        "Генерация ответа"
      ],
      "metadata": {
        "id": "FDDN-OgBuUAb"
      },
      "id": "FDDN-OgBuUAb"
    },
    {
      "cell_type": "code",
      "source": [
        "import os\n",
        "import pandas as pd\n",
        "\n",
        "folder_path = \"what-on-the-video/test\"\n",
        "video_extensions = {'.mp4', '.avi', '.mov', '.mkv', '.flv'}\n",
        "video_files = []\n",
        "\n",
        "for file in sorted(os.listdir(folder_path)):\n",
        "    if os.path.splitext(file)[1].lower() in video_extensions:\n",
        "        video_files.append(file.replace('_preview.mp4', ''))\n",
        "\n",
        "test_df = pd.DataFrame(video_files, columns=[\"path\"])\n",
        "\n",
        "print(f\"Найдено {len(video_files)} видео\")"
      ],
      "metadata": {
        "colab": {
          "base_uri": "https://localhost:8080/"
        },
        "id": "0-0O6IyHvGs4",
        "outputId": "d25b2cee-1b5b-402b-edb5-f21655e17e60"
      },
      "id": "0-0O6IyHvGs4",
      "execution_count": null,
      "outputs": [
        {
          "output_type": "stream",
          "name": "stdout",
          "text": [
            "Найдено 435 видео\n"
          ]
        }
      ]
    },
    {
      "cell_type": "code",
      "source": [
        "test_df"
      ],
      "metadata": {
        "colab": {
          "base_uri": "https://localhost:8080/",
          "height": 423
        },
        "id": "tqDIwKNuvVy3",
        "outputId": "097795c6-7414-44d1-ad9a-5198c6d590fb"
      },
      "id": "tqDIwKNuvVy3",
      "execution_count": null,
      "outputs": [
        {
          "output_type": "execute_result",
          "data": {
            "text/plain": [
              "                                         path\n",
              "0    000464896-guatemala-antigua-church-festi\n",
              "1      000691821-mexico-puerto-vallarta-ocean\n",
              "2    000692230-panama-canal-clouds-over-gatun\n",
              "3         000745494-florida-anhinga-dead-tree\n",
              "4                   000764644-sunset-and-boat\n",
              "..                                        ...\n",
              "430                 myrdalssandur_iceland_one\n",
              "431                                     reed1\n",
              "432                             rifugio_becco\n",
              "433                    rover_and_rocks_medium\n",
              "434                             water_bubbles\n",
              "\n",
              "[435 rows x 1 columns]"
            ],
            "text/html": [
              "\n",
              "  <div id=\"df-5f91e2f0-f0f9-42b8-ae2b-42e58ec25dbb\" class=\"colab-df-container\">\n",
              "    <div>\n",
              "<style scoped>\n",
              "    .dataframe tbody tr th:only-of-type {\n",
              "        vertical-align: middle;\n",
              "    }\n",
              "\n",
              "    .dataframe tbody tr th {\n",
              "        vertical-align: top;\n",
              "    }\n",
              "\n",
              "    .dataframe thead th {\n",
              "        text-align: right;\n",
              "    }\n",
              "</style>\n",
              "<table border=\"1\" class=\"dataframe\">\n",
              "  <thead>\n",
              "    <tr style=\"text-align: right;\">\n",
              "      <th></th>\n",
              "      <th>path</th>\n",
              "    </tr>\n",
              "  </thead>\n",
              "  <tbody>\n",
              "    <tr>\n",
              "      <th>0</th>\n",
              "      <td>000464896-guatemala-antigua-church-festi</td>\n",
              "    </tr>\n",
              "    <tr>\n",
              "      <th>1</th>\n",
              "      <td>000691821-mexico-puerto-vallarta-ocean</td>\n",
              "    </tr>\n",
              "    <tr>\n",
              "      <th>2</th>\n",
              "      <td>000692230-panama-canal-clouds-over-gatun</td>\n",
              "    </tr>\n",
              "    <tr>\n",
              "      <th>3</th>\n",
              "      <td>000745494-florida-anhinga-dead-tree</td>\n",
              "    </tr>\n",
              "    <tr>\n",
              "      <th>4</th>\n",
              "      <td>000764644-sunset-and-boat</td>\n",
              "    </tr>\n",
              "    <tr>\n",
              "      <th>...</th>\n",
              "      <td>...</td>\n",
              "    </tr>\n",
              "    <tr>\n",
              "      <th>430</th>\n",
              "      <td>myrdalssandur_iceland_one</td>\n",
              "    </tr>\n",
              "    <tr>\n",
              "      <th>431</th>\n",
              "      <td>reed1</td>\n",
              "    </tr>\n",
              "    <tr>\n",
              "      <th>432</th>\n",
              "      <td>rifugio_becco</td>\n",
              "    </tr>\n",
              "    <tr>\n",
              "      <th>433</th>\n",
              "      <td>rover_and_rocks_medium</td>\n",
              "    </tr>\n",
              "    <tr>\n",
              "      <th>434</th>\n",
              "      <td>water_bubbles</td>\n",
              "    </tr>\n",
              "  </tbody>\n",
              "</table>\n",
              "<p>435 rows × 1 columns</p>\n",
              "</div>\n",
              "    <div class=\"colab-df-buttons\">\n",
              "\n",
              "  <div class=\"colab-df-container\">\n",
              "    <button class=\"colab-df-convert\" onclick=\"convertToInteractive('df-5f91e2f0-f0f9-42b8-ae2b-42e58ec25dbb')\"\n",
              "            title=\"Convert this dataframe to an interactive table.\"\n",
              "            style=\"display:none;\">\n",
              "\n",
              "  <svg xmlns=\"http://www.w3.org/2000/svg\" height=\"24px\" viewBox=\"0 -960 960 960\">\n",
              "    <path d=\"M120-120v-720h720v720H120Zm60-500h600v-160H180v160Zm220 220h160v-160H400v160Zm0 220h160v-160H400v160ZM180-400h160v-160H180v160Zm440 0h160v-160H620v160ZM180-180h160v-160H180v160Zm440 0h160v-160H620v160Z\"/>\n",
              "  </svg>\n",
              "    </button>\n",
              "\n",
              "  <style>\n",
              "    .colab-df-container {\n",
              "      display:flex;\n",
              "      gap: 12px;\n",
              "    }\n",
              "\n",
              "    .colab-df-convert {\n",
              "      background-color: #E8F0FE;\n",
              "      border: none;\n",
              "      border-radius: 50%;\n",
              "      cursor: pointer;\n",
              "      display: none;\n",
              "      fill: #1967D2;\n",
              "      height: 32px;\n",
              "      padding: 0 0 0 0;\n",
              "      width: 32px;\n",
              "    }\n",
              "\n",
              "    .colab-df-convert:hover {\n",
              "      background-color: #E2EBFA;\n",
              "      box-shadow: 0px 1px 2px rgba(60, 64, 67, 0.3), 0px 1px 3px 1px rgba(60, 64, 67, 0.15);\n",
              "      fill: #174EA6;\n",
              "    }\n",
              "\n",
              "    .colab-df-buttons div {\n",
              "      margin-bottom: 4px;\n",
              "    }\n",
              "\n",
              "    [theme=dark] .colab-df-convert {\n",
              "      background-color: #3B4455;\n",
              "      fill: #D2E3FC;\n",
              "    }\n",
              "\n",
              "    [theme=dark] .colab-df-convert:hover {\n",
              "      background-color: #434B5C;\n",
              "      box-shadow: 0px 1px 3px 1px rgba(0, 0, 0, 0.15);\n",
              "      filter: drop-shadow(0px 1px 2px rgba(0, 0, 0, 0.3));\n",
              "      fill: #FFFFFF;\n",
              "    }\n",
              "  </style>\n",
              "\n",
              "    <script>\n",
              "      const buttonEl =\n",
              "        document.querySelector('#df-5f91e2f0-f0f9-42b8-ae2b-42e58ec25dbb button.colab-df-convert');\n",
              "      buttonEl.style.display =\n",
              "        google.colab.kernel.accessAllowed ? 'block' : 'none';\n",
              "\n",
              "      async function convertToInteractive(key) {\n",
              "        const element = document.querySelector('#df-5f91e2f0-f0f9-42b8-ae2b-42e58ec25dbb');\n",
              "        const dataTable =\n",
              "          await google.colab.kernel.invokeFunction('convertToInteractive',\n",
              "                                                    [key], {});\n",
              "        if (!dataTable) return;\n",
              "\n",
              "        const docLinkHtml = 'Like what you see? Visit the ' +\n",
              "          '<a target=\"_blank\" href=https://colab.research.google.com/notebooks/data_table.ipynb>data table notebook</a>'\n",
              "          + ' to learn more about interactive tables.';\n",
              "        element.innerHTML = '';\n",
              "        dataTable['output_type'] = 'display_data';\n",
              "        await google.colab.output.renderOutput(dataTable, element);\n",
              "        const docLink = document.createElement('div');\n",
              "        docLink.innerHTML = docLinkHtml;\n",
              "        element.appendChild(docLink);\n",
              "      }\n",
              "    </script>\n",
              "  </div>\n",
              "\n",
              "\n",
              "    <div id=\"df-9f8250be-8364-473d-827f-ff7ab52fcf19\">\n",
              "      <button class=\"colab-df-quickchart\" onclick=\"quickchart('df-9f8250be-8364-473d-827f-ff7ab52fcf19')\"\n",
              "                title=\"Suggest charts\"\n",
              "                style=\"display:none;\">\n",
              "\n",
              "<svg xmlns=\"http://www.w3.org/2000/svg\" height=\"24px\"viewBox=\"0 0 24 24\"\n",
              "     width=\"24px\">\n",
              "    <g>\n",
              "        <path d=\"M19 3H5c-1.1 0-2 .9-2 2v14c0 1.1.9 2 2 2h14c1.1 0 2-.9 2-2V5c0-1.1-.9-2-2-2zM9 17H7v-7h2v7zm4 0h-2V7h2v10zm4 0h-2v-4h2v4z\"/>\n",
              "    </g>\n",
              "</svg>\n",
              "      </button>\n",
              "\n",
              "<style>\n",
              "  .colab-df-quickchart {\n",
              "      --bg-color: #E8F0FE;\n",
              "      --fill-color: #1967D2;\n",
              "      --hover-bg-color: #E2EBFA;\n",
              "      --hover-fill-color: #174EA6;\n",
              "      --disabled-fill-color: #AAA;\n",
              "      --disabled-bg-color: #DDD;\n",
              "  }\n",
              "\n",
              "  [theme=dark] .colab-df-quickchart {\n",
              "      --bg-color: #3B4455;\n",
              "      --fill-color: #D2E3FC;\n",
              "      --hover-bg-color: #434B5C;\n",
              "      --hover-fill-color: #FFFFFF;\n",
              "      --disabled-bg-color: #3B4455;\n",
              "      --disabled-fill-color: #666;\n",
              "  }\n",
              "\n",
              "  .colab-df-quickchart {\n",
              "    background-color: var(--bg-color);\n",
              "    border: none;\n",
              "    border-radius: 50%;\n",
              "    cursor: pointer;\n",
              "    display: none;\n",
              "    fill: var(--fill-color);\n",
              "    height: 32px;\n",
              "    padding: 0;\n",
              "    width: 32px;\n",
              "  }\n",
              "\n",
              "  .colab-df-quickchart:hover {\n",
              "    background-color: var(--hover-bg-color);\n",
              "    box-shadow: 0 1px 2px rgba(60, 64, 67, 0.3), 0 1px 3px 1px rgba(60, 64, 67, 0.15);\n",
              "    fill: var(--button-hover-fill-color);\n",
              "  }\n",
              "\n",
              "  .colab-df-quickchart-complete:disabled,\n",
              "  .colab-df-quickchart-complete:disabled:hover {\n",
              "    background-color: var(--disabled-bg-color);\n",
              "    fill: var(--disabled-fill-color);\n",
              "    box-shadow: none;\n",
              "  }\n",
              "\n",
              "  .colab-df-spinner {\n",
              "    border: 2px solid var(--fill-color);\n",
              "    border-color: transparent;\n",
              "    border-bottom-color: var(--fill-color);\n",
              "    animation:\n",
              "      spin 1s steps(1) infinite;\n",
              "  }\n",
              "\n",
              "  @keyframes spin {\n",
              "    0% {\n",
              "      border-color: transparent;\n",
              "      border-bottom-color: var(--fill-color);\n",
              "      border-left-color: var(--fill-color);\n",
              "    }\n",
              "    20% {\n",
              "      border-color: transparent;\n",
              "      border-left-color: var(--fill-color);\n",
              "      border-top-color: var(--fill-color);\n",
              "    }\n",
              "    30% {\n",
              "      border-color: transparent;\n",
              "      border-left-color: var(--fill-color);\n",
              "      border-top-color: var(--fill-color);\n",
              "      border-right-color: var(--fill-color);\n",
              "    }\n",
              "    40% {\n",
              "      border-color: transparent;\n",
              "      border-right-color: var(--fill-color);\n",
              "      border-top-color: var(--fill-color);\n",
              "    }\n",
              "    60% {\n",
              "      border-color: transparent;\n",
              "      border-right-color: var(--fill-color);\n",
              "    }\n",
              "    80% {\n",
              "      border-color: transparent;\n",
              "      border-right-color: var(--fill-color);\n",
              "      border-bottom-color: var(--fill-color);\n",
              "    }\n",
              "    90% {\n",
              "      border-color: transparent;\n",
              "      border-bottom-color: var(--fill-color);\n",
              "    }\n",
              "  }\n",
              "</style>\n",
              "\n",
              "      <script>\n",
              "        async function quickchart(key) {\n",
              "          const quickchartButtonEl =\n",
              "            document.querySelector('#' + key + ' button');\n",
              "          quickchartButtonEl.disabled = true;  // To prevent multiple clicks.\n",
              "          quickchartButtonEl.classList.add('colab-df-spinner');\n",
              "          try {\n",
              "            const charts = await google.colab.kernel.invokeFunction(\n",
              "                'suggestCharts', [key], {});\n",
              "          } catch (error) {\n",
              "            console.error('Error during call to suggestCharts:', error);\n",
              "          }\n",
              "          quickchartButtonEl.classList.remove('colab-df-spinner');\n",
              "          quickchartButtonEl.classList.add('colab-df-quickchart-complete');\n",
              "        }\n",
              "        (() => {\n",
              "          let quickchartButtonEl =\n",
              "            document.querySelector('#df-9f8250be-8364-473d-827f-ff7ab52fcf19 button');\n",
              "          quickchartButtonEl.style.display =\n",
              "            google.colab.kernel.accessAllowed ? 'block' : 'none';\n",
              "        })();\n",
              "      </script>\n",
              "    </div>\n",
              "    </div>\n",
              "  </div>\n"
            ],
            "application/vnd.google.colaboratory.intrinsic+json": {
              "type": "dataframe",
              "variable_name": "test_df",
              "summary": "{\n  \"name\": \"test_df\",\n  \"rows\": 435,\n  \"fields\": [\n    {\n      \"column\": \"path\",\n      \"properties\": {\n        \"dtype\": \"string\",\n        \"num_unique_values\": 435,\n        \"samples\": [\n          \"Northern Ireland Antrim zooms on tiny tide pool\",\n          \"171124_I1_004\",\n          \"190802_17a_HD_21\"\n        ],\n        \"semantic_type\": \"\",\n        \"description\": \"\"\n      }\n    }\n  ]\n}"
            }
          },
          "metadata": {},
          "execution_count": 21
        }
      ]
    },
    {
      "cell_type": "code",
      "source": [
        "test_dataset = VideoDataset(\n",
        "    df=test_df,\n",
        "    data_dir='/content/what-on-the-video/test',\n",
        "    classes=unique_classes,\n",
        "    frames_per_clip=16,\n",
        "    fps=5,\n",
        "    transform=val_transform,\n",
        "    mode='test'\n",
        ")"
      ],
      "metadata": {
        "id": "loz1cLWmnIdN"
      },
      "id": "loz1cLWmnIdN",
      "execution_count": null,
      "outputs": []
    },
    {
      "cell_type": "code",
      "source": [
        "unique_classes"
      ],
      "metadata": {
        "colab": {
          "base_uri": "https://localhost:8080/"
        },
        "id": "wmf-BFM3w8-D",
        "outputId": "4f6626ec-4c21-4766-cb08-2e46b6df9e04"
      },
      "id": "wmf-BFM3w8-D",
      "execution_count": null,
      "outputs": [
        {
          "output_type": "execute_result",
          "data": {
            "text/plain": [
              "['sunset',\n",
              " 'cloud',\n",
              " 'water',\n",
              " 'food',\n",
              " 'flower',\n",
              " 'car',\n",
              " 'animal',\n",
              " 'dance',\n",
              " 'fire']"
            ]
          },
          "metadata": {},
          "execution_count": 23
        }
      ]
    },
    {
      "cell_type": "code",
      "source": [
        "device = torch.device('cuda')\n",
        "test_loader = DataLoader(test_dataset, batch_size=batch_size, shuffle=False)\n",
        "model = ResNet50RNNClassifier(num_classes, num_layers=3).to(device)\n",
        "model.load_state_dict(torch.load('best_save_ex_recc.pth'))"
      ],
      "metadata": {
        "colab": {
          "base_uri": "https://localhost:8080/"
        },
        "id": "OSx5gOThwLpY",
        "outputId": "9f51152d-b3ee-484f-8e71-8d169b5a9dca"
      },
      "id": "OSx5gOThwLpY",
      "execution_count": null,
      "outputs": [
        {
          "output_type": "execute_result",
          "data": {
            "text/plain": [
              "<All keys matched successfully>"
            ]
          },
          "metadata": {},
          "execution_count": 30
        }
      ]
    },
    {
      "cell_type": "code",
      "source": [
        "model.eval()\n",
        "answer = []\n",
        "\n",
        "with torch.no_grad():\n",
        "    for video_paths, clips in tqdm(test_loader, desc=\"Generating answer...\"):\n",
        "        clips = clips.to(device)\n",
        "\n",
        "        outputs = nn.Sigmoid()(model(clips)) > 0.5\n",
        "        outputs = [', '.join([unique_classes[i] for i in range(len(ans)) if ans[i] == 1])  for ans in outputs]\n",
        "        outputs = ['water' if ans == '' else ans for ans in outputs]\n",
        "\n",
        "        rows = [{'file_name': filename, 'label': label} for filename, label in zip(video_paths, outputs)]\n",
        "        answer += rows\n",
        "\n",
        "answer = pd.DataFrame(answer)\n",
        "answer"
      ],
      "metadata": {
        "colab": {
          "base_uri": "https://localhost:8080/",
          "height": 441
        },
        "id": "c8t6xw6AvkLN",
        "outputId": "126d3d08-c83f-43fa-83a7-ec95c7d3ad8b"
      },
      "id": "c8t6xw6AvkLN",
      "execution_count": null,
      "outputs": [
        {
          "output_type": "stream",
          "name": "stderr",
          "text": [
            "Generating answer...: 100%|██████████| 55/55 [02:48<00:00,  3.06s/it]\n"
          ]
        },
        {
          "output_type": "execute_result",
          "data": {
            "text/plain": [
              "                                             file_name  label\n",
              "0    /content/what-on-the-video/test/000464896-guat...  water\n",
              "1    /content/what-on-the-video/test/000691821-mexi...  water\n",
              "2    /content/what-on-the-video/test/000692230-pana...  water\n",
              "3    /content/what-on-the-video/test/000745494-flor...  water\n",
              "4    /content/what-on-the-video/test/000764644-suns...  water\n",
              "..                                                 ...    ...\n",
              "430  /content/what-on-the-video/test/myrdalssandur_...  water\n",
              "431  /content/what-on-the-video/test/reed1_preview.mp4  water\n",
              "432  /content/what-on-the-video/test/rifugio_becco_...  water\n",
              "433  /content/what-on-the-video/test/rover_and_rock...  water\n",
              "434  /content/what-on-the-video/test/water_bubbles_...  water\n",
              "\n",
              "[435 rows x 2 columns]"
            ],
            "text/html": [
              "\n",
              "  <div id=\"df-4ca1b915-95a4-46a7-a517-932856b5240d\" class=\"colab-df-container\">\n",
              "    <div>\n",
              "<style scoped>\n",
              "    .dataframe tbody tr th:only-of-type {\n",
              "        vertical-align: middle;\n",
              "    }\n",
              "\n",
              "    .dataframe tbody tr th {\n",
              "        vertical-align: top;\n",
              "    }\n",
              "\n",
              "    .dataframe thead th {\n",
              "        text-align: right;\n",
              "    }\n",
              "</style>\n",
              "<table border=\"1\" class=\"dataframe\">\n",
              "  <thead>\n",
              "    <tr style=\"text-align: right;\">\n",
              "      <th></th>\n",
              "      <th>file_name</th>\n",
              "      <th>label</th>\n",
              "    </tr>\n",
              "  </thead>\n",
              "  <tbody>\n",
              "    <tr>\n",
              "      <th>0</th>\n",
              "      <td>/content/what-on-the-video/test/000464896-guat...</td>\n",
              "      <td>water</td>\n",
              "    </tr>\n",
              "    <tr>\n",
              "      <th>1</th>\n",
              "      <td>/content/what-on-the-video/test/000691821-mexi...</td>\n",
              "      <td>water</td>\n",
              "    </tr>\n",
              "    <tr>\n",
              "      <th>2</th>\n",
              "      <td>/content/what-on-the-video/test/000692230-pana...</td>\n",
              "      <td>water</td>\n",
              "    </tr>\n",
              "    <tr>\n",
              "      <th>3</th>\n",
              "      <td>/content/what-on-the-video/test/000745494-flor...</td>\n",
              "      <td>water</td>\n",
              "    </tr>\n",
              "    <tr>\n",
              "      <th>4</th>\n",
              "      <td>/content/what-on-the-video/test/000764644-suns...</td>\n",
              "      <td>water</td>\n",
              "    </tr>\n",
              "    <tr>\n",
              "      <th>...</th>\n",
              "      <td>...</td>\n",
              "      <td>...</td>\n",
              "    </tr>\n",
              "    <tr>\n",
              "      <th>430</th>\n",
              "      <td>/content/what-on-the-video/test/myrdalssandur_...</td>\n",
              "      <td>water</td>\n",
              "    </tr>\n",
              "    <tr>\n",
              "      <th>431</th>\n",
              "      <td>/content/what-on-the-video/test/reed1_preview.mp4</td>\n",
              "      <td>water</td>\n",
              "    </tr>\n",
              "    <tr>\n",
              "      <th>432</th>\n",
              "      <td>/content/what-on-the-video/test/rifugio_becco_...</td>\n",
              "      <td>water</td>\n",
              "    </tr>\n",
              "    <tr>\n",
              "      <th>433</th>\n",
              "      <td>/content/what-on-the-video/test/rover_and_rock...</td>\n",
              "      <td>water</td>\n",
              "    </tr>\n",
              "    <tr>\n",
              "      <th>434</th>\n",
              "      <td>/content/what-on-the-video/test/water_bubbles_...</td>\n",
              "      <td>water</td>\n",
              "    </tr>\n",
              "  </tbody>\n",
              "</table>\n",
              "<p>435 rows × 2 columns</p>\n",
              "</div>\n",
              "    <div class=\"colab-df-buttons\">\n",
              "\n",
              "  <div class=\"colab-df-container\">\n",
              "    <button class=\"colab-df-convert\" onclick=\"convertToInteractive('df-4ca1b915-95a4-46a7-a517-932856b5240d')\"\n",
              "            title=\"Convert this dataframe to an interactive table.\"\n",
              "            style=\"display:none;\">\n",
              "\n",
              "  <svg xmlns=\"http://www.w3.org/2000/svg\" height=\"24px\" viewBox=\"0 -960 960 960\">\n",
              "    <path d=\"M120-120v-720h720v720H120Zm60-500h600v-160H180v160Zm220 220h160v-160H400v160Zm0 220h160v-160H400v160ZM180-400h160v-160H180v160Zm440 0h160v-160H620v160ZM180-180h160v-160H180v160Zm440 0h160v-160H620v160Z\"/>\n",
              "  </svg>\n",
              "    </button>\n",
              "\n",
              "  <style>\n",
              "    .colab-df-container {\n",
              "      display:flex;\n",
              "      gap: 12px;\n",
              "    }\n",
              "\n",
              "    .colab-df-convert {\n",
              "      background-color: #E8F0FE;\n",
              "      border: none;\n",
              "      border-radius: 50%;\n",
              "      cursor: pointer;\n",
              "      display: none;\n",
              "      fill: #1967D2;\n",
              "      height: 32px;\n",
              "      padding: 0 0 0 0;\n",
              "      width: 32px;\n",
              "    }\n",
              "\n",
              "    .colab-df-convert:hover {\n",
              "      background-color: #E2EBFA;\n",
              "      box-shadow: 0px 1px 2px rgba(60, 64, 67, 0.3), 0px 1px 3px 1px rgba(60, 64, 67, 0.15);\n",
              "      fill: #174EA6;\n",
              "    }\n",
              "\n",
              "    .colab-df-buttons div {\n",
              "      margin-bottom: 4px;\n",
              "    }\n",
              "\n",
              "    [theme=dark] .colab-df-convert {\n",
              "      background-color: #3B4455;\n",
              "      fill: #D2E3FC;\n",
              "    }\n",
              "\n",
              "    [theme=dark] .colab-df-convert:hover {\n",
              "      background-color: #434B5C;\n",
              "      box-shadow: 0px 1px 3px 1px rgba(0, 0, 0, 0.15);\n",
              "      filter: drop-shadow(0px 1px 2px rgba(0, 0, 0, 0.3));\n",
              "      fill: #FFFFFF;\n",
              "    }\n",
              "  </style>\n",
              "\n",
              "    <script>\n",
              "      const buttonEl =\n",
              "        document.querySelector('#df-4ca1b915-95a4-46a7-a517-932856b5240d button.colab-df-convert');\n",
              "      buttonEl.style.display =\n",
              "        google.colab.kernel.accessAllowed ? 'block' : 'none';\n",
              "\n",
              "      async function convertToInteractive(key) {\n",
              "        const element = document.querySelector('#df-4ca1b915-95a4-46a7-a517-932856b5240d');\n",
              "        const dataTable =\n",
              "          await google.colab.kernel.invokeFunction('convertToInteractive',\n",
              "                                                    [key], {});\n",
              "        if (!dataTable) return;\n",
              "\n",
              "        const docLinkHtml = 'Like what you see? Visit the ' +\n",
              "          '<a target=\"_blank\" href=https://colab.research.google.com/notebooks/data_table.ipynb>data table notebook</a>'\n",
              "          + ' to learn more about interactive tables.';\n",
              "        element.innerHTML = '';\n",
              "        dataTable['output_type'] = 'display_data';\n",
              "        await google.colab.output.renderOutput(dataTable, element);\n",
              "        const docLink = document.createElement('div');\n",
              "        docLink.innerHTML = docLinkHtml;\n",
              "        element.appendChild(docLink);\n",
              "      }\n",
              "    </script>\n",
              "  </div>\n",
              "\n",
              "\n",
              "    <div id=\"df-499c3f92-dfcc-4a9c-9a10-aaaaf11184c4\">\n",
              "      <button class=\"colab-df-quickchart\" onclick=\"quickchart('df-499c3f92-dfcc-4a9c-9a10-aaaaf11184c4')\"\n",
              "                title=\"Suggest charts\"\n",
              "                style=\"display:none;\">\n",
              "\n",
              "<svg xmlns=\"http://www.w3.org/2000/svg\" height=\"24px\"viewBox=\"0 0 24 24\"\n",
              "     width=\"24px\">\n",
              "    <g>\n",
              "        <path d=\"M19 3H5c-1.1 0-2 .9-2 2v14c0 1.1.9 2 2 2h14c1.1 0 2-.9 2-2V5c0-1.1-.9-2-2-2zM9 17H7v-7h2v7zm4 0h-2V7h2v10zm4 0h-2v-4h2v4z\"/>\n",
              "    </g>\n",
              "</svg>\n",
              "      </button>\n",
              "\n",
              "<style>\n",
              "  .colab-df-quickchart {\n",
              "      --bg-color: #E8F0FE;\n",
              "      --fill-color: #1967D2;\n",
              "      --hover-bg-color: #E2EBFA;\n",
              "      --hover-fill-color: #174EA6;\n",
              "      --disabled-fill-color: #AAA;\n",
              "      --disabled-bg-color: #DDD;\n",
              "  }\n",
              "\n",
              "  [theme=dark] .colab-df-quickchart {\n",
              "      --bg-color: #3B4455;\n",
              "      --fill-color: #D2E3FC;\n",
              "      --hover-bg-color: #434B5C;\n",
              "      --hover-fill-color: #FFFFFF;\n",
              "      --disabled-bg-color: #3B4455;\n",
              "      --disabled-fill-color: #666;\n",
              "  }\n",
              "\n",
              "  .colab-df-quickchart {\n",
              "    background-color: var(--bg-color);\n",
              "    border: none;\n",
              "    border-radius: 50%;\n",
              "    cursor: pointer;\n",
              "    display: none;\n",
              "    fill: var(--fill-color);\n",
              "    height: 32px;\n",
              "    padding: 0;\n",
              "    width: 32px;\n",
              "  }\n",
              "\n",
              "  .colab-df-quickchart:hover {\n",
              "    background-color: var(--hover-bg-color);\n",
              "    box-shadow: 0 1px 2px rgba(60, 64, 67, 0.3), 0 1px 3px 1px rgba(60, 64, 67, 0.15);\n",
              "    fill: var(--button-hover-fill-color);\n",
              "  }\n",
              "\n",
              "  .colab-df-quickchart-complete:disabled,\n",
              "  .colab-df-quickchart-complete:disabled:hover {\n",
              "    background-color: var(--disabled-bg-color);\n",
              "    fill: var(--disabled-fill-color);\n",
              "    box-shadow: none;\n",
              "  }\n",
              "\n",
              "  .colab-df-spinner {\n",
              "    border: 2px solid var(--fill-color);\n",
              "    border-color: transparent;\n",
              "    border-bottom-color: var(--fill-color);\n",
              "    animation:\n",
              "      spin 1s steps(1) infinite;\n",
              "  }\n",
              "\n",
              "  @keyframes spin {\n",
              "    0% {\n",
              "      border-color: transparent;\n",
              "      border-bottom-color: var(--fill-color);\n",
              "      border-left-color: var(--fill-color);\n",
              "    }\n",
              "    20% {\n",
              "      border-color: transparent;\n",
              "      border-left-color: var(--fill-color);\n",
              "      border-top-color: var(--fill-color);\n",
              "    }\n",
              "    30% {\n",
              "      border-color: transparent;\n",
              "      border-left-color: var(--fill-color);\n",
              "      border-top-color: var(--fill-color);\n",
              "      border-right-color: var(--fill-color);\n",
              "    }\n",
              "    40% {\n",
              "      border-color: transparent;\n",
              "      border-right-color: var(--fill-color);\n",
              "      border-top-color: var(--fill-color);\n",
              "    }\n",
              "    60% {\n",
              "      border-color: transparent;\n",
              "      border-right-color: var(--fill-color);\n",
              "    }\n",
              "    80% {\n",
              "      border-color: transparent;\n",
              "      border-right-color: var(--fill-color);\n",
              "      border-bottom-color: var(--fill-color);\n",
              "    }\n",
              "    90% {\n",
              "      border-color: transparent;\n",
              "      border-bottom-color: var(--fill-color);\n",
              "    }\n",
              "  }\n",
              "</style>\n",
              "\n",
              "      <script>\n",
              "        async function quickchart(key) {\n",
              "          const quickchartButtonEl =\n",
              "            document.querySelector('#' + key + ' button');\n",
              "          quickchartButtonEl.disabled = true;  // To prevent multiple clicks.\n",
              "          quickchartButtonEl.classList.add('colab-df-spinner');\n",
              "          try {\n",
              "            const charts = await google.colab.kernel.invokeFunction(\n",
              "                'suggestCharts', [key], {});\n",
              "          } catch (error) {\n",
              "            console.error('Error during call to suggestCharts:', error);\n",
              "          }\n",
              "          quickchartButtonEl.classList.remove('colab-df-spinner');\n",
              "          quickchartButtonEl.classList.add('colab-df-quickchart-complete');\n",
              "        }\n",
              "        (() => {\n",
              "          let quickchartButtonEl =\n",
              "            document.querySelector('#df-499c3f92-dfcc-4a9c-9a10-aaaaf11184c4 button');\n",
              "          quickchartButtonEl.style.display =\n",
              "            google.colab.kernel.accessAllowed ? 'block' : 'none';\n",
              "        })();\n",
              "      </script>\n",
              "    </div>\n",
              "    </div>\n",
              "  </div>\n"
            ],
            "application/vnd.google.colaboratory.intrinsic+json": {
              "type": "dataframe",
              "variable_name": "answer",
              "summary": "{\n  \"name\": \"answer\",\n  \"rows\": 435,\n  \"fields\": [\n    {\n      \"column\": \"file_name\",\n      \"properties\": {\n        \"dtype\": \"string\",\n        \"num_unique_values\": 435,\n        \"samples\": [\n          \"/content/what-on-the-video/test/Northern Ireland Antrim zooms on tiny tide pool_preview.mp4\",\n          \"/content/what-on-the-video/test/171124_I1_004_preview.mp4\",\n          \"/content/what-on-the-video/test/190802_17a_HD_21_preview.mp4\"\n        ],\n        \"semantic_type\": \"\",\n        \"description\": \"\"\n      }\n    },\n    {\n      \"column\": \"label\",\n      \"properties\": {\n        \"dtype\": \"category\",\n        \"num_unique_values\": 1,\n        \"samples\": [\n          \"water\"\n        ],\n        \"semantic_type\": \"\",\n        \"description\": \"\"\n      }\n    }\n  ]\n}"
            }
          },
          "metadata": {},
          "execution_count": 31
        }
      ]
    },
    {
      "cell_type": "code",
      "source": [
        "answer.to_csv('my_submit.csv', index_label='index')"
      ],
      "metadata": {
        "id": "HdqRifhexrON"
      },
      "id": "HdqRifhexrON",
      "execution_count": null,
      "outputs": []
    },
    {
      "cell_type": "code",
      "source": [],
      "metadata": {
        "id": "ugCqk47L6D4i"
      },
      "id": "ugCqk47L6D4i",
      "execution_count": null,
      "outputs": []
    }
  ],
  "metadata": {
    "colab": {
      "provenance": [],
      "gpuType": "T4"
    },
    "language_info": {
      "name": "python"
    },
    "kernelspec": {
      "name": "python3",
      "display_name": "Python 3"
    },
    "accelerator": "GPU"
  },
  "nbformat": 4,
  "nbformat_minor": 5
}